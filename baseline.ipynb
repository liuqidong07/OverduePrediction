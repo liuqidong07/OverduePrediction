{
 "metadata": {
  "language_info": {
   "codemirror_mode": {
    "name": "ipython",
    "version": 3
   },
   "file_extension": ".py",
   "mimetype": "text/x-python",
   "name": "python",
   "nbconvert_exporter": "python",
   "pygments_lexer": "ipython3",
   "version": "3.7.9-final"
  },
  "orig_nbformat": 2,
  "kernelspec": {
   "name": "python3",
   "display_name": "Python 3",
   "language": "python"
  }
 },
 "nbformat": 4,
 "nbformat_minor": 2,
 "cells": [
  {
   "source": [
    "# baseline\n",
    "先按照一般的步骤完成一个baseline, 然后再去进行迭代.\n",
    "\n",
    "baseline步骤:\n",
    "- 赛题理解(已完成)\n",
    "- 数据分析(在DataAnalysis中完成, 在这里进行总结, 并处理数据)\n",
    "    - 对某些连续特征的离散化\n",
    "    - 构建连续与离散特征, 主要是归一化和编码\n",
    "    - 数据清理: 去除掉离群点和异常值\n",
    "- 特征工程\n",
    "    - 特征选择: 去掉对模型有害的特征\n",
    "    - 构造特征: 主要在之后的迭代中完成\n",
    "    - 提取统计特征\n",
    "    - 特征组合\n",
    "- 模型训练与验证\n",
    "    - 数据集的划分(训练集, 测试集, 验证集): 应独立划分, 防止特征穿越\n",
    "    - 模型训练: 调参\n",
    "    - 线下评测\n",
    "- 模型融合"
   ],
   "cell_type": "markdown",
   "metadata": {}
  },
  {
   "source": [
    "## 数据分析\n",
    "### 总结\n",
    "- 特征分类\n",
    "    - 连续特征: GRJCJS(个人缴存基数), GRZHYE(个人账户余额), GRZHSNJZYE(个人账户上年结转余额), GRZHDNGJYE(个人账户当年归集余额), GRYJCE(个人月缴存额), DWYJCE(单位月缴存额), DKFFE(贷款发放额), DKYE(贷款余额)\n",
    "    - 离散特征: XINGBIE(性别), HYZK(婚姻状况), ZHIYE(职业), ZHICHEN(职称), ZHIWU(职务), XUELI(学历), DWJJLX(单位经济类型), DWSSHY(单位所属行业), GRZHZT(个人账户状态)\n",
    "    - 其他特征: CSNY(出生年月), DKLL(贷款利率)\n",
    "- 特征分布:\n",
    "    - 测试集与训练集分布差异较大: ZHIWU(分布不同), DKLL(训练集为8个类,测试集为数值)\n",
    "    - 类别特征中在测试集中只有一类: HYZK, XUELI \n",
    "    - 类别特征中单类占主导(训练集测试集均如此): ZHIYE, ZHICHEN, GRZHZT\n",
    "\n",
    "### 数据处理\n",
    "-  CSNY: 先又时间戳转换为年份, 再把1971和大于2010的放在一类, 其他的进行分桶, 转换成了类别特征\n",
    "- DKLL:\n",
    "- 去掉特征: HYZK, XUELI\n",
    "- 单类占主导的将所有少类合并: ZHIYE, ZHICHEN \n",
    "- 大概率为1的, 可以直接使用规则方法: GRZHZT\n",
    "- 对连续特征编码\n"
   ],
   "cell_type": "markdown",
   "metadata": {}
  },
  {
   "cell_type": "code",
   "execution_count": 4,
   "metadata": {},
   "outputs": [],
   "source": [
    "import numpy as np\n",
    "import pandas as pd\n",
    "pd.set_option(\"max_columns\", 100)\n",
    "import matplotlib.pyplot as plt\n",
    "import seaborn as sns\n",
    "from tqdm import tqdm\n",
    "import lightgbm as lgb\n",
    "import time"
   ]
  },
  {
   "cell_type": "code",
   "execution_count": 13,
   "metadata": {},
   "outputs": [],
   "source": [
    "train = pd.read_csv('./data/train.csv')\n",
    "test = pd.read_csv('./data/test.csv')\n",
    "submit = pd.read_csv('./data/submit.csv')"
   ]
  },
  {
   "cell_type": "code",
   "execution_count": 37,
   "metadata": {},
   "outputs": [
    {
     "output_type": "execute_result",
     "data": {
      "text/plain": [
       "((40000, 21), (15000, 20))"
      ]
     },
     "metadata": {},
     "execution_count": 37
    }
   ],
   "source": [
    "train.shape, test.shape"
   ]
  },
  {
   "cell_type": "code",
   "execution_count": 40,
   "metadata": {},
   "outputs": [
    {
     "output_type": "execute_result",
     "data": {
      "text/plain": [
       "                id  XINGBIE       CSNY  HYZK  ZHIYE  ZHICHEN  ZHIWU  XUELI  \\\n",
       "39990  train_39990        2  586364400    90     90      999      0     99   \n",
       "39991  train_39991        2  468086400    90     90      999      0     99   \n",
       "39992  train_39992        1  715276800    90     90      999      0     99   \n",
       "39993  train_39993        1   78768000    90     90      999      0     99   \n",
       "39994  train_39994        1  604684800    90     90      999      0     99   \n",
       "39995  train_39995        1  573148800    90     90      999      0     99   \n",
       "39996  train_39996        2   57772800    90     90      999      0     99   \n",
       "39997  train_39997        2  673023600    90     90      999      0     99   \n",
       "39998  train_39998        1  536428800    90     90      999      0     99   \n",
       "39999  train_39999        1   31507200    90     90      999      0     99   \n",
       "\n",
       "       DWJJLX  DWSSHY  GRJCJS  GRZHZT     GRZHYE  GRZHSNJZYE  GRZHDNGJYE  \\\n",
       "39990     900      15  3637.0       1   7477.680   19378.330    7362.525   \n",
       "39991     150       2  2237.0       1  10114.800    6797.550    1037.000   \n",
       "39992     150       3  1192.0       1    237.000   10776.675    -159.130   \n",
       "39993     160       2  1887.0       1  14619.845   11789.395     897.000   \n",
       "39994     150      14  5135.0       1  20844.420   16506.840   -4796.985   \n",
       "39995     110      16  3185.0       1  82865.575   65304.370    4026.600   \n",
       "39996     110      14  1660.5       1  32811.585   27065.150    1603.560   \n",
       "39997     143       9  3923.0       1   8875.695    1309.890    3185.800   \n",
       "39998     150       6  3527.0       1   2079.400     252.875    1614.490   \n",
       "39999     110      14  4934.5       1  26210.635   27266.080   -4994.610   \n",
       "\n",
       "       GRYJCE  DWYJCE   DKFFE        DKYE   DKLL  label  \n",
       "39990  645.00  645.00  150237     237.000  2.979      0  \n",
       "39991  337.00  337.00  300237  284237.000  2.979      0  \n",
       "39992  284.75  284.75  135237  131149.410  2.708      0  \n",
       "39993  319.50  319.50  125237  116250.010  2.708      0  \n",
       "39994  824.76  824.76  150237  148496.995  2.708      0  \n",
       "39995  590.76  590.76  150237  117816.680  2.708      0  \n",
       "39996  407.82  407.82  300237  267615.065  2.979      0  \n",
       "39997  605.60  605.60  175237     237.000  2.708      0  \n",
       "39998  467.30  467.30  125237  113068.900  2.708      1  \n",
       "39999  800.70  800.70  300237  287737.000  2.979      0  "
      ],
      "text/html": "<div>\n<style scoped>\n    .dataframe tbody tr th:only-of-type {\n        vertical-align: middle;\n    }\n\n    .dataframe tbody tr th {\n        vertical-align: top;\n    }\n\n    .dataframe thead th {\n        text-align: right;\n    }\n</style>\n<table border=\"1\" class=\"dataframe\">\n  <thead>\n    <tr style=\"text-align: right;\">\n      <th></th>\n      <th>id</th>\n      <th>XINGBIE</th>\n      <th>CSNY</th>\n      <th>HYZK</th>\n      <th>ZHIYE</th>\n      <th>ZHICHEN</th>\n      <th>ZHIWU</th>\n      <th>XUELI</th>\n      <th>DWJJLX</th>\n      <th>DWSSHY</th>\n      <th>GRJCJS</th>\n      <th>GRZHZT</th>\n      <th>GRZHYE</th>\n      <th>GRZHSNJZYE</th>\n      <th>GRZHDNGJYE</th>\n      <th>GRYJCE</th>\n      <th>DWYJCE</th>\n      <th>DKFFE</th>\n      <th>DKYE</th>\n      <th>DKLL</th>\n      <th>label</th>\n    </tr>\n  </thead>\n  <tbody>\n    <tr>\n      <th>39990</th>\n      <td>train_39990</td>\n      <td>2</td>\n      <td>586364400</td>\n      <td>90</td>\n      <td>90</td>\n      <td>999</td>\n      <td>0</td>\n      <td>99</td>\n      <td>900</td>\n      <td>15</td>\n      <td>3637.0</td>\n      <td>1</td>\n      <td>7477.680</td>\n      <td>19378.330</td>\n      <td>7362.525</td>\n      <td>645.00</td>\n      <td>645.00</td>\n      <td>150237</td>\n      <td>237.000</td>\n      <td>2.979</td>\n      <td>0</td>\n    </tr>\n    <tr>\n      <th>39991</th>\n      <td>train_39991</td>\n      <td>2</td>\n      <td>468086400</td>\n      <td>90</td>\n      <td>90</td>\n      <td>999</td>\n      <td>0</td>\n      <td>99</td>\n      <td>150</td>\n      <td>2</td>\n      <td>2237.0</td>\n      <td>1</td>\n      <td>10114.800</td>\n      <td>6797.550</td>\n      <td>1037.000</td>\n      <td>337.00</td>\n      <td>337.00</td>\n      <td>300237</td>\n      <td>284237.000</td>\n      <td>2.979</td>\n      <td>0</td>\n    </tr>\n    <tr>\n      <th>39992</th>\n      <td>train_39992</td>\n      <td>1</td>\n      <td>715276800</td>\n      <td>90</td>\n      <td>90</td>\n      <td>999</td>\n      <td>0</td>\n      <td>99</td>\n      <td>150</td>\n      <td>3</td>\n      <td>1192.0</td>\n      <td>1</td>\n      <td>237.000</td>\n      <td>10776.675</td>\n      <td>-159.130</td>\n      <td>284.75</td>\n      <td>284.75</td>\n      <td>135237</td>\n      <td>131149.410</td>\n      <td>2.708</td>\n      <td>0</td>\n    </tr>\n    <tr>\n      <th>39993</th>\n      <td>train_39993</td>\n      <td>1</td>\n      <td>78768000</td>\n      <td>90</td>\n      <td>90</td>\n      <td>999</td>\n      <td>0</td>\n      <td>99</td>\n      <td>160</td>\n      <td>2</td>\n      <td>1887.0</td>\n      <td>1</td>\n      <td>14619.845</td>\n      <td>11789.395</td>\n      <td>897.000</td>\n      <td>319.50</td>\n      <td>319.50</td>\n      <td>125237</td>\n      <td>116250.010</td>\n      <td>2.708</td>\n      <td>0</td>\n    </tr>\n    <tr>\n      <th>39994</th>\n      <td>train_39994</td>\n      <td>1</td>\n      <td>604684800</td>\n      <td>90</td>\n      <td>90</td>\n      <td>999</td>\n      <td>0</td>\n      <td>99</td>\n      <td>150</td>\n      <td>14</td>\n      <td>5135.0</td>\n      <td>1</td>\n      <td>20844.420</td>\n      <td>16506.840</td>\n      <td>-4796.985</td>\n      <td>824.76</td>\n      <td>824.76</td>\n      <td>150237</td>\n      <td>148496.995</td>\n      <td>2.708</td>\n      <td>0</td>\n    </tr>\n    <tr>\n      <th>39995</th>\n      <td>train_39995</td>\n      <td>1</td>\n      <td>573148800</td>\n      <td>90</td>\n      <td>90</td>\n      <td>999</td>\n      <td>0</td>\n      <td>99</td>\n      <td>110</td>\n      <td>16</td>\n      <td>3185.0</td>\n      <td>1</td>\n      <td>82865.575</td>\n      <td>65304.370</td>\n      <td>4026.600</td>\n      <td>590.76</td>\n      <td>590.76</td>\n      <td>150237</td>\n      <td>117816.680</td>\n      <td>2.708</td>\n      <td>0</td>\n    </tr>\n    <tr>\n      <th>39996</th>\n      <td>train_39996</td>\n      <td>2</td>\n      <td>57772800</td>\n      <td>90</td>\n      <td>90</td>\n      <td>999</td>\n      <td>0</td>\n      <td>99</td>\n      <td>110</td>\n      <td>14</td>\n      <td>1660.5</td>\n      <td>1</td>\n      <td>32811.585</td>\n      <td>27065.150</td>\n      <td>1603.560</td>\n      <td>407.82</td>\n      <td>407.82</td>\n      <td>300237</td>\n      <td>267615.065</td>\n      <td>2.979</td>\n      <td>0</td>\n    </tr>\n    <tr>\n      <th>39997</th>\n      <td>train_39997</td>\n      <td>2</td>\n      <td>673023600</td>\n      <td>90</td>\n      <td>90</td>\n      <td>999</td>\n      <td>0</td>\n      <td>99</td>\n      <td>143</td>\n      <td>9</td>\n      <td>3923.0</td>\n      <td>1</td>\n      <td>8875.695</td>\n      <td>1309.890</td>\n      <td>3185.800</td>\n      <td>605.60</td>\n      <td>605.60</td>\n      <td>175237</td>\n      <td>237.000</td>\n      <td>2.708</td>\n      <td>0</td>\n    </tr>\n    <tr>\n      <th>39998</th>\n      <td>train_39998</td>\n      <td>1</td>\n      <td>536428800</td>\n      <td>90</td>\n      <td>90</td>\n      <td>999</td>\n      <td>0</td>\n      <td>99</td>\n      <td>150</td>\n      <td>6</td>\n      <td>3527.0</td>\n      <td>1</td>\n      <td>2079.400</td>\n      <td>252.875</td>\n      <td>1614.490</td>\n      <td>467.30</td>\n      <td>467.30</td>\n      <td>125237</td>\n      <td>113068.900</td>\n      <td>2.708</td>\n      <td>1</td>\n    </tr>\n    <tr>\n      <th>39999</th>\n      <td>train_39999</td>\n      <td>1</td>\n      <td>31507200</td>\n      <td>90</td>\n      <td>90</td>\n      <td>999</td>\n      <td>0</td>\n      <td>99</td>\n      <td>110</td>\n      <td>14</td>\n      <td>4934.5</td>\n      <td>1</td>\n      <td>26210.635</td>\n      <td>27266.080</td>\n      <td>-4994.610</td>\n      <td>800.70</td>\n      <td>800.70</td>\n      <td>300237</td>\n      <td>287737.000</td>\n      <td>2.979</td>\n      <td>0</td>\n    </tr>\n  </tbody>\n</table>\n</div>"
     },
     "metadata": {},
     "execution_count": 40
    }
   ],
   "source": [
    "train.tail(10)"
   ]
  },
  {
   "source": [
    "## 数据分析与处理"
   ],
   "cell_type": "markdown",
   "metadata": {}
  },
  {
   "cell_type": "code",
   "execution_count": 55,
   "metadata": {},
   "outputs": [],
   "source": [
    "# 先把时间戳转换成年份, 再进行分箱\n",
    "data = pd.concat([train, test], axis=0)\n",
    "data = data.reset_index(drop=True)\n",
    "\n",
    "data['CSNY'] = data['CSNY'].apply(lambda x: int(time.strftime(\"%Y\", time.localtime(x))))\n",
    "\n",
    "def divide_bin(x):\n",
    "    if (x == 1971) | (x >= 2010):\n",
    "        return 0\n",
    "    if (x>1971) & (x<=1978):\n",
    "        return 1\n",
    "    if (x>1978) & (x<=1982):\n",
    "        return 2\n",
    "    if (x>1982) & (x<=1985):\n",
    "        return 3\n",
    "    if (x>1985) & (x<=1987):\n",
    "        return 4\n",
    "    if (x>1987) & (x<=1991):\n",
    "        return 5\n",
    "    if (x>1991) & (x<=1995):\n",
    "        return 6\n",
    "    if (x>1995) & (x<2010):\n",
    "        return 7\n",
    "\n",
    "data['CSNY'] = data['CSNY'].apply(divide_bin)"
   ]
  },
  {
   "cell_type": "code",
   "execution_count": 59,
   "metadata": {},
   "outputs": [],
   "source": [
    "# 对ZHIYE和ZHICHEN特征进行少类合并\n",
    "def combine_zhiye(x):\n",
    "    if x == 90:\n",
    "        return 0\n",
    "    else:\n",
    "        return 1\n",
    "\n",
    "def combine_zhichen(x):\n",
    "    if x == 999:\n",
    "        return 0\n",
    "    else:\n",
    "        return 1\n",
    "\n",
    "def combine_grzhzt(x):\n",
    "    if x == 1:\n",
    "        return 0\n",
    "    else:\n",
    "        return 1\n",
    "\n",
    "data['ZHIYE'] = data['ZHIYE'].apply(combine_zhiye)\n",
    "data['ZHICHEN'] = data['ZHICHEN'].apply(combine_zhichen)\n",
    "data['GRZHZT'] = data['GRZHZT'].apply(combine_grzhzt)"
   ]
  },
  {
   "cell_type": "code",
   "execution_count": 62,
   "metadata": {},
   "outputs": [],
   "source": [
    "data = data.drop(['HYZK', 'XUELI'], axis=1)"
   ]
  },
  {
   "cell_type": "code",
   "execution_count": 63,
   "metadata": {},
   "outputs": [
    {
     "output_type": "execute_result",
     "data": {
      "text/plain": [
       "(1    55000\n",
       " Name: ZHIYE, dtype: int64,\n",
       " 1    55000\n",
       " Name: ZHICHEN, dtype: int64,\n",
       " 0    54773\n",
       " 1      227\n",
       " Name: GRZHZT, dtype: int64)"
      ]
     },
     "metadata": {},
     "execution_count": 63
    }
   ],
   "source": [
    "data['ZHIYE'].value_counts(), data['ZHICHEN'].value_counts(), data['GRZHZT'].value_counts()"
   ]
  },
  {
   "cell_type": "code",
   "execution_count": 64,
   "metadata": {},
   "outputs": [
    {
     "output_type": "execute_result",
     "data": {
      "text/plain": [
       "        id  XINGBIE  CSNY  ZHIYE  ZHICHEN  ZHIWU  DWJJLX  DWSSHY   GRJCJS  \\\n",
       "0  train_0        1     7      1        1      0     150      12   1737.0   \n",
       "1  train_1        2     4      1        1      0     110       0   4894.0   \n",
       "2  train_2        1     6      1        1      0     150       9  10297.0   \n",
       "3  train_3        1     3      1        1      0     150       7  10071.5   \n",
       "4  train_4        2     4      1        1      0     900      14   2007.0   \n",
       "5  train_5        1     3      1        1      0     150      14   1192.0   \n",
       "6  train_6        1     4      1        1      0     160       2   7297.0   \n",
       "7  train_7        1     7      1        1      0     150       7   1399.0   \n",
       "8  train_8        2     5      1        1      0     150       9   6408.0   \n",
       "9  train_9        2     3      1        1      0     150      14   3573.5   \n",
       "\n",
       "   GRZHZT      GRZHYE  GRZHSNJZYE  GRZHDNGJYE   GRYJCE   DWYJCE   DKFFE  \\\n",
       "0       0    3223.515     801.310     837.000   312.00   312.00  175237   \n",
       "1       0   18055.195   53213.220    1065.200   795.84   795.84  300237   \n",
       "2       0   27426.600   13963.140    7230.020  1444.20  1444.20  150237   \n",
       "3       0  111871.130   99701.265    2271.295  1417.14  1417.14  350237   \n",
       "4       0     237.000   11028.875      35.780   325.50   325.50  150237   \n",
       "5       0    9648.315    7388.550     771.800   303.85   303.85  150237   \n",
       "6       0   22846.975   12179.565    5885.000   801.80   801.80  150237   \n",
       "7       0    1808.135    6405.055    1050.400   318.34   318.34  125237   \n",
       "8       0   79304.635   52365.820    6161.160   977.52   977.52  300237   \n",
       "9       0    2009.000   61126.175     536.750   637.38   637.38  230237   \n",
       "\n",
       "         DKYE   DKLL  label  \n",
       "0  154112.935  2.708    0.0  \n",
       "1  298252.945  2.979    0.0  \n",
       "2  147339.130  2.708    0.0  \n",
       "3  300653.780  2.708    0.0  \n",
       "4  145185.010  2.708    0.0  \n",
       "5  149743.210  2.708    0.0  \n",
       "6  146723.725  2.708    0.0  \n",
       "7   64938.955  2.708    0.0  \n",
       "8  270579.955  2.979    0.0  \n",
       "9  142296.640  2.708    0.0  "
      ],
      "text/html": "<div>\n<style scoped>\n    .dataframe tbody tr th:only-of-type {\n        vertical-align: middle;\n    }\n\n    .dataframe tbody tr th {\n        vertical-align: top;\n    }\n\n    .dataframe thead th {\n        text-align: right;\n    }\n</style>\n<table border=\"1\" class=\"dataframe\">\n  <thead>\n    <tr style=\"text-align: right;\">\n      <th></th>\n      <th>id</th>\n      <th>XINGBIE</th>\n      <th>CSNY</th>\n      <th>ZHIYE</th>\n      <th>ZHICHEN</th>\n      <th>ZHIWU</th>\n      <th>DWJJLX</th>\n      <th>DWSSHY</th>\n      <th>GRJCJS</th>\n      <th>GRZHZT</th>\n      <th>GRZHYE</th>\n      <th>GRZHSNJZYE</th>\n      <th>GRZHDNGJYE</th>\n      <th>GRYJCE</th>\n      <th>DWYJCE</th>\n      <th>DKFFE</th>\n      <th>DKYE</th>\n      <th>DKLL</th>\n      <th>label</th>\n    </tr>\n  </thead>\n  <tbody>\n    <tr>\n      <th>0</th>\n      <td>train_0</td>\n      <td>1</td>\n      <td>7</td>\n      <td>1</td>\n      <td>1</td>\n      <td>0</td>\n      <td>150</td>\n      <td>12</td>\n      <td>1737.0</td>\n      <td>0</td>\n      <td>3223.515</td>\n      <td>801.310</td>\n      <td>837.000</td>\n      <td>312.00</td>\n      <td>312.00</td>\n      <td>175237</td>\n      <td>154112.935</td>\n      <td>2.708</td>\n      <td>0.0</td>\n    </tr>\n    <tr>\n      <th>1</th>\n      <td>train_1</td>\n      <td>2</td>\n      <td>4</td>\n      <td>1</td>\n      <td>1</td>\n      <td>0</td>\n      <td>110</td>\n      <td>0</td>\n      <td>4894.0</td>\n      <td>0</td>\n      <td>18055.195</td>\n      <td>53213.220</td>\n      <td>1065.200</td>\n      <td>795.84</td>\n      <td>795.84</td>\n      <td>300237</td>\n      <td>298252.945</td>\n      <td>2.979</td>\n      <td>0.0</td>\n    </tr>\n    <tr>\n      <th>2</th>\n      <td>train_2</td>\n      <td>1</td>\n      <td>6</td>\n      <td>1</td>\n      <td>1</td>\n      <td>0</td>\n      <td>150</td>\n      <td>9</td>\n      <td>10297.0</td>\n      <td>0</td>\n      <td>27426.600</td>\n      <td>13963.140</td>\n      <td>7230.020</td>\n      <td>1444.20</td>\n      <td>1444.20</td>\n      <td>150237</td>\n      <td>147339.130</td>\n      <td>2.708</td>\n      <td>0.0</td>\n    </tr>\n    <tr>\n      <th>3</th>\n      <td>train_3</td>\n      <td>1</td>\n      <td>3</td>\n      <td>1</td>\n      <td>1</td>\n      <td>0</td>\n      <td>150</td>\n      <td>7</td>\n      <td>10071.5</td>\n      <td>0</td>\n      <td>111871.130</td>\n      <td>99701.265</td>\n      <td>2271.295</td>\n      <td>1417.14</td>\n      <td>1417.14</td>\n      <td>350237</td>\n      <td>300653.780</td>\n      <td>2.708</td>\n      <td>0.0</td>\n    </tr>\n    <tr>\n      <th>4</th>\n      <td>train_4</td>\n      <td>2</td>\n      <td>4</td>\n      <td>1</td>\n      <td>1</td>\n      <td>0</td>\n      <td>900</td>\n      <td>14</td>\n      <td>2007.0</td>\n      <td>0</td>\n      <td>237.000</td>\n      <td>11028.875</td>\n      <td>35.780</td>\n      <td>325.50</td>\n      <td>325.50</td>\n      <td>150237</td>\n      <td>145185.010</td>\n      <td>2.708</td>\n      <td>0.0</td>\n    </tr>\n    <tr>\n      <th>5</th>\n      <td>train_5</td>\n      <td>1</td>\n      <td>3</td>\n      <td>1</td>\n      <td>1</td>\n      <td>0</td>\n      <td>150</td>\n      <td>14</td>\n      <td>1192.0</td>\n      <td>0</td>\n      <td>9648.315</td>\n      <td>7388.550</td>\n      <td>771.800</td>\n      <td>303.85</td>\n      <td>303.85</td>\n      <td>150237</td>\n      <td>149743.210</td>\n      <td>2.708</td>\n      <td>0.0</td>\n    </tr>\n    <tr>\n      <th>6</th>\n      <td>train_6</td>\n      <td>1</td>\n      <td>4</td>\n      <td>1</td>\n      <td>1</td>\n      <td>0</td>\n      <td>160</td>\n      <td>2</td>\n      <td>7297.0</td>\n      <td>0</td>\n      <td>22846.975</td>\n      <td>12179.565</td>\n      <td>5885.000</td>\n      <td>801.80</td>\n      <td>801.80</td>\n      <td>150237</td>\n      <td>146723.725</td>\n      <td>2.708</td>\n      <td>0.0</td>\n    </tr>\n    <tr>\n      <th>7</th>\n      <td>train_7</td>\n      <td>1</td>\n      <td>7</td>\n      <td>1</td>\n      <td>1</td>\n      <td>0</td>\n      <td>150</td>\n      <td>7</td>\n      <td>1399.0</td>\n      <td>0</td>\n      <td>1808.135</td>\n      <td>6405.055</td>\n      <td>1050.400</td>\n      <td>318.34</td>\n      <td>318.34</td>\n      <td>125237</td>\n      <td>64938.955</td>\n      <td>2.708</td>\n      <td>0.0</td>\n    </tr>\n    <tr>\n      <th>8</th>\n      <td>train_8</td>\n      <td>2</td>\n      <td>5</td>\n      <td>1</td>\n      <td>1</td>\n      <td>0</td>\n      <td>150</td>\n      <td>9</td>\n      <td>6408.0</td>\n      <td>0</td>\n      <td>79304.635</td>\n      <td>52365.820</td>\n      <td>6161.160</td>\n      <td>977.52</td>\n      <td>977.52</td>\n      <td>300237</td>\n      <td>270579.955</td>\n      <td>2.979</td>\n      <td>0.0</td>\n    </tr>\n    <tr>\n      <th>9</th>\n      <td>train_9</td>\n      <td>2</td>\n      <td>3</td>\n      <td>1</td>\n      <td>1</td>\n      <td>0</td>\n      <td>150</td>\n      <td>14</td>\n      <td>3573.5</td>\n      <td>0</td>\n      <td>2009.000</td>\n      <td>61126.175</td>\n      <td>536.750</td>\n      <td>637.38</td>\n      <td>637.38</td>\n      <td>230237</td>\n      <td>142296.640</td>\n      <td>2.708</td>\n      <td>0.0</td>\n    </tr>\n  </tbody>\n</table>\n</div>"
     },
     "metadata": {},
     "execution_count": 64
    }
   ],
   "source": [
    "data.head(10)"
   ]
  },
  {
   "cell_type": "code",
   "execution_count": 69,
   "metadata": {},
   "outputs": [
    {
     "output_type": "execute_result",
     "data": {
      "text/plain": [
       "(55000, 19)"
      ]
     },
     "metadata": {},
     "execution_count": 69
    }
   ],
   "source": [
    "# 确定离散特征和连续特征, 并调整特征的位置\n",
    "sparse_feat = ['CSNY', 'XINGBIE', 'ZHIYE', 'ZHICHEN', 'ZHIWU', 'DWJJLX', 'DWSSHY', 'GRZHZT']\n",
    "dense_feat = ['GRJCJS', 'GRZHYE', 'GRZHSNJZYE', 'GRZHDNGJYE', 'GRYJCE', 'DWYJCE', 'DKFFE', 'DKYE', 'DKLL']\n",
    "feat_list = sparse_feat + dense_feat\n",
    "data = data[['id'] + feat_list + ['label']]\n",
    "data.shape"
   ]
  },
  {
   "cell_type": "code",
   "execution_count": 70,
   "metadata": {},
   "outputs": [],
   "source": [
    "# 对连续特征编码\n",
    "from sklearn.preprocessing import LabelEncoder\n",
    "encoder = LabelEncoder()\n",
    "data[sparse_feat] = data[sparse_feat].apply(encoder.fit_transform)"
   ]
  },
  {
   "source": [
    "## 特征工程"
   ],
   "cell_type": "markdown",
   "metadata": {}
  },
  {
   "cell_type": "code",
   "execution_count": null,
   "metadata": {},
   "outputs": [],
   "source": []
  },
  {
   "source": [
    "## 模型训练"
   ],
   "cell_type": "markdown",
   "metadata": {}
  },
  {
   "cell_type": "code",
   "execution_count": null,
   "metadata": {},
   "outputs": [],
   "source": [
    "# 设置一个参数字典, 方便之后记录\n",
    "args = {}"
   ]
  },
  {
   "cell_type": "code",
   "execution_count": 91,
   "metadata": {},
   "outputs": [],
   "source": [
    "# 进行数据集划分, 先拆开训练集和测试集, 再从训练集中分离训练集和验证集\n",
    "train_ = data.iloc[:40000]\n",
    "test_ = data.iloc[40000:]\n",
    "test_ = test_.reset_index(drop=True)\n",
    "trainX = train_[feat_list]\n",
    "trainY = train_['label'].values\n",
    "testX = test_[feat_list]"
   ]
  },
  {
   "cell_type": "code",
   "execution_count": 94,
   "metadata": {},
   "outputs": [
    {
     "output_type": "stream",
     "name": "stdout",
     "text": [
      "---------------1 fold----------------\n"
     ]
    },
    {
     "output_type": "error",
     "ename": "NameError",
     "evalue": "name 'iloc' is not defined",
     "traceback": [
      "\u001b[0;31m---------------------------------------------------------------------------\u001b[0m",
      "\u001b[0;31mNameError\u001b[0m                                 Traceback (most recent call last)",
      "\u001b[0;32m<ipython-input-94-386bf08c951f>\u001b[0m in \u001b[0;36m<module>\u001b[0;34m\u001b[0m\n\u001b[1;32m     19\u001b[0m \u001b[0;32mfor\u001b[0m \u001b[0mtrain_index\u001b[0m\u001b[0;34m,\u001b[0m \u001b[0mval_index\u001b[0m \u001b[0;32min\u001b[0m \u001b[0mSKF\u001b[0m\u001b[0;34m.\u001b[0m\u001b[0msplit\u001b[0m\u001b[0;34m(\u001b[0m\u001b[0mtrainX\u001b[0m\u001b[0;34m,\u001b[0m \u001b[0mtrainY\u001b[0m\u001b[0;34m)\u001b[0m\u001b[0;34m:\u001b[0m\u001b[0;34m\u001b[0m\u001b[0;34m\u001b[0m\u001b[0m\n\u001b[1;32m     20\u001b[0m     \u001b[0mprint\u001b[0m\u001b[0;34m(\u001b[0m\u001b[0;34m'---------------%d fold----------------'\u001b[0m \u001b[0;34m%\u001b[0m \u001b[0mi\u001b[0m\u001b[0;34m)\u001b[0m\u001b[0;34m\u001b[0m\u001b[0;34m\u001b[0m\u001b[0m\n\u001b[0;32m---> 21\u001b[0;31m     \u001b[0mX_train\u001b[0m\u001b[0;34m,\u001b[0m \u001b[0mX_val\u001b[0m\u001b[0;34m,\u001b[0m \u001b[0mY_train\u001b[0m\u001b[0;34m,\u001b[0m \u001b[0mY_val\u001b[0m \u001b[0;34m=\u001b[0m \u001b[0mtrainX\u001b[0m\u001b[0;34m,\u001b[0m\u001b[0miloc\u001b[0m\u001b[0;34m[\u001b[0m\u001b[0mtrain_index\u001b[0m\u001b[0;34m]\u001b[0m\u001b[0;34m.\u001b[0m\u001b[0mreset_index\u001b[0m\u001b[0;34m(\u001b[0m\u001b[0mdrop\u001b[0m\u001b[0;34m=\u001b[0m\u001b[0;32mTrue\u001b[0m\u001b[0;34m)\u001b[0m\u001b[0;34m,\u001b[0m \u001b[0mtrainX\u001b[0m\u001b[0;34m.\u001b[0m\u001b[0miloc\u001b[0m\u001b[0;34m[\u001b[0m\u001b[0mval_index\u001b[0m\u001b[0;34m]\u001b[0m\u001b[0;34m.\u001b[0m\u001b[0mreset_index\u001b[0m\u001b[0;34m(\u001b[0m\u001b[0mdrop\u001b[0m\u001b[0;34m=\u001b[0m\u001b[0;32mTrue\u001b[0m\u001b[0;34m)\u001b[0m\u001b[0;34m,\u001b[0m \u001b[0mtrainY\u001b[0m\u001b[0;34m[\u001b[0m\u001b[0mtrain_index\u001b[0m\u001b[0;34m]\u001b[0m\u001b[0;34m,\u001b[0m \u001b[0mtrainY\u001b[0m\u001b[0;34m[\u001b[0m\u001b[0mval_index\u001b[0m\u001b[0;34m]\u001b[0m\u001b[0;34m\u001b[0m\u001b[0;34m\u001b[0m\u001b[0m\n\u001b[0m\u001b[1;32m     22\u001b[0m     \u001b[0mmodel\u001b[0m \u001b[0;34m=\u001b[0m \u001b[0mlgb\u001b[0m\u001b[0;34m.\u001b[0m\u001b[0mLGBMClassifier\u001b[0m\u001b[0;34m(\u001b[0m\u001b[0;34m**\u001b[0m\u001b[0mparams\u001b[0m\u001b[0;34m)\u001b[0m\u001b[0;34m\u001b[0m\u001b[0;34m\u001b[0m\u001b[0m\n\u001b[1;32m     23\u001b[0m     \u001b[0mmodel\u001b[0m\u001b[0;34m.\u001b[0m\u001b[0mfit\u001b[0m\u001b[0;34m(\u001b[0m\u001b[0mX_train\u001b[0m\u001b[0;34m,\u001b[0m \u001b[0mY_train\u001b[0m\u001b[0;34m,\u001b[0m \u001b[0meval_set\u001b[0m\u001b[0;34m=\u001b[0m\u001b[0;34m[\u001b[0m\u001b[0;34m(\u001b[0m\u001b[0mX_val\u001b[0m\u001b[0;34m,\u001b[0m \u001b[0mY_val\u001b[0m\u001b[0;34m)\u001b[0m\u001b[0;34m]\u001b[0m\u001b[0;34m,\u001b[0m \u001b[0meval_metric\u001b[0m\u001b[0;34m=\u001b[0m\u001b[0;34m'auc'\u001b[0m\u001b[0;34m,\u001b[0m \u001b[0mearly_stopping_rounds\u001b[0m\u001b[0;34m=\u001b[0m\u001b[0;36m200\u001b[0m\u001b[0;34m,\u001b[0m \u001b[0mverbose\u001b[0m\u001b[0;34m=\u001b[0m\u001b[0;36m200\u001b[0m\u001b[0;34m,\u001b[0m \u001b[0mcategorical_feature\u001b[0m\u001b[0;34m=\u001b[0m\u001b[0msparse_feat\u001b[0m\u001b[0;34m)\u001b[0m\u001b[0;34m\u001b[0m\u001b[0;34m\u001b[0m\u001b[0m\n",
      "\u001b[0;31mNameError\u001b[0m: name 'iloc' is not defined"
     ]
    }
   ],
   "source": [
    "from sklearn.model_selection import StratifiedKFold\n",
    "from sklearn.metrics import roc_auc_score\n",
    "from utils import evaluation, submit\n",
    "\n",
    "#选择StratifiedKFold的原因是标签分布不均衡, 因此需要根据分布来划分\n",
    "SKF = StratifiedKFold(n_splits=5, shuffle=True, random_state=723)\n",
    "\n",
    "params={\n",
    "    'learning_rate': 0.05,\n",
    "    'num_leaves': 31,\n",
    "    'num_iterations': 10000, \n",
    "    'metric': None, \n",
    "    'objective': 'binary',\n",
    "    'random_state': 723, \n",
    "    'subsample': 0.8\n",
    "}\n",
    "\n",
    "i = 1  # to record the index of k-fold split\n",
    "for train_index, val_index in SKF.split(trainX, trainY):\n",
    "    print('---------------%d fold----------------' % i)\n",
    "    X_train, X_val, Y_train, Y_val = trainX.iloc[train_index].reset_index(drop=True), trainX.iloc[val_index].reset_index(drop=True), trainY[train_index], trainY[val_index]\n",
    "    model = lgb.LGBMClassifier(**params)\n",
    "    model.fit(X_train, Y_train, eval_set=[(X_val, Y_val)], eval_metric='auc', early_stopping_rounds=200, verbose=200, categorical_feature=sparse_feat)\n",
    "    y_ = model.predict_proba(X_train)\n",
    "    i += 1\n",
    "    print('AUC Score: %.5f' % roc_auc_score(Y_train, y_))\n",
    "    print('TPR Score: %.5f' % evaluation(Y_train, y_))\n",
    "    "
   ]
  },
  {
   "cell_type": "code",
   "execution_count": null,
   "metadata": {},
   "outputs": [],
   "source": []
  },
  {
   "cell_type": "code",
   "execution_count": null,
   "metadata": {},
   "outputs": [],
   "source": []
  },
  {
   "cell_type": "code",
   "execution_count": null,
   "metadata": {},
   "outputs": [],
   "source": []
  }
 ]
}