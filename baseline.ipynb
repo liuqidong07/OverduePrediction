{
 "metadata": {
  "language_info": {
   "codemirror_mode": {
    "name": "ipython",
    "version": 3
   },
   "file_extension": ".py",
   "mimetype": "text/x-python",
   "name": "python",
   "nbconvert_exporter": "python",
   "pygments_lexer": "ipython3",
   "version": "3.6.8-final"
  },
  "orig_nbformat": 2,
  "kernelspec": {
   "name": "python3",
   "display_name": "Python 3",
   "language": "python"
  }
 },
 "nbformat": 4,
 "nbformat_minor": 2,
 "cells": [
  {
   "source": [
    "# baseline\n",
    "先按照一般的步骤完成一个baseline, 然后再去进行迭代.\n",
    "\n",
    "baseline步骤:\n",
    "- 赛题理解(已完成)\n",
    "- 数据分析(在DataAnalysis中完成, 在这里进行总结, 并处理数据)\n",
    "    - 对某些连续特征的离散化\n",
    "    - 构建连续与离散特征, 主要是归一化和编码\n",
    "    - 数据清理: 去除掉离群点和异常值\n",
    "- 特征工程\n",
    "    - 特征选择: 去掉对模型有害的特征\n",
    "    - 构造特征: 主要在之后的迭代中完成\n",
    "    - 提取统计特征\n",
    "    - 特征组合\n",
    "- 模型训练与验证\n",
    "    - 数据集的划分(训练集, 测试集, 验证集): 应独立划分, 防止特征穿越\n",
    "    - 模型训练: 调参\n",
    "    - 线下评测\n",
    "- 模型融合"
   ],
   "cell_type": "markdown",
   "metadata": {}
  },
  {
   "source": [
    "## 数据分析\n",
    "### 总结\n",
    "- 特征分类\n",
    "    - 连续特征: GRJCJS(个人缴存基数), GRZHYE(个人账户余额), GRZHSNJZYE(个人账户上年结转余额), GRZHDNGJYE(个人账户当年归集余额), GRYJCE(个人月缴存额), DWYJCE(单位月缴存额), DKFFE(贷款发放额), DKYE(贷款余额)\n",
    "    - 离散特征: XINGBIE(性别), HYZK(婚姻状况), ZHIYE(职业), ZHICHEN(职称), ZHIWU(职务), XUELI(学历), DWJJLX(单位经济类型), DWSSHY(单位所属行业), GRZHZT(个人账户状态)\n",
    "    - 其他特征: CSNY(出生年月), DKLL(贷款利率)\n",
    "- 特征分布:\n",
    "    - 测试集与训练集分布差异较大: ZHIWU(分布不同), DKLL(训练集为8个类,测试集为数值)\n",
    "    - 类别特征中在测试集中只有一类: HYZK, XUELI \n",
    "    - 类别特征中单类占主导(训练集测试集均如此): ZHIYE, ZHICHEN, GRZHZT\n",
    "\n",
    "### 数据处理\n",
    "-  CSNY: 先又时间戳转换为年份, 再把1971和大于2010的放在一类, 其他的进行分桶, 转换成了类别特征\n",
    "- DKLL:\n",
    "- 去掉特征: HYZK, XUELI\n",
    "- 单类占主导的将所有少类合并: ZHIYE, ZHICHEN \n",
    "- 大概率为1的, 可以直接使用规则方法: GRZHZT\n",
    "- 对连续特征编码\n"
   ],
   "cell_type": "markdown",
   "metadata": {}
  },
  {
   "cell_type": "code",
   "execution_count": 2,
   "metadata": {},
   "outputs": [],
   "source": [
    "import numpy as np\n",
    "import pandas as pd\n",
    "pd.set_option(\"max_columns\", 100)\n",
    "import matplotlib.pyplot as plt\n",
    "import seaborn as sns\n",
    "from tqdm import tqdm\n",
    "import lightgbm as lgb\n",
    "import time"
   ]
  },
  {
   "cell_type": "code",
   "execution_count": 3,
   "metadata": {},
   "outputs": [],
   "source": [
    "train = pd.read_csv(r'./data/train.csv')\n",
    "test = pd.read_csv(r'./data/test.csv')\n",
    "submit = pd.read_csv(r'./data/submit.csv')"
   ]
  },
  {
   "cell_type": "code",
   "execution_count": 4,
   "metadata": {},
   "outputs": [
    {
     "output_type": "execute_result",
     "data": {
      "text/plain": [
       "((40000, 21), (15000, 20))"
      ]
     },
     "metadata": {},
     "execution_count": 4
    }
   ],
   "source": [
    "train.shape, test.shape"
   ]
  },
  {
   "cell_type": "code",
   "execution_count": 5,
   "metadata": {},
   "outputs": [
    {
     "output_type": "execute_result",
     "data": {
      "text/plain": [
       "                id  XINGBIE       CSNY  HYZK  ZHIYE  ZHICHEN  ZHIWU  XUELI  \\\n",
       "39990  train_39990        2  586364400    90     90      999      0     99   \n",
       "39991  train_39991        2  468086400    90     90      999      0     99   \n",
       "39992  train_39992        1  715276800    90     90      999      0     99   \n",
       "39993  train_39993        1   78768000    90     90      999      0     99   \n",
       "39994  train_39994        1  604684800    90     90      999      0     99   \n",
       "39995  train_39995        1  573148800    90     90      999      0     99   \n",
       "39996  train_39996        2   57772800    90     90      999      0     99   \n",
       "39997  train_39997        2  673023600    90     90      999      0     99   \n",
       "39998  train_39998        1  536428800    90     90      999      0     99   \n",
       "39999  train_39999        1   31507200    90     90      999      0     99   \n",
       "\n",
       "       DWJJLX  DWSSHY  GRJCJS  GRZHZT     GRZHYE  GRZHSNJZYE  GRZHDNGJYE  \\\n",
       "39990     900      15  3637.0       1   7477.680   19378.330    7362.525   \n",
       "39991     150       2  2237.0       1  10114.800    6797.550    1037.000   \n",
       "39992     150       3  1192.0       1    237.000   10776.675    -159.130   \n",
       "39993     160       2  1887.0       1  14619.845   11789.395     897.000   \n",
       "39994     150      14  5135.0       1  20844.420   16506.840   -4796.985   \n",
       "39995     110      16  3185.0       1  82865.575   65304.370    4026.600   \n",
       "39996     110      14  1660.5       1  32811.585   27065.150    1603.560   \n",
       "39997     143       9  3923.0       1   8875.695    1309.890    3185.800   \n",
       "39998     150       6  3527.0       1   2079.400     252.875    1614.490   \n",
       "39999     110      14  4934.5       1  26210.635   27266.080   -4994.610   \n",
       "\n",
       "       GRYJCE  DWYJCE   DKFFE        DKYE   DKLL  label  \n",
       "39990  645.00  645.00  150237     237.000  2.979      0  \n",
       "39991  337.00  337.00  300237  284237.000  2.979      0  \n",
       "39992  284.75  284.75  135237  131149.410  2.708      0  \n",
       "39993  319.50  319.50  125237  116250.010  2.708      0  \n",
       "39994  824.76  824.76  150237  148496.995  2.708      0  \n",
       "39995  590.76  590.76  150237  117816.680  2.708      0  \n",
       "39996  407.82  407.82  300237  267615.065  2.979      0  \n",
       "39997  605.60  605.60  175237     237.000  2.708      0  \n",
       "39998  467.30  467.30  125237  113068.900  2.708      1  \n",
       "39999  800.70  800.70  300237  287737.000  2.979      0  "
      ],
      "text/html": "<div>\n<style scoped>\n    .dataframe tbody tr th:only-of-type {\n        vertical-align: middle;\n    }\n\n    .dataframe tbody tr th {\n        vertical-align: top;\n    }\n\n    .dataframe thead th {\n        text-align: right;\n    }\n</style>\n<table border=\"1\" class=\"dataframe\">\n  <thead>\n    <tr style=\"text-align: right;\">\n      <th></th>\n      <th>id</th>\n      <th>XINGBIE</th>\n      <th>CSNY</th>\n      <th>HYZK</th>\n      <th>ZHIYE</th>\n      <th>ZHICHEN</th>\n      <th>ZHIWU</th>\n      <th>XUELI</th>\n      <th>DWJJLX</th>\n      <th>DWSSHY</th>\n      <th>GRJCJS</th>\n      <th>GRZHZT</th>\n      <th>GRZHYE</th>\n      <th>GRZHSNJZYE</th>\n      <th>GRZHDNGJYE</th>\n      <th>GRYJCE</th>\n      <th>DWYJCE</th>\n      <th>DKFFE</th>\n      <th>DKYE</th>\n      <th>DKLL</th>\n      <th>label</th>\n    </tr>\n  </thead>\n  <tbody>\n    <tr>\n      <th>39990</th>\n      <td>train_39990</td>\n      <td>2</td>\n      <td>586364400</td>\n      <td>90</td>\n      <td>90</td>\n      <td>999</td>\n      <td>0</td>\n      <td>99</td>\n      <td>900</td>\n      <td>15</td>\n      <td>3637.0</td>\n      <td>1</td>\n      <td>7477.680</td>\n      <td>19378.330</td>\n      <td>7362.525</td>\n      <td>645.00</td>\n      <td>645.00</td>\n      <td>150237</td>\n      <td>237.000</td>\n      <td>2.979</td>\n      <td>0</td>\n    </tr>\n    <tr>\n      <th>39991</th>\n      <td>train_39991</td>\n      <td>2</td>\n      <td>468086400</td>\n      <td>90</td>\n      <td>90</td>\n      <td>999</td>\n      <td>0</td>\n      <td>99</td>\n      <td>150</td>\n      <td>2</td>\n      <td>2237.0</td>\n      <td>1</td>\n      <td>10114.800</td>\n      <td>6797.550</td>\n      <td>1037.000</td>\n      <td>337.00</td>\n      <td>337.00</td>\n      <td>300237</td>\n      <td>284237.000</td>\n      <td>2.979</td>\n      <td>0</td>\n    </tr>\n    <tr>\n      <th>39992</th>\n      <td>train_39992</td>\n      <td>1</td>\n      <td>715276800</td>\n      <td>90</td>\n      <td>90</td>\n      <td>999</td>\n      <td>0</td>\n      <td>99</td>\n      <td>150</td>\n      <td>3</td>\n      <td>1192.0</td>\n      <td>1</td>\n      <td>237.000</td>\n      <td>10776.675</td>\n      <td>-159.130</td>\n      <td>284.75</td>\n      <td>284.75</td>\n      <td>135237</td>\n      <td>131149.410</td>\n      <td>2.708</td>\n      <td>0</td>\n    </tr>\n    <tr>\n      <th>39993</th>\n      <td>train_39993</td>\n      <td>1</td>\n      <td>78768000</td>\n      <td>90</td>\n      <td>90</td>\n      <td>999</td>\n      <td>0</td>\n      <td>99</td>\n      <td>160</td>\n      <td>2</td>\n      <td>1887.0</td>\n      <td>1</td>\n      <td>14619.845</td>\n      <td>11789.395</td>\n      <td>897.000</td>\n      <td>319.50</td>\n      <td>319.50</td>\n      <td>125237</td>\n      <td>116250.010</td>\n      <td>2.708</td>\n      <td>0</td>\n    </tr>\n    <tr>\n      <th>39994</th>\n      <td>train_39994</td>\n      <td>1</td>\n      <td>604684800</td>\n      <td>90</td>\n      <td>90</td>\n      <td>999</td>\n      <td>0</td>\n      <td>99</td>\n      <td>150</td>\n      <td>14</td>\n      <td>5135.0</td>\n      <td>1</td>\n      <td>20844.420</td>\n      <td>16506.840</td>\n      <td>-4796.985</td>\n      <td>824.76</td>\n      <td>824.76</td>\n      <td>150237</td>\n      <td>148496.995</td>\n      <td>2.708</td>\n      <td>0</td>\n    </tr>\n    <tr>\n      <th>39995</th>\n      <td>train_39995</td>\n      <td>1</td>\n      <td>573148800</td>\n      <td>90</td>\n      <td>90</td>\n      <td>999</td>\n      <td>0</td>\n      <td>99</td>\n      <td>110</td>\n      <td>16</td>\n      <td>3185.0</td>\n      <td>1</td>\n      <td>82865.575</td>\n      <td>65304.370</td>\n      <td>4026.600</td>\n      <td>590.76</td>\n      <td>590.76</td>\n      <td>150237</td>\n      <td>117816.680</td>\n      <td>2.708</td>\n      <td>0</td>\n    </tr>\n    <tr>\n      <th>39996</th>\n      <td>train_39996</td>\n      <td>2</td>\n      <td>57772800</td>\n      <td>90</td>\n      <td>90</td>\n      <td>999</td>\n      <td>0</td>\n      <td>99</td>\n      <td>110</td>\n      <td>14</td>\n      <td>1660.5</td>\n      <td>1</td>\n      <td>32811.585</td>\n      <td>27065.150</td>\n      <td>1603.560</td>\n      <td>407.82</td>\n      <td>407.82</td>\n      <td>300237</td>\n      <td>267615.065</td>\n      <td>2.979</td>\n      <td>0</td>\n    </tr>\n    <tr>\n      <th>39997</th>\n      <td>train_39997</td>\n      <td>2</td>\n      <td>673023600</td>\n      <td>90</td>\n      <td>90</td>\n      <td>999</td>\n      <td>0</td>\n      <td>99</td>\n      <td>143</td>\n      <td>9</td>\n      <td>3923.0</td>\n      <td>1</td>\n      <td>8875.695</td>\n      <td>1309.890</td>\n      <td>3185.800</td>\n      <td>605.60</td>\n      <td>605.60</td>\n      <td>175237</td>\n      <td>237.000</td>\n      <td>2.708</td>\n      <td>0</td>\n    </tr>\n    <tr>\n      <th>39998</th>\n      <td>train_39998</td>\n      <td>1</td>\n      <td>536428800</td>\n      <td>90</td>\n      <td>90</td>\n      <td>999</td>\n      <td>0</td>\n      <td>99</td>\n      <td>150</td>\n      <td>6</td>\n      <td>3527.0</td>\n      <td>1</td>\n      <td>2079.400</td>\n      <td>252.875</td>\n      <td>1614.490</td>\n      <td>467.30</td>\n      <td>467.30</td>\n      <td>125237</td>\n      <td>113068.900</td>\n      <td>2.708</td>\n      <td>1</td>\n    </tr>\n    <tr>\n      <th>39999</th>\n      <td>train_39999</td>\n      <td>1</td>\n      <td>31507200</td>\n      <td>90</td>\n      <td>90</td>\n      <td>999</td>\n      <td>0</td>\n      <td>99</td>\n      <td>110</td>\n      <td>14</td>\n      <td>4934.5</td>\n      <td>1</td>\n      <td>26210.635</td>\n      <td>27266.080</td>\n      <td>-4994.610</td>\n      <td>800.70</td>\n      <td>800.70</td>\n      <td>300237</td>\n      <td>287737.000</td>\n      <td>2.979</td>\n      <td>0</td>\n    </tr>\n  </tbody>\n</table>\n</div>"
     },
     "metadata": {},
     "execution_count": 5
    }
   ],
   "source": [
    "train.tail(10)"
   ]
  },
  {
   "source": [
    "## 数据分析与处理"
   ],
   "cell_type": "markdown",
   "metadata": {}
  },
  {
   "cell_type": "code",
   "execution_count": 6,
   "metadata": {
    "tags": []
   },
   "outputs": [],
   "source": [
    "# 先把时间戳转换成年份, 再进行分箱\n",
    "data = pd.concat([train, test], axis=0)\n",
    "data = data.reset_index(drop=True)\n",
    "\n",
    "def convert_time(x):\n",
    "    try:\n",
    "        t = time.localtime(x)\n",
    "        t = time.strftime('%Y', t)\n",
    "    except:\n",
    "        t=1971\n",
    "    t = int(t)\n",
    "    return t\n",
    "\n",
    "data['CSNY'] = data['CSNY'].apply(convert_time)\n",
    "\n",
    "def divide_bin(x):\n",
    "    if (x == 1971) | (x >= 2010):\n",
    "        return 0\n",
    "    if (x>1971) & (x<=1978):\n",
    "        return 1\n",
    "    if (x>1978) & (x<=1982):\n",
    "        return 2\n",
    "    if (x>1982) & (x<=1985):\n",
    "        return 3\n",
    "    if (x>1985) & (x<=1987):\n",
    "        return 4\n",
    "    if (x>1987) & (x<=1991):\n",
    "        return 5\n",
    "    if (x>1991) & (x<=1995):\n",
    "        return 6\n",
    "    if (x>1995) & (x<2010):\n",
    "        return 7\n",
    "\n",
    "data['CSNY'] = data['CSNY'].apply(divide_bin)"
   ]
  },
  {
   "cell_type": "code",
   "execution_count": 7,
   "metadata": {},
   "outputs": [],
   "source": [
    "# 对ZHIYE和ZHICHEN特征进行少类合并\n",
    "def combine_zhiye(x):\n",
    "    if x == 90:\n",
    "        return 0\n",
    "    else:\n",
    "        return 1\n",
    "\n",
    "def combine_zhichen(x):\n",
    "    if x == 999:\n",
    "        return 0\n",
    "    else:\n",
    "        return 1\n",
    "\n",
    "def combine_grzhzt(x):\n",
    "    if x == 1:\n",
    "        return 0\n",
    "    else:\n",
    "        return 1\n",
    "\n",
    "data['ZHIYE'] = data['ZHIYE'].apply(combine_zhiye)\n",
    "data['ZHICHEN'] = data['ZHICHEN'].apply(combine_zhichen)\n",
    "data['GRZHZT'] = data['GRZHZT'].apply(combine_grzhzt)"
   ]
  },
  {
   "cell_type": "code",
   "execution_count": 8,
   "metadata": {},
   "outputs": [],
   "source": [
    "data = data.drop(['HYZK', 'XUELI'], axis=1)"
   ]
  },
  {
   "cell_type": "code",
   "execution_count": 9,
   "metadata": {},
   "outputs": [
    {
     "output_type": "execute_result",
     "data": {
      "text/plain": [
       "(0    54930\n",
       " 1       70\n",
       " Name: ZHIYE, dtype: int64,\n",
       " 0    54912\n",
       " 1       88\n",
       " Name: ZHICHEN, dtype: int64,\n",
       " 0    54773\n",
       " 1      227\n",
       " Name: GRZHZT, dtype: int64)"
      ]
     },
     "metadata": {},
     "execution_count": 9
    }
   ],
   "source": [
    "data['ZHIYE'].value_counts(), data['ZHICHEN'].value_counts(), data['GRZHZT'].value_counts()"
   ]
  },
  {
   "cell_type": "code",
   "execution_count": 10,
   "metadata": {},
   "outputs": [
    {
     "output_type": "execute_result",
     "data": {
      "text/plain": [
       "        id  XINGBIE  CSNY  ZHIYE  ZHICHEN  ZHIWU  DWJJLX  DWSSHY   GRJCJS  \\\n",
       "0  train_0        1     7      0        0      0     150      12   1737.0   \n",
       "1  train_1        2     4      0        0      0     110       0   4894.0   \n",
       "2  train_2        1     6      0        0      0     150       9  10297.0   \n",
       "3  train_3        1     3      0        0      0     150       7  10071.5   \n",
       "4  train_4        2     4      0        0      0     900      14   2007.0   \n",
       "5  train_5        1     3      0        0      0     150      14   1192.0   \n",
       "6  train_6        1     4      0        0      0     160       2   7297.0   \n",
       "7  train_7        1     7      0        0      0     150       7   1399.0   \n",
       "8  train_8        2     5      0        0      0     150       9   6408.0   \n",
       "9  train_9        2     3      0        0      0     150      14   3573.5   \n",
       "\n",
       "   GRZHZT      GRZHYE  GRZHSNJZYE  GRZHDNGJYE   GRYJCE   DWYJCE   DKFFE  \\\n",
       "0       0    3223.515     801.310     837.000   312.00   312.00  175237   \n",
       "1       0   18055.195   53213.220    1065.200   795.84   795.84  300237   \n",
       "2       0   27426.600   13963.140    7230.020  1444.20  1444.20  150237   \n",
       "3       0  111871.130   99701.265    2271.295  1417.14  1417.14  350237   \n",
       "4       0     237.000   11028.875      35.780   325.50   325.50  150237   \n",
       "5       0    9648.315    7388.550     771.800   303.85   303.85  150237   \n",
       "6       0   22846.975   12179.565    5885.000   801.80   801.80  150237   \n",
       "7       0    1808.135    6405.055    1050.400   318.34   318.34  125237   \n",
       "8       0   79304.635   52365.820    6161.160   977.52   977.52  300237   \n",
       "9       0    2009.000   61126.175     536.750   637.38   637.38  230237   \n",
       "\n",
       "         DKYE   DKLL  label  \n",
       "0  154112.935  2.708    0.0  \n",
       "1  298252.945  2.979    0.0  \n",
       "2  147339.130  2.708    0.0  \n",
       "3  300653.780  2.708    0.0  \n",
       "4  145185.010  2.708    0.0  \n",
       "5  149743.210  2.708    0.0  \n",
       "6  146723.725  2.708    0.0  \n",
       "7   64938.955  2.708    0.0  \n",
       "8  270579.955  2.979    0.0  \n",
       "9  142296.640  2.708    0.0  "
      ],
      "text/html": "<div>\n<style scoped>\n    .dataframe tbody tr th:only-of-type {\n        vertical-align: middle;\n    }\n\n    .dataframe tbody tr th {\n        vertical-align: top;\n    }\n\n    .dataframe thead th {\n        text-align: right;\n    }\n</style>\n<table border=\"1\" class=\"dataframe\">\n  <thead>\n    <tr style=\"text-align: right;\">\n      <th></th>\n      <th>id</th>\n      <th>XINGBIE</th>\n      <th>CSNY</th>\n      <th>ZHIYE</th>\n      <th>ZHICHEN</th>\n      <th>ZHIWU</th>\n      <th>DWJJLX</th>\n      <th>DWSSHY</th>\n      <th>GRJCJS</th>\n      <th>GRZHZT</th>\n      <th>GRZHYE</th>\n      <th>GRZHSNJZYE</th>\n      <th>GRZHDNGJYE</th>\n      <th>GRYJCE</th>\n      <th>DWYJCE</th>\n      <th>DKFFE</th>\n      <th>DKYE</th>\n      <th>DKLL</th>\n      <th>label</th>\n    </tr>\n  </thead>\n  <tbody>\n    <tr>\n      <th>0</th>\n      <td>train_0</td>\n      <td>1</td>\n      <td>7</td>\n      <td>0</td>\n      <td>0</td>\n      <td>0</td>\n      <td>150</td>\n      <td>12</td>\n      <td>1737.0</td>\n      <td>0</td>\n      <td>3223.515</td>\n      <td>801.310</td>\n      <td>837.000</td>\n      <td>312.00</td>\n      <td>312.00</td>\n      <td>175237</td>\n      <td>154112.935</td>\n      <td>2.708</td>\n      <td>0.0</td>\n    </tr>\n    <tr>\n      <th>1</th>\n      <td>train_1</td>\n      <td>2</td>\n      <td>4</td>\n      <td>0</td>\n      <td>0</td>\n      <td>0</td>\n      <td>110</td>\n      <td>0</td>\n      <td>4894.0</td>\n      <td>0</td>\n      <td>18055.195</td>\n      <td>53213.220</td>\n      <td>1065.200</td>\n      <td>795.84</td>\n      <td>795.84</td>\n      <td>300237</td>\n      <td>298252.945</td>\n      <td>2.979</td>\n      <td>0.0</td>\n    </tr>\n    <tr>\n      <th>2</th>\n      <td>train_2</td>\n      <td>1</td>\n      <td>6</td>\n      <td>0</td>\n      <td>0</td>\n      <td>0</td>\n      <td>150</td>\n      <td>9</td>\n      <td>10297.0</td>\n      <td>0</td>\n      <td>27426.600</td>\n      <td>13963.140</td>\n      <td>7230.020</td>\n      <td>1444.20</td>\n      <td>1444.20</td>\n      <td>150237</td>\n      <td>147339.130</td>\n      <td>2.708</td>\n      <td>0.0</td>\n    </tr>\n    <tr>\n      <th>3</th>\n      <td>train_3</td>\n      <td>1</td>\n      <td>3</td>\n      <td>0</td>\n      <td>0</td>\n      <td>0</td>\n      <td>150</td>\n      <td>7</td>\n      <td>10071.5</td>\n      <td>0</td>\n      <td>111871.130</td>\n      <td>99701.265</td>\n      <td>2271.295</td>\n      <td>1417.14</td>\n      <td>1417.14</td>\n      <td>350237</td>\n      <td>300653.780</td>\n      <td>2.708</td>\n      <td>0.0</td>\n    </tr>\n    <tr>\n      <th>4</th>\n      <td>train_4</td>\n      <td>2</td>\n      <td>4</td>\n      <td>0</td>\n      <td>0</td>\n      <td>0</td>\n      <td>900</td>\n      <td>14</td>\n      <td>2007.0</td>\n      <td>0</td>\n      <td>237.000</td>\n      <td>11028.875</td>\n      <td>35.780</td>\n      <td>325.50</td>\n      <td>325.50</td>\n      <td>150237</td>\n      <td>145185.010</td>\n      <td>2.708</td>\n      <td>0.0</td>\n    </tr>\n    <tr>\n      <th>5</th>\n      <td>train_5</td>\n      <td>1</td>\n      <td>3</td>\n      <td>0</td>\n      <td>0</td>\n      <td>0</td>\n      <td>150</td>\n      <td>14</td>\n      <td>1192.0</td>\n      <td>0</td>\n      <td>9648.315</td>\n      <td>7388.550</td>\n      <td>771.800</td>\n      <td>303.85</td>\n      <td>303.85</td>\n      <td>150237</td>\n      <td>149743.210</td>\n      <td>2.708</td>\n      <td>0.0</td>\n    </tr>\n    <tr>\n      <th>6</th>\n      <td>train_6</td>\n      <td>1</td>\n      <td>4</td>\n      <td>0</td>\n      <td>0</td>\n      <td>0</td>\n      <td>160</td>\n      <td>2</td>\n      <td>7297.0</td>\n      <td>0</td>\n      <td>22846.975</td>\n      <td>12179.565</td>\n      <td>5885.000</td>\n      <td>801.80</td>\n      <td>801.80</td>\n      <td>150237</td>\n      <td>146723.725</td>\n      <td>2.708</td>\n      <td>0.0</td>\n    </tr>\n    <tr>\n      <th>7</th>\n      <td>train_7</td>\n      <td>1</td>\n      <td>7</td>\n      <td>0</td>\n      <td>0</td>\n      <td>0</td>\n      <td>150</td>\n      <td>7</td>\n      <td>1399.0</td>\n      <td>0</td>\n      <td>1808.135</td>\n      <td>6405.055</td>\n      <td>1050.400</td>\n      <td>318.34</td>\n      <td>318.34</td>\n      <td>125237</td>\n      <td>64938.955</td>\n      <td>2.708</td>\n      <td>0.0</td>\n    </tr>\n    <tr>\n      <th>8</th>\n      <td>train_8</td>\n      <td>2</td>\n      <td>5</td>\n      <td>0</td>\n      <td>0</td>\n      <td>0</td>\n      <td>150</td>\n      <td>9</td>\n      <td>6408.0</td>\n      <td>0</td>\n      <td>79304.635</td>\n      <td>52365.820</td>\n      <td>6161.160</td>\n      <td>977.52</td>\n      <td>977.52</td>\n      <td>300237</td>\n      <td>270579.955</td>\n      <td>2.979</td>\n      <td>0.0</td>\n    </tr>\n    <tr>\n      <th>9</th>\n      <td>train_9</td>\n      <td>2</td>\n      <td>3</td>\n      <td>0</td>\n      <td>0</td>\n      <td>0</td>\n      <td>150</td>\n      <td>14</td>\n      <td>3573.5</td>\n      <td>0</td>\n      <td>2009.000</td>\n      <td>61126.175</td>\n      <td>536.750</td>\n      <td>637.38</td>\n      <td>637.38</td>\n      <td>230237</td>\n      <td>142296.640</td>\n      <td>2.708</td>\n      <td>0.0</td>\n    </tr>\n  </tbody>\n</table>\n</div>"
     },
     "metadata": {},
     "execution_count": 10
    }
   ],
   "source": [
    "data.head(10)"
   ]
  },
  {
   "cell_type": "code",
   "execution_count": 11,
   "metadata": {},
   "outputs": [
    {
     "output_type": "execute_result",
     "data": {
      "text/plain": [
       "(55000, 19)"
      ]
     },
     "metadata": {},
     "execution_count": 11
    }
   ],
   "source": [
    "# 确定离散特征和连续特征, 并调整特征的位置\n",
    "sparse_feat = ['CSNY', 'XINGBIE', 'ZHIYE', 'ZHICHEN', 'ZHIWU', 'DWJJLX', 'DWSSHY', 'GRZHZT']\n",
    "dense_feat = ['GRJCJS', 'GRZHYE', 'GRZHSNJZYE', 'GRZHDNGJYE', 'GRYJCE', 'DWYJCE', 'DKFFE', 'DKYE', 'DKLL']\n",
    "feat_list = sparse_feat + dense_feat\n",
    "data = data[['id'] + feat_list + ['label']]\n",
    "data.shape"
   ]
  },
  {
   "cell_type": "code",
   "execution_count": 12,
   "metadata": {},
   "outputs": [],
   "source": [
    "# 对连续特征编码\n",
    "from sklearn.preprocessing import LabelEncoder\n",
    "encoder = LabelEncoder()\n",
    "data[sparse_feat] = data[sparse_feat].apply(encoder.fit_transform)"
   ]
  },
  {
   "source": [
    "## 特征工程"
   ],
   "cell_type": "markdown",
   "metadata": {}
  },
  {
   "source": [
    "## 通过贷款利率构造特征\n",
    "在训练集的DKLL字段中, 一个有8种值.这种值的含义如下:\n",
    "- 2.708为一套房五年以上的月利率.\n",
    "- 2.979为二套房五年以上的月利率(1.1倍)\n",
    "- 3.25为一套房的五年以上的年利率\n",
    "- 3.575为二套房的五年以上的年利率(1.1倍)\n",
    "- 2.292为一套房五年内的月利率\n",
    "- 2.521为二套房五年内的月利率(1.1倍)\n",
    "- 2.75为一套房的五年内年利率\n",
    "- 3.025为二套房五年内的年利率(1.1倍)\n",
    "\n",
    "由此可以构造三个0-1类别特征, 分别表示一套房还是二套房, 是否五年以上, 是年利率还是月利率.\n",
    "\n",
    "由于测试集中有很多其他的值, 因此可以通过区间来进行划分"
   ],
   "cell_type": "markdown",
   "metadata": {}
  },
  {
   "cell_type": "code",
   "execution_count": 28,
   "metadata": {},
   "outputs": [
    {
     "output_type": "execute_result",
     "data": {
      "text/plain": [
       "        id  CSNY  XINGBIE  ZHIYE  ZHICHEN  ZHIWU  DWJJLX  DWSSHY  GRZHZT  \\\n",
       "0  train_0     7        1      0        0      0       9      12       0   \n",
       "1  train_1     4        2      0        0      0       1       0       0   \n",
       "2  train_2     6        1      0        0      0       9       9       0   \n",
       "3  train_3     3        1      0        0      0       9       7       0   \n",
       "4  train_4     4        2      0        0      0      27      14       0   \n",
       "5  train_5     3        1      0        0      0       9      14       0   \n",
       "6  train_6     4        1      0        0      0      11       2       0   \n",
       "7  train_7     7        1      0        0      0       9       7       0   \n",
       "8  train_8     5        2      0        0      0       9       9       0   \n",
       "9  train_9     3        2      0        0      0       9      14       0   \n",
       "\n",
       "    GRJCJS      GRZHYE  GRZHSNJZYE  GRZHDNGJYE   GRYJCE   DWYJCE   DKFFE  \\\n",
       "0   1737.0    3223.515     801.310     837.000   312.00   312.00  175237   \n",
       "1   4894.0   18055.195   53213.220    1065.200   795.84   795.84  300237   \n",
       "2  10297.0   27426.600   13963.140    7230.020  1444.20  1444.20  150237   \n",
       "3  10071.5  111871.130   99701.265    2271.295  1417.14  1417.14  350237   \n",
       "4   2007.0     237.000   11028.875      35.780   325.50   325.50  150237   \n",
       "5   1192.0    9648.315    7388.550     771.800   303.85   303.85  150237   \n",
       "6   7297.0   22846.975   12179.565    5885.000   801.80   801.80  150237   \n",
       "7   1399.0    1808.135    6405.055    1050.400   318.34   318.34  125237   \n",
       "8   6408.0   79304.635   52365.820    6161.160   977.52   977.52  300237   \n",
       "9   3573.5    2009.000   61126.175     536.750   637.38   637.38  230237   \n",
       "\n",
       "         DKYE   DKLL  label  WN  ETF  NY  DKLL_gen  \n",
       "0  154112.935  2.708    0.0   0    0   1         2  \n",
       "1  298252.945  2.979    0.0   1    0   1         4  \n",
       "2  147339.130  2.708    0.0   0    0   1         2  \n",
       "3  300653.780  2.708    0.0   0    0   1         2  \n",
       "4  145185.010  2.708    0.0   0    0   1         2  \n",
       "5  149743.210  2.708    0.0   0    0   1         2  \n",
       "6  146723.725  2.708    0.0   0    0   1         2  \n",
       "7   64938.955  2.708    0.0   0    0   1         2  \n",
       "8  270579.955  2.979    0.0   1    0   1         4  \n",
       "9  142296.640  2.708    0.0   0    0   1         2  "
      ],
      "text/html": "<div>\n<style scoped>\n    .dataframe tbody tr th:only-of-type {\n        vertical-align: middle;\n    }\n\n    .dataframe tbody tr th {\n        vertical-align: top;\n    }\n\n    .dataframe thead th {\n        text-align: right;\n    }\n</style>\n<table border=\"1\" class=\"dataframe\">\n  <thead>\n    <tr style=\"text-align: right;\">\n      <th></th>\n      <th>id</th>\n      <th>CSNY</th>\n      <th>XINGBIE</th>\n      <th>ZHIYE</th>\n      <th>ZHICHEN</th>\n      <th>ZHIWU</th>\n      <th>DWJJLX</th>\n      <th>DWSSHY</th>\n      <th>GRZHZT</th>\n      <th>GRJCJS</th>\n      <th>GRZHYE</th>\n      <th>GRZHSNJZYE</th>\n      <th>GRZHDNGJYE</th>\n      <th>GRYJCE</th>\n      <th>DWYJCE</th>\n      <th>DKFFE</th>\n      <th>DKYE</th>\n      <th>DKLL</th>\n      <th>label</th>\n      <th>WN</th>\n      <th>ETF</th>\n      <th>NY</th>\n      <th>DKLL_gen</th>\n    </tr>\n  </thead>\n  <tbody>\n    <tr>\n      <th>0</th>\n      <td>train_0</td>\n      <td>7</td>\n      <td>1</td>\n      <td>0</td>\n      <td>0</td>\n      <td>0</td>\n      <td>9</td>\n      <td>12</td>\n      <td>0</td>\n      <td>1737.0</td>\n      <td>3223.515</td>\n      <td>801.310</td>\n      <td>837.000</td>\n      <td>312.00</td>\n      <td>312.00</td>\n      <td>175237</td>\n      <td>154112.935</td>\n      <td>2.708</td>\n      <td>0.0</td>\n      <td>0</td>\n      <td>0</td>\n      <td>1</td>\n      <td>2</td>\n    </tr>\n    <tr>\n      <th>1</th>\n      <td>train_1</td>\n      <td>4</td>\n      <td>2</td>\n      <td>0</td>\n      <td>0</td>\n      <td>0</td>\n      <td>1</td>\n      <td>0</td>\n      <td>0</td>\n      <td>4894.0</td>\n      <td>18055.195</td>\n      <td>53213.220</td>\n      <td>1065.200</td>\n      <td>795.84</td>\n      <td>795.84</td>\n      <td>300237</td>\n      <td>298252.945</td>\n      <td>2.979</td>\n      <td>0.0</td>\n      <td>1</td>\n      <td>0</td>\n      <td>1</td>\n      <td>4</td>\n    </tr>\n    <tr>\n      <th>2</th>\n      <td>train_2</td>\n      <td>6</td>\n      <td>1</td>\n      <td>0</td>\n      <td>0</td>\n      <td>0</td>\n      <td>9</td>\n      <td>9</td>\n      <td>0</td>\n      <td>10297.0</td>\n      <td>27426.600</td>\n      <td>13963.140</td>\n      <td>7230.020</td>\n      <td>1444.20</td>\n      <td>1444.20</td>\n      <td>150237</td>\n      <td>147339.130</td>\n      <td>2.708</td>\n      <td>0.0</td>\n      <td>0</td>\n      <td>0</td>\n      <td>1</td>\n      <td>2</td>\n    </tr>\n    <tr>\n      <th>3</th>\n      <td>train_3</td>\n      <td>3</td>\n      <td>1</td>\n      <td>0</td>\n      <td>0</td>\n      <td>0</td>\n      <td>9</td>\n      <td>7</td>\n      <td>0</td>\n      <td>10071.5</td>\n      <td>111871.130</td>\n      <td>99701.265</td>\n      <td>2271.295</td>\n      <td>1417.14</td>\n      <td>1417.14</td>\n      <td>350237</td>\n      <td>300653.780</td>\n      <td>2.708</td>\n      <td>0.0</td>\n      <td>0</td>\n      <td>0</td>\n      <td>1</td>\n      <td>2</td>\n    </tr>\n    <tr>\n      <th>4</th>\n      <td>train_4</td>\n      <td>4</td>\n      <td>2</td>\n      <td>0</td>\n      <td>0</td>\n      <td>0</td>\n      <td>27</td>\n      <td>14</td>\n      <td>0</td>\n      <td>2007.0</td>\n      <td>237.000</td>\n      <td>11028.875</td>\n      <td>35.780</td>\n      <td>325.50</td>\n      <td>325.50</td>\n      <td>150237</td>\n      <td>145185.010</td>\n      <td>2.708</td>\n      <td>0.0</td>\n      <td>0</td>\n      <td>0</td>\n      <td>1</td>\n      <td>2</td>\n    </tr>\n    <tr>\n      <th>5</th>\n      <td>train_5</td>\n      <td>3</td>\n      <td>1</td>\n      <td>0</td>\n      <td>0</td>\n      <td>0</td>\n      <td>9</td>\n      <td>14</td>\n      <td>0</td>\n      <td>1192.0</td>\n      <td>9648.315</td>\n      <td>7388.550</td>\n      <td>771.800</td>\n      <td>303.85</td>\n      <td>303.85</td>\n      <td>150237</td>\n      <td>149743.210</td>\n      <td>2.708</td>\n      <td>0.0</td>\n      <td>0</td>\n      <td>0</td>\n      <td>1</td>\n      <td>2</td>\n    </tr>\n    <tr>\n      <th>6</th>\n      <td>train_6</td>\n      <td>4</td>\n      <td>1</td>\n      <td>0</td>\n      <td>0</td>\n      <td>0</td>\n      <td>11</td>\n      <td>2</td>\n      <td>0</td>\n      <td>7297.0</td>\n      <td>22846.975</td>\n      <td>12179.565</td>\n      <td>5885.000</td>\n      <td>801.80</td>\n      <td>801.80</td>\n      <td>150237</td>\n      <td>146723.725</td>\n      <td>2.708</td>\n      <td>0.0</td>\n      <td>0</td>\n      <td>0</td>\n      <td>1</td>\n      <td>2</td>\n    </tr>\n    <tr>\n      <th>7</th>\n      <td>train_7</td>\n      <td>7</td>\n      <td>1</td>\n      <td>0</td>\n      <td>0</td>\n      <td>0</td>\n      <td>9</td>\n      <td>7</td>\n      <td>0</td>\n      <td>1399.0</td>\n      <td>1808.135</td>\n      <td>6405.055</td>\n      <td>1050.400</td>\n      <td>318.34</td>\n      <td>318.34</td>\n      <td>125237</td>\n      <td>64938.955</td>\n      <td>2.708</td>\n      <td>0.0</td>\n      <td>0</td>\n      <td>0</td>\n      <td>1</td>\n      <td>2</td>\n    </tr>\n    <tr>\n      <th>8</th>\n      <td>train_8</td>\n      <td>5</td>\n      <td>2</td>\n      <td>0</td>\n      <td>0</td>\n      <td>0</td>\n      <td>9</td>\n      <td>9</td>\n      <td>0</td>\n      <td>6408.0</td>\n      <td>79304.635</td>\n      <td>52365.820</td>\n      <td>6161.160</td>\n      <td>977.52</td>\n      <td>977.52</td>\n      <td>300237</td>\n      <td>270579.955</td>\n      <td>2.979</td>\n      <td>0.0</td>\n      <td>1</td>\n      <td>0</td>\n      <td>1</td>\n      <td>4</td>\n    </tr>\n    <tr>\n      <th>9</th>\n      <td>train_9</td>\n      <td>3</td>\n      <td>2</td>\n      <td>0</td>\n      <td>0</td>\n      <td>0</td>\n      <td>9</td>\n      <td>14</td>\n      <td>0</td>\n      <td>3573.5</td>\n      <td>2009.000</td>\n      <td>61126.175</td>\n      <td>536.750</td>\n      <td>637.38</td>\n      <td>637.38</td>\n      <td>230237</td>\n      <td>142296.640</td>\n      <td>2.708</td>\n      <td>0.0</td>\n      <td>0</td>\n      <td>0</td>\n      <td>1</td>\n      <td>2</td>\n    </tr>\n  </tbody>\n</table>\n</div>"
     },
     "metadata": {},
     "execution_count": 28
    }
   ],
   "source": [
    "def divide_DKLL(x):\n",
    "    x = x['DKLL']\n",
    "    if x<=2.4:\n",
    "        return 0, 1, 1, 0\n",
    "    if (x>2.4) & (x<=2.6):\n",
    "        return 1, 1, 1, 1\n",
    "    if (x>2.6) & (x<=2.725):\n",
    "        return 0, 0, 1, 2\n",
    "    if (x>2.725) & (x<=2.86):\n",
    "        return 0, 1, 0, 3\n",
    "    if (x>2.86) & (x<=3):\n",
    "        return 1, 0, 1, 4\n",
    "    if (x>3) & (x<=3.125):\n",
    "        return 1, 1, 0, 5\n",
    "    if (x>3.125) & (x<=3.4):\n",
    "        return 0, 0, 0, 6\n",
    "    if x>3.4:\n",
    "        return 1, 0, 0, 7\n",
    "\n",
    "new_feat = ['WN', 'ETF', 'NY', 'DKLL_gen']\n",
    "data[new_feat] = data.apply(divide_DKLL, axis=1, result_type='expand')\n",
    "data.head(10)"
   ]
  },
  {
   "cell_type": "code",
   "execution_count": 29,
   "metadata": {},
   "outputs": [],
   "source": [
    "sparse_feat = sparse_feat + new_feat\n",
    "feat_list = sparse_feat + dense_feat"
   ]
  },
  {
   "source": [
    "## 模型训练"
   ],
   "cell_type": "markdown",
   "metadata": {}
  },
  {
   "cell_type": "code",
   "execution_count": 30,
   "metadata": {},
   "outputs": [],
   "source": [
    "# 设置一个参数字典, 方便之后记录\n",
    "args = {}"
   ]
  },
  {
   "cell_type": "code",
   "execution_count": 31,
   "metadata": {},
   "outputs": [],
   "source": [
    "# 进行数据集划分, 先拆开训练集和测试集, 再从训练集中分离训练集和验证集\n",
    "train_ = data.iloc[:40000]\n",
    "test_ = data.iloc[40000:]\n",
    "test_ = test_.reset_index(drop=True)\n",
    "trainX = train_[feat_list]\n",
    "trainY = train_['label'].values\n",
    "testX = test_[feat_list]"
   ]
  },
  {
   "cell_type": "code",
   "execution_count": 32,
   "metadata": {},
   "outputs": [
    {
     "output_type": "stream",
     "name": "stdout",
     "text": [
      "*************** Training *******************\n",
      "---------------1 fold----------------\n",
      "Training until validation scores don't improve for 200 rounds\n",
      "[200]\tvalid_0's auc: 0.938\n",
      "Early stopping, best iteration is:\n",
      "[180]\tvalid_0's auc: 0.938349\n",
      "AUC Score: 0.93835\n",
      "TPR Score: 0.45953\n",
      "---------------2 fold----------------\n",
      "Training until validation scores don't improve for 200 rounds\n",
      "[200]\tvalid_0's auc: 0.936453\n",
      "Early stopping, best iteration is:\n",
      "[171]\tvalid_0's auc: 0.937005\n",
      "AUC Score: 0.93700\n",
      "TPR Score: 0.44773\n",
      "---------------3 fold----------------\n",
      "Training until validation scores don't improve for 200 rounds\n",
      "[200]\tvalid_0's auc: 0.927398\n",
      "[400]\tvalid_0's auc: 0.926927\n",
      "Early stopping, best iteration is:\n",
      "[269]\tvalid_0's auc: 0.928637\n",
      "AUC Score: 0.92864\n",
      "TPR Score: 0.47423\n",
      "---------------4 fold----------------\n",
      "Training until validation scores don't improve for 200 rounds\n",
      "[200]\tvalid_0's auc: 0.931176\n",
      "[400]\tvalid_0's auc: 0.931984\n",
      "[600]\tvalid_0's auc: 0.932048\n",
      "Early stopping, best iteration is:\n",
      "[538]\tvalid_0's auc: 0.93273\n",
      "AUC Score: 0.93273\n",
      "TPR Score: 0.46504\n",
      "---------------5 fold----------------\n",
      "Training until validation scores don't improve for 200 rounds\n",
      "[200]\tvalid_0's auc: 0.926603\n",
      "[400]\tvalid_0's auc: 0.927533\n",
      "Early stopping, best iteration is:\n",
      "[321]\tvalid_0's auc: 0.928388\n",
      "AUC Score: 0.92839\n",
      "TPR Score: 0.46866\n",
      "*************** Testing *******************\n",
      "TPR Score in validation is: 0.46427\n"
     ]
    }
   ],
   "source": [
    "from sklearn.model_selection import StratifiedKFold\n",
    "from sklearn.metrics import roc_auc_score\n",
    "from utils import evaluation, submit\n",
    "\n",
    "#选择StratifiedKFold的原因是标签分布不均衡, 因此需要根据分布来划分\n",
    "SKF = StratifiedKFold(n_splits=5, shuffle=True, random_state=723)\n",
    "\n",
    "params={\n",
    "    'learning_rate': 0.05,\n",
    "    #'max_depth': 10,\n",
    "    'num_leaves': 61,\n",
    "    'num_iterations': 10000, \n",
    "    'metric': 'auc', \n",
    "    'objective': 'binary',\n",
    "    'random_state': 723, \n",
    "    'subsample': 0.8,\n",
    "    'colsample_bytree': 0.8,\n",
    "    'scale_pos_weight': 2,\n",
    "    #'is_unbalance': True\n",
    "    #'min_sum_hessian_in_leaf': 50\n",
    "    }\n",
    "\n",
    "prediction = np.zeros(testX.shape[0])   # 用来得到五折模型的平均预测值\n",
    "validationY = np.zeros(trainX.shape[0])\n",
    "i = 1  # to record the index of k-fold split\n",
    "print('*************** Training *******************'.center(10))\n",
    "for train_index, val_index in SKF.split(trainX, trainY):\n",
    "    print('---------------%d fold----------------' % i)\n",
    "    X_train, X_val, Y_train, Y_val = trainX.iloc[train_index].reset_index(drop=True), trainX.iloc[val_index].reset_index(drop=True), trainY[train_index], trainY[val_index]\n",
    "    model = lgb.LGBMClassifier(**params)\n",
    "    model.fit(X_train, Y_train, eval_set=[(X_val, Y_val)], eval_metric='auc', early_stopping_rounds=200, verbose=200, categorical_feature=sparse_feat)\n",
    "    y_ = model.predict_proba(X_val)[:, 1]\n",
    "    prediction += model.predict_proba(testX)[:, 1]\n",
    "    validationY[val_index] = model.predict_proba(X_val)[:, 1]\n",
    "    print('AUC Score: %.5f' % roc_auc_score(Y_val, y_))\n",
    "    print('TPR Score: %.5f' % evaluation(Y_val, y_))\n",
    "    i += 1\n",
    "print('*************** Testing *******************'.center(10))\n",
    "eval_tpr = round(evaluation(trainY, validationY), 5)\n",
    "print('TPR Score in validation is: %.5f' % eval_tpr)"
   ]
  },
  {
   "cell_type": "code",
   "execution_count": 37,
   "metadata": {},
   "outputs": [],
   "source": [
    "import mlflow\n",
    "\n",
    "mlflow.set_experiment('OverduePrediction')\n",
    "experiment = mlflow.get_experiment_by_name('OverduePrediction')\n",
    "\n",
    "mlflow.set_tracking_uri('./mlruns/')\n",
    "\n",
    "with mlflow.start_run(experiment_id=experiment.experiment_id, run_name='test'):\n",
    "    #mlflow.\n",
    "    mlflow.log_params(params)\n",
    "    mlflow.log_metric('TPR', eval_tpr)\n",
    "    #mlflow.sklearn.log_model(model, 'model1')"
   ]
  },
  {
   "cell_type": "code",
   "execution_count": 33,
   "metadata": {},
   "outputs": [],
   "source": [
    "def submission(res, tpr):\n",
    "    '''\n",
    "    按照要求的格式输出结果表格\n",
    "    输入: 模型预测结果. 注意数据类型为浮点型, 表示逾期的概率.\n",
    "    输出: 将提交文件存在/submission/文件夹下\n",
    "    '''\n",
    "    submit_csv = pd.read_csv(r'./data/submit.csv')\n",
    "    submit_csv['label'] = res\n",
    "    time_path = time.strftime(\"%m%d%H%m\", time.localtime())\n",
    "    csv_path = './submission/' + time_path + '-' + str(tpr) + '.csv'\n",
    "    submit_csv.to_csv(csv_path, index=False)\n"
   ]
  },
  {
   "cell_type": "code",
   "execution_count": 34,
   "metadata": {},
   "outputs": [],
   "source": [
    "submission(prediction, eval_tpr)"
   ]
  },
  {
   "cell_type": "code",
   "execution_count": 19,
   "metadata": {},
   "outputs": [
    {
     "output_type": "execute_result",
     "data": {
      "text/plain": [
       "2757"
      ]
     },
     "metadata": {},
     "execution_count": 19
    }
   ],
   "source": [
    "train.loc[train['label']==1]['id'].count()"
   ]
  },
  {
   "cell_type": "code",
   "execution_count": 20,
   "metadata": {},
   "outputs": [
    {
     "output_type": "execute_result",
     "data": {
      "text/plain": [
       "            XINGBIE          CSNY          HYZK         ZHIYE       ZHICHEN  \\\n",
       "count  40000.000000  4.000000e+04  40000.000000  40000.000000  40000.000000   \n",
       "mean       1.361900  4.804910e+08     89.974750     89.889300    997.167725   \n",
       "std        0.480868  9.751818e+08      1.461819      2.889914     42.563175   \n",
       "min        0.000000  3.150720e+07      0.000000      0.000000      0.000000   \n",
       "25%        1.000000  3.391776e+08     90.000000     90.000000    999.000000   \n",
       "50%        1.000000  5.205276e+08     90.000000     90.000000    999.000000   \n",
       "75%        2.000000  6.338016e+08     90.000000     90.000000    999.000000   \n",
       "max        2.000000  1.903646e+11     90.000000     90.000000    999.000000   \n",
       "\n",
       "              ZHIWU         XUELI        DWJJLX        DWSSHY        GRJCJS  \\\n",
       "count  40000.000000  40000.000000  40000.000000  40000.000000  40000.000000   \n",
       "mean       0.000150     98.985150    247.663375      9.612775   4507.734465   \n",
       "std        0.012247      1.212422    260.949825      5.541372   2844.622778   \n",
       "min        0.000000      0.000000    100.000000      0.000000    787.000000   \n",
       "25%        0.000000     99.000000    110.000000      6.000000   2362.000000   \n",
       "50%        0.000000     99.000000    150.000000     10.000000   3887.500000   \n",
       "75%        0.000000     99.000000    160.000000     14.000000   5831.031250   \n",
       "max        1.000000     99.000000    900.000000     20.000000  13692.000000   \n",
       "\n",
       "             GRZHZT         GRZHYE     GRZHSNJZYE     GRZHDNGJYE  \\\n",
       "count  40000.000000   40000.000000   40000.000000   40000.000000   \n",
       "mean       1.006300   15020.190993   15316.570596    -117.379254   \n",
       "std        0.119836   20189.939168   20061.193795    7968.738147   \n",
       "min        1.000000     237.000000     237.000000 -240318.745000   \n",
       "25%        1.000000    1892.468750    2994.080000    -577.803750   \n",
       "50%        1.000000    8545.727500    9010.740000     771.800000   \n",
       "75%        1.000000   19591.691250   19571.826250    2452.977500   \n",
       "max        6.000000  366651.575000  313348.420000   53065.095000   \n",
       "\n",
       "             GRYJCE        DWYJCE          DKFFE           DKYE          DKLL  \\\n",
       "count  40000.000000  40000.000000   40000.000000   40000.000000  40000.000000   \n",
       "mean     686.961022    686.961022  190324.265725  156308.760839      2.768083   \n",
       "std      344.924156    344.924156   75334.858625   77409.960122      0.146709   \n",
       "min      246.550000    246.550000   15237.000000     237.000000      2.292000   \n",
       "25%      411.000000    411.000000  150237.000000  110252.845000      2.708000   \n",
       "50%      616.800000    616.800000  150237.000000  146210.880000      2.708000   \n",
       "75%      849.060000    849.060000  250237.000000  200844.113750      2.708000   \n",
       "max     1745.940000   1745.940000  350237.000000  329776.790000      3.575000   \n",
       "\n",
       "              label  \n",
       "count  40000.000000  \n",
       "mean       0.068925  \n",
       "std        0.253330  \n",
       "min        0.000000  \n",
       "25%        0.000000  \n",
       "50%        0.000000  \n",
       "75%        0.000000  \n",
       "max        1.000000  "
      ],
      "text/html": "<div>\n<style scoped>\n    .dataframe tbody tr th:only-of-type {\n        vertical-align: middle;\n    }\n\n    .dataframe tbody tr th {\n        vertical-align: top;\n    }\n\n    .dataframe thead th {\n        text-align: right;\n    }\n</style>\n<table border=\"1\" class=\"dataframe\">\n  <thead>\n    <tr style=\"text-align: right;\">\n      <th></th>\n      <th>XINGBIE</th>\n      <th>CSNY</th>\n      <th>HYZK</th>\n      <th>ZHIYE</th>\n      <th>ZHICHEN</th>\n      <th>ZHIWU</th>\n      <th>XUELI</th>\n      <th>DWJJLX</th>\n      <th>DWSSHY</th>\n      <th>GRJCJS</th>\n      <th>GRZHZT</th>\n      <th>GRZHYE</th>\n      <th>GRZHSNJZYE</th>\n      <th>GRZHDNGJYE</th>\n      <th>GRYJCE</th>\n      <th>DWYJCE</th>\n      <th>DKFFE</th>\n      <th>DKYE</th>\n      <th>DKLL</th>\n      <th>label</th>\n    </tr>\n  </thead>\n  <tbody>\n    <tr>\n      <th>count</th>\n      <td>40000.000000</td>\n      <td>4.000000e+04</td>\n      <td>40000.000000</td>\n      <td>40000.000000</td>\n      <td>40000.000000</td>\n      <td>40000.000000</td>\n      <td>40000.000000</td>\n      <td>40000.000000</td>\n      <td>40000.000000</td>\n      <td>40000.000000</td>\n      <td>40000.000000</td>\n      <td>40000.000000</td>\n      <td>40000.000000</td>\n      <td>40000.000000</td>\n      <td>40000.000000</td>\n      <td>40000.000000</td>\n      <td>40000.000000</td>\n      <td>40000.000000</td>\n      <td>40000.000000</td>\n      <td>40000.000000</td>\n    </tr>\n    <tr>\n      <th>mean</th>\n      <td>1.361900</td>\n      <td>4.804910e+08</td>\n      <td>89.974750</td>\n      <td>89.889300</td>\n      <td>997.167725</td>\n      <td>0.000150</td>\n      <td>98.985150</td>\n      <td>247.663375</td>\n      <td>9.612775</td>\n      <td>4507.734465</td>\n      <td>1.006300</td>\n      <td>15020.190993</td>\n      <td>15316.570596</td>\n      <td>-117.379254</td>\n      <td>686.961022</td>\n      <td>686.961022</td>\n      <td>190324.265725</td>\n      <td>156308.760839</td>\n      <td>2.768083</td>\n      <td>0.068925</td>\n    </tr>\n    <tr>\n      <th>std</th>\n      <td>0.480868</td>\n      <td>9.751818e+08</td>\n      <td>1.461819</td>\n      <td>2.889914</td>\n      <td>42.563175</td>\n      <td>0.012247</td>\n      <td>1.212422</td>\n      <td>260.949825</td>\n      <td>5.541372</td>\n      <td>2844.622778</td>\n      <td>0.119836</td>\n      <td>20189.939168</td>\n      <td>20061.193795</td>\n      <td>7968.738147</td>\n      <td>344.924156</td>\n      <td>344.924156</td>\n      <td>75334.858625</td>\n      <td>77409.960122</td>\n      <td>0.146709</td>\n      <td>0.253330</td>\n    </tr>\n    <tr>\n      <th>min</th>\n      <td>0.000000</td>\n      <td>3.150720e+07</td>\n      <td>0.000000</td>\n      <td>0.000000</td>\n      <td>0.000000</td>\n      <td>0.000000</td>\n      <td>0.000000</td>\n      <td>100.000000</td>\n      <td>0.000000</td>\n      <td>787.000000</td>\n      <td>1.000000</td>\n      <td>237.000000</td>\n      <td>237.000000</td>\n      <td>-240318.745000</td>\n      <td>246.550000</td>\n      <td>246.550000</td>\n      <td>15237.000000</td>\n      <td>237.000000</td>\n      <td>2.292000</td>\n      <td>0.000000</td>\n    </tr>\n    <tr>\n      <th>25%</th>\n      <td>1.000000</td>\n      <td>3.391776e+08</td>\n      <td>90.000000</td>\n      <td>90.000000</td>\n      <td>999.000000</td>\n      <td>0.000000</td>\n      <td>99.000000</td>\n      <td>110.000000</td>\n      <td>6.000000</td>\n      <td>2362.000000</td>\n      <td>1.000000</td>\n      <td>1892.468750</td>\n      <td>2994.080000</td>\n      <td>-577.803750</td>\n      <td>411.000000</td>\n      <td>411.000000</td>\n      <td>150237.000000</td>\n      <td>110252.845000</td>\n      <td>2.708000</td>\n      <td>0.000000</td>\n    </tr>\n    <tr>\n      <th>50%</th>\n      <td>1.000000</td>\n      <td>5.205276e+08</td>\n      <td>90.000000</td>\n      <td>90.000000</td>\n      <td>999.000000</td>\n      <td>0.000000</td>\n      <td>99.000000</td>\n      <td>150.000000</td>\n      <td>10.000000</td>\n      <td>3887.500000</td>\n      <td>1.000000</td>\n      <td>8545.727500</td>\n      <td>9010.740000</td>\n      <td>771.800000</td>\n      <td>616.800000</td>\n      <td>616.800000</td>\n      <td>150237.000000</td>\n      <td>146210.880000</td>\n      <td>2.708000</td>\n      <td>0.000000</td>\n    </tr>\n    <tr>\n      <th>75%</th>\n      <td>2.000000</td>\n      <td>6.338016e+08</td>\n      <td>90.000000</td>\n      <td>90.000000</td>\n      <td>999.000000</td>\n      <td>0.000000</td>\n      <td>99.000000</td>\n      <td>160.000000</td>\n      <td>14.000000</td>\n      <td>5831.031250</td>\n      <td>1.000000</td>\n      <td>19591.691250</td>\n      <td>19571.826250</td>\n      <td>2452.977500</td>\n      <td>849.060000</td>\n      <td>849.060000</td>\n      <td>250237.000000</td>\n      <td>200844.113750</td>\n      <td>2.708000</td>\n      <td>0.000000</td>\n    </tr>\n    <tr>\n      <th>max</th>\n      <td>2.000000</td>\n      <td>1.903646e+11</td>\n      <td>90.000000</td>\n      <td>90.000000</td>\n      <td>999.000000</td>\n      <td>1.000000</td>\n      <td>99.000000</td>\n      <td>900.000000</td>\n      <td>20.000000</td>\n      <td>13692.000000</td>\n      <td>6.000000</td>\n      <td>366651.575000</td>\n      <td>313348.420000</td>\n      <td>53065.095000</td>\n      <td>1745.940000</td>\n      <td>1745.940000</td>\n      <td>350237.000000</td>\n      <td>329776.790000</td>\n      <td>3.575000</td>\n      <td>1.000000</td>\n    </tr>\n  </tbody>\n</table>\n</div>"
     },
     "metadata": {},
     "execution_count": 20
    }
   ],
   "source": [
    "train.describe()"
   ]
  },
  {
   "cell_type": "code",
   "execution_count": 36,
   "metadata": {},
   "outputs": [
    {
     "output_type": "execute_result",
     "data": {
      "text/plain": [
       "        id  CSNY  XINGBIE  ZHIYE  ZHICHEN  ZHIWU  DWJJLX  DWSSHY  GRZHZT  \\\n",
       "0  train_0     7        1      0        0      0       9      12       0   \n",
       "1  train_1     4        2      0        0      0       1       0       0   \n",
       "2  train_2     6        1      0        0      0       9       9       0   \n",
       "3  train_3     3        1      0        0      0       9       7       0   \n",
       "4  train_4     4        2      0        0      0      27      14       0   \n",
       "5  train_5     3        1      0        0      0       9      14       0   \n",
       "6  train_6     4        1      0        0      0      11       2       0   \n",
       "7  train_7     7        1      0        0      0       9       7       0   \n",
       "8  train_8     5        2      0        0      0       9       9       0   \n",
       "9  train_9     3        2      0        0      0       9      14       0   \n",
       "\n",
       "    GRJCJS      GRZHYE  GRZHSNJZYE  GRZHDNGJYE   GRYJCE   DWYJCE   DKFFE  \\\n",
       "0   1737.0    3223.515     801.310     837.000   312.00   312.00  175237   \n",
       "1   4894.0   18055.195   53213.220    1065.200   795.84   795.84  300237   \n",
       "2  10297.0   27426.600   13963.140    7230.020  1444.20  1444.20  150237   \n",
       "3  10071.5  111871.130   99701.265    2271.295  1417.14  1417.14  350237   \n",
       "4   2007.0     237.000   11028.875      35.780   325.50   325.50  150237   \n",
       "5   1192.0    9648.315    7388.550     771.800   303.85   303.85  150237   \n",
       "6   7297.0   22846.975   12179.565    5885.000   801.80   801.80  150237   \n",
       "7   1399.0    1808.135    6405.055    1050.400   318.34   318.34  125237   \n",
       "8   6408.0   79304.635   52365.820    6161.160   977.52   977.52  300237   \n",
       "9   3573.5    2009.000   61126.175     536.750   637.38   637.38  230237   \n",
       "\n",
       "         DKYE   DKLL  label  WN  ETF  NY  DKLL_gen  \n",
       "0  154112.935  2.708    0.0   0    0   1         2  \n",
       "1  298252.945  2.979    0.0   1    0   1         4  \n",
       "2  147339.130  2.708    0.0   0    0   1         2  \n",
       "3  300653.780  2.708    0.0   0    0   1         2  \n",
       "4  145185.010  2.708    0.0   0    0   1         2  \n",
       "5  149743.210  2.708    0.0   0    0   1         2  \n",
       "6  146723.725  2.708    0.0   0    0   1         2  \n",
       "7   64938.955  2.708    0.0   0    0   1         2  \n",
       "8  270579.955  2.979    0.0   1    0   1         4  \n",
       "9  142296.640  2.708    0.0   0    0   1         2  "
      ],
      "text/html": "<div>\n<style scoped>\n    .dataframe tbody tr th:only-of-type {\n        vertical-align: middle;\n    }\n\n    .dataframe tbody tr th {\n        vertical-align: top;\n    }\n\n    .dataframe thead th {\n        text-align: right;\n    }\n</style>\n<table border=\"1\" class=\"dataframe\">\n  <thead>\n    <tr style=\"text-align: right;\">\n      <th></th>\n      <th>id</th>\n      <th>CSNY</th>\n      <th>XINGBIE</th>\n      <th>ZHIYE</th>\n      <th>ZHICHEN</th>\n      <th>ZHIWU</th>\n      <th>DWJJLX</th>\n      <th>DWSSHY</th>\n      <th>GRZHZT</th>\n      <th>GRJCJS</th>\n      <th>GRZHYE</th>\n      <th>GRZHSNJZYE</th>\n      <th>GRZHDNGJYE</th>\n      <th>GRYJCE</th>\n      <th>DWYJCE</th>\n      <th>DKFFE</th>\n      <th>DKYE</th>\n      <th>DKLL</th>\n      <th>label</th>\n      <th>WN</th>\n      <th>ETF</th>\n      <th>NY</th>\n      <th>DKLL_gen</th>\n    </tr>\n  </thead>\n  <tbody>\n    <tr>\n      <th>0</th>\n      <td>train_0</td>\n      <td>7</td>\n      <td>1</td>\n      <td>0</td>\n      <td>0</td>\n      <td>0</td>\n      <td>9</td>\n      <td>12</td>\n      <td>0</td>\n      <td>1737.0</td>\n      <td>3223.515</td>\n      <td>801.310</td>\n      <td>837.000</td>\n      <td>312.00</td>\n      <td>312.00</td>\n      <td>175237</td>\n      <td>154112.935</td>\n      <td>2.708</td>\n      <td>0.0</td>\n      <td>0</td>\n      <td>0</td>\n      <td>1</td>\n      <td>2</td>\n    </tr>\n    <tr>\n      <th>1</th>\n      <td>train_1</td>\n      <td>4</td>\n      <td>2</td>\n      <td>0</td>\n      <td>0</td>\n      <td>0</td>\n      <td>1</td>\n      <td>0</td>\n      <td>0</td>\n      <td>4894.0</td>\n      <td>18055.195</td>\n      <td>53213.220</td>\n      <td>1065.200</td>\n      <td>795.84</td>\n      <td>795.84</td>\n      <td>300237</td>\n      <td>298252.945</td>\n      <td>2.979</td>\n      <td>0.0</td>\n      <td>1</td>\n      <td>0</td>\n      <td>1</td>\n      <td>4</td>\n    </tr>\n    <tr>\n      <th>2</th>\n      <td>train_2</td>\n      <td>6</td>\n      <td>1</td>\n      <td>0</td>\n      <td>0</td>\n      <td>0</td>\n      <td>9</td>\n      <td>9</td>\n      <td>0</td>\n      <td>10297.0</td>\n      <td>27426.600</td>\n      <td>13963.140</td>\n      <td>7230.020</td>\n      <td>1444.20</td>\n      <td>1444.20</td>\n      <td>150237</td>\n      <td>147339.130</td>\n      <td>2.708</td>\n      <td>0.0</td>\n      <td>0</td>\n      <td>0</td>\n      <td>1</td>\n      <td>2</td>\n    </tr>\n    <tr>\n      <th>3</th>\n      <td>train_3</td>\n      <td>3</td>\n      <td>1</td>\n      <td>0</td>\n      <td>0</td>\n      <td>0</td>\n      <td>9</td>\n      <td>7</td>\n      <td>0</td>\n      <td>10071.5</td>\n      <td>111871.130</td>\n      <td>99701.265</td>\n      <td>2271.295</td>\n      <td>1417.14</td>\n      <td>1417.14</td>\n      <td>350237</td>\n      <td>300653.780</td>\n      <td>2.708</td>\n      <td>0.0</td>\n      <td>0</td>\n      <td>0</td>\n      <td>1</td>\n      <td>2</td>\n    </tr>\n    <tr>\n      <th>4</th>\n      <td>train_4</td>\n      <td>4</td>\n      <td>2</td>\n      <td>0</td>\n      <td>0</td>\n      <td>0</td>\n      <td>27</td>\n      <td>14</td>\n      <td>0</td>\n      <td>2007.0</td>\n      <td>237.000</td>\n      <td>11028.875</td>\n      <td>35.780</td>\n      <td>325.50</td>\n      <td>325.50</td>\n      <td>150237</td>\n      <td>145185.010</td>\n      <td>2.708</td>\n      <td>0.0</td>\n      <td>0</td>\n      <td>0</td>\n      <td>1</td>\n      <td>2</td>\n    </tr>\n    <tr>\n      <th>5</th>\n      <td>train_5</td>\n      <td>3</td>\n      <td>1</td>\n      <td>0</td>\n      <td>0</td>\n      <td>0</td>\n      <td>9</td>\n      <td>14</td>\n      <td>0</td>\n      <td>1192.0</td>\n      <td>9648.315</td>\n      <td>7388.550</td>\n      <td>771.800</td>\n      <td>303.85</td>\n      <td>303.85</td>\n      <td>150237</td>\n      <td>149743.210</td>\n      <td>2.708</td>\n      <td>0.0</td>\n      <td>0</td>\n      <td>0</td>\n      <td>1</td>\n      <td>2</td>\n    </tr>\n    <tr>\n      <th>6</th>\n      <td>train_6</td>\n      <td>4</td>\n      <td>1</td>\n      <td>0</td>\n      <td>0</td>\n      <td>0</td>\n      <td>11</td>\n      <td>2</td>\n      <td>0</td>\n      <td>7297.0</td>\n      <td>22846.975</td>\n      <td>12179.565</td>\n      <td>5885.000</td>\n      <td>801.80</td>\n      <td>801.80</td>\n      <td>150237</td>\n      <td>146723.725</td>\n      <td>2.708</td>\n      <td>0.0</td>\n      <td>0</td>\n      <td>0</td>\n      <td>1</td>\n      <td>2</td>\n    </tr>\n    <tr>\n      <th>7</th>\n      <td>train_7</td>\n      <td>7</td>\n      <td>1</td>\n      <td>0</td>\n      <td>0</td>\n      <td>0</td>\n      <td>9</td>\n      <td>7</td>\n      <td>0</td>\n      <td>1399.0</td>\n      <td>1808.135</td>\n      <td>6405.055</td>\n      <td>1050.400</td>\n      <td>318.34</td>\n      <td>318.34</td>\n      <td>125237</td>\n      <td>64938.955</td>\n      <td>2.708</td>\n      <td>0.0</td>\n      <td>0</td>\n      <td>0</td>\n      <td>1</td>\n      <td>2</td>\n    </tr>\n    <tr>\n      <th>8</th>\n      <td>train_8</td>\n      <td>5</td>\n      <td>2</td>\n      <td>0</td>\n      <td>0</td>\n      <td>0</td>\n      <td>9</td>\n      <td>9</td>\n      <td>0</td>\n      <td>6408.0</td>\n      <td>79304.635</td>\n      <td>52365.820</td>\n      <td>6161.160</td>\n      <td>977.52</td>\n      <td>977.52</td>\n      <td>300237</td>\n      <td>270579.955</td>\n      <td>2.979</td>\n      <td>0.0</td>\n      <td>1</td>\n      <td>0</td>\n      <td>1</td>\n      <td>4</td>\n    </tr>\n    <tr>\n      <th>9</th>\n      <td>train_9</td>\n      <td>3</td>\n      <td>2</td>\n      <td>0</td>\n      <td>0</td>\n      <td>0</td>\n      <td>9</td>\n      <td>14</td>\n      <td>0</td>\n      <td>3573.5</td>\n      <td>2009.000</td>\n      <td>61126.175</td>\n      <td>536.750</td>\n      <td>637.38</td>\n      <td>637.38</td>\n      <td>230237</td>\n      <td>142296.640</td>\n      <td>2.708</td>\n      <td>0.0</td>\n      <td>0</td>\n      <td>0</td>\n      <td>1</td>\n      <td>2</td>\n    </tr>\n  </tbody>\n</table>\n</div>"
     },
     "metadata": {},
     "execution_count": 36
    }
   ],
   "source": [
    "train_.head(10)"
   ]
  },
  {
   "cell_type": "code",
   "execution_count": null,
   "metadata": {},
   "outputs": [],
   "source": []
  },
  {
   "cell_type": "code",
   "execution_count": null,
   "metadata": {},
   "outputs": [],
   "source": []
  },
  {
   "cell_type": "code",
   "execution_count": null,
   "metadata": {},
   "outputs": [],
   "source": []
  },
  {
   "cell_type": "code",
   "execution_count": null,
   "metadata": {},
   "outputs": [],
   "source": []
  }
 ]
}