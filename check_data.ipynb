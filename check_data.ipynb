{
 "metadata": {
  "language_info": {
   "codemirror_mode": {
    "name": "ipython",
    "version": 3
   },
   "file_extension": ".py",
   "mimetype": "text/x-python",
   "name": "python",
   "nbconvert_exporter": "python",
   "pygments_lexer": "ipython3",
   "version": "3.6.9-final"
  },
  "orig_nbformat": 2,
  "kernelspec": {
   "name": "python3",
   "display_name": "Python 3",
   "language": "python"
  }
 },
 "nbformat": 4,
 "nbformat_minor": 2,
 "cells": [
  {
   "source": [
    "# 数据集统计信息\n",
    "- 1. 查看数据是否存在缺失值\n",
    "- 2. 查看都存在那些特征, 特征的类型是什么\n",
    "- 3. 对label进行统计, 观察样本的不平衡度或者是否存在长尾效应\n",
    "- 4. 观察训练集与测试集各个特征上的分布差异"
   ],
   "cell_type": "markdown",
   "metadata": {}
  },
  {
   "cell_type": "code",
   "execution_count": 1,
   "metadata": {},
   "outputs": [],
   "source": [
    "import pickle\n",
    "import pandas as pd\n",
    "pd.set_option('max_columns', 200)\n",
    "from utils import submit, evaluation\n",
    "\n",
    "with open(r'./data/train_T.pkl', 'rb') as f:\n",
    "    df_train = pickle.load(f)\n",
    "with open(r'./data/test_T.pkl', 'rb') as f:\n",
    "    df_test = pickle.load(f)"
   ]
  },
  {
   "cell_type": "code",
   "execution_count": 5,
   "metadata": {},
   "outputs": [
    {
     "output_type": "stream",
     "name": "stdout",
     "text": [
      "The positive rate is 0.06893, the negative rate is 0.93107\n"
     ]
    }
   ],
   "source": [
    "pos_rate = sum(df_train['label']) / df_train.shape[0]\n",
    "print('The positive rate is %.5f, the negative rate is %.5f' % (pos_rate, 1-pos_rate))"
   ]
  },
  {
   "source": [
    "## 训练集与测试集在各个特征上分布的差异\n",
    "使用比率, 画图来进行比较\n",
    "\n",
    "类别特征: 使用柱状图进行比较. 横轴为类别, 纵轴为比率.\n",
    "连续特征: 使用分布图进行比较. 横轴为数值大小, 纵轴为比率. 用两种不同的颜色进行表示."
   ],
   "cell_type": "markdown",
   "metadata": {}
  },
  {
   "cell_type": "code",
   "execution_count": 6,
   "metadata": {},
   "outputs": [
    {
     "output_type": "execute_result",
     "data": {
      "text/plain": [
       "['ZHIWU',\n",
       " 'GRJCJS',\n",
       " 'GRZHYE',\n",
       " 'GRZHSNJZYE',\n",
       " 'GRZHDNGJYE',\n",
       " 'GRYJCE',\n",
       " 'DWYJCE',\n",
       " 'DKFFE',\n",
       " 'DKYE',\n",
       " 'DKLL',\n",
       " 'age']"
      ]
     },
     "metadata": {},
     "execution_count": 6
    }
   ],
   "source": [
    "cate_feat = ['XINGBIE', 'HYZK', 'ZHIYE', 'ZHICHEN', 'XUELI', 'DWJJLX', 'DWSSHY', 'GRZHZT']\n",
    "all_feat = list(df_train.columns)\n",
    "all_feat.remove('id')\n",
    "all_feat.remove('label')\n",
    "cont_feat = all_feat\n",
    "for item in cate_feat:\n",
    "    cont_feat.remove(item)\n",
    "cont_feat"
   ]
  },
  {
   "cell_type": "code",
   "execution_count": 7,
   "metadata": {},
   "outputs": [
    {
     "output_type": "execute_result",
     "data": {
      "text/plain": [
       "XINGBIE  HYZK  ZHIYE  ZHICHEN  XUELI  DWJJLX  DWSSHY  GRZHZT\n",
       "1        3     6      3        1      1       18      0         2007\n",
       "                                      9       7       0         1494\n",
       "                                              2       0         1464\n",
       "2        3     6      3        1      1       18      0         1233\n",
       "1        3     6      3        1      9       14      0         1011\n",
       "                                                                ... \n",
       "                                      11      5       4            1\n",
       "2        3     6      3        1      1       16      4            1\n",
       "                                      13      6       0            1\n",
       "                                              7       0            1\n",
       "0        3     6      3        1      1       18      0            1\n",
       "Length: 635, dtype: int64"
      ]
     },
     "metadata": {},
     "execution_count": 7
    }
   ],
   "source": [
    "df_train[cate_feat].value_counts()"
   ]
  },
  {
   "cell_type": "code",
   "execution_count": null,
   "metadata": {},
   "outputs": [],
   "source": []
  },
  {
   "cell_type": "code",
   "execution_count": null,
   "metadata": {},
   "outputs": [],
   "source": []
  },
  {
   "cell_type": "code",
   "execution_count": null,
   "metadata": {},
   "outputs": [],
   "source": []
  },
  {
   "cell_type": "code",
   "execution_count": null,
   "metadata": {},
   "outputs": [],
   "source": []
  },
  {
   "cell_type": "code",
   "execution_count": null,
   "metadata": {},
   "outputs": [],
   "source": []
  },
  {
   "cell_type": "code",
   "execution_count": null,
   "metadata": {},
   "outputs": [],
   "source": []
  },
  {
   "cell_type": "code",
   "execution_count": null,
   "metadata": {},
   "outputs": [],
   "source": []
  }
 ]
}