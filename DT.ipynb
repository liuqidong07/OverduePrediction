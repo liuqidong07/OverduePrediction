{
 "metadata": {
  "language_info": {
   "codemirror_mode": {
    "name": "ipython",
    "version": 3
   },
   "file_extension": ".py",
   "mimetype": "text/x-python",
   "name": "python",
   "nbconvert_exporter": "python",
   "pygments_lexer": "ipython3",
   "version": "3.6.9-final"
  },
  "orig_nbformat": 2,
  "kernelspec": {
   "name": "python3",
   "display_name": "Python 3",
   "language": "python"
  }
 },
 "nbformat": 4,
 "nbformat_minor": 2,
 "cells": [
  {
   "source": [
    "# 梯度提升树方法\n",
    "尝试几种树模型: LGBM, XGBoost, GBDT"
   ],
   "cell_type": "markdown",
   "metadata": {}
  },
  {
   "cell_type": "code",
   "execution_count": 1,
   "metadata": {},
   "outputs": [],
   "source": [
    "# 读取仅经过数据规整的数据. 类别特征进行了Labelencoding, 连续特征未进行处理, 时间特征处理成年龄\n",
    "import pickle\n",
    "import pandas as pd\n",
    "pd.set_option('max_columns', 200)\n",
    "from utils import submit, evaluation\n",
    "\n",
    "with open(r'./data/train_T.pkl', 'rb') as f:\n",
    "    df_train = pickle.load(f)\n",
    "with open(r'./data/test_T.pkl', 'rb') as f:\n",
    "    df_test = pickle.load(f)"
   ]
  },
  {
   "cell_type": "code",
   "execution_count": 2,
   "metadata": {},
   "outputs": [
    {
     "output_type": "execute_result",
     "data": {
      "text/plain": [
       "        id  XINGBIE  HYZK  ZHIYE  ZHICHEN  ZHIWU  XUELI  DWJJLX  DWSSHY  \\\n",
       "0  train_0        1     3      6        3      0      1       9      12   \n",
       "1  train_1        2     3      6        3      0      1       1       0   \n",
       "2  train_2        1     3      6        3      0      1       9       9   \n",
       "3  train_3        1     3      6        3      0      1       9       7   \n",
       "4  train_4        2     3      6        3      0      1      27      14   \n",
       "5  train_5        1     3      6        3      0      1       9      14   \n",
       "6  train_6        1     3      6        3      0      1      11       2   \n",
       "7  train_7        1     3      6        3      0      1       9       7   \n",
       "8  train_8        2     3      6        3      0      1       9       9   \n",
       "9  train_9        2     3      6        3      0      1       9      14   \n",
       "\n",
       "   GRZHZT   GRJCJS      GRZHYE  GRZHSNJZYE  GRZHDNGJYE   GRYJCE   DWYJCE  \\\n",
       "0       0   1737.0    3223.515     801.310     837.000   312.00   312.00   \n",
       "1       0   4894.0   18055.195   53213.220    1065.200   795.84   795.84   \n",
       "2       0  10297.0   27426.600   13963.140    7230.020  1444.20  1444.20   \n",
       "3       0  10071.5  111871.130   99701.265    2271.295  1417.14  1417.14   \n",
       "4       0   2007.0     237.000   11028.875      35.780   325.50   325.50   \n",
       "5       0   1192.0    9648.315    7388.550     771.800   303.85   303.85   \n",
       "6       0   7297.0   22846.975   12179.565    5885.000   801.80   801.80   \n",
       "7       0   1399.0    1808.135    6405.055    1050.400   318.34   318.34   \n",
       "8       0   6408.0   79304.635   52365.820    6161.160   977.52   977.52   \n",
       "9       0   3573.5    2009.000   61126.175     536.750   637.38   637.38   \n",
       "\n",
       "    DKFFE        DKYE   DKLL  age  label  \n",
       "0  175237  154112.935  2.708   18    0.0  \n",
       "1  300237  298252.945  2.979   34    0.0  \n",
       "2  150237  147339.130  2.708   27    0.0  \n",
       "3  350237  300653.780  2.708   37    0.0  \n",
       "4  150237  145185.010  2.708   33    0.0  \n",
       "5  150237  149743.210  2.708   35    0.0  \n",
       "6  150237  146723.725  2.708   33    0.0  \n",
       "7  125237   64938.955  2.708   16    0.0  \n",
       "8  300237  270579.955  2.979   31    0.0  \n",
       "9  230237  142296.640  2.708   36    0.0  "
      ],
      "text/html": "<div>\n<style scoped>\n    .dataframe tbody tr th:only-of-type {\n        vertical-align: middle;\n    }\n\n    .dataframe tbody tr th {\n        vertical-align: top;\n    }\n\n    .dataframe thead th {\n        text-align: right;\n    }\n</style>\n<table border=\"1\" class=\"dataframe\">\n  <thead>\n    <tr style=\"text-align: right;\">\n      <th></th>\n      <th>id</th>\n      <th>XINGBIE</th>\n      <th>HYZK</th>\n      <th>ZHIYE</th>\n      <th>ZHICHEN</th>\n      <th>ZHIWU</th>\n      <th>XUELI</th>\n      <th>DWJJLX</th>\n      <th>DWSSHY</th>\n      <th>GRZHZT</th>\n      <th>GRJCJS</th>\n      <th>GRZHYE</th>\n      <th>GRZHSNJZYE</th>\n      <th>GRZHDNGJYE</th>\n      <th>GRYJCE</th>\n      <th>DWYJCE</th>\n      <th>DKFFE</th>\n      <th>DKYE</th>\n      <th>DKLL</th>\n      <th>age</th>\n      <th>label</th>\n    </tr>\n  </thead>\n  <tbody>\n    <tr>\n      <th>0</th>\n      <td>train_0</td>\n      <td>1</td>\n      <td>3</td>\n      <td>6</td>\n      <td>3</td>\n      <td>0</td>\n      <td>1</td>\n      <td>9</td>\n      <td>12</td>\n      <td>0</td>\n      <td>1737.0</td>\n      <td>3223.515</td>\n      <td>801.310</td>\n      <td>837.000</td>\n      <td>312.00</td>\n      <td>312.00</td>\n      <td>175237</td>\n      <td>154112.935</td>\n      <td>2.708</td>\n      <td>18</td>\n      <td>0.0</td>\n    </tr>\n    <tr>\n      <th>1</th>\n      <td>train_1</td>\n      <td>2</td>\n      <td>3</td>\n      <td>6</td>\n      <td>3</td>\n      <td>0</td>\n      <td>1</td>\n      <td>1</td>\n      <td>0</td>\n      <td>0</td>\n      <td>4894.0</td>\n      <td>18055.195</td>\n      <td>53213.220</td>\n      <td>1065.200</td>\n      <td>795.84</td>\n      <td>795.84</td>\n      <td>300237</td>\n      <td>298252.945</td>\n      <td>2.979</td>\n      <td>34</td>\n      <td>0.0</td>\n    </tr>\n    <tr>\n      <th>2</th>\n      <td>train_2</td>\n      <td>1</td>\n      <td>3</td>\n      <td>6</td>\n      <td>3</td>\n      <td>0</td>\n      <td>1</td>\n      <td>9</td>\n      <td>9</td>\n      <td>0</td>\n      <td>10297.0</td>\n      <td>27426.600</td>\n      <td>13963.140</td>\n      <td>7230.020</td>\n      <td>1444.20</td>\n      <td>1444.20</td>\n      <td>150237</td>\n      <td>147339.130</td>\n      <td>2.708</td>\n      <td>27</td>\n      <td>0.0</td>\n    </tr>\n    <tr>\n      <th>3</th>\n      <td>train_3</td>\n      <td>1</td>\n      <td>3</td>\n      <td>6</td>\n      <td>3</td>\n      <td>0</td>\n      <td>1</td>\n      <td>9</td>\n      <td>7</td>\n      <td>0</td>\n      <td>10071.5</td>\n      <td>111871.130</td>\n      <td>99701.265</td>\n      <td>2271.295</td>\n      <td>1417.14</td>\n      <td>1417.14</td>\n      <td>350237</td>\n      <td>300653.780</td>\n      <td>2.708</td>\n      <td>37</td>\n      <td>0.0</td>\n    </tr>\n    <tr>\n      <th>4</th>\n      <td>train_4</td>\n      <td>2</td>\n      <td>3</td>\n      <td>6</td>\n      <td>3</td>\n      <td>0</td>\n      <td>1</td>\n      <td>27</td>\n      <td>14</td>\n      <td>0</td>\n      <td>2007.0</td>\n      <td>237.000</td>\n      <td>11028.875</td>\n      <td>35.780</td>\n      <td>325.50</td>\n      <td>325.50</td>\n      <td>150237</td>\n      <td>145185.010</td>\n      <td>2.708</td>\n      <td>33</td>\n      <td>0.0</td>\n    </tr>\n    <tr>\n      <th>5</th>\n      <td>train_5</td>\n      <td>1</td>\n      <td>3</td>\n      <td>6</td>\n      <td>3</td>\n      <td>0</td>\n      <td>1</td>\n      <td>9</td>\n      <td>14</td>\n      <td>0</td>\n      <td>1192.0</td>\n      <td>9648.315</td>\n      <td>7388.550</td>\n      <td>771.800</td>\n      <td>303.85</td>\n      <td>303.85</td>\n      <td>150237</td>\n      <td>149743.210</td>\n      <td>2.708</td>\n      <td>35</td>\n      <td>0.0</td>\n    </tr>\n    <tr>\n      <th>6</th>\n      <td>train_6</td>\n      <td>1</td>\n      <td>3</td>\n      <td>6</td>\n      <td>3</td>\n      <td>0</td>\n      <td>1</td>\n      <td>11</td>\n      <td>2</td>\n      <td>0</td>\n      <td>7297.0</td>\n      <td>22846.975</td>\n      <td>12179.565</td>\n      <td>5885.000</td>\n      <td>801.80</td>\n      <td>801.80</td>\n      <td>150237</td>\n      <td>146723.725</td>\n      <td>2.708</td>\n      <td>33</td>\n      <td>0.0</td>\n    </tr>\n    <tr>\n      <th>7</th>\n      <td>train_7</td>\n      <td>1</td>\n      <td>3</td>\n      <td>6</td>\n      <td>3</td>\n      <td>0</td>\n      <td>1</td>\n      <td>9</td>\n      <td>7</td>\n      <td>0</td>\n      <td>1399.0</td>\n      <td>1808.135</td>\n      <td>6405.055</td>\n      <td>1050.400</td>\n      <td>318.34</td>\n      <td>318.34</td>\n      <td>125237</td>\n      <td>64938.955</td>\n      <td>2.708</td>\n      <td>16</td>\n      <td>0.0</td>\n    </tr>\n    <tr>\n      <th>8</th>\n      <td>train_8</td>\n      <td>2</td>\n      <td>3</td>\n      <td>6</td>\n      <td>3</td>\n      <td>0</td>\n      <td>1</td>\n      <td>9</td>\n      <td>9</td>\n      <td>0</td>\n      <td>6408.0</td>\n      <td>79304.635</td>\n      <td>52365.820</td>\n      <td>6161.160</td>\n      <td>977.52</td>\n      <td>977.52</td>\n      <td>300237</td>\n      <td>270579.955</td>\n      <td>2.979</td>\n      <td>31</td>\n      <td>0.0</td>\n    </tr>\n    <tr>\n      <th>9</th>\n      <td>train_9</td>\n      <td>2</td>\n      <td>3</td>\n      <td>6</td>\n      <td>3</td>\n      <td>0</td>\n      <td>1</td>\n      <td>9</td>\n      <td>14</td>\n      <td>0</td>\n      <td>3573.5</td>\n      <td>2009.000</td>\n      <td>61126.175</td>\n      <td>536.750</td>\n      <td>637.38</td>\n      <td>637.38</td>\n      <td>230237</td>\n      <td>142296.640</td>\n      <td>2.708</td>\n      <td>36</td>\n      <td>0.0</td>\n    </tr>\n  </tbody>\n</table>\n</div>"
     },
     "metadata": {},
     "execution_count": 2
    }
   ],
   "source": [
    "df_train.head(10)"
   ]
  },
  {
   "cell_type": "code",
   "execution_count": 3,
   "metadata": {},
   "outputs": [
    {
     "output_type": "execute_result",
     "data": {
      "text/plain": [
       "['ZHIWU',\n",
       " 'GRJCJS',\n",
       " 'GRZHYE',\n",
       " 'GRZHSNJZYE',\n",
       " 'GRZHDNGJYE',\n",
       " 'GRYJCE',\n",
       " 'DWYJCE',\n",
       " 'DKFFE',\n",
       " 'DKYE',\n",
       " 'DKLL',\n",
       " 'age']"
      ]
     },
     "metadata": {},
     "execution_count": 3
    }
   ],
   "source": [
    "cate_feat = ['XINGBIE', 'HYZK', 'ZHIYE', 'ZHICHEN', 'XUELI', 'DWJJLX', 'DWSSHY', 'GRZHZT']\n",
    "all_feat = list(df_train.columns)\n",
    "all_feat.remove('id')\n",
    "all_feat.remove('label')\n",
    "cont_feat = all_feat\n",
    "for item in cate_feat:\n",
    "    cont_feat.remove(item)\n",
    "cont_feat"
   ]
  },
  {
   "cell_type": "code",
   "execution_count": 4,
   "metadata": {},
   "outputs": [],
   "source": [
    "# 构建特征和标签\n",
    "y_train = df_train['label']\n",
    "X_train = df_train.drop(['id', 'label'], axis=1)\n",
    "X_test = df_test.drop(['id'], axis=1)"
   ]
  },
  {
   "source": [
    "# 使用LGBM进行建模\n",
    "特征就使用最原始的特征. 训练和验证方式K-折交叉验证"
   ],
   "cell_type": "markdown",
   "metadata": {}
  },
  {
   "cell_type": "code",
   "execution_count": 8,
   "metadata": {},
   "outputs": [
    {
     "output_type": "stream",
     "name": "stdout",
     "text": [
      "fold n°0\n",
      "trn_idx: [ 7984  7985  7986 ... 39997 39998 39999]\n",
      "val_idx: [   0    1    2 ... 8249 8282 8288]\n",
      "Training until validation scores don't improve for 200 rounds\n",
      "Early stopping, best iteration is:\n",
      "[174]\ttraining's auc: 0.994789\tvalid_1's auc: 0.941945\n",
      "fold n°1\n",
      "trn_idx: [    0     1     2 ... 39997 39998 39999]\n",
      "val_idx: [ 7984  7985  7986 ... 15997 15998 15999]\n",
      "Training until validation scores don't improve for 200 rounds\n",
      "Early stopping, best iteration is:\n",
      "[247]\ttraining's auc: 0.998126\tvalid_1's auc: 0.939837\n",
      "fold n°2\n",
      "trn_idx: [    0     1     2 ... 39997 39998 39999]\n",
      "val_idx: [16000 16001 16002 ... 24382 24393 24455]\n",
      "Training until validation scores don't improve for 200 rounds\n",
      "[500]\ttraining's auc: 0.999995\tvalid_1's auc: 0.922317\n",
      "Early stopping, best iteration is:\n",
      "[300]\ttraining's auc: 0.999459\tvalid_1's auc: 0.925363\n",
      "fold n°3\n",
      "trn_idx: [    0     1     2 ... 39997 39998 39999]\n",
      "val_idx: [23964 23965 23966 ... 32011 32014 32019]\n",
      "Training until validation scores don't improve for 200 rounds\n",
      "Early stopping, best iteration is:\n",
      "[221]\ttraining's auc: 0.997962\tvalid_1's auc: 0.924213\n",
      "fold n°4\n",
      "trn_idx: [    0     1     2 ... 32011 32014 32019]\n",
      "val_idx: [31996 31997 31998 ... 39997 39998 39999]\n",
      "Training until validation scores don't improve for 200 rounds\n",
      "Early stopping, best iteration is:\n",
      "[168]\ttraining's auc: 0.995063\tvalid_1's auc: 0.928559\n",
      "AUC score: 0.9313253112607276\n",
      "TPR weight: 0.45433442147261516\n"
     ]
    }
   ],
   "source": [
    "import lightgbm as lgb\n",
    "import numpy as np\n",
    "from tqdm import tqdm\n",
    "from sklearn.model_selection import StratifiedKFold\n",
    "from sklearn.metrics import roc_auc_score\n",
    "\n",
    "KF = StratifiedKFold(n_splits=5, random_state=723)\n",
    "params = {\n",
    "    'verbose':-1, \n",
    "    'objective':'binary',\n",
    "    'metric':'auc',\n",
    "    'num_iterations': 10000, \n",
    "    'is_unbalance': True,\n",
    "}\n",
    "\n",
    "\n",
    "oof_lgb = np.zeros(len(X_train))\n",
    "predictions_lgb = np.zeros((len(X_test)))\n",
    "\n",
    "for fold_, (trn_idx, val_idx) in enumerate(KF.split(X_train.values, y_train.values)):\n",
    "    print(\"fold n°{}\".format(fold_))\n",
    "    print('trn_idx:',trn_idx)\n",
    "    print('val_idx:',val_idx)\n",
    "    trn_data = lgb.Dataset(X_train.iloc[trn_idx],label=y_train.iloc[trn_idx])    \n",
    "    val_data = lgb.Dataset(X_train.iloc[val_idx],label=y_train.iloc[val_idx])\n",
    "    num_round = 10000\n",
    "    clf = lgb.train(\n",
    "        params,\n",
    "                    trn_data,\n",
    "                    num_round,\n",
    "                    valid_sets = [trn_data, val_data],\n",
    "                    verbose_eval=500,\n",
    "                    early_stopping_rounds=200,  \n",
    "        categorical_feature=cate_feat\n",
    "    )\n",
    "        \n",
    "    oof_lgb[val_idx] = clf.predict(X_train.iloc[val_idx], num_iteration=clf.best_iteration)\n",
    "    predictions_lgb[:] += clf.predict(X_test, num_iteration=clf.best_iteration) \n",
    "print(\"AUC score: {}\".format(roc_auc_score(y_train, oof_lgb)))\n",
    "print(\"TPR weight: {}\".format(evaluation(y_train, oof_lgb)))"
   ]
  },
  {
   "cell_type": "code",
   "execution_count": 9,
   "metadata": {},
   "outputs": [],
   "source": [
    "# 对测试集进行预测, 并得到提交文件\n",
    "res = predictions_lgb / 5\n",
    "submit(res)"
   ]
  },
  {
   "cell_type": "code",
   "execution_count": 7,
   "metadata": {},
   "outputs": [
    {
     "output_type": "execute_result",
     "data": {
      "text/plain": [
       "(15000,)"
      ]
     },
     "metadata": {},
     "execution_count": 7
    }
   ],
   "source": [
    "predictions_lgb.shape"
   ]
  },
  {
   "cell_type": "code",
   "execution_count": null,
   "metadata": {},
   "outputs": [],
   "source": []
  }
 ]
}