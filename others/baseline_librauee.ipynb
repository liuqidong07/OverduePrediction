{
 "cells": [
  {
   "cell_type": "code",
   "execution_count": 1,
   "metadata": {
    "collapsed": true
   },
   "outputs": [
    {
     "output_type": "execute_result",
     "data": {
      "text/plain": [
       "'\\n作者：librauee\\n微信公众号：老肥码码码\\n日期：2020.12.10\\n'"
      ]
     },
     "metadata": {},
     "execution_count": 1
    }
   ],
   "source": [
    "\"\"\"\n",
    "作者：librauee\n",
    "微信公众号：老肥码码码\n",
    "日期：2020.12.10\n",
    "\"\"\""
   ]
  },
  {
   "cell_type": "code",
   "execution_count": 1,
   "metadata": {
    "collapsed": true
   },
   "outputs": [],
   "source": [
    "import pandas as pd\n",
    "pd.set_option('max_columns', 300)\n",
    "from tqdm import tqdm\n",
    "import warnings\n",
    "import lightgbm as lgb\n",
    "import numpy as np\n",
    "from sklearn.model_selection import StratifiedKFold\n",
    "from sklearn.metrics import roc_auc_score\n",
    "\n",
    "warnings.filterwarnings('ignore')\n",
    "train = pd.read_csv('../data/train.csv')\n",
    "test = pd.read_csv('../data/test.csv')"
   ]
  },
  {
   "cell_type": "code",
   "execution_count": 2,
   "metadata": {},
   "outputs": [
    {
     "output_type": "stream",
     "name": "stderr",
     "text": [
      "5it [00:00, 27.39it/s]\n"
     ]
    }
   ],
   "source": [
    "# 目标编码\n",
    "def kfold_mean(df_train, df_test, target, target_mean_list):\n",
    "    folds = StratifiedKFold(n_splits=5)     #使用5折交叉验证.先获取了5折数据各自的索引\n",
    "\n",
    "    mean_of_target = df_train[target].mean()\n",
    "\n",
    "    for fold_, (trn_idx, val_idx) in tqdm(\n",
    "            enumerate(folds.split(df_train, y=df_train['label']))):\n",
    "        tr_x = df_train.iloc[trn_idx, :]\n",
    "        vl_x = df_train.iloc[val_idx, :]\n",
    "\n",
    "        for col in target_mean_list:\n",
    "            df_train.loc[vl_x.index, f'{col}_target_enc'] = vl_x[col].map(\n",
    "                tr_x.groupby(col)[target].mean())\n",
    "\n",
    "    for col in target_mean_list:\n",
    "        df_train[f'{col}_target_enc'].fillna(mean_of_target, inplace=True)\n",
    "\n",
    "        df_test[f'{col}_target_enc'] = df_test[col].map(\n",
    "            df_train.groupby(col)[f'{col}_target_enc'].mean())\n",
    "\n",
    "        df_test[f'{col}_target_enc'].fillna(mean_of_target, inplace=True)\n",
    "    return pd.concat([df_train, df_test], ignore_index=True)\n",
    "\n",
    "feature_list =  ['HYZK', 'ZHIYE', 'ZHICHEN', 'ZHIWU', 'XUELI', 'DWJJLX', 'DWSSHY', 'GRZHZT'\n",
    "                   ]\n",
    "data = pd.concat([train, test], ignore_index=True)\n",
    "data = kfold_mean(data[~data['label'].isna()], data[data['label'].isna()],\n",
    "                  'label',\n",
    "                  feature_list)"
   ]
  },
  {
   "cell_type": "code",
   "execution_count": 3,
   "metadata": {},
   "outputs": [
    {
     "output_type": "execute_result",
     "data": {
      "text/plain": [
       "        id  XINGBIE        CSNY  HYZK  ZHIYE  ZHICHEN  ZHIWU  XUELI  DWJJLX  \\\n",
       "0  train_0        1  1038672000    90     90      999      0     99     150   \n",
       "1  train_1        2   504892800    90     90      999      0     99     110   \n",
       "2  train_2        1   736185600    90     90      999      0     99     150   \n",
       "3  train_3        1   428515200    90     90      999      0     99     150   \n",
       "4  train_4        2   544204800    90     90      999      0     99     900   \n",
       "5  train_5        1   488995200    90     90      999      0     99     150   \n",
       "6  train_6        1   562694400    90     90      999      0     99     160   \n",
       "7  train_7        1  1091289600    90     90      999      0     99     150   \n",
       "8  train_8        2   615222000    90     90      999      0     99     150   \n",
       "9  train_9        2   454867200    90     90      999      0     99     150   \n",
       "\n",
       "   DWSSHY   GRJCJS  GRZHZT      GRZHYE  GRZHSNJZYE  GRZHDNGJYE   GRYJCE  \\\n",
       "0      12   1737.0       1    3223.515     801.310     837.000   312.00   \n",
       "1       0   4894.0       1   18055.195   53213.220    1065.200   795.84   \n",
       "2       9  10297.0       1   27426.600   13963.140    7230.020  1444.20   \n",
       "3       7  10071.5       1  111871.130   99701.265    2271.295  1417.14   \n",
       "4      14   2007.0       1     237.000   11028.875      35.780   325.50   \n",
       "5      14   1192.0       1    9648.315    7388.550     771.800   303.85   \n",
       "6       2   7297.0       1   22846.975   12179.565    5885.000   801.80   \n",
       "7       7   1399.0       1    1808.135    6405.055    1050.400   318.34   \n",
       "8       9   6408.0       1   79304.635   52365.820    6161.160   977.52   \n",
       "9      14   3573.5       1    2009.000   61126.175     536.750   637.38   \n",
       "\n",
       "    DWYJCE   DKFFE        DKYE   DKLL  label  HYZK_target_enc  \\\n",
       "0   312.00  175237  154112.935  2.708    0.0         0.068955   \n",
       "1   795.84  300237  298252.945  2.979    0.0         0.068955   \n",
       "2  1444.20  150237  147339.130  2.708    0.0         0.068955   \n",
       "3  1417.14  350237  300653.780  2.708    0.0         0.068955   \n",
       "4   325.50  150237  145185.010  2.708    0.0         0.068955   \n",
       "5   303.85  150237  149743.210  2.708    0.0         0.068955   \n",
       "6   801.80  150237  146723.725  2.708    0.0         0.068955   \n",
       "7   318.34  125237   64938.955  2.708    0.0         0.068955   \n",
       "8   977.52  300237  270579.955  2.979    0.0         0.068955   \n",
       "9   637.38  230237  142296.640  2.708    0.0         0.068955   \n",
       "\n",
       "   ZHIYE_target_enc  ZHICHEN_target_enc  ZHIWU_target_enc  XUELI_target_enc  \\\n",
       "0          0.068843            0.068681          0.068944          0.068944   \n",
       "1          0.068843            0.068681          0.068944          0.068944   \n",
       "2          0.068843            0.068681          0.068944          0.068944   \n",
       "3          0.068843            0.068681          0.068944          0.068944   \n",
       "4          0.068843            0.068681          0.068944          0.068944   \n",
       "5          0.068843            0.068681          0.068944          0.068944   \n",
       "6          0.068843            0.068681          0.068944          0.068944   \n",
       "7          0.068843            0.068681          0.068944          0.068944   \n",
       "8          0.068843            0.068681          0.068944          0.068944   \n",
       "9          0.068843            0.068681          0.068944          0.068944   \n",
       "\n",
       "   DWJJLX_target_enc  DWSSHY_target_enc  GRZHZT_target_enc  \n",
       "0           0.024447           0.061192           0.064913  \n",
       "1           0.093762           0.016744           0.064913  \n",
       "2           0.024447           0.044090           0.064913  \n",
       "3           0.024447           0.012766           0.064913  \n",
       "4           0.112285           0.077085           0.064913  \n",
       "5           0.024447           0.077085           0.064913  \n",
       "6           0.020433           0.023810           0.064913  \n",
       "7           0.024447           0.012766           0.064913  \n",
       "8           0.024447           0.044090           0.064913  \n",
       "9           0.024447           0.077085           0.064913  "
      ],
      "text/html": "<div>\n<style scoped>\n    .dataframe tbody tr th:only-of-type {\n        vertical-align: middle;\n    }\n\n    .dataframe tbody tr th {\n        vertical-align: top;\n    }\n\n    .dataframe thead th {\n        text-align: right;\n    }\n</style>\n<table border=\"1\" class=\"dataframe\">\n  <thead>\n    <tr style=\"text-align: right;\">\n      <th></th>\n      <th>id</th>\n      <th>XINGBIE</th>\n      <th>CSNY</th>\n      <th>HYZK</th>\n      <th>ZHIYE</th>\n      <th>ZHICHEN</th>\n      <th>ZHIWU</th>\n      <th>XUELI</th>\n      <th>DWJJLX</th>\n      <th>DWSSHY</th>\n      <th>GRJCJS</th>\n      <th>GRZHZT</th>\n      <th>GRZHYE</th>\n      <th>GRZHSNJZYE</th>\n      <th>GRZHDNGJYE</th>\n      <th>GRYJCE</th>\n      <th>DWYJCE</th>\n      <th>DKFFE</th>\n      <th>DKYE</th>\n      <th>DKLL</th>\n      <th>label</th>\n      <th>HYZK_target_enc</th>\n      <th>ZHIYE_target_enc</th>\n      <th>ZHICHEN_target_enc</th>\n      <th>ZHIWU_target_enc</th>\n      <th>XUELI_target_enc</th>\n      <th>DWJJLX_target_enc</th>\n      <th>DWSSHY_target_enc</th>\n      <th>GRZHZT_target_enc</th>\n    </tr>\n  </thead>\n  <tbody>\n    <tr>\n      <th>0</th>\n      <td>train_0</td>\n      <td>1</td>\n      <td>1038672000</td>\n      <td>90</td>\n      <td>90</td>\n      <td>999</td>\n      <td>0</td>\n      <td>99</td>\n      <td>150</td>\n      <td>12</td>\n      <td>1737.0</td>\n      <td>1</td>\n      <td>3223.515</td>\n      <td>801.310</td>\n      <td>837.000</td>\n      <td>312.00</td>\n      <td>312.00</td>\n      <td>175237</td>\n      <td>154112.935</td>\n      <td>2.708</td>\n      <td>0.0</td>\n      <td>0.068955</td>\n      <td>0.068843</td>\n      <td>0.068681</td>\n      <td>0.068944</td>\n      <td>0.068944</td>\n      <td>0.024447</td>\n      <td>0.061192</td>\n      <td>0.064913</td>\n    </tr>\n    <tr>\n      <th>1</th>\n      <td>train_1</td>\n      <td>2</td>\n      <td>504892800</td>\n      <td>90</td>\n      <td>90</td>\n      <td>999</td>\n      <td>0</td>\n      <td>99</td>\n      <td>110</td>\n      <td>0</td>\n      <td>4894.0</td>\n      <td>1</td>\n      <td>18055.195</td>\n      <td>53213.220</td>\n      <td>1065.200</td>\n      <td>795.84</td>\n      <td>795.84</td>\n      <td>300237</td>\n      <td>298252.945</td>\n      <td>2.979</td>\n      <td>0.0</td>\n      <td>0.068955</td>\n      <td>0.068843</td>\n      <td>0.068681</td>\n      <td>0.068944</td>\n      <td>0.068944</td>\n      <td>0.093762</td>\n      <td>0.016744</td>\n      <td>0.064913</td>\n    </tr>\n    <tr>\n      <th>2</th>\n      <td>train_2</td>\n      <td>1</td>\n      <td>736185600</td>\n      <td>90</td>\n      <td>90</td>\n      <td>999</td>\n      <td>0</td>\n      <td>99</td>\n      <td>150</td>\n      <td>9</td>\n      <td>10297.0</td>\n      <td>1</td>\n      <td>27426.600</td>\n      <td>13963.140</td>\n      <td>7230.020</td>\n      <td>1444.20</td>\n      <td>1444.20</td>\n      <td>150237</td>\n      <td>147339.130</td>\n      <td>2.708</td>\n      <td>0.0</td>\n      <td>0.068955</td>\n      <td>0.068843</td>\n      <td>0.068681</td>\n      <td>0.068944</td>\n      <td>0.068944</td>\n      <td>0.024447</td>\n      <td>0.044090</td>\n      <td>0.064913</td>\n    </tr>\n    <tr>\n      <th>3</th>\n      <td>train_3</td>\n      <td>1</td>\n      <td>428515200</td>\n      <td>90</td>\n      <td>90</td>\n      <td>999</td>\n      <td>0</td>\n      <td>99</td>\n      <td>150</td>\n      <td>7</td>\n      <td>10071.5</td>\n      <td>1</td>\n      <td>111871.130</td>\n      <td>99701.265</td>\n      <td>2271.295</td>\n      <td>1417.14</td>\n      <td>1417.14</td>\n      <td>350237</td>\n      <td>300653.780</td>\n      <td>2.708</td>\n      <td>0.0</td>\n      <td>0.068955</td>\n      <td>0.068843</td>\n      <td>0.068681</td>\n      <td>0.068944</td>\n      <td>0.068944</td>\n      <td>0.024447</td>\n      <td>0.012766</td>\n      <td>0.064913</td>\n    </tr>\n    <tr>\n      <th>4</th>\n      <td>train_4</td>\n      <td>2</td>\n      <td>544204800</td>\n      <td>90</td>\n      <td>90</td>\n      <td>999</td>\n      <td>0</td>\n      <td>99</td>\n      <td>900</td>\n      <td>14</td>\n      <td>2007.0</td>\n      <td>1</td>\n      <td>237.000</td>\n      <td>11028.875</td>\n      <td>35.780</td>\n      <td>325.50</td>\n      <td>325.50</td>\n      <td>150237</td>\n      <td>145185.010</td>\n      <td>2.708</td>\n      <td>0.0</td>\n      <td>0.068955</td>\n      <td>0.068843</td>\n      <td>0.068681</td>\n      <td>0.068944</td>\n      <td>0.068944</td>\n      <td>0.112285</td>\n      <td>0.077085</td>\n      <td>0.064913</td>\n    </tr>\n    <tr>\n      <th>5</th>\n      <td>train_5</td>\n      <td>1</td>\n      <td>488995200</td>\n      <td>90</td>\n      <td>90</td>\n      <td>999</td>\n      <td>0</td>\n      <td>99</td>\n      <td>150</td>\n      <td>14</td>\n      <td>1192.0</td>\n      <td>1</td>\n      <td>9648.315</td>\n      <td>7388.550</td>\n      <td>771.800</td>\n      <td>303.85</td>\n      <td>303.85</td>\n      <td>150237</td>\n      <td>149743.210</td>\n      <td>2.708</td>\n      <td>0.0</td>\n      <td>0.068955</td>\n      <td>0.068843</td>\n      <td>0.068681</td>\n      <td>0.068944</td>\n      <td>0.068944</td>\n      <td>0.024447</td>\n      <td>0.077085</td>\n      <td>0.064913</td>\n    </tr>\n    <tr>\n      <th>6</th>\n      <td>train_6</td>\n      <td>1</td>\n      <td>562694400</td>\n      <td>90</td>\n      <td>90</td>\n      <td>999</td>\n      <td>0</td>\n      <td>99</td>\n      <td>160</td>\n      <td>2</td>\n      <td>7297.0</td>\n      <td>1</td>\n      <td>22846.975</td>\n      <td>12179.565</td>\n      <td>5885.000</td>\n      <td>801.80</td>\n      <td>801.80</td>\n      <td>150237</td>\n      <td>146723.725</td>\n      <td>2.708</td>\n      <td>0.0</td>\n      <td>0.068955</td>\n      <td>0.068843</td>\n      <td>0.068681</td>\n      <td>0.068944</td>\n      <td>0.068944</td>\n      <td>0.020433</td>\n      <td>0.023810</td>\n      <td>0.064913</td>\n    </tr>\n    <tr>\n      <th>7</th>\n      <td>train_7</td>\n      <td>1</td>\n      <td>1091289600</td>\n      <td>90</td>\n      <td>90</td>\n      <td>999</td>\n      <td>0</td>\n      <td>99</td>\n      <td>150</td>\n      <td>7</td>\n      <td>1399.0</td>\n      <td>1</td>\n      <td>1808.135</td>\n      <td>6405.055</td>\n      <td>1050.400</td>\n      <td>318.34</td>\n      <td>318.34</td>\n      <td>125237</td>\n      <td>64938.955</td>\n      <td>2.708</td>\n      <td>0.0</td>\n      <td>0.068955</td>\n      <td>0.068843</td>\n      <td>0.068681</td>\n      <td>0.068944</td>\n      <td>0.068944</td>\n      <td>0.024447</td>\n      <td>0.012766</td>\n      <td>0.064913</td>\n    </tr>\n    <tr>\n      <th>8</th>\n      <td>train_8</td>\n      <td>2</td>\n      <td>615222000</td>\n      <td>90</td>\n      <td>90</td>\n      <td>999</td>\n      <td>0</td>\n      <td>99</td>\n      <td>150</td>\n      <td>9</td>\n      <td>6408.0</td>\n      <td>1</td>\n      <td>79304.635</td>\n      <td>52365.820</td>\n      <td>6161.160</td>\n      <td>977.52</td>\n      <td>977.52</td>\n      <td>300237</td>\n      <td>270579.955</td>\n      <td>2.979</td>\n      <td>0.0</td>\n      <td>0.068955</td>\n      <td>0.068843</td>\n      <td>0.068681</td>\n      <td>0.068944</td>\n      <td>0.068944</td>\n      <td>0.024447</td>\n      <td>0.044090</td>\n      <td>0.064913</td>\n    </tr>\n    <tr>\n      <th>9</th>\n      <td>train_9</td>\n      <td>2</td>\n      <td>454867200</td>\n      <td>90</td>\n      <td>90</td>\n      <td>999</td>\n      <td>0</td>\n      <td>99</td>\n      <td>150</td>\n      <td>14</td>\n      <td>3573.5</td>\n      <td>1</td>\n      <td>2009.000</td>\n      <td>61126.175</td>\n      <td>536.750</td>\n      <td>637.38</td>\n      <td>637.38</td>\n      <td>230237</td>\n      <td>142296.640</td>\n      <td>2.708</td>\n      <td>0.0</td>\n      <td>0.068955</td>\n      <td>0.068843</td>\n      <td>0.068681</td>\n      <td>0.068944</td>\n      <td>0.068944</td>\n      <td>0.024447</td>\n      <td>0.077085</td>\n      <td>0.064913</td>\n    </tr>\n  </tbody>\n</table>\n</div>"
     },
     "metadata": {},
     "execution_count": 3
    }
   ],
   "source": [
    "data.head(10)"
   ]
  },
  {
   "cell_type": "code",
   "execution_count": 4,
   "metadata": {
    "collapsed": true
   },
   "outputs": [],
   "source": [
    "# 频数统计\n",
    "cat_col = ['HYZK', 'ZHIYE', 'ZHICHEN', 'ZHIWU', 'XUELI', 'DWJJLX', 'DWSSHY', 'GRZHZT']\n",
    "for col in cat_col:\n",
    "    data[col + '_COUNT'] = data[col].map(data[col].value_counts())\n",
    "    col_idx = data[col].value_counts()\n",
    "    for idx in col_idx[col_idx < 10].index:\n",
    "        data[col] = data[col].replace(idx, -1)  "
   ]
  },
  {
   "cell_type": "code",
   "execution_count": 5,
   "metadata": {},
   "outputs": [],
   "source": [
    "# 偏离值特征\n",
    "group_list = ['HYZK', 'ZHIYE', 'ZHICHEN', 'ZHIWU', 'XUELI', 'DWJJLX', 'DWSSHY', 'GRZHZT']\n",
    "num_feature_list = ['GRYJCE', 'DKFFE', 'DKLL', 'DKYE', 'GRJCJS', 'GRZHSNJZYE', 'GRZHDNGJYE']                   \n",
    "for group in group_list:\n",
    "    for feature in num_feature_list:\n",
    "        tmp = data.groupby(group)[feature].agg([sum, min, max, np.mean]).reset_index()\n",
    "        tmp = pd.merge(data, tmp, on=group, how='left')\n",
    "        data['{}-mean_gb_{}'.format(feature, group)] = data[feature] - tmp['mean']\n",
    "        data['{}-min_gb_{}'.format(feature, group)] = data[feature] - tmp['min']\n",
    "        data['{}-max_gb_{}'.format(feature, group)] = data[feature] - tmp['max']\n",
    "        data['{}/sum_gb_{}'.format(feature, group)] = data[feature] / tmp['sum']  "
   ]
  },
  {
   "cell_type": "code",
   "execution_count": 6,
   "metadata": {},
   "outputs": [
    {
     "output_type": "execute_result",
     "data": {
      "text/plain": [
       "(55000, 261)"
      ]
     },
     "metadata": {},
     "execution_count": 6
    }
   ],
   "source": [
    "data.shape"
   ]
  },
  {
   "cell_type": "code",
   "execution_count": 7,
   "metadata": {
    "collapsed": true
   },
   "outputs": [],
   "source": [
    "X_train, X_test = data[~data['label'].isna()], data[data['label'].isna()]\n",
    "y = X_train['label']\n",
    "drop_features = ['label', 'id', 'CSNY']\n",
    "\n",
    "X_train = X_train.drop(drop_features, axis=1)\n",
    "X_test = X_test.drop(drop_features, axis=1)\n",
    "\n",
    "cat_col = ['HYZK', 'ZHIYE', 'ZHICHEN', 'ZHIWU', 'XUELI', 'DWJJLX', 'DWSSHY', 'GRZHZT']\n",
    "X_train[cat_col] = X_train[cat_col].astype('category')\n",
    "X_test[cat_col] = X_test[cat_col].astype('category')"
   ]
  },
  {
   "cell_type": "code",
   "execution_count": 8,
   "metadata": {
    "collapsed": true
   },
   "outputs": [],
   "source": [
    "# 评价指标\n",
    "def tpr_weight_funtion(y_true,y_predict):\n",
    "\n",
    "    d = pd.DataFrame()\n",
    "    d['prob'] = list(y_predict)\n",
    "    d['y'] = list(y_true)\n",
    "    d = d.sort_values(['prob'], ascending=[0])\n",
    "    y = d.y\n",
    "    PosAll = pd.Series(y).value_counts()[1]\n",
    "    NegAll = pd.Series(y).value_counts()[0]\n",
    "    pCumsum = d['y'].cumsum()\n",
    "    nCumsum = np.arange(len(y)) - pCumsum + 1\n",
    "    pCumsumPer = pCumsum / PosAll\n",
    "    nCumsumPer = nCumsum / NegAll\n",
    "    TR1 = pCumsumPer[abs(nCumsumPer-0.001).idxmin()]\n",
    "    TR2 = pCumsumPer[abs(nCumsumPer-0.005).idxmin()]\n",
    "    TR3 = pCumsumPer[abs(nCumsumPer-0.01).idxmin()]\n",
    "    return 0.4 * TR1 + 0.3 * TR2 + 0.3 * TR3"
   ]
  },
  {
   "cell_type": "code",
   "execution_count": 9,
   "metadata": {},
   "outputs": [
    {
     "output_type": "error",
     "ename": "ValueError",
     "evalue": "Setting a random_state has no effect since shuffle is False. You should leave random_state to its default (None), or set shuffle=True.",
     "traceback": [
      "\u001b[0;31m---------------------------------------------------------------------------\u001b[0m",
      "\u001b[0;31mValueError\u001b[0m                                Traceback (most recent call last)",
      "\u001b[0;32m<ipython-input-9-57aa3b292404>\u001b[0m in \u001b[0;36m<module>\u001b[0;34m\u001b[0m\n\u001b[1;32m      1\u001b[0m \u001b[0;31m# 训练&预测\u001b[0m\u001b[0;34m\u001b[0m\u001b[0;34m\u001b[0m\u001b[0;34m\u001b[0m\u001b[0m\n\u001b[0;32m----> 2\u001b[0;31m \u001b[0mKF\u001b[0m \u001b[0;34m=\u001b[0m \u001b[0mStratifiedKFold\u001b[0m\u001b[0;34m(\u001b[0m\u001b[0mn_splits\u001b[0m\u001b[0;34m=\u001b[0m\u001b[0;36m5\u001b[0m\u001b[0;34m,\u001b[0m \u001b[0mrandom_state\u001b[0m\u001b[0;34m=\u001b[0m\u001b[0;36m723\u001b[0m\u001b[0;34m)\u001b[0m\u001b[0;34m\u001b[0m\u001b[0;34m\u001b[0m\u001b[0m\n\u001b[0m\u001b[1;32m      3\u001b[0m params = {\n\u001b[1;32m      4\u001b[0m     \u001b[0;34m'verbose'\u001b[0m\u001b[0;34m:\u001b[0m\u001b[0;34m-\u001b[0m\u001b[0;36m1\u001b[0m\u001b[0;34m,\u001b[0m\u001b[0;34m\u001b[0m\u001b[0;34m\u001b[0m\u001b[0m\n\u001b[1;32m      5\u001b[0m     \u001b[0;34m'objective'\u001b[0m\u001b[0;34m:\u001b[0m\u001b[0;34m'binary'\u001b[0m\u001b[0;34m,\u001b[0m\u001b[0;34m\u001b[0m\u001b[0;34m\u001b[0m\u001b[0m\n",
      "\u001b[0;32m/opt/conda/envs/competition/lib/python3.7/site-packages/sklearn/utils/validation.py\u001b[0m in \u001b[0;36minner_f\u001b[0;34m(*args, **kwargs)\u001b[0m\n\u001b[1;32m     61\u001b[0m             \u001b[0mextra_args\u001b[0m \u001b[0;34m=\u001b[0m \u001b[0mlen\u001b[0m\u001b[0;34m(\u001b[0m\u001b[0margs\u001b[0m\u001b[0;34m)\u001b[0m \u001b[0;34m-\u001b[0m \u001b[0mlen\u001b[0m\u001b[0;34m(\u001b[0m\u001b[0mall_args\u001b[0m\u001b[0;34m)\u001b[0m\u001b[0;34m\u001b[0m\u001b[0;34m\u001b[0m\u001b[0m\n\u001b[1;32m     62\u001b[0m             \u001b[0;32mif\u001b[0m \u001b[0mextra_args\u001b[0m \u001b[0;34m<=\u001b[0m \u001b[0;36m0\u001b[0m\u001b[0;34m:\u001b[0m\u001b[0;34m\u001b[0m\u001b[0;34m\u001b[0m\u001b[0m\n\u001b[0;32m---> 63\u001b[0;31m                 \u001b[0;32mreturn\u001b[0m \u001b[0mf\u001b[0m\u001b[0;34m(\u001b[0m\u001b[0;34m*\u001b[0m\u001b[0margs\u001b[0m\u001b[0;34m,\u001b[0m \u001b[0;34m**\u001b[0m\u001b[0mkwargs\u001b[0m\u001b[0;34m)\u001b[0m\u001b[0;34m\u001b[0m\u001b[0;34m\u001b[0m\u001b[0m\n\u001b[0m\u001b[1;32m     64\u001b[0m \u001b[0;34m\u001b[0m\u001b[0m\n\u001b[1;32m     65\u001b[0m             \u001b[0;31m# extra_args > 0\u001b[0m\u001b[0;34m\u001b[0m\u001b[0;34m\u001b[0m\u001b[0;34m\u001b[0m\u001b[0m\n",
      "\u001b[0;32m/opt/conda/envs/competition/lib/python3.7/site-packages/sklearn/model_selection/_split.py\u001b[0m in \u001b[0;36m__init__\u001b[0;34m(self, n_splits, shuffle, random_state)\u001b[0m\n\u001b[1;32m    635\u001b[0m     \u001b[0;32mdef\u001b[0m \u001b[0m__init__\u001b[0m\u001b[0;34m(\u001b[0m\u001b[0mself\u001b[0m\u001b[0;34m,\u001b[0m \u001b[0mn_splits\u001b[0m\u001b[0;34m=\u001b[0m\u001b[0;36m5\u001b[0m\u001b[0;34m,\u001b[0m \u001b[0;34m*\u001b[0m\u001b[0;34m,\u001b[0m \u001b[0mshuffle\u001b[0m\u001b[0;34m=\u001b[0m\u001b[0;32mFalse\u001b[0m\u001b[0;34m,\u001b[0m \u001b[0mrandom_state\u001b[0m\u001b[0;34m=\u001b[0m\u001b[0;32mNone\u001b[0m\u001b[0;34m)\u001b[0m\u001b[0;34m:\u001b[0m\u001b[0;34m\u001b[0m\u001b[0;34m\u001b[0m\u001b[0m\n\u001b[1;32m    636\u001b[0m         super().__init__(n_splits=n_splits, shuffle=shuffle,\n\u001b[0;32m--> 637\u001b[0;31m                          random_state=random_state)\n\u001b[0m\u001b[1;32m    638\u001b[0m \u001b[0;34m\u001b[0m\u001b[0m\n\u001b[1;32m    639\u001b[0m     \u001b[0;32mdef\u001b[0m \u001b[0m_make_test_folds\u001b[0m\u001b[0;34m(\u001b[0m\u001b[0mself\u001b[0m\u001b[0;34m,\u001b[0m \u001b[0mX\u001b[0m\u001b[0;34m,\u001b[0m \u001b[0my\u001b[0m\u001b[0;34m=\u001b[0m\u001b[0;32mNone\u001b[0m\u001b[0;34m)\u001b[0m\u001b[0;34m:\u001b[0m\u001b[0;34m\u001b[0m\u001b[0;34m\u001b[0m\u001b[0m\n",
      "\u001b[0;32m/opt/conda/envs/competition/lib/python3.7/site-packages/sklearn/utils/validation.py\u001b[0m in \u001b[0;36minner_f\u001b[0;34m(*args, **kwargs)\u001b[0m\n\u001b[1;32m     61\u001b[0m             \u001b[0mextra_args\u001b[0m \u001b[0;34m=\u001b[0m \u001b[0mlen\u001b[0m\u001b[0;34m(\u001b[0m\u001b[0margs\u001b[0m\u001b[0;34m)\u001b[0m \u001b[0;34m-\u001b[0m \u001b[0mlen\u001b[0m\u001b[0;34m(\u001b[0m\u001b[0mall_args\u001b[0m\u001b[0;34m)\u001b[0m\u001b[0;34m\u001b[0m\u001b[0;34m\u001b[0m\u001b[0m\n\u001b[1;32m     62\u001b[0m             \u001b[0;32mif\u001b[0m \u001b[0mextra_args\u001b[0m \u001b[0;34m<=\u001b[0m \u001b[0;36m0\u001b[0m\u001b[0;34m:\u001b[0m\u001b[0;34m\u001b[0m\u001b[0;34m\u001b[0m\u001b[0m\n\u001b[0;32m---> 63\u001b[0;31m                 \u001b[0;32mreturn\u001b[0m \u001b[0mf\u001b[0m\u001b[0;34m(\u001b[0m\u001b[0;34m*\u001b[0m\u001b[0margs\u001b[0m\u001b[0;34m,\u001b[0m \u001b[0;34m**\u001b[0m\u001b[0mkwargs\u001b[0m\u001b[0;34m)\u001b[0m\u001b[0;34m\u001b[0m\u001b[0;34m\u001b[0m\u001b[0m\n\u001b[0m\u001b[1;32m     64\u001b[0m \u001b[0;34m\u001b[0m\u001b[0m\n\u001b[1;32m     65\u001b[0m             \u001b[0;31m# extra_args > 0\u001b[0m\u001b[0;34m\u001b[0m\u001b[0;34m\u001b[0m\u001b[0;34m\u001b[0m\u001b[0m\n",
      "\u001b[0;32m/opt/conda/envs/competition/lib/python3.7/site-packages/sklearn/model_selection/_split.py\u001b[0m in \u001b[0;36m__init__\u001b[0;34m(self, n_splits, shuffle, random_state)\u001b[0m\n\u001b[1;32m    289\u001b[0m         \u001b[0;32mif\u001b[0m \u001b[0;32mnot\u001b[0m \u001b[0mshuffle\u001b[0m \u001b[0;32mand\u001b[0m \u001b[0mrandom_state\u001b[0m \u001b[0;32mis\u001b[0m \u001b[0;32mnot\u001b[0m \u001b[0;32mNone\u001b[0m\u001b[0;34m:\u001b[0m  \u001b[0;31m# None is the default\u001b[0m\u001b[0;34m\u001b[0m\u001b[0;34m\u001b[0m\u001b[0m\n\u001b[1;32m    290\u001b[0m             raise ValueError(\n\u001b[0;32m--> 291\u001b[0;31m                 \u001b[0;34m'Setting a random_state has no effect since shuffle is '\u001b[0m\u001b[0;34m\u001b[0m\u001b[0;34m\u001b[0m\u001b[0m\n\u001b[0m\u001b[1;32m    292\u001b[0m                 \u001b[0;34m'False. You should leave '\u001b[0m\u001b[0;34m\u001b[0m\u001b[0;34m\u001b[0m\u001b[0m\n\u001b[1;32m    293\u001b[0m                 \u001b[0;34m'random_state to its default (None), or set shuffle=True.'\u001b[0m\u001b[0;34m,\u001b[0m\u001b[0;34m\u001b[0m\u001b[0;34m\u001b[0m\u001b[0m\n",
      "\u001b[0;31mValueError\u001b[0m: Setting a random_state has no effect since shuffle is False. You should leave random_state to its default (None), or set shuffle=True."
     ]
    }
   ],
   "source": [
    "# 训练&预测\n",
    "KF = StratifiedKFold(n_splits=5, random_state=723)\n",
    "params = {\n",
    "    'verbose':-1, \n",
    "    'objective':'binary',\n",
    "    'metric':'auc',\n",
    "    'num_iterations': 10000, \n",
    "}\n",
    "\n",
    "\n",
    "oof_lgb = np.zeros(len(X_train))\n",
    "predictions_lgb = np.zeros((len(X_test)))\n",
    "\n",
    "for fold_, (trn_idx, val_idx) in enumerate(KF.split(X_train.values, y.values)):\n",
    "    print(\"fold n°{}\".format(fold_))\n",
    "    print('trn_idx:',trn_idx)\n",
    "    print('val_idx:',val_idx)\n",
    "    trn_data = lgb.Dataset(X_train.iloc[trn_idx],label=y.iloc[trn_idx])    \n",
    "    val_data = lgb.Dataset(X_train.iloc[val_idx],label=y.iloc[val_idx])\n",
    "    num_round = 10000\n",
    "    clf = lgb.train(\n",
    "        params,\n",
    "                    trn_data,\n",
    "                    num_round,\n",
    "                    valid_sets = [trn_data, val_data],\n",
    "                    verbose_eval=500,\n",
    "                    early_stopping_rounds=200,  \n",
    "        categorical_feature=cat_col\n",
    "    )\n",
    "        \n",
    "    oof_lgb[val_idx] = clf.predict(X_train.iloc[val_idx], num_iteration=clf.best_iteration)\n",
    "    predictions_lgb[:] += clf.predict(X_test, num_iteration=clf.best_iteration) \n",
    "print(\"AUC score: {}\".format(roc_auc_score(y, oof_lgb)))\n",
    "print(\"TPR weight: {}\".format(tpr_weight_funtion(y, oof_lgb)))"
   ]
  },
  {
   "cell_type": "code",
   "execution_count": 11,
   "metadata": {},
   "outputs": [],
   "source": [
    "submit = pd.read_csv('./data/submit.csv')\n",
    "submit['label'] = predictions_lgb / 5\n",
    "submit.to_csv('submit_baseline.csv', index=False)"
   ]
  },
  {
   "cell_type": "code",
   "execution_count": null,
   "metadata": {
    "collapsed": true
   },
   "outputs": [],
   "source": []
  }
 ],
 "metadata": {
  "kernelspec": {
   "display_name": "Python 3.7.9 64-bit ('competition': conda)",
   "language": "python",
   "name": "python37964bitcompetitioncondaa46aeb5e8fc44f608f7f17f1027e4583"
  },
  "language_info": {
   "codemirror_mode": {
    "name": "ipython",
    "version": 3
   },
   "file_extension": ".py",
   "mimetype": "text/x-python",
   "name": "python",
   "nbconvert_exporter": "python",
   "pygments_lexer": "ipython3",
   "version": "3.7.9-final"
  }
 },
 "nbformat": 4,
 "nbformat_minor": 2
}