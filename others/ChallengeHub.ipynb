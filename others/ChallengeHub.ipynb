{
 "cells": [
  {
   "cell_type": "code",
   "execution_count": 3,
   "metadata": {},
   "outputs": [],
   "source": [
    "# -*- coding: utf-8 -*-\n",
    "\"\"\"\n",
    "@author: lrhao\n",
    "@software: jupyter\n",
    "@file: baseline.ipynb\n",
    "@time: 2020-12-11\n",
    "@description：\n",
    "\"\"\"\n",
    "import pandas as pd\n",
    "import numpy as np\n",
    "from tqdm import tqdm\n",
    "import os\n",
    "import matplotlib.pyplot as plt\n",
    "import seaborn as sns"
   ]
  },
  {
   "cell_type": "code",
   "execution_count": 4,
   "metadata": {},
   "outputs": [
    {
     "output_type": "execute_result",
     "data": {
      "text/plain": [
       "((40000, 21), (15000, 20), (15000, 2))"
      ]
     },
     "metadata": {},
     "execution_count": 4
    }
   ],
   "source": [
    "train = pd.read_csv('../data/train.csv')\n",
    "test = pd.read_csv('../data/test.csv')\n",
    "submit = pd.read_csv('../data/submit.csv')\n",
    "train.shape, test.shape, submit.shape"
   ]
  },
  {
   "cell_type": "code",
   "execution_count": 5,
   "metadata": {},
   "outputs": [
    {
     "output_type": "execute_result",
     "data": {
      "text/plain": [
       "        id  XINGBIE        CSNY  HYZK  ZHIYE  ZHICHEN  ZHIWU  XUELI  DWJJLX  \\\n",
       "0  train_0        1  1038672000    90     90      999      0     99     150   \n",
       "1  train_1        2   504892800    90     90      999      0     99     110   \n",
       "2  train_2        1   736185600    90     90      999      0     99     150   \n",
       "3  train_3        1   428515200    90     90      999      0     99     150   \n",
       "4  train_4        2   544204800    90     90      999      0     99     900   \n",
       "\n",
       "   DWSSHY  ...  GRZHZT      GRZHYE  GRZHSNJZYE  GRZHDNGJYE   GRYJCE   DWYJCE  \\\n",
       "0      12  ...       1    3223.515     801.310     837.000   312.00   312.00   \n",
       "1       0  ...       1   18055.195   53213.220    1065.200   795.84   795.84   \n",
       "2       9  ...       1   27426.600   13963.140    7230.020  1444.20  1444.20   \n",
       "3       7  ...       1  111871.130   99701.265    2271.295  1417.14  1417.14   \n",
       "4      14  ...       1     237.000   11028.875      35.780   325.50   325.50   \n",
       "\n",
       "    DKFFE        DKYE   DKLL  label  \n",
       "0  175237  154112.935  2.708      0  \n",
       "1  300237  298252.945  2.979      0  \n",
       "2  150237  147339.130  2.708      0  \n",
       "3  350237  300653.780  2.708      0  \n",
       "4  150237  145185.010  2.708      0  \n",
       "\n",
       "[5 rows x 21 columns]"
      ],
      "text/html": "<div>\n<style scoped>\n    .dataframe tbody tr th:only-of-type {\n        vertical-align: middle;\n    }\n\n    .dataframe tbody tr th {\n        vertical-align: top;\n    }\n\n    .dataframe thead th {\n        text-align: right;\n    }\n</style>\n<table border=\"1\" class=\"dataframe\">\n  <thead>\n    <tr style=\"text-align: right;\">\n      <th></th>\n      <th>id</th>\n      <th>XINGBIE</th>\n      <th>CSNY</th>\n      <th>HYZK</th>\n      <th>ZHIYE</th>\n      <th>ZHICHEN</th>\n      <th>ZHIWU</th>\n      <th>XUELI</th>\n      <th>DWJJLX</th>\n      <th>DWSSHY</th>\n      <th>...</th>\n      <th>GRZHZT</th>\n      <th>GRZHYE</th>\n      <th>GRZHSNJZYE</th>\n      <th>GRZHDNGJYE</th>\n      <th>GRYJCE</th>\n      <th>DWYJCE</th>\n      <th>DKFFE</th>\n      <th>DKYE</th>\n      <th>DKLL</th>\n      <th>label</th>\n    </tr>\n  </thead>\n  <tbody>\n    <tr>\n      <th>0</th>\n      <td>train_0</td>\n      <td>1</td>\n      <td>1038672000</td>\n      <td>90</td>\n      <td>90</td>\n      <td>999</td>\n      <td>0</td>\n      <td>99</td>\n      <td>150</td>\n      <td>12</td>\n      <td>...</td>\n      <td>1</td>\n      <td>3223.515</td>\n      <td>801.310</td>\n      <td>837.000</td>\n      <td>312.00</td>\n      <td>312.00</td>\n      <td>175237</td>\n      <td>154112.935</td>\n      <td>2.708</td>\n      <td>0</td>\n    </tr>\n    <tr>\n      <th>1</th>\n      <td>train_1</td>\n      <td>2</td>\n      <td>504892800</td>\n      <td>90</td>\n      <td>90</td>\n      <td>999</td>\n      <td>0</td>\n      <td>99</td>\n      <td>110</td>\n      <td>0</td>\n      <td>...</td>\n      <td>1</td>\n      <td>18055.195</td>\n      <td>53213.220</td>\n      <td>1065.200</td>\n      <td>795.84</td>\n      <td>795.84</td>\n      <td>300237</td>\n      <td>298252.945</td>\n      <td>2.979</td>\n      <td>0</td>\n    </tr>\n    <tr>\n      <th>2</th>\n      <td>train_2</td>\n      <td>1</td>\n      <td>736185600</td>\n      <td>90</td>\n      <td>90</td>\n      <td>999</td>\n      <td>0</td>\n      <td>99</td>\n      <td>150</td>\n      <td>9</td>\n      <td>...</td>\n      <td>1</td>\n      <td>27426.600</td>\n      <td>13963.140</td>\n      <td>7230.020</td>\n      <td>1444.20</td>\n      <td>1444.20</td>\n      <td>150237</td>\n      <td>147339.130</td>\n      <td>2.708</td>\n      <td>0</td>\n    </tr>\n    <tr>\n      <th>3</th>\n      <td>train_3</td>\n      <td>1</td>\n      <td>428515200</td>\n      <td>90</td>\n      <td>90</td>\n      <td>999</td>\n      <td>0</td>\n      <td>99</td>\n      <td>150</td>\n      <td>7</td>\n      <td>...</td>\n      <td>1</td>\n      <td>111871.130</td>\n      <td>99701.265</td>\n      <td>2271.295</td>\n      <td>1417.14</td>\n      <td>1417.14</td>\n      <td>350237</td>\n      <td>300653.780</td>\n      <td>2.708</td>\n      <td>0</td>\n    </tr>\n    <tr>\n      <th>4</th>\n      <td>train_4</td>\n      <td>2</td>\n      <td>544204800</td>\n      <td>90</td>\n      <td>90</td>\n      <td>999</td>\n      <td>0</td>\n      <td>99</td>\n      <td>900</td>\n      <td>14</td>\n      <td>...</td>\n      <td>1</td>\n      <td>237.000</td>\n      <td>11028.875</td>\n      <td>35.780</td>\n      <td>325.50</td>\n      <td>325.50</td>\n      <td>150237</td>\n      <td>145185.010</td>\n      <td>2.708</td>\n      <td>0</td>\n    </tr>\n  </tbody>\n</table>\n<p>5 rows × 21 columns</p>\n</div>"
     },
     "metadata": {},
     "execution_count": 5
    }
   ],
   "source": [
    "train.head()"
   ]
  },
  {
   "cell_type": "code",
   "execution_count": 6,
   "metadata": {},
   "outputs": [
    {
     "output_type": "execute_result",
     "data": {
      "text/plain": [
       "       HYZK  ZHIYE  ZHICHEN  DWJJLX  DWSSHY  GRZHZT\n",
       "0        90     90      999     150      12       1\n",
       "1        90     90      999     110       0       1\n",
       "2        90     90      999     150       9       1\n",
       "3        90     90      999     150       7       1\n",
       "4        90     90      999     900      14       1\n",
       "...     ...    ...      ...     ...     ...     ...\n",
       "39995    90     90      999     110      16       1\n",
       "39996    90     90      999     110      14       1\n",
       "39997    90     90      999     143       9       1\n",
       "39998    90     90      999     150       6       1\n",
       "39999    90     90      999     110      14       1\n",
       "\n",
       "[40000 rows x 6 columns]"
      ],
      "text/html": "<div>\n<style scoped>\n    .dataframe tbody tr th:only-of-type {\n        vertical-align: middle;\n    }\n\n    .dataframe tbody tr th {\n        vertical-align: top;\n    }\n\n    .dataframe thead th {\n        text-align: right;\n    }\n</style>\n<table border=\"1\" class=\"dataframe\">\n  <thead>\n    <tr style=\"text-align: right;\">\n      <th></th>\n      <th>HYZK</th>\n      <th>ZHIYE</th>\n      <th>ZHICHEN</th>\n      <th>DWJJLX</th>\n      <th>DWSSHY</th>\n      <th>GRZHZT</th>\n    </tr>\n  </thead>\n  <tbody>\n    <tr>\n      <th>0</th>\n      <td>90</td>\n      <td>90</td>\n      <td>999</td>\n      <td>150</td>\n      <td>12</td>\n      <td>1</td>\n    </tr>\n    <tr>\n      <th>1</th>\n      <td>90</td>\n      <td>90</td>\n      <td>999</td>\n      <td>110</td>\n      <td>0</td>\n      <td>1</td>\n    </tr>\n    <tr>\n      <th>2</th>\n      <td>90</td>\n      <td>90</td>\n      <td>999</td>\n      <td>150</td>\n      <td>9</td>\n      <td>1</td>\n    </tr>\n    <tr>\n      <th>3</th>\n      <td>90</td>\n      <td>90</td>\n      <td>999</td>\n      <td>150</td>\n      <td>7</td>\n      <td>1</td>\n    </tr>\n    <tr>\n      <th>4</th>\n      <td>90</td>\n      <td>90</td>\n      <td>999</td>\n      <td>900</td>\n      <td>14</td>\n      <td>1</td>\n    </tr>\n    <tr>\n      <th>...</th>\n      <td>...</td>\n      <td>...</td>\n      <td>...</td>\n      <td>...</td>\n      <td>...</td>\n      <td>...</td>\n    </tr>\n    <tr>\n      <th>39995</th>\n      <td>90</td>\n      <td>90</td>\n      <td>999</td>\n      <td>110</td>\n      <td>16</td>\n      <td>1</td>\n    </tr>\n    <tr>\n      <th>39996</th>\n      <td>90</td>\n      <td>90</td>\n      <td>999</td>\n      <td>110</td>\n      <td>14</td>\n      <td>1</td>\n    </tr>\n    <tr>\n      <th>39997</th>\n      <td>90</td>\n      <td>90</td>\n      <td>999</td>\n      <td>143</td>\n      <td>9</td>\n      <td>1</td>\n    </tr>\n    <tr>\n      <th>39998</th>\n      <td>90</td>\n      <td>90</td>\n      <td>999</td>\n      <td>150</td>\n      <td>6</td>\n      <td>1</td>\n    </tr>\n    <tr>\n      <th>39999</th>\n      <td>90</td>\n      <td>90</td>\n      <td>999</td>\n      <td>110</td>\n      <td>14</td>\n      <td>1</td>\n    </tr>\n  </tbody>\n</table>\n<p>40000 rows × 6 columns</p>\n</div>"
     },
     "metadata": {},
     "execution_count": 6
    }
   ],
   "source": [
    "cate_2_cols = ['XINGBIE', 'ZHIWU', 'XUELI']\n",
    "cate_cols = ['HYZK', 'ZHIYE', 'ZHICHEN', 'DWJJLX', 'DWSSHY', 'GRZHZT']\n",
    "train[cate_cols]"
   ]
  },
  {
   "cell_type": "code",
   "execution_count": 7,
   "metadata": {
    "scrolled": false
   },
   "outputs": [
    {
     "output_type": "execute_result",
     "data": {
      "text/plain": [
       "        GRJCJS      GRZHYE  GRZHSNJZYE  GRZHDNGJYE   GRYJCE   DWYJCE   DKFFE  \\\n",
       "0       1737.0    3223.515     801.310     837.000   312.00   312.00  175237   \n",
       "1       4894.0   18055.195   53213.220    1065.200   795.84   795.84  300237   \n",
       "2      10297.0   27426.600   13963.140    7230.020  1444.20  1444.20  150237   \n",
       "3      10071.5  111871.130   99701.265    2271.295  1417.14  1417.14  350237   \n",
       "4       2007.0     237.000   11028.875      35.780   325.50   325.50  150237   \n",
       "...        ...         ...         ...         ...      ...      ...     ...   \n",
       "39995   3185.0   82865.575   65304.370    4026.600   590.76   590.76  150237   \n",
       "39996   1660.5   32811.585   27065.150    1603.560   407.82   407.82  300237   \n",
       "39997   3923.0    8875.695    1309.890    3185.800   605.60   605.60  175237   \n",
       "39998   3527.0    2079.400     252.875    1614.490   467.30   467.30  125237   \n",
       "39999   4934.5   26210.635   27266.080   -4994.610   800.70   800.70  300237   \n",
       "\n",
       "             DKYE   DKLL  \n",
       "0      154112.935  2.708  \n",
       "1      298252.945  2.979  \n",
       "2      147339.130  2.708  \n",
       "3      300653.780  2.708  \n",
       "4      145185.010  2.708  \n",
       "...           ...    ...  \n",
       "39995  117816.680  2.708  \n",
       "39996  267615.065  2.979  \n",
       "39997     237.000  2.708  \n",
       "39998  113068.900  2.708  \n",
       "39999  287737.000  2.979  \n",
       "\n",
       "[40000 rows x 9 columns]"
      ],
      "text/html": "<div>\n<style scoped>\n    .dataframe tbody tr th:only-of-type {\n        vertical-align: middle;\n    }\n\n    .dataframe tbody tr th {\n        vertical-align: top;\n    }\n\n    .dataframe thead th {\n        text-align: right;\n    }\n</style>\n<table border=\"1\" class=\"dataframe\">\n  <thead>\n    <tr style=\"text-align: right;\">\n      <th></th>\n      <th>GRJCJS</th>\n      <th>GRZHYE</th>\n      <th>GRZHSNJZYE</th>\n      <th>GRZHDNGJYE</th>\n      <th>GRYJCE</th>\n      <th>DWYJCE</th>\n      <th>DKFFE</th>\n      <th>DKYE</th>\n      <th>DKLL</th>\n    </tr>\n  </thead>\n  <tbody>\n    <tr>\n      <th>0</th>\n      <td>1737.0</td>\n      <td>3223.515</td>\n      <td>801.310</td>\n      <td>837.000</td>\n      <td>312.00</td>\n      <td>312.00</td>\n      <td>175237</td>\n      <td>154112.935</td>\n      <td>2.708</td>\n    </tr>\n    <tr>\n      <th>1</th>\n      <td>4894.0</td>\n      <td>18055.195</td>\n      <td>53213.220</td>\n      <td>1065.200</td>\n      <td>795.84</td>\n      <td>795.84</td>\n      <td>300237</td>\n      <td>298252.945</td>\n      <td>2.979</td>\n    </tr>\n    <tr>\n      <th>2</th>\n      <td>10297.0</td>\n      <td>27426.600</td>\n      <td>13963.140</td>\n      <td>7230.020</td>\n      <td>1444.20</td>\n      <td>1444.20</td>\n      <td>150237</td>\n      <td>147339.130</td>\n      <td>2.708</td>\n    </tr>\n    <tr>\n      <th>3</th>\n      <td>10071.5</td>\n      <td>111871.130</td>\n      <td>99701.265</td>\n      <td>2271.295</td>\n      <td>1417.14</td>\n      <td>1417.14</td>\n      <td>350237</td>\n      <td>300653.780</td>\n      <td>2.708</td>\n    </tr>\n    <tr>\n      <th>4</th>\n      <td>2007.0</td>\n      <td>237.000</td>\n      <td>11028.875</td>\n      <td>35.780</td>\n      <td>325.50</td>\n      <td>325.50</td>\n      <td>150237</td>\n      <td>145185.010</td>\n      <td>2.708</td>\n    </tr>\n    <tr>\n      <th>...</th>\n      <td>...</td>\n      <td>...</td>\n      <td>...</td>\n      <td>...</td>\n      <td>...</td>\n      <td>...</td>\n      <td>...</td>\n      <td>...</td>\n      <td>...</td>\n    </tr>\n    <tr>\n      <th>39995</th>\n      <td>3185.0</td>\n      <td>82865.575</td>\n      <td>65304.370</td>\n      <td>4026.600</td>\n      <td>590.76</td>\n      <td>590.76</td>\n      <td>150237</td>\n      <td>117816.680</td>\n      <td>2.708</td>\n    </tr>\n    <tr>\n      <th>39996</th>\n      <td>1660.5</td>\n      <td>32811.585</td>\n      <td>27065.150</td>\n      <td>1603.560</td>\n      <td>407.82</td>\n      <td>407.82</td>\n      <td>300237</td>\n      <td>267615.065</td>\n      <td>2.979</td>\n    </tr>\n    <tr>\n      <th>39997</th>\n      <td>3923.0</td>\n      <td>8875.695</td>\n      <td>1309.890</td>\n      <td>3185.800</td>\n      <td>605.60</td>\n      <td>605.60</td>\n      <td>175237</td>\n      <td>237.000</td>\n      <td>2.708</td>\n    </tr>\n    <tr>\n      <th>39998</th>\n      <td>3527.0</td>\n      <td>2079.400</td>\n      <td>252.875</td>\n      <td>1614.490</td>\n      <td>467.30</td>\n      <td>467.30</td>\n      <td>125237</td>\n      <td>113068.900</td>\n      <td>2.708</td>\n    </tr>\n    <tr>\n      <th>39999</th>\n      <td>4934.5</td>\n      <td>26210.635</td>\n      <td>27266.080</td>\n      <td>-4994.610</td>\n      <td>800.70</td>\n      <td>800.70</td>\n      <td>300237</td>\n      <td>287737.000</td>\n      <td>2.979</td>\n    </tr>\n  </tbody>\n</table>\n<p>40000 rows × 9 columns</p>\n</div>"
     },
     "metadata": {},
     "execution_count": 7
    }
   ],
   "source": [
    "num_cols = ['GRJCJS', 'GRZHYE', 'GRZHSNJZYE', 'GRZHDNGJYE', 'GRYJCE', 'DWYJCE','DKFFE', 'DKYE', 'DKLL']\n",
    "train[num_cols]"
   ]
  },
  {
   "cell_type": "markdown",
   "metadata": {},
   "source": [
    "特征工程"
   ]
  },
  {
   "cell_type": "code",
   "execution_count": 8,
   "metadata": {},
   "outputs": [],
   "source": [
    "df = pd.concat([train, test], axis = 0).reset_index(drop = True)"
   ]
  },
  {
   "cell_type": "code",
   "execution_count": 9,
   "metadata": {},
   "outputs": [
    {
     "output_type": "execute_result",
     "data": {
      "text/plain": [
       "        id  XINGBIE        CSNY  HYZK  ZHIYE  ZHICHEN  ZHIWU  XUELI  DWJJLX  \\\n",
       "0  train_0        1  1038672000    90     90      999      0     99     150   \n",
       "1  train_1        2   504892800    90     90      999      0     99     110   \n",
       "2  train_2        1   736185600    90     90      999      0     99     150   \n",
       "3  train_3        1   428515200    90     90      999      0     99     150   \n",
       "4  train_4        2   544204800    90     90      999      0     99     900   \n",
       "\n",
       "   DWSSHY  ...  GRYJCE_DWYJCE  GRZHDNGJYE_GRZHSNJZYE  DKFFE_multi_DKLL_ratio  \\\n",
       "0      12  ...         624.00               1638.310                0.532069   \n",
       "1       0  ...        1591.68              54278.420                0.501658   \n",
       "2       9  ...        2888.40              21193.160                0.504869   \n",
       "3       7  ...        2834.28             101972.560                0.538089   \n",
       "4      14  ...         651.00              11064.655                0.508550   \n",
       "\n",
       "   DKYE_multi_DKLL_ratio  DKYE_DKFFE_ratio  DKFFE_DKYE_ratio  \\\n",
       "0               0.467931          0.467931          0.532069   \n",
       "1               0.498342          0.498342          0.501658   \n",
       "2               0.495131          0.495131          0.504869   \n",
       "3               0.461911          0.461911          0.538089   \n",
       "4               0.491450          0.491450          0.508550   \n",
       "\n",
       "   GRZHYE_diff_GRZHDNGJYE  GRZHYE_diff_GRZHSNJZYE  GRYJCE_DWYJCE_ratio  \\\n",
       "0                2386.515                2422.205                  0.5   \n",
       "1               16989.995              -35158.025                  0.5   \n",
       "2               20196.580               13463.460                  0.5   \n",
       "3              109599.835               12169.865                  0.5   \n",
       "4                 201.220              -10791.875                  0.5   \n",
       "\n",
       "   DWYJCE_GRYJCE_ratio  \n",
       "0                  0.5  \n",
       "1                  0.5  \n",
       "2                  0.5  \n",
       "3                  0.5  \n",
       "4                  0.5  \n",
       "\n",
       "[5 rows x 36 columns]"
      ],
      "text/html": "<div>\n<style scoped>\n    .dataframe tbody tr th:only-of-type {\n        vertical-align: middle;\n    }\n\n    .dataframe tbody tr th {\n        vertical-align: top;\n    }\n\n    .dataframe thead th {\n        text-align: right;\n    }\n</style>\n<table border=\"1\" class=\"dataframe\">\n  <thead>\n    <tr style=\"text-align: right;\">\n      <th></th>\n      <th>id</th>\n      <th>XINGBIE</th>\n      <th>CSNY</th>\n      <th>HYZK</th>\n      <th>ZHIYE</th>\n      <th>ZHICHEN</th>\n      <th>ZHIWU</th>\n      <th>XUELI</th>\n      <th>DWJJLX</th>\n      <th>DWSSHY</th>\n      <th>...</th>\n      <th>GRYJCE_DWYJCE</th>\n      <th>GRZHDNGJYE_GRZHSNJZYE</th>\n      <th>DKFFE_multi_DKLL_ratio</th>\n      <th>DKYE_multi_DKLL_ratio</th>\n      <th>DKYE_DKFFE_ratio</th>\n      <th>DKFFE_DKYE_ratio</th>\n      <th>GRZHYE_diff_GRZHDNGJYE</th>\n      <th>GRZHYE_diff_GRZHSNJZYE</th>\n      <th>GRYJCE_DWYJCE_ratio</th>\n      <th>DWYJCE_GRYJCE_ratio</th>\n    </tr>\n  </thead>\n  <tbody>\n    <tr>\n      <th>0</th>\n      <td>train_0</td>\n      <td>1</td>\n      <td>1038672000</td>\n      <td>90</td>\n      <td>90</td>\n      <td>999</td>\n      <td>0</td>\n      <td>99</td>\n      <td>150</td>\n      <td>12</td>\n      <td>...</td>\n      <td>624.00</td>\n      <td>1638.310</td>\n      <td>0.532069</td>\n      <td>0.467931</td>\n      <td>0.467931</td>\n      <td>0.532069</td>\n      <td>2386.515</td>\n      <td>2422.205</td>\n      <td>0.5</td>\n      <td>0.5</td>\n    </tr>\n    <tr>\n      <th>1</th>\n      <td>train_1</td>\n      <td>2</td>\n      <td>504892800</td>\n      <td>90</td>\n      <td>90</td>\n      <td>999</td>\n      <td>0</td>\n      <td>99</td>\n      <td>110</td>\n      <td>0</td>\n      <td>...</td>\n      <td>1591.68</td>\n      <td>54278.420</td>\n      <td>0.501658</td>\n      <td>0.498342</td>\n      <td>0.498342</td>\n      <td>0.501658</td>\n      <td>16989.995</td>\n      <td>-35158.025</td>\n      <td>0.5</td>\n      <td>0.5</td>\n    </tr>\n    <tr>\n      <th>2</th>\n      <td>train_2</td>\n      <td>1</td>\n      <td>736185600</td>\n      <td>90</td>\n      <td>90</td>\n      <td>999</td>\n      <td>0</td>\n      <td>99</td>\n      <td>150</td>\n      <td>9</td>\n      <td>...</td>\n      <td>2888.40</td>\n      <td>21193.160</td>\n      <td>0.504869</td>\n      <td>0.495131</td>\n      <td>0.495131</td>\n      <td>0.504869</td>\n      <td>20196.580</td>\n      <td>13463.460</td>\n      <td>0.5</td>\n      <td>0.5</td>\n    </tr>\n    <tr>\n      <th>3</th>\n      <td>train_3</td>\n      <td>1</td>\n      <td>428515200</td>\n      <td>90</td>\n      <td>90</td>\n      <td>999</td>\n      <td>0</td>\n      <td>99</td>\n      <td>150</td>\n      <td>7</td>\n      <td>...</td>\n      <td>2834.28</td>\n      <td>101972.560</td>\n      <td>0.538089</td>\n      <td>0.461911</td>\n      <td>0.461911</td>\n      <td>0.538089</td>\n      <td>109599.835</td>\n      <td>12169.865</td>\n      <td>0.5</td>\n      <td>0.5</td>\n    </tr>\n    <tr>\n      <th>4</th>\n      <td>train_4</td>\n      <td>2</td>\n      <td>544204800</td>\n      <td>90</td>\n      <td>90</td>\n      <td>999</td>\n      <td>0</td>\n      <td>99</td>\n      <td>900</td>\n      <td>14</td>\n      <td>...</td>\n      <td>651.00</td>\n      <td>11064.655</td>\n      <td>0.508550</td>\n      <td>0.491450</td>\n      <td>0.491450</td>\n      <td>0.508550</td>\n      <td>201.220</td>\n      <td>-10791.875</td>\n      <td>0.5</td>\n      <td>0.5</td>\n    </tr>\n  </tbody>\n</table>\n<p>5 rows × 36 columns</p>\n</div>"
     },
     "metadata": {},
     "execution_count": 9
    }
   ],
   "source": [
    "df['missing_rate'] = (df.shape[1] - df.count(axis = 1)) / df.shape[1]\n",
    "\n",
    "df['DKFFE_DKYE'] = df['DKFFE'] + df['DKYE']\n",
    "df['DKFFE_DKY_multi_DKLL'] = (df['DKFFE'] + df['DKYE']) * df['DKLL']\n",
    "df['DKFFE_multi_DKLL'] = df['DKFFE'] * df['DKLL']\n",
    "df['DKYE_multi_DKLL'] = df['DKYE'] * df['DKLL']\n",
    "df['GRYJCE_DWYJCE'] = df['GRYJCE'] + df['DWYJCE']\n",
    "df['GRZHDNGJYE_GRZHSNJZYE'] = df['GRZHDNGJYE'] + df['GRZHSNJZYE']\n",
    "\n",
    "df['DKFFE_multi_DKLL_ratio'] = df['DKFFE'] * df['DKLL'] / df['DKFFE_DKY_multi_DKLL']\n",
    "df['DKYE_multi_DKLL_ratio'] = df['DKYE'] * df['DKLL'] / df['DKFFE_DKY_multi_DKLL']\n",
    "df['DKYE_DKFFE_ratio'] = df['DKYE'] / df['DKFFE_DKYE']\n",
    "df['DKFFE_DKYE_ratio'] = df['DKFFE'] / df['DKFFE_DKYE']\n",
    "df['GRZHYE_diff_GRZHDNGJYE'] = df['GRZHYE'] - df['GRZHDNGJYE']\n",
    "df['GRZHYE_diff_GRZHSNJZYE'] = df['GRZHYE'] - df['GRZHSNJZYE']\n",
    "df['GRYJCE_DWYJCE_ratio'] = df['GRYJCE'] / df['GRYJCE_DWYJCE']\n",
    "df['DWYJCE_GRYJCE_ratio'] = df['DWYJCE'] / df['GRYJCE_DWYJCE']\n",
    "\n",
    "\n",
    "gen_feats = ['DKFFE_DKYE', 'DKFFE_DKY_multi_DKLL', 'DKFFE_multi_DKLL', 'DKYE_multi_DKLL', 'GRYJCE_DWYJCE', \n",
    "             'GRZHDNGJYE_GRZHSNJZYE', 'DKFFE_multi_DKLL_ratio', 'DKYE_multi_DKLL_ratio', 'GRZHYE_diff_GRZHDNGJYE',\n",
    "            'GRZHYE_diff_GRZHSNJZYE', 'GRYJCE_DWYJCE_ratio', 'DWYJCE_GRYJCE_ratio', 'DKYE_DKFFE_ratio', 'DKFFE_DKYE_ratio']\n",
    "\n",
    "df.head()"
   ]
  },
  {
   "cell_type": "code",
   "execution_count": 10,
   "metadata": {},
   "outputs": [
    {
     "output_type": "execute_result",
     "data": {
      "text/plain": [
       "<AxesSubplot:xlabel='age', ylabel='Density'>"
      ]
     },
     "metadata": {},
     "execution_count": 10
    },
    {
     "output_type": "display_data",
     "data": {
      "text/plain": "<Figure size 432x288 with 1 Axes>",
      "image/svg+xml": "<?xml version=\"1.0\" encoding=\"utf-8\" standalone=\"no\"?>\r\n<!DOCTYPE svg PUBLIC \"-//W3C//DTD SVG 1.1//EN\"\r\n  \"http://www.w3.org/Graphics/SVG/1.1/DTD/svg11.dtd\">\r\n<!-- Created with matplotlib (https://matplotlib.org/) -->\r\n<svg height=\"262.19625pt\" version=\"1.1\" viewBox=\"0 0 392.14375 262.19625\" width=\"392.14375pt\" xmlns=\"http://www.w3.org/2000/svg\" xmlns:xlink=\"http://www.w3.org/1999/xlink\">\r\n <metadata>\r\n  <rdf:RDF xmlns:cc=\"http://creativecommons.org/ns#\" xmlns:dc=\"http://purl.org/dc/elements/1.1/\" xmlns:rdf=\"http://www.w3.org/1999/02/22-rdf-syntax-ns#\">\r\n   <cc:Work>\r\n    <dc:type rdf:resource=\"http://purl.org/dc/dcmitype/StillImage\"/>\r\n    <dc:date>2021-01-21T17:08:00.531419</dc:date>\r\n    <dc:format>image/svg+xml</dc:format>\r\n    <dc:creator>\r\n     <cc:Agent>\r\n      <dc:title>Matplotlib v3.3.1, https://matplotlib.org/</dc:title>\r\n     </cc:Agent>\r\n    </dc:creator>\r\n   </cc:Work>\r\n  </rdf:RDF>\r\n </metadata>\r\n <defs>\r\n  <style type=\"text/css\">*{stroke-linecap:butt;stroke-linejoin:round;}</style>\r\n </defs>\r\n <g id=\"figure_1\">\r\n  <g id=\"patch_1\">\r\n   <path d=\"M 0 262.19625 \r\nL 392.14375 262.19625 \r\nL 392.14375 0 \r\nL 0 0 \r\nz\r\n\" style=\"fill:none;\"/>\r\n  </g>\r\n  <g id=\"axes_1\">\r\n   <g id=\"patch_2\">\r\n    <path d=\"M 50.14375 224.64 \r\nL 384.94375 224.64 \r\nL 384.94375 7.2 \r\nL 50.14375 7.2 \r\nz\r\n\" style=\"fill:#ffffff;\"/>\r\n   </g>\r\n   <g id=\"patch_3\">\r\n    <path clip-path=\"url(#p26fd07f8ba)\" d=\"M 81.141782 224.64 \r\nL 86.597861 224.64 \r\nL 86.597861 222.474464 \r\nL 81.141782 222.474464 \r\nz\r\n\" style=\"fill:#1f77b4;opacity:0.4;\"/>\r\n   </g>\r\n   <g id=\"patch_4\">\r\n    <path clip-path=\"url(#p26fd07f8ba)\" d=\"M 86.597861 224.64 \r\nL 92.053939 224.64 \r\nL 92.053939 224.64 \r\nL 86.597861 224.64 \r\nz\r\n\" style=\"fill:#1f77b4;opacity:0.4;\"/>\r\n   </g>\r\n   <g id=\"patch_5\">\r\n    <path clip-path=\"url(#p26fd07f8ba)\" d=\"M 92.053939 224.64 \r\nL 97.510018 224.64 \r\nL 97.510018 224.64 \r\nL 92.053939 224.64 \r\nz\r\n\" style=\"fill:#1f77b4;opacity:0.4;\"/>\r\n   </g>\r\n   <g id=\"patch_6\">\r\n    <path clip-path=\"url(#p26fd07f8ba)\" d=\"M 97.510018 224.64 \r\nL 102.966097 224.64 \r\nL 102.966097 224.64 \r\nL 97.510018 224.64 \r\nz\r\n\" style=\"fill:#1f77b4;opacity:0.4;\"/>\r\n   </g>\r\n   <g id=\"patch_7\">\r\n    <path clip-path=\"url(#p26fd07f8ba)\" d=\"M 102.966097 224.64 \r\nL 108.422176 224.64 \r\nL 108.422176 224.438555 \r\nL 102.966097 224.438555 \r\nz\r\n\" style=\"fill:#1f77b4;opacity:0.4;\"/>\r\n   </g>\r\n   <g id=\"patch_8\">\r\n    <path clip-path=\"url(#p26fd07f8ba)\" d=\"M 108.422176 224.64 \r\nL 113.878254 224.64 \r\nL 113.878254 222.826993 \r\nL 108.422176 222.826993 \r\nz\r\n\" style=\"fill:#1f77b4;opacity:0.4;\"/>\r\n   </g>\r\n   <g id=\"patch_9\">\r\n    <path clip-path=\"url(#p26fd07f8ba)\" d=\"M 113.878254 224.64 \r\nL 119.334333 224.64 \r\nL 119.334333 224.64 \r\nL 113.878254 224.64 \r\nz\r\n\" style=\"fill:#1f77b4;opacity:0.4;\"/>\r\n   </g>\r\n   <g id=\"patch_10\">\r\n    <path clip-path=\"url(#p26fd07f8ba)\" d=\"M 119.334333 224.64 \r\nL 124.790412 224.64 \r\nL 124.790412 223.582412 \r\nL 119.334333 223.582412 \r\nz\r\n\" style=\"fill:#1f77b4;opacity:0.4;\"/>\r\n   </g>\r\n   <g id=\"patch_11\">\r\n    <path clip-path=\"url(#p26fd07f8ba)\" d=\"M 124.790412 224.64 \r\nL 130.24649 224.64 \r\nL 130.24649 224.539277 \r\nL 124.790412 224.539277 \r\nz\r\n\" style=\"fill:#1f77b4;opacity:0.4;\"/>\r\n   </g>\r\n   <g id=\"patch_12\">\r\n    <path clip-path=\"url(#p26fd07f8ba)\" d=\"M 130.24649 224.64 \r\nL 135.702569 224.64 \r\nL 135.702569 220.460011 \r\nL 130.24649 220.460011 \r\nz\r\n\" style=\"fill:#1f77b4;opacity:0.4;\"/>\r\n   </g>\r\n   <g id=\"patch_13\">\r\n    <path clip-path=\"url(#p26fd07f8ba)\" d=\"M 135.702569 224.64 \r\nL 141.158648 224.64 \r\nL 141.158648 221.920489 \r\nL 135.702569 221.920489 \r\nz\r\n\" style=\"fill:#1f77b4;opacity:0.4;\"/>\r\n   </g>\r\n   <g id=\"patch_14\">\r\n    <path clip-path=\"url(#p26fd07f8ba)\" d=\"M 141.158648 224.64 \r\nL 146.614727 224.64 \r\nL 146.614727 223.88458 \r\nL 141.158648 223.88458 \r\nz\r\n\" style=\"fill:#1f77b4;opacity:0.4;\"/>\r\n   </g>\r\n   <g id=\"patch_15\">\r\n    <path clip-path=\"url(#p26fd07f8ba)\" d=\"M 146.614727 224.64 \r\nL 152.070805 224.64 \r\nL 152.070805 224.64 \r\nL 146.614727 224.64 \r\nz\r\n\" style=\"fill:#1f77b4;opacity:0.4;\"/>\r\n   </g>\r\n   <g id=\"patch_16\">\r\n    <path clip-path=\"url(#p26fd07f8ba)\" d=\"M 152.070805 224.64 \r\nL 157.526884 224.64 \r\nL 157.526884 224.388193 \r\nL 152.070805 224.388193 \r\nz\r\n\" style=\"fill:#1f77b4;opacity:0.4;\"/>\r\n   </g>\r\n   <g id=\"patch_17\">\r\n    <path clip-path=\"url(#p26fd07f8ba)\" d=\"M 157.526884 224.64 \r\nL 162.982963 224.64 \r\nL 162.982963 224.287471 \r\nL 157.526884 224.287471 \r\nz\r\n\" style=\"fill:#1f77b4;opacity:0.4;\"/>\r\n   </g>\r\n   <g id=\"patch_18\">\r\n    <path clip-path=\"url(#p26fd07f8ba)\" d=\"M 162.982963 224.64 \r\nL 168.439042 224.64 \r\nL 168.439042 223.078799 \r\nL 162.982963 223.078799 \r\nz\r\n\" style=\"fill:#1f77b4;opacity:0.4;\"/>\r\n   </g>\r\n   <g id=\"patch_19\">\r\n    <path clip-path=\"url(#p26fd07f8ba)\" d=\"M 168.439042 224.64 \r\nL 173.89512 224.64 \r\nL 173.89512 220.208205 \r\nL 168.439042 220.208205 \r\nz\r\n\" style=\"fill:#1f77b4;opacity:0.4;\"/>\r\n   </g>\r\n   <g id=\"patch_20\">\r\n    <path clip-path=\"url(#p26fd07f8ba)\" d=\"M 173.89512 224.64 \r\nL 179.351199 224.64 \r\nL 179.351199 210.589194 \r\nL 173.89512 210.589194 \r\nz\r\n\" style=\"fill:#1f77b4;opacity:0.4;\"/>\r\n   </g>\r\n   <g id=\"patch_21\">\r\n    <path clip-path=\"url(#p26fd07f8ba)\" d=\"M 179.351199 224.64 \r\nL 184.807278 224.64 \r\nL 184.807278 224.64 \r\nL 179.351199 224.64 \r\nz\r\n\" style=\"fill:#1f77b4;opacity:0.4;\"/>\r\n   </g>\r\n   <g id=\"patch_22\">\r\n    <path clip-path=\"url(#p26fd07f8ba)\" d=\"M 184.807278 224.64 \r\nL 190.263356 224.64 \r\nL 190.263356 192.00587 \r\nL 184.807278 192.00587 \r\nz\r\n\" style=\"fill:#1f77b4;opacity:0.4;\"/>\r\n   </g>\r\n   <g id=\"patch_23\">\r\n    <path clip-path=\"url(#p26fd07f8ba)\" d=\"M 190.263356 224.64 \r\nL 195.719435 224.64 \r\nL 195.719435 169.444002 \r\nL 190.263356 169.444002 \r\nz\r\n\" style=\"fill:#1f77b4;opacity:0.4;\"/>\r\n   </g>\r\n   <g id=\"patch_24\">\r\n    <path clip-path=\"url(#p26fd07f8ba)\" d=\"M 195.719435 224.64 \r\nL 201.175514 224.64 \r\nL 201.175514 153.882357 \r\nL 195.719435 153.882357 \r\nz\r\n\" style=\"fill:#1f77b4;opacity:0.4;\"/>\r\n   </g>\r\n   <g id=\"patch_25\">\r\n    <path clip-path=\"url(#p26fd07f8ba)\" d=\"M 201.175514 224.64 \r\nL 206.631593 224.64 \r\nL 206.631593 141.493474 \r\nL 201.175514 141.493474 \r\nz\r\n\" style=\"fill:#1f77b4;opacity:0.4;\"/>\r\n   </g>\r\n   <g id=\"patch_26\">\r\n    <path clip-path=\"url(#p26fd07f8ba)\" d=\"M 206.631593 224.64 \r\nL 212.087671 224.64 \r\nL 212.087671 117.823658 \r\nL 206.631593 117.823658 \r\nz\r\n\" style=\"fill:#1f77b4;opacity:0.4;\"/>\r\n   </g>\r\n   <g id=\"patch_27\">\r\n    <path clip-path=\"url(#p26fd07f8ba)\" d=\"M 212.087671 224.64 \r\nL 217.54375 224.64 \r\nL 217.54375 224.64 \r\nL 212.087671 224.64 \r\nz\r\n\" style=\"fill:#1f77b4;opacity:0.4;\"/>\r\n   </g>\r\n   <g id=\"patch_28\">\r\n    <path clip-path=\"url(#p26fd07f8ba)\" d=\"M 217.54375 224.64 \r\nL 222.999829 224.64 \r\nL 222.999829 100.398644 \r\nL 217.54375 100.398644 \r\nz\r\n\" style=\"fill:#1f77b4;opacity:0.4;\"/>\r\n   </g>\r\n   <g id=\"patch_29\">\r\n    <path clip-path=\"url(#p26fd07f8ba)\" d=\"M 222.999829 224.64 \r\nL 228.455907 224.64 \r\nL 228.455907 47.217098 \r\nL 222.999829 47.217098 \r\nz\r\n\" style=\"fill:#1f77b4;opacity:0.4;\"/>\r\n   </g>\r\n   <g id=\"patch_30\">\r\n    <path clip-path=\"url(#p26fd07f8ba)\" d=\"M 228.455907 224.64 \r\nL 233.911986 224.64 \r\nL 233.911986 34.727493 \r\nL 228.455907 34.727493 \r\nz\r\n\" style=\"fill:#1f77b4;opacity:0.4;\"/>\r\n   </g>\r\n   <g id=\"patch_31\">\r\n    <path clip-path=\"url(#p26fd07f8ba)\" d=\"M 233.911986 224.64 \r\nL 239.368065 224.64 \r\nL 239.368065 35.482913 \r\nL 233.911986 35.482913 \r\nz\r\n\" style=\"fill:#1f77b4;opacity:0.4;\"/>\r\n   </g>\r\n   <g id=\"patch_32\">\r\n    <path clip-path=\"url(#p26fd07f8ba)\" d=\"M 239.368065 224.64 \r\nL 244.824144 224.64 \r\nL 244.824144 24.101256 \r\nL 239.368065 24.101256 \r\nz\r\n\" style=\"fill:#1f77b4;opacity:0.4;\"/>\r\n   </g>\r\n   <g id=\"patch_33\">\r\n    <path clip-path=\"url(#p26fd07f8ba)\" d=\"M 244.824144 224.64 \r\nL 250.280222 224.64 \r\nL 250.280222 58.39731 \r\nL 244.824144 58.39731 \r\nz\r\n\" style=\"fill:#1f77b4;opacity:0.4;\"/>\r\n   </g>\r\n   <g id=\"patch_34\">\r\n    <path clip-path=\"url(#p26fd07f8ba)\" d=\"M 250.280222 224.64 \r\nL 255.736301 224.64 \r\nL 255.736301 224.64 \r\nL 250.280222 224.64 \r\nz\r\n\" style=\"fill:#1f77b4;opacity:0.4;\"/>\r\n   </g>\r\n   <g id=\"patch_35\">\r\n    <path clip-path=\"url(#p26fd07f8ba)\" d=\"M 255.736301 224.64 \r\nL 261.19238 224.64 \r\nL 261.19238 92.441556 \r\nL 255.736301 92.441556 \r\nz\r\n\" style=\"fill:#1f77b4;opacity:0.4;\"/>\r\n   </g>\r\n   <g id=\"patch_36\">\r\n    <path clip-path=\"url(#p26fd07f8ba)\" d=\"M 261.19238 224.64 \r\nL 266.648458 224.64 \r\nL 266.648458 101.506593 \r\nL 261.19238 101.506593 \r\nz\r\n\" style=\"fill:#1f77b4;opacity:0.4;\"/>\r\n   </g>\r\n   <g id=\"patch_37\">\r\n    <path clip-path=\"url(#p26fd07f8ba)\" d=\"M 266.648458 224.64 \r\nL 272.104537 224.64 \r\nL 272.104537 111.679578 \r\nL 266.648458 111.679578 \r\nz\r\n\" style=\"fill:#1f77b4;opacity:0.4;\"/>\r\n   </g>\r\n   <g id=\"patch_38\">\r\n    <path clip-path=\"url(#p26fd07f8ba)\" d=\"M 272.104537 224.64 \r\nL 277.560616 224.64 \r\nL 277.560616 99.542501 \r\nL 272.104537 99.542501 \r\nz\r\n\" style=\"fill:#1f77b4;opacity:0.4;\"/>\r\n   </g>\r\n   <g id=\"patch_39\">\r\n    <path clip-path=\"url(#p26fd07f8ba)\" d=\"M 277.560616 224.64 \r\nL 283.016695 224.64 \r\nL 283.016695 121.197865 \r\nL 277.560616 121.197865 \r\nz\r\n\" style=\"fill:#1f77b4;opacity:0.4;\"/>\r\n   </g>\r\n   <g id=\"patch_40\">\r\n    <path clip-path=\"url(#p26fd07f8ba)\" d=\"M 283.016695 224.64 \r\nL 288.472773 224.64 \r\nL 288.472773 224.64 \r\nL 283.016695 224.64 \r\nz\r\n\" style=\"fill:#1f77b4;opacity:0.4;\"/>\r\n   </g>\r\n   <g id=\"patch_41\">\r\n    <path clip-path=\"url(#p26fd07f8ba)\" d=\"M 288.472773 224.64 \r\nL 293.928852 224.64 \r\nL 293.928852 142.349616 \r\nL 288.472773 142.349616 \r\nz\r\n\" style=\"fill:#1f77b4;opacity:0.4;\"/>\r\n   </g>\r\n   <g id=\"patch_42\">\r\n    <path clip-path=\"url(#p26fd07f8ba)\" d=\"M 293.928852 224.64 \r\nL 299.384931 224.64 \r\nL 299.384931 148.946948 \r\nL 293.928852 148.946948 \r\nz\r\n\" style=\"fill:#1f77b4;opacity:0.4;\"/>\r\n   </g>\r\n   <g id=\"patch_43\">\r\n    <path clip-path=\"url(#p26fd07f8ba)\" d=\"M 299.384931 224.64 \r\nL 304.84101 224.64 \r\nL 304.84101 157.357287 \r\nL 299.384931 157.357287 \r\nz\r\n\" style=\"fill:#1f77b4;opacity:0.4;\"/>\r\n   </g>\r\n   <g id=\"patch_44\">\r\n    <path clip-path=\"url(#p26fd07f8ba)\" d=\"M 304.84101 224.64 \r\nL 310.297088 224.64 \r\nL 310.297088 170.954842 \r\nL 304.84101 170.954842 \r\nz\r\n\" style=\"fill:#1f77b4;opacity:0.4;\"/>\r\n   </g>\r\n   <g id=\"patch_45\">\r\n    <path clip-path=\"url(#p26fd07f8ba)\" d=\"M 310.297088 224.64 \r\nL 315.753167 224.64 \r\nL 315.753167 174.681579 \r\nL 310.297088 174.681579 \r\nz\r\n\" style=\"fill:#1f77b4;opacity:0.4;\"/>\r\n   </g>\r\n   <g id=\"patch_46\">\r\n    <path clip-path=\"url(#p26fd07f8ba)\" d=\"M 315.753167 224.64 \r\nL 321.209246 224.64 \r\nL 321.209246 224.64 \r\nL 315.753167 224.64 \r\nz\r\n\" style=\"fill:#1f77b4;opacity:0.4;\"/>\r\n   </g>\r\n   <g id=\"patch_47\">\r\n    <path clip-path=\"url(#p26fd07f8ba)\" d=\"M 321.209246 224.64 \r\nL 326.665324 224.64 \r\nL 326.665324 175.285914 \r\nL 321.209246 175.285914 \r\nz\r\n\" style=\"fill:#1f77b4;opacity:0.4;\"/>\r\n   </g>\r\n   <g id=\"patch_48\">\r\n    <path clip-path=\"url(#p26fd07f8ba)\" d=\"M 326.665324 224.64 \r\nL 332.121403 224.64 \r\nL 332.121403 181.480356 \r\nL 326.665324 181.480356 \r\nz\r\n\" style=\"fill:#1f77b4;opacity:0.4;\"/>\r\n   </g>\r\n   <g id=\"patch_49\">\r\n    <path clip-path=\"url(#p26fd07f8ba)\" d=\"M 332.121403 224.64 \r\nL 337.577482 224.64 \r\nL 337.577482 184.854564 \r\nL 332.121403 184.854564 \r\nz\r\n\" style=\"fill:#1f77b4;opacity:0.4;\"/>\r\n   </g>\r\n   <g id=\"patch_50\">\r\n    <path clip-path=\"url(#p26fd07f8ba)\" d=\"M 337.577482 224.64 \r\nL 343.033561 224.64 \r\nL 343.033561 185.660345 \r\nL 337.577482 185.660345 \r\nz\r\n\" style=\"fill:#1f77b4;opacity:0.4;\"/>\r\n   </g>\r\n   <g id=\"patch_51\">\r\n    <path clip-path=\"url(#p26fd07f8ba)\" d=\"M 343.033561 224.64 \r\nL 348.489639 224.64 \r\nL 348.489639 188.682023 \r\nL 343.033561 188.682023 \r\nz\r\n\" style=\"fill:#1f77b4;opacity:0.4;\"/>\r\n   </g>\r\n   <g id=\"patch_52\">\r\n    <path clip-path=\"url(#p26fd07f8ba)\" d=\"M 348.489639 224.64 \r\nL 353.945718 224.64 \r\nL 353.945718 17.554286 \r\nL 348.489639 17.554286 \r\nz\r\n\" style=\"fill:#1f77b4;opacity:0.4;\"/>\r\n   </g>\r\n   <g id=\"matplotlib.axis_1\">\r\n    <g id=\"xtick_1\">\r\n     <g id=\"line2d_1\">\r\n      <defs>\r\n       <path d=\"M 0 0 \r\nL 0 3.5 \r\n\" id=\"mbea8fb04f6\" style=\"stroke:#000000;stroke-width:0.8;\"/>\r\n      </defs>\r\n      <g>\r\n       <use style=\"stroke:#000000;stroke-width:0.8;\" x=\"94.132446\" xlink:href=\"#mbea8fb04f6\" y=\"224.64\"/>\r\n      </g>\r\n     </g>\r\n     <g id=\"text_1\">\r\n      <!-- 10 -->\r\n      <g transform=\"translate(87.769946 239.238437)scale(0.1 -0.1)\">\r\n       <defs>\r\n        <path d=\"M 12.40625 8.296875 \r\nL 28.515625 8.296875 \r\nL 28.515625 63.921875 \r\nL 10.984375 60.40625 \r\nL 10.984375 69.390625 \r\nL 28.421875 72.90625 \r\nL 38.28125 72.90625 \r\nL 38.28125 8.296875 \r\nL 54.390625 8.296875 \r\nL 54.390625 0 \r\nL 12.40625 0 \r\nz\r\n\" id=\"DejaVuSans-49\"/>\r\n        <path d=\"M 31.78125 66.40625 \r\nQ 24.171875 66.40625 20.328125 58.90625 \r\nQ 16.5 51.421875 16.5 36.375 \r\nQ 16.5 21.390625 20.328125 13.890625 \r\nQ 24.171875 6.390625 31.78125 6.390625 \r\nQ 39.453125 6.390625 43.28125 13.890625 \r\nQ 47.125 21.390625 47.125 36.375 \r\nQ 47.125 51.421875 43.28125 58.90625 \r\nQ 39.453125 66.40625 31.78125 66.40625 \r\nz\r\nM 31.78125 74.21875 \r\nQ 44.046875 74.21875 50.515625 64.515625 \r\nQ 56.984375 54.828125 56.984375 36.375 \r\nQ 56.984375 17.96875 50.515625 8.265625 \r\nQ 44.046875 -1.421875 31.78125 -1.421875 \r\nQ 19.53125 -1.421875 13.0625 8.265625 \r\nQ 6.59375 17.96875 6.59375 36.375 \r\nQ 6.59375 54.828125 13.0625 64.515625 \r\nQ 19.53125 74.21875 31.78125 74.21875 \r\nz\r\n\" id=\"DejaVuSans-48\"/>\r\n       </defs>\r\n       <use xlink:href=\"#DejaVuSans-49\"/>\r\n       <use x=\"63.623047\" xlink:href=\"#DejaVuSans-48\"/>\r\n      </g>\r\n     </g>\r\n    </g>\r\n    <g id=\"xtick_2\">\r\n     <g id=\"line2d_2\">\r\n      <g>\r\n       <use style=\"stroke:#000000;stroke-width:0.8;\" x=\"159.085764\" xlink:href=\"#mbea8fb04f6\" y=\"224.64\"/>\r\n      </g>\r\n     </g>\r\n     <g id=\"text_2\">\r\n      <!-- 20 -->\r\n      <g transform=\"translate(152.723264 239.238437)scale(0.1 -0.1)\">\r\n       <defs>\r\n        <path d=\"M 19.1875 8.296875 \r\nL 53.609375 8.296875 \r\nL 53.609375 0 \r\nL 7.328125 0 \r\nL 7.328125 8.296875 \r\nQ 12.9375 14.109375 22.625 23.890625 \r\nQ 32.328125 33.6875 34.8125 36.53125 \r\nQ 39.546875 41.84375 41.421875 45.53125 \r\nQ 43.3125 49.21875 43.3125 52.78125 \r\nQ 43.3125 58.59375 39.234375 62.25 \r\nQ 35.15625 65.921875 28.609375 65.921875 \r\nQ 23.96875 65.921875 18.8125 64.3125 \r\nQ 13.671875 62.703125 7.8125 59.421875 \r\nL 7.8125 69.390625 \r\nQ 13.765625 71.78125 18.9375 73 \r\nQ 24.125 74.21875 28.421875 74.21875 \r\nQ 39.75 74.21875 46.484375 68.546875 \r\nQ 53.21875 62.890625 53.21875 53.421875 \r\nQ 53.21875 48.921875 51.53125 44.890625 \r\nQ 49.859375 40.875 45.40625 35.40625 \r\nQ 44.1875 33.984375 37.640625 27.21875 \r\nQ 31.109375 20.453125 19.1875 8.296875 \r\nz\r\n\" id=\"DejaVuSans-50\"/>\r\n       </defs>\r\n       <use xlink:href=\"#DejaVuSans-50\"/>\r\n       <use x=\"63.623047\" xlink:href=\"#DejaVuSans-48\"/>\r\n      </g>\r\n     </g>\r\n    </g>\r\n    <g id=\"xtick_3\">\r\n     <g id=\"line2d_3\">\r\n      <g>\r\n       <use style=\"stroke:#000000;stroke-width:0.8;\" x=\"224.039082\" xlink:href=\"#mbea8fb04f6\" y=\"224.64\"/>\r\n      </g>\r\n     </g>\r\n     <g id=\"text_3\">\r\n      <!-- 30 -->\r\n      <g transform=\"translate(217.676582 239.238437)scale(0.1 -0.1)\">\r\n       <defs>\r\n        <path d=\"M 40.578125 39.3125 \r\nQ 47.65625 37.796875 51.625 33 \r\nQ 55.609375 28.21875 55.609375 21.1875 \r\nQ 55.609375 10.40625 48.1875 4.484375 \r\nQ 40.765625 -1.421875 27.09375 -1.421875 \r\nQ 22.515625 -1.421875 17.65625 -0.515625 \r\nQ 12.796875 0.390625 7.625 2.203125 \r\nL 7.625 11.71875 \r\nQ 11.71875 9.328125 16.59375 8.109375 \r\nQ 21.484375 6.890625 26.8125 6.890625 \r\nQ 36.078125 6.890625 40.9375 10.546875 \r\nQ 45.796875 14.203125 45.796875 21.1875 \r\nQ 45.796875 27.640625 41.28125 31.265625 \r\nQ 36.765625 34.90625 28.71875 34.90625 \r\nL 20.21875 34.90625 \r\nL 20.21875 43.015625 \r\nL 29.109375 43.015625 \r\nQ 36.375 43.015625 40.234375 45.921875 \r\nQ 44.09375 48.828125 44.09375 54.296875 \r\nQ 44.09375 59.90625 40.109375 62.90625 \r\nQ 36.140625 65.921875 28.71875 65.921875 \r\nQ 24.65625 65.921875 20.015625 65.03125 \r\nQ 15.375 64.15625 9.8125 62.3125 \r\nL 9.8125 71.09375 \r\nQ 15.4375 72.65625 20.34375 73.4375 \r\nQ 25.25 74.21875 29.59375 74.21875 \r\nQ 40.828125 74.21875 47.359375 69.109375 \r\nQ 53.90625 64.015625 53.90625 55.328125 \r\nQ 53.90625 49.265625 50.4375 45.09375 \r\nQ 46.96875 40.921875 40.578125 39.3125 \r\nz\r\n\" id=\"DejaVuSans-51\"/>\r\n       </defs>\r\n       <use xlink:href=\"#DejaVuSans-51\"/>\r\n       <use x=\"63.623047\" xlink:href=\"#DejaVuSans-48\"/>\r\n      </g>\r\n     </g>\r\n    </g>\r\n    <g id=\"xtick_4\">\r\n     <g id=\"line2d_4\">\r\n      <g>\r\n       <use style=\"stroke:#000000;stroke-width:0.8;\" x=\"288.9924\" xlink:href=\"#mbea8fb04f6\" y=\"224.64\"/>\r\n      </g>\r\n     </g>\r\n     <g id=\"text_4\">\r\n      <!-- 40 -->\r\n      <g transform=\"translate(282.6299 239.238437)scale(0.1 -0.1)\">\r\n       <defs>\r\n        <path d=\"M 37.796875 64.3125 \r\nL 12.890625 25.390625 \r\nL 37.796875 25.390625 \r\nz\r\nM 35.203125 72.90625 \r\nL 47.609375 72.90625 \r\nL 47.609375 25.390625 \r\nL 58.015625 25.390625 \r\nL 58.015625 17.1875 \r\nL 47.609375 17.1875 \r\nL 47.609375 0 \r\nL 37.796875 0 \r\nL 37.796875 17.1875 \r\nL 4.890625 17.1875 \r\nL 4.890625 26.703125 \r\nz\r\n\" id=\"DejaVuSans-52\"/>\r\n       </defs>\r\n       <use xlink:href=\"#DejaVuSans-52\"/>\r\n       <use x=\"63.623047\" xlink:href=\"#DejaVuSans-48\"/>\r\n      </g>\r\n     </g>\r\n    </g>\r\n    <g id=\"xtick_5\">\r\n     <g id=\"line2d_5\">\r\n      <g>\r\n       <use style=\"stroke:#000000;stroke-width:0.8;\" x=\"353.945718\" xlink:href=\"#mbea8fb04f6\" y=\"224.64\"/>\r\n      </g>\r\n     </g>\r\n     <g id=\"text_5\">\r\n      <!-- 50 -->\r\n      <g transform=\"translate(347.583218 239.238437)scale(0.1 -0.1)\">\r\n       <defs>\r\n        <path d=\"M 10.796875 72.90625 \r\nL 49.515625 72.90625 \r\nL 49.515625 64.59375 \r\nL 19.828125 64.59375 \r\nL 19.828125 46.734375 \r\nQ 21.96875 47.46875 24.109375 47.828125 \r\nQ 26.265625 48.1875 28.421875 48.1875 \r\nQ 40.625 48.1875 47.75 41.5 \r\nQ 54.890625 34.8125 54.890625 23.390625 \r\nQ 54.890625 11.625 47.5625 5.09375 \r\nQ 40.234375 -1.421875 26.90625 -1.421875 \r\nQ 22.3125 -1.421875 17.546875 -0.640625 \r\nQ 12.796875 0.140625 7.71875 1.703125 \r\nL 7.71875 11.625 \r\nQ 12.109375 9.234375 16.796875 8.0625 \r\nQ 21.484375 6.890625 26.703125 6.890625 \r\nQ 35.15625 6.890625 40.078125 11.328125 \r\nQ 45.015625 15.765625 45.015625 23.390625 \r\nQ 45.015625 31 40.078125 35.4375 \r\nQ 35.15625 39.890625 26.703125 39.890625 \r\nQ 22.75 39.890625 18.8125 39.015625 \r\nQ 14.890625 38.140625 10.796875 36.28125 \r\nz\r\n\" id=\"DejaVuSans-53\"/>\r\n       </defs>\r\n       <use xlink:href=\"#DejaVuSans-53\"/>\r\n       <use x=\"63.623047\" xlink:href=\"#DejaVuSans-48\"/>\r\n      </g>\r\n     </g>\r\n    </g>\r\n    <g id=\"text_6\">\r\n     <!-- age -->\r\n     <g transform=\"translate(208.228906 252.916562)scale(0.1 -0.1)\">\r\n      <defs>\r\n       <path d=\"M 34.28125 27.484375 \r\nQ 23.390625 27.484375 19.1875 25 \r\nQ 14.984375 22.515625 14.984375 16.5 \r\nQ 14.984375 11.71875 18.140625 8.90625 \r\nQ 21.296875 6.109375 26.703125 6.109375 \r\nQ 34.1875 6.109375 38.703125 11.40625 \r\nQ 43.21875 16.703125 43.21875 25.484375 \r\nL 43.21875 27.484375 \r\nz\r\nM 52.203125 31.203125 \r\nL 52.203125 0 \r\nL 43.21875 0 \r\nL 43.21875 8.296875 \r\nQ 40.140625 3.328125 35.546875 0.953125 \r\nQ 30.953125 -1.421875 24.3125 -1.421875 \r\nQ 15.921875 -1.421875 10.953125 3.296875 \r\nQ 6 8.015625 6 15.921875 \r\nQ 6 25.140625 12.171875 29.828125 \r\nQ 18.359375 34.515625 30.609375 34.515625 \r\nL 43.21875 34.515625 \r\nL 43.21875 35.40625 \r\nQ 43.21875 41.609375 39.140625 45 \r\nQ 35.0625 48.390625 27.6875 48.390625 \r\nQ 23 48.390625 18.546875 47.265625 \r\nQ 14.109375 46.140625 10.015625 43.890625 \r\nL 10.015625 52.203125 \r\nQ 14.9375 54.109375 19.578125 55.046875 \r\nQ 24.21875 56 28.609375 56 \r\nQ 40.484375 56 46.34375 49.84375 \r\nQ 52.203125 43.703125 52.203125 31.203125 \r\nz\r\n\" id=\"DejaVuSans-97\"/>\r\n       <path d=\"M 45.40625 27.984375 \r\nQ 45.40625 37.75 41.375 43.109375 \r\nQ 37.359375 48.484375 30.078125 48.484375 \r\nQ 22.859375 48.484375 18.828125 43.109375 \r\nQ 14.796875 37.75 14.796875 27.984375 \r\nQ 14.796875 18.265625 18.828125 12.890625 \r\nQ 22.859375 7.515625 30.078125 7.515625 \r\nQ 37.359375 7.515625 41.375 12.890625 \r\nQ 45.40625 18.265625 45.40625 27.984375 \r\nz\r\nM 54.390625 6.78125 \r\nQ 54.390625 -7.171875 48.1875 -13.984375 \r\nQ 42 -20.796875 29.203125 -20.796875 \r\nQ 24.46875 -20.796875 20.265625 -20.09375 \r\nQ 16.0625 -19.390625 12.109375 -17.921875 \r\nL 12.109375 -9.1875 \r\nQ 16.0625 -11.328125 19.921875 -12.34375 \r\nQ 23.78125 -13.375 27.78125 -13.375 \r\nQ 36.625 -13.375 41.015625 -8.765625 \r\nQ 45.40625 -4.15625 45.40625 5.171875 \r\nL 45.40625 9.625 \r\nQ 42.625 4.78125 38.28125 2.390625 \r\nQ 33.9375 0 27.875 0 \r\nQ 17.828125 0 11.671875 7.65625 \r\nQ 5.515625 15.328125 5.515625 27.984375 \r\nQ 5.515625 40.671875 11.671875 48.328125 \r\nQ 17.828125 56 27.875 56 \r\nQ 33.9375 56 38.28125 53.609375 \r\nQ 42.625 51.21875 45.40625 46.390625 \r\nL 45.40625 54.6875 \r\nL 54.390625 54.6875 \r\nz\r\n\" id=\"DejaVuSans-103\"/>\r\n       <path d=\"M 56.203125 29.59375 \r\nL 56.203125 25.203125 \r\nL 14.890625 25.203125 \r\nQ 15.484375 15.921875 20.484375 11.0625 \r\nQ 25.484375 6.203125 34.421875 6.203125 \r\nQ 39.59375 6.203125 44.453125 7.46875 \r\nQ 49.3125 8.734375 54.109375 11.28125 \r\nL 54.109375 2.78125 \r\nQ 49.265625 0.734375 44.1875 -0.34375 \r\nQ 39.109375 -1.421875 33.890625 -1.421875 \r\nQ 20.796875 -1.421875 13.15625 6.1875 \r\nQ 5.515625 13.8125 5.515625 26.8125 \r\nQ 5.515625 40.234375 12.765625 48.109375 \r\nQ 20.015625 56 32.328125 56 \r\nQ 43.359375 56 49.78125 48.890625 \r\nQ 56.203125 41.796875 56.203125 29.59375 \r\nz\r\nM 47.21875 32.234375 \r\nQ 47.125 39.59375 43.09375 43.984375 \r\nQ 39.0625 48.390625 32.421875 48.390625 \r\nQ 24.90625 48.390625 20.390625 44.140625 \r\nQ 15.875 39.890625 15.1875 32.171875 \r\nz\r\n\" id=\"DejaVuSans-101\"/>\r\n      </defs>\r\n      <use xlink:href=\"#DejaVuSans-97\"/>\r\n      <use x=\"61.279297\" xlink:href=\"#DejaVuSans-103\"/>\r\n      <use x=\"124.755859\" xlink:href=\"#DejaVuSans-101\"/>\r\n     </g>\r\n    </g>\r\n   </g>\r\n   <g id=\"matplotlib.axis_2\">\r\n    <g id=\"ytick_1\">\r\n     <g id=\"line2d_6\">\r\n      <defs>\r\n       <path d=\"M 0 0 \r\nL -3.5 0 \r\n\" id=\"m9afbc3aded\" style=\"stroke:#000000;stroke-width:0.8;\"/>\r\n      </defs>\r\n      <g>\r\n       <use style=\"stroke:#000000;stroke-width:0.8;\" x=\"50.14375\" xlink:href=\"#m9afbc3aded\" y=\"224.64\"/>\r\n      </g>\r\n     </g>\r\n     <g id=\"text_7\">\r\n      <!-- 0.00 -->\r\n      <g transform=\"translate(20.878125 228.439219)scale(0.1 -0.1)\">\r\n       <defs>\r\n        <path d=\"M 10.6875 12.40625 \r\nL 21 12.40625 \r\nL 21 0 \r\nL 10.6875 0 \r\nz\r\n\" id=\"DejaVuSans-46\"/>\r\n       </defs>\r\n       <use xlink:href=\"#DejaVuSans-48\"/>\r\n       <use x=\"63.623047\" xlink:href=\"#DejaVuSans-46\"/>\r\n       <use x=\"95.410156\" xlink:href=\"#DejaVuSans-48\"/>\r\n       <use x=\"159.033203\" xlink:href=\"#DejaVuSans-48\"/>\r\n      </g>\r\n     </g>\r\n    </g>\r\n    <g id=\"ytick_2\">\r\n     <g id=\"line2d_7\">\r\n      <g>\r\n       <use style=\"stroke:#000000;stroke-width:0.8;\" x=\"50.14375\" xlink:href=\"#m9afbc3aded\" y=\"178.10784\"/>\r\n      </g>\r\n     </g>\r\n     <g id=\"text_8\">\r\n      <!-- 0.02 -->\r\n      <g transform=\"translate(20.878125 181.907059)scale(0.1 -0.1)\">\r\n       <use xlink:href=\"#DejaVuSans-48\"/>\r\n       <use x=\"63.623047\" xlink:href=\"#DejaVuSans-46\"/>\r\n       <use x=\"95.410156\" xlink:href=\"#DejaVuSans-48\"/>\r\n       <use x=\"159.033203\" xlink:href=\"#DejaVuSans-50\"/>\r\n      </g>\r\n     </g>\r\n    </g>\r\n    <g id=\"ytick_3\">\r\n     <g id=\"line2d_8\">\r\n      <g>\r\n       <use style=\"stroke:#000000;stroke-width:0.8;\" x=\"50.14375\" xlink:href=\"#m9afbc3aded\" y=\"131.57568\"/>\r\n      </g>\r\n     </g>\r\n     <g id=\"text_9\">\r\n      <!-- 0.04 -->\r\n      <g transform=\"translate(20.878125 135.374899)scale(0.1 -0.1)\">\r\n       <use xlink:href=\"#DejaVuSans-48\"/>\r\n       <use x=\"63.623047\" xlink:href=\"#DejaVuSans-46\"/>\r\n       <use x=\"95.410156\" xlink:href=\"#DejaVuSans-48\"/>\r\n       <use x=\"159.033203\" xlink:href=\"#DejaVuSans-52\"/>\r\n      </g>\r\n     </g>\r\n    </g>\r\n    <g id=\"ytick_4\">\r\n     <g id=\"line2d_9\">\r\n      <g>\r\n       <use style=\"stroke:#000000;stroke-width:0.8;\" x=\"50.14375\" xlink:href=\"#m9afbc3aded\" y=\"85.04352\"/>\r\n      </g>\r\n     </g>\r\n     <g id=\"text_10\">\r\n      <!-- 0.06 -->\r\n      <g transform=\"translate(20.878125 88.842739)scale(0.1 -0.1)\">\r\n       <defs>\r\n        <path d=\"M 33.015625 40.375 \r\nQ 26.375 40.375 22.484375 35.828125 \r\nQ 18.609375 31.296875 18.609375 23.390625 \r\nQ 18.609375 15.53125 22.484375 10.953125 \r\nQ 26.375 6.390625 33.015625 6.390625 \r\nQ 39.65625 6.390625 43.53125 10.953125 \r\nQ 47.40625 15.53125 47.40625 23.390625 \r\nQ 47.40625 31.296875 43.53125 35.828125 \r\nQ 39.65625 40.375 33.015625 40.375 \r\nz\r\nM 52.59375 71.296875 \r\nL 52.59375 62.3125 \r\nQ 48.875 64.0625 45.09375 64.984375 \r\nQ 41.3125 65.921875 37.59375 65.921875 \r\nQ 27.828125 65.921875 22.671875 59.328125 \r\nQ 17.53125 52.734375 16.796875 39.40625 \r\nQ 19.671875 43.65625 24.015625 45.921875 \r\nQ 28.375 48.1875 33.59375 48.1875 \r\nQ 44.578125 48.1875 50.953125 41.515625 \r\nQ 57.328125 34.859375 57.328125 23.390625 \r\nQ 57.328125 12.15625 50.6875 5.359375 \r\nQ 44.046875 -1.421875 33.015625 -1.421875 \r\nQ 20.359375 -1.421875 13.671875 8.265625 \r\nQ 6.984375 17.96875 6.984375 36.375 \r\nQ 6.984375 53.65625 15.1875 63.9375 \r\nQ 23.390625 74.21875 37.203125 74.21875 \r\nQ 40.921875 74.21875 44.703125 73.484375 \r\nQ 48.484375 72.75 52.59375 71.296875 \r\nz\r\n\" id=\"DejaVuSans-54\"/>\r\n       </defs>\r\n       <use xlink:href=\"#DejaVuSans-48\"/>\r\n       <use x=\"63.623047\" xlink:href=\"#DejaVuSans-46\"/>\r\n       <use x=\"95.410156\" xlink:href=\"#DejaVuSans-48\"/>\r\n       <use x=\"159.033203\" xlink:href=\"#DejaVuSans-54\"/>\r\n      </g>\r\n     </g>\r\n    </g>\r\n    <g id=\"ytick_5\">\r\n     <g id=\"line2d_10\">\r\n      <g>\r\n       <use style=\"stroke:#000000;stroke-width:0.8;\" x=\"50.14375\" xlink:href=\"#m9afbc3aded\" y=\"38.51136\"/>\r\n      </g>\r\n     </g>\r\n     <g id=\"text_11\">\r\n      <!-- 0.08 -->\r\n      <g transform=\"translate(20.878125 42.310579)scale(0.1 -0.1)\">\r\n       <defs>\r\n        <path d=\"M 31.78125 34.625 \r\nQ 24.75 34.625 20.71875 30.859375 \r\nQ 16.703125 27.09375 16.703125 20.515625 \r\nQ 16.703125 13.921875 20.71875 10.15625 \r\nQ 24.75 6.390625 31.78125 6.390625 \r\nQ 38.8125 6.390625 42.859375 10.171875 \r\nQ 46.921875 13.96875 46.921875 20.515625 \r\nQ 46.921875 27.09375 42.890625 30.859375 \r\nQ 38.875 34.625 31.78125 34.625 \r\nz\r\nM 21.921875 38.8125 \r\nQ 15.578125 40.375 12.03125 44.71875 \r\nQ 8.5 49.078125 8.5 55.328125 \r\nQ 8.5 64.0625 14.71875 69.140625 \r\nQ 20.953125 74.21875 31.78125 74.21875 \r\nQ 42.671875 74.21875 48.875 69.140625 \r\nQ 55.078125 64.0625 55.078125 55.328125 \r\nQ 55.078125 49.078125 51.53125 44.71875 \r\nQ 48 40.375 41.703125 38.8125 \r\nQ 48.828125 37.15625 52.796875 32.3125 \r\nQ 56.78125 27.484375 56.78125 20.515625 \r\nQ 56.78125 9.90625 50.3125 4.234375 \r\nQ 43.84375 -1.421875 31.78125 -1.421875 \r\nQ 19.734375 -1.421875 13.25 4.234375 \r\nQ 6.78125 9.90625 6.78125 20.515625 \r\nQ 6.78125 27.484375 10.78125 32.3125 \r\nQ 14.796875 37.15625 21.921875 38.8125 \r\nz\r\nM 18.3125 54.390625 \r\nQ 18.3125 48.734375 21.84375 45.5625 \r\nQ 25.390625 42.390625 31.78125 42.390625 \r\nQ 38.140625 42.390625 41.71875 45.5625 \r\nQ 45.3125 48.734375 45.3125 54.390625 \r\nQ 45.3125 60.0625 41.71875 63.234375 \r\nQ 38.140625 66.40625 31.78125 66.40625 \r\nQ 25.390625 66.40625 21.84375 63.234375 \r\nQ 18.3125 60.0625 18.3125 54.390625 \r\nz\r\n\" id=\"DejaVuSans-56\"/>\r\n       </defs>\r\n       <use xlink:href=\"#DejaVuSans-48\"/>\r\n       <use x=\"63.623047\" xlink:href=\"#DejaVuSans-46\"/>\r\n       <use x=\"95.410156\" xlink:href=\"#DejaVuSans-48\"/>\r\n       <use x=\"159.033203\" xlink:href=\"#DejaVuSans-56\"/>\r\n      </g>\r\n     </g>\r\n    </g>\r\n    <g id=\"text_12\">\r\n     <!-- Density -->\r\n     <g transform=\"translate(14.798438 134.928594)rotate(-90)scale(0.1 -0.1)\">\r\n      <defs>\r\n       <path d=\"M 19.671875 64.796875 \r\nL 19.671875 8.109375 \r\nL 31.59375 8.109375 \r\nQ 46.6875 8.109375 53.6875 14.9375 \r\nQ 60.6875 21.78125 60.6875 36.53125 \r\nQ 60.6875 51.171875 53.6875 57.984375 \r\nQ 46.6875 64.796875 31.59375 64.796875 \r\nz\r\nM 9.8125 72.90625 \r\nL 30.078125 72.90625 \r\nQ 51.265625 72.90625 61.171875 64.09375 \r\nQ 71.09375 55.28125 71.09375 36.53125 \r\nQ 71.09375 17.671875 61.125 8.828125 \r\nQ 51.171875 0 30.078125 0 \r\nL 9.8125 0 \r\nz\r\n\" id=\"DejaVuSans-68\"/>\r\n       <path d=\"M 54.890625 33.015625 \r\nL 54.890625 0 \r\nL 45.90625 0 \r\nL 45.90625 32.71875 \r\nQ 45.90625 40.484375 42.875 44.328125 \r\nQ 39.84375 48.1875 33.796875 48.1875 \r\nQ 26.515625 48.1875 22.3125 43.546875 \r\nQ 18.109375 38.921875 18.109375 30.90625 \r\nL 18.109375 0 \r\nL 9.078125 0 \r\nL 9.078125 54.6875 \r\nL 18.109375 54.6875 \r\nL 18.109375 46.1875 \r\nQ 21.34375 51.125 25.703125 53.5625 \r\nQ 30.078125 56 35.796875 56 \r\nQ 45.21875 56 50.046875 50.171875 \r\nQ 54.890625 44.34375 54.890625 33.015625 \r\nz\r\n\" id=\"DejaVuSans-110\"/>\r\n       <path d=\"M 44.28125 53.078125 \r\nL 44.28125 44.578125 \r\nQ 40.484375 46.53125 36.375 47.5 \r\nQ 32.28125 48.484375 27.875 48.484375 \r\nQ 21.1875 48.484375 17.84375 46.4375 \r\nQ 14.5 44.390625 14.5 40.28125 \r\nQ 14.5 37.15625 16.890625 35.375 \r\nQ 19.28125 33.59375 26.515625 31.984375 \r\nL 29.59375 31.296875 \r\nQ 39.15625 29.25 43.1875 25.515625 \r\nQ 47.21875 21.78125 47.21875 15.09375 \r\nQ 47.21875 7.46875 41.1875 3.015625 \r\nQ 35.15625 -1.421875 24.609375 -1.421875 \r\nQ 20.21875 -1.421875 15.453125 -0.5625 \r\nQ 10.6875 0.296875 5.421875 2 \r\nL 5.421875 11.28125 \r\nQ 10.40625 8.6875 15.234375 7.390625 \r\nQ 20.0625 6.109375 24.8125 6.109375 \r\nQ 31.15625 6.109375 34.5625 8.28125 \r\nQ 37.984375 10.453125 37.984375 14.40625 \r\nQ 37.984375 18.0625 35.515625 20.015625 \r\nQ 33.0625 21.96875 24.703125 23.78125 \r\nL 21.578125 24.515625 \r\nQ 13.234375 26.265625 9.515625 29.90625 \r\nQ 5.8125 33.546875 5.8125 39.890625 \r\nQ 5.8125 47.609375 11.28125 51.796875 \r\nQ 16.75 56 26.8125 56 \r\nQ 31.78125 56 36.171875 55.265625 \r\nQ 40.578125 54.546875 44.28125 53.078125 \r\nz\r\n\" id=\"DejaVuSans-115\"/>\r\n       <path d=\"M 9.421875 54.6875 \r\nL 18.40625 54.6875 \r\nL 18.40625 0 \r\nL 9.421875 0 \r\nz\r\nM 9.421875 75.984375 \r\nL 18.40625 75.984375 \r\nL 18.40625 64.59375 \r\nL 9.421875 64.59375 \r\nz\r\n\" id=\"DejaVuSans-105\"/>\r\n       <path d=\"M 18.3125 70.21875 \r\nL 18.3125 54.6875 \r\nL 36.8125 54.6875 \r\nL 36.8125 47.703125 \r\nL 18.3125 47.703125 \r\nL 18.3125 18.015625 \r\nQ 18.3125 11.328125 20.140625 9.421875 \r\nQ 21.96875 7.515625 27.59375 7.515625 \r\nL 36.8125 7.515625 \r\nL 36.8125 0 \r\nL 27.59375 0 \r\nQ 17.1875 0 13.234375 3.875 \r\nQ 9.28125 7.765625 9.28125 18.015625 \r\nL 9.28125 47.703125 \r\nL 2.6875 47.703125 \r\nL 2.6875 54.6875 \r\nL 9.28125 54.6875 \r\nL 9.28125 70.21875 \r\nz\r\n\" id=\"DejaVuSans-116\"/>\r\n       <path d=\"M 32.171875 -5.078125 \r\nQ 28.375 -14.84375 24.75 -17.8125 \r\nQ 21.140625 -20.796875 15.09375 -20.796875 \r\nL 7.90625 -20.796875 \r\nL 7.90625 -13.28125 \r\nL 13.1875 -13.28125 \r\nQ 16.890625 -13.28125 18.9375 -11.515625 \r\nQ 21 -9.765625 23.484375 -3.21875 \r\nL 25.09375 0.875 \r\nL 2.984375 54.6875 \r\nL 12.5 54.6875 \r\nL 29.59375 11.921875 \r\nL 46.6875 54.6875 \r\nL 56.203125 54.6875 \r\nz\r\n\" id=\"DejaVuSans-121\"/>\r\n      </defs>\r\n      <use xlink:href=\"#DejaVuSans-68\"/>\r\n      <use x=\"77.001953\" xlink:href=\"#DejaVuSans-101\"/>\r\n      <use x=\"138.525391\" xlink:href=\"#DejaVuSans-110\"/>\r\n      <use x=\"201.904297\" xlink:href=\"#DejaVuSans-115\"/>\r\n      <use x=\"254.003906\" xlink:href=\"#DejaVuSans-105\"/>\r\n      <use x=\"281.787109\" xlink:href=\"#DejaVuSans-116\"/>\r\n      <use x=\"320.996094\" xlink:href=\"#DejaVuSans-121\"/>\r\n     </g>\r\n    </g>\r\n   </g>\r\n   <g id=\"line2d_11\">\r\n    <path clip-path=\"url(#p26fd07f8ba)\" d=\"M 65.361932 224.630045 \r\nL 71.479794 224.474164 \r\nL 76.06819 224.077216 \r\nL 79.127121 223.807243 \r\nL 82.186052 223.761349 \r\nL 85.244983 223.978936 \r\nL 91.362845 224.503312 \r\nL 95.951242 224.611565 \r\nL 102.069104 224.518569 \r\nL 106.657501 224.227784 \r\nL 114.304828 223.619821 \r\nL 117.363759 223.634784 \r\nL 123.481621 223.783731 \r\nL 126.540552 223.508117 \r\nL 134.18788 222.232023 \r\nL 135.717345 222.193951 \r\nL 138.776276 222.435346 \r\nL 144.894138 223.477078 \r\nL 147.953069 223.90664 \r\nL 151.012 224.166771 \r\nL 154.070931 224.257747 \r\nL 157.129862 224.181523 \r\nL 160.188793 223.913646 \r\nL 163.247724 223.398555 \r\nL 166.306655 222.527548 \r\nL 167.836121 221.899004 \r\nL 169.365586 221.096218 \r\nL 170.895052 220.079148 \r\nL 172.424517 218.807517 \r\nL 173.953983 217.245186 \r\nL 175.483448 215.363581 \r\nL 177.012914 213.14385 \r\nL 178.54238 210.578828 \r\nL 180.071845 207.67582 \r\nL 181.601311 204.459303 \r\nL 184.660242 197.26869 \r\nL 192.307569 178.120832 \r\nL 195.3665 171.332479 \r\nL 199.954897 162.103812 \r\nL 203.013828 155.79159 \r\nL 206.072759 148.713256 \r\nL 209.13169 140.786306 \r\nL 212.190621 132.054751 \r\nL 213.720086 127.22893 \r\nL 215.249552 121.925554 \r\nL 216.779017 116.045792 \r\nL 219.837948 102.751873 \r\nL 222.896879 89.180277 \r\nL 224.426345 83.213672 \r\nL 225.95581 78.163631 \r\nL 227.485276 74.122315 \r\nL 229.014741 71.042712 \r\nL 230.544207 68.7831 \r\nL 232.073672 67.152317 \r\nL 233.603138 65.951867 \r\nL 235.132603 65.021275 \r\nL 236.662069 64.283474 \r\nL 238.191534 63.776208 \r\nL 239.721 63.655235 \r\nL 241.250465 64.160455 \r\nL 242.779931 65.545123 \r\nL 244.309396 67.987037 \r\nL 245.838862 71.520037 \r\nL 247.368327 76.019322 \r\nL 248.897793 81.240196 \r\nL 253.486189 98.17502 \r\nL 255.015655 103.310278 \r\nL 256.54512 107.867773 \r\nL 258.074586 111.780839 \r\nL 259.604052 115.066215 \r\nL 261.133517 117.796099 \r\nL 262.662983 120.056686 \r\nL 264.192448 121.908268 \r\nL 265.721914 123.366564 \r\nL 267.251379 124.418171 \r\nL 268.780845 125.064606 \r\nL 270.31031 125.372351 \r\nL 273.369241 125.698826 \r\nL 274.898707 126.239412 \r\nL 276.428172 127.356169 \r\nL 277.957638 129.170066 \r\nL 279.487103 131.665985 \r\nL 281.016569 134.715973 \r\nL 288.663896 151.557854 \r\nL 290.193362 154.221342 \r\nL 291.722827 156.545894 \r\nL 294.781758 160.458878 \r\nL 299.370155 165.842583 \r\nL 302.429086 169.748342 \r\nL 307.017482 175.661307 \r\nL 308.546948 177.355252 \r\nL 310.076413 178.808523 \r\nL 311.605879 180.005015 \r\nL 313.135344 180.962129 \r\nL 314.66481 181.723589 \r\nL 317.723741 182.907034 \r\nL 320.782672 184.064486 \r\nL 323.841603 185.519199 \r\nL 329.959465 188.812306 \r\nL 333.018396 190.091177 \r\nL 334.547861 190.557954 \r\nL 336.077327 190.864414 \r\nL 337.606792 190.916634 \r\nL 339.136258 190.517418 \r\nL 340.665724 189.317175 \r\nL 342.195189 186.799092 \r\nL 343.724655 182.353362 \r\nL 345.25412 175.486143 \r\nL 346.783586 166.148763 \r\nL 349.842517 143.905229 \r\nL 351.371982 134.978991 \r\nL 352.901448 130.660377 \r\nL 354.430913 132.521757 \r\nL 355.960379 140.705731 \r\nL 357.489844 153.823464 \r\nL 360.548775 184.981827 \r\nL 362.078241 198.389526 \r\nL 363.607706 208.647015 \r\nL 365.137172 215.676236 \r\nL 366.666637 220.019705 \r\nL 368.196103 222.450405 \r\nL 369.725568 223.686103 \r\nL 369.725568 223.686103 \r\n\" style=\"fill:none;stroke:#1f77b4;stroke-linecap:square;stroke-width:1.5;\"/>\r\n   </g>\r\n   <g id=\"patch_53\">\r\n    <path d=\"M 50.14375 224.64 \r\nL 50.14375 7.2 \r\n\" style=\"fill:none;stroke:#000000;stroke-linecap:square;stroke-linejoin:miter;stroke-width:0.8;\"/>\r\n   </g>\r\n   <g id=\"patch_54\">\r\n    <path d=\"M 384.94375 224.64 \r\nL 384.94375 7.2 \r\n\" style=\"fill:none;stroke:#000000;stroke-linecap:square;stroke-linejoin:miter;stroke-width:0.8;\"/>\r\n   </g>\r\n   <g id=\"patch_55\">\r\n    <path d=\"M 50.14375 224.64 \r\nL 384.94375 224.64 \r\n\" style=\"fill:none;stroke:#000000;stroke-linecap:square;stroke-linejoin:miter;stroke-width:0.8;\"/>\r\n   </g>\r\n   <g id=\"patch_56\">\r\n    <path d=\"M 50.14375 7.2 \r\nL 384.94375 7.2 \r\n\" style=\"fill:none;stroke:#000000;stroke-linecap:square;stroke-linejoin:miter;stroke-width:0.8;\"/>\r\n   </g>\r\n  </g>\r\n </g>\r\n <defs>\r\n  <clipPath id=\"p26fd07f8ba\">\r\n   <rect height=\"217.44\" width=\"334.8\" x=\"50.14375\" y=\"7.2\"/>\r\n  </clipPath>\r\n </defs>\r\n</svg>\r\n",
      "image/png": "[encoded data removed]"
     },
     "metadata": {
      "needs_background": "light"
     }
    }
   ],
   "source": [
    "def get_age(df,col = 'age'):\n",
    "    df[col+\"_genFeat1\"]=(df['age'] > 18).astype(int)\n",
    "    df[col+\"_genFeat2\"]=(df['age'] > 25).astype(int)\n",
    "    df[col+\"_genFeat3\"]=(df['age'] > 30).astype(int)\n",
    "    df[col+\"_genFeat4\"]=(df['age'] > 35).astype(int)\n",
    "    df[col+\"_genFeat5\"]=(df['age'] > 40).astype(int)\n",
    "    df[col+\"_genFeat6\"]=(df['age'] > 45).astype(int)\n",
    "    return df, [col + f'_genFeat{i}' for i in range(1, 7)]\n",
    "\n",
    "df['age'] = ((1609430399 - df['CSNY']) / (365 * 24 * 3600)).astype(int)\n",
    "df, genFeats1 = get_age(df, col = 'age')\n",
    "\n",
    "sns.distplot(df['age'][df['age'] > 0])"
   ]
  },
  {
   "cell_type": "code",
   "execution_count": 12,
   "metadata": {},
   "outputs": [
    {
     "output_type": "execute_result",
     "data": {
      "text/plain": [
       "<AxesSubplot:xlabel='DKFFE', ylabel='Density'>"
      ]
     },
     "metadata": {},
     "execution_count": 12
    },
    {
     "output_type": "display_data",
     "data": {
      "text/plain": "<Figure size 576x144 with 2 Axes>",
      "image/svg+xml": "<?xml version=\"1.0\" encoding=\"utf-8\" standalone=\"no\"?>\r\n<!DOCTYPE svg PUBLIC \"-//W3C//DTD SVG 1.1//EN\"\r\n  \"http://www.w3.org/Graphics/SVG/1.1/DTD/svg11.dtd\">\r\n<!-- Created with matplotlib (https://matplotlib.org/) -->\r\n<svg height=\"164.074687pt\" version=\"1.1\" viewBox=\"0 0 497.981963 164.074687\" width=\"497.981963pt\" xmlns=\"http://www.w3.org/2000/svg\" xmlns:xlink=\"http://www.w3.org/1999/xlink\">\r\n <metadata>\r\n  <rdf:RDF xmlns:cc=\"http://creativecommons.org/ns#\" xmlns:dc=\"http://purl.org/dc/elements/1.1/\" xmlns:rdf=\"http://www.w3.org/1999/02/22-rdf-syntax-ns#\">\r\n   <cc:Work>\r\n    <dc:type rdf:resource=\"http://purl.org/dc/dcmitype/StillImage\"/>\r\n    <dc:date>2021-01-21T17:08:12.079546</dc:date>\r\n    <dc:format>image/svg+xml</dc:format>\r\n    <dc:creator>\r\n     <cc:Agent>\r\n      <dc:title>Matplotlib v3.3.1, https://matplotlib.org/</dc:title>\r\n     </cc:Agent>\r\n    </dc:creator>\r\n   </cc:Work>\r\n  </rdf:RDF>\r\n </metadata>\r\n <defs>\r\n  <style type=\"text/css\">*{stroke-linecap:butt;stroke-linejoin:round;}</style>\r\n </defs>\r\n <g id=\"figure_1\">\r\n  <g id=\"patch_1\">\r\n   <path d=\"M 0 164.074687 \r\nL 497.981963 164.074687 \r\nL 497.981963 0 \r\nL 0 0 \r\nz\r\n\" style=\"fill:none;\"/>\r\n  </g>\r\n  <g id=\"axes_1\">\r\n   <g id=\"patch_2\">\r\n    <path d=\"M 34.240625 126.518437 \r\nL 237.149716 126.518437 \r\nL 237.149716 17.798437 \r\nL 34.240625 17.798437 \r\nz\r\n\" style=\"fill:#ffffff;\"/>\r\n   </g>\r\n   <g id=\"patch_3\">\r\n    <path clip-path=\"url(#pceeb832d41)\" d=\"M 65.115878 126.518437 \r\nL 71.532177 126.518437 \r\nL 71.532177 32.836805 \r\nL 65.115878 32.836805 \r\nz\r\n\" style=\"fill:#1f77b4;opacity:0.4;\"/>\r\n   </g>\r\n   <g id=\"patch_4\">\r\n    <path clip-path=\"url(#pceeb832d41)\" d=\"M 71.532177 126.518437 \r\nL 77.948476 126.518437 \r\nL 77.948476 105.035056 \r\nL 71.532177 105.035056 \r\nz\r\n\" style=\"fill:#1f77b4;opacity:0.4;\"/>\r\n   </g>\r\n   <g id=\"patch_5\">\r\n    <path clip-path=\"url(#pceeb832d41)\" d=\"M 77.948476 126.518437 \r\nL 84.364776 126.518437 \r\nL 84.364776 93.765085 \r\nL 77.948476 93.765085 \r\nz\r\n\" style=\"fill:#1f77b4;opacity:0.4;\"/>\r\n   </g>\r\n   <g id=\"patch_6\">\r\n    <path clip-path=\"url(#pceeb832d41)\" d=\"M 84.364776 126.518437 \r\nL 90.781075 126.518437 \r\nL 90.781075 85.664793 \r\nL 84.364776 85.664793 \r\nz\r\n\" style=\"fill:#1f77b4;opacity:0.4;\"/>\r\n   </g>\r\n   <g id=\"patch_7\">\r\n    <path clip-path=\"url(#pceeb832d41)\" d=\"M 90.781075 126.518437 \r\nL 97.197374 126.518437 \r\nL 97.197374 80.734181 \r\nL 90.781075 80.734181 \r\nz\r\n\" style=\"fill:#1f77b4;opacity:0.4;\"/>\r\n   </g>\r\n   <g id=\"patch_8\">\r\n    <path clip-path=\"url(#pceeb832d41)\" d=\"M 97.197374 126.518437 \r\nL 103.613674 126.518437 \r\nL 103.613674 69.112024 \r\nL 97.197374 69.112024 \r\nz\r\n\" style=\"fill:#1f77b4;opacity:0.4;\"/>\r\n   </g>\r\n   <g id=\"patch_9\">\r\n    <path clip-path=\"url(#pceeb832d41)\" d=\"M 103.613674 126.518437 \r\nL 110.029973 126.518437 \r\nL 110.029973 59.602986 \r\nL 103.613674 59.602986 \r\nz\r\n\" style=\"fill:#1f77b4;opacity:0.4;\"/>\r\n   </g>\r\n   <g id=\"patch_10\">\r\n    <path clip-path=\"url(#pceeb832d41)\" d=\"M 110.029973 126.518437 \r\nL 116.446272 126.518437 \r\nL 116.446272 46.572082 \r\nL 110.029973 46.572082 \r\nz\r\n\" style=\"fill:#1f77b4;opacity:0.4;\"/>\r\n   </g>\r\n   <g id=\"patch_11\">\r\n    <path clip-path=\"url(#pceeb832d41)\" d=\"M 116.446272 126.518437 \r\nL 122.862572 126.518437 \r\nL 122.862572 58.546426 \r\nL 116.446272 58.546426 \r\nz\r\n\" style=\"fill:#1f77b4;opacity:0.4;\"/>\r\n   </g>\r\n   <g id=\"patch_12\">\r\n    <path clip-path=\"url(#pceeb832d41)\" d=\"M 122.862572 126.518437 \r\nL 129.278871 126.518437 \r\nL 129.278871 22.97558 \r\nL 122.862572 22.97558 \r\nz\r\n\" style=\"fill:#1f77b4;opacity:0.4;\"/>\r\n   </g>\r\n   <g id=\"patch_13\">\r\n    <path clip-path=\"url(#pceeb832d41)\" d=\"M 129.278871 126.518437 \r\nL 135.69517 126.518437 \r\nL 135.69517 75.099196 \r\nL 129.278871 75.099196 \r\nz\r\n\" style=\"fill:#1f77b4;opacity:0.4;\"/>\r\n   </g>\r\n   <g id=\"patch_14\">\r\n    <path clip-path=\"url(#pceeb832d41)\" d=\"M 135.69517 126.518437 \r\nL 142.11147 126.518437 \r\nL 142.11147 77.212315 \r\nL 135.69517 77.212315 \r\nz\r\n\" style=\"fill:#1f77b4;opacity:0.4;\"/>\r\n   </g>\r\n   <g id=\"patch_15\">\r\n    <path clip-path=\"url(#pceeb832d41)\" d=\"M 142.11147 126.518437 \r\nL 148.527769 126.518437 \r\nL 148.527769 83.199487 \r\nL 142.11147 83.199487 \r\nz\r\n\" style=\"fill:#1f77b4;opacity:0.4;\"/>\r\n   </g>\r\n   <g id=\"patch_16\">\r\n    <path clip-path=\"url(#pceeb832d41)\" d=\"M 148.527769 126.518437 \r\nL 154.944068 126.518437 \r\nL 154.944068 94.117271 \r\nL 148.527769 94.117271 \r\nz\r\n\" style=\"fill:#1f77b4;opacity:0.4;\"/>\r\n   </g>\r\n   <g id=\"patch_17\">\r\n    <path clip-path=\"url(#pceeb832d41)\" d=\"M 154.944068 126.518437 \r\nL 161.360368 126.518437 \r\nL 161.360368 95.173831 \r\nL 154.944068 95.173831 \r\nz\r\n\" style=\"fill:#1f77b4;opacity:0.4;\"/>\r\n   </g>\r\n   <g id=\"patch_18\">\r\n    <path clip-path=\"url(#pceeb832d41)\" d=\"M 161.360368 126.518437 \r\nL 167.776667 126.518437 \r\nL 167.776667 105.739429 \r\nL 161.360368 105.739429 \r\nz\r\n\" style=\"fill:#1f77b4;opacity:0.4;\"/>\r\n   </g>\r\n   <g id=\"patch_19\">\r\n    <path clip-path=\"url(#pceeb832d41)\" d=\"M 167.776667 126.518437 \r\nL 174.192966 126.518437 \r\nL 174.192966 102.921936 \r\nL 167.776667 102.921936 \r\nz\r\n\" style=\"fill:#1f77b4;opacity:0.4;\"/>\r\n   </g>\r\n   <g id=\"patch_20\">\r\n    <path clip-path=\"url(#pceeb832d41)\" d=\"M 174.192966 126.518437 \r\nL 180.609266 126.518437 \r\nL 180.609266 93.060712 \r\nL 174.192966 93.060712 \r\nz\r\n\" style=\"fill:#1f77b4;opacity:0.4;\"/>\r\n   </g>\r\n   <g id=\"patch_21\">\r\n    <path clip-path=\"url(#pceeb832d41)\" d=\"M 180.609266 126.518437 \r\nL 187.025565 126.518437 \r\nL 187.025565 96.582577 \r\nL 180.609266 96.582577 \r\nz\r\n\" style=\"fill:#1f77b4;opacity:0.4;\"/>\r\n   </g>\r\n   <g id=\"patch_22\">\r\n    <path clip-path=\"url(#pceeb832d41)\" d=\"M 187.025565 126.518437 \r\nL 193.441864 126.518437 \r\nL 193.441864 103.978496 \r\nL 187.025565 103.978496 \r\nz\r\n\" style=\"fill:#1f77b4;opacity:0.4;\"/>\r\n   </g>\r\n   <g id=\"patch_23\">\r\n    <path clip-path=\"url(#pceeb832d41)\" d=\"M 193.441864 126.518437 \r\nL 199.858164 126.518437 \r\nL 199.858164 116.305026 \r\nL 193.441864 116.305026 \r\nz\r\n\" style=\"fill:#1f77b4;opacity:0.4;\"/>\r\n   </g>\r\n   <g id=\"patch_24\">\r\n    <path clip-path=\"url(#pceeb832d41)\" d=\"M 199.858164 126.518437 \r\nL 206.274463 126.518437 \r\nL 206.274463 114.191907 \r\nL 199.858164 114.191907 \r\nz\r\n\" style=\"fill:#1f77b4;opacity:0.4;\"/>\r\n   </g>\r\n   <g id=\"matplotlib.axis_1\">\r\n    <g id=\"xtick_1\">\r\n     <g id=\"line2d_1\">\r\n      <defs>\r\n       <path d=\"M 0 0 \r\nL 0 3.5 \r\n\" id=\"mcebaa9df7c\" style=\"stroke:#000000;stroke-width:0.8;\"/>\r\n      </defs>\r\n      <g>\r\n       <use style=\"stroke:#000000;stroke-width:0.8;\" x=\"65.014359\" xlink:href=\"#mcebaa9df7c\" y=\"126.518437\"/>\r\n      </g>\r\n     </g>\r\n     <g id=\"text_1\">\r\n      <!-- 0 -->\r\n      <g transform=\"translate(61.833109 141.116875)scale(0.1 -0.1)\">\r\n       <defs>\r\n        <path d=\"M 31.78125 66.40625 \r\nQ 24.171875 66.40625 20.328125 58.90625 \r\nQ 16.5 51.421875 16.5 36.375 \r\nQ 16.5 21.390625 20.328125 13.890625 \r\nQ 24.171875 6.390625 31.78125 6.390625 \r\nQ 39.453125 6.390625 43.28125 13.890625 \r\nQ 47.125 21.390625 47.125 36.375 \r\nQ 47.125 51.421875 43.28125 58.90625 \r\nQ 39.453125 66.40625 31.78125 66.40625 \r\nz\r\nM 31.78125 74.21875 \r\nQ 44.046875 74.21875 50.515625 64.515625 \r\nQ 56.984375 54.828125 56.984375 36.375 \r\nQ 56.984375 17.96875 50.515625 8.265625 \r\nQ 44.046875 -1.421875 31.78125 -1.421875 \r\nQ 19.53125 -1.421875 13.0625 8.265625 \r\nQ 6.59375 17.96875 6.59375 36.375 \r\nQ 6.59375 54.828125 13.0625 64.515625 \r\nQ 19.53125 74.21875 31.78125 74.21875 \r\nz\r\n\" id=\"DejaVuSans-48\"/>\r\n       </defs>\r\n       <use xlink:href=\"#DejaVuSans-48\"/>\r\n      </g>\r\n     </g>\r\n    </g>\r\n    <g id=\"xtick_2\">\r\n     <g id=\"line2d_2\">\r\n      <g>\r\n       <use style=\"stroke:#000000;stroke-width:0.8;\" x=\"107.849424\" xlink:href=\"#mcebaa9df7c\" y=\"126.518437\"/>\r\n      </g>\r\n     </g>\r\n     <g id=\"text_2\">\r\n      <!-- 100000 -->\r\n      <g transform=\"translate(88.761924 141.116875)scale(0.1 -0.1)\">\r\n       <defs>\r\n        <path d=\"M 12.40625 8.296875 \r\nL 28.515625 8.296875 \r\nL 28.515625 63.921875 \r\nL 10.984375 60.40625 \r\nL 10.984375 69.390625 \r\nL 28.421875 72.90625 \r\nL 38.28125 72.90625 \r\nL 38.28125 8.296875 \r\nL 54.390625 8.296875 \r\nL 54.390625 0 \r\nL 12.40625 0 \r\nz\r\n\" id=\"DejaVuSans-49\"/>\r\n       </defs>\r\n       <use xlink:href=\"#DejaVuSans-49\"/>\r\n       <use x=\"63.623047\" xlink:href=\"#DejaVuSans-48\"/>\r\n       <use x=\"127.246094\" xlink:href=\"#DejaVuSans-48\"/>\r\n       <use x=\"190.869141\" xlink:href=\"#DejaVuSans-48\"/>\r\n       <use x=\"254.492188\" xlink:href=\"#DejaVuSans-48\"/>\r\n       <use x=\"318.115234\" xlink:href=\"#DejaVuSans-48\"/>\r\n      </g>\r\n     </g>\r\n    </g>\r\n    <g id=\"xtick_3\">\r\n     <g id=\"line2d_3\">\r\n      <g>\r\n       <use style=\"stroke:#000000;stroke-width:0.8;\" x=\"150.68449\" xlink:href=\"#mcebaa9df7c\" y=\"126.518437\"/>\r\n      </g>\r\n     </g>\r\n     <g id=\"text_3\">\r\n      <!-- 200000 -->\r\n      <g transform=\"translate(131.59699 141.116875)scale(0.1 -0.1)\">\r\n       <defs>\r\n        <path d=\"M 19.1875 8.296875 \r\nL 53.609375 8.296875 \r\nL 53.609375 0 \r\nL 7.328125 0 \r\nL 7.328125 8.296875 \r\nQ 12.9375 14.109375 22.625 23.890625 \r\nQ 32.328125 33.6875 34.8125 36.53125 \r\nQ 39.546875 41.84375 41.421875 45.53125 \r\nQ 43.3125 49.21875 43.3125 52.78125 \r\nQ 43.3125 58.59375 39.234375 62.25 \r\nQ 35.15625 65.921875 28.609375 65.921875 \r\nQ 23.96875 65.921875 18.8125 64.3125 \r\nQ 13.671875 62.703125 7.8125 59.421875 \r\nL 7.8125 69.390625 \r\nQ 13.765625 71.78125 18.9375 73 \r\nQ 24.125 74.21875 28.421875 74.21875 \r\nQ 39.75 74.21875 46.484375 68.546875 \r\nQ 53.21875 62.890625 53.21875 53.421875 \r\nQ 53.21875 48.921875 51.53125 44.890625 \r\nQ 49.859375 40.875 45.40625 35.40625 \r\nQ 44.1875 33.984375 37.640625 27.21875 \r\nQ 31.109375 20.453125 19.1875 8.296875 \r\nz\r\n\" id=\"DejaVuSans-50\"/>\r\n       </defs>\r\n       <use xlink:href=\"#DejaVuSans-50\"/>\r\n       <use x=\"63.623047\" xlink:href=\"#DejaVuSans-48\"/>\r\n       <use x=\"127.246094\" xlink:href=\"#DejaVuSans-48\"/>\r\n       <use x=\"190.869141\" xlink:href=\"#DejaVuSans-48\"/>\r\n       <use x=\"254.492188\" xlink:href=\"#DejaVuSans-48\"/>\r\n       <use x=\"318.115234\" xlink:href=\"#DejaVuSans-48\"/>\r\n      </g>\r\n     </g>\r\n    </g>\r\n    <g id=\"xtick_4\">\r\n     <g id=\"line2d_4\">\r\n      <g>\r\n       <use style=\"stroke:#000000;stroke-width:0.8;\" x=\"193.519556\" xlink:href=\"#mcebaa9df7c\" y=\"126.518437\"/>\r\n      </g>\r\n     </g>\r\n     <g id=\"text_4\">\r\n      <!-- 300000 -->\r\n      <g transform=\"translate(174.432056 141.116875)scale(0.1 -0.1)\">\r\n       <defs>\r\n        <path d=\"M 40.578125 39.3125 \r\nQ 47.65625 37.796875 51.625 33 \r\nQ 55.609375 28.21875 55.609375 21.1875 \r\nQ 55.609375 10.40625 48.1875 4.484375 \r\nQ 40.765625 -1.421875 27.09375 -1.421875 \r\nQ 22.515625 -1.421875 17.65625 -0.515625 \r\nQ 12.796875 0.390625 7.625 2.203125 \r\nL 7.625 11.71875 \r\nQ 11.71875 9.328125 16.59375 8.109375 \r\nQ 21.484375 6.890625 26.8125 6.890625 \r\nQ 36.078125 6.890625 40.9375 10.546875 \r\nQ 45.796875 14.203125 45.796875 21.1875 \r\nQ 45.796875 27.640625 41.28125 31.265625 \r\nQ 36.765625 34.90625 28.71875 34.90625 \r\nL 20.21875 34.90625 \r\nL 20.21875 43.015625 \r\nL 29.109375 43.015625 \r\nQ 36.375 43.015625 40.234375 45.921875 \r\nQ 44.09375 48.828125 44.09375 54.296875 \r\nQ 44.09375 59.90625 40.109375 62.90625 \r\nQ 36.140625 65.921875 28.71875 65.921875 \r\nQ 24.65625 65.921875 20.015625 65.03125 \r\nQ 15.375 64.15625 9.8125 62.3125 \r\nL 9.8125 71.09375 \r\nQ 15.4375 72.65625 20.34375 73.4375 \r\nQ 25.25 74.21875 29.59375 74.21875 \r\nQ 40.828125 74.21875 47.359375 69.109375 \r\nQ 53.90625 64.015625 53.90625 55.328125 \r\nQ 53.90625 49.265625 50.4375 45.09375 \r\nQ 46.96875 40.921875 40.578125 39.3125 \r\nz\r\n\" id=\"DejaVuSans-51\"/>\r\n       </defs>\r\n       <use xlink:href=\"#DejaVuSans-51\"/>\r\n       <use x=\"63.623047\" xlink:href=\"#DejaVuSans-48\"/>\r\n       <use x=\"127.246094\" xlink:href=\"#DejaVuSans-48\"/>\r\n       <use x=\"190.869141\" xlink:href=\"#DejaVuSans-48\"/>\r\n       <use x=\"254.492188\" xlink:href=\"#DejaVuSans-48\"/>\r\n       <use x=\"318.115234\" xlink:href=\"#DejaVuSans-48\"/>\r\n      </g>\r\n     </g>\r\n    </g>\r\n    <g id=\"xtick_5\">\r\n     <g id=\"line2d_5\">\r\n      <g>\r\n       <use style=\"stroke:#000000;stroke-width:0.8;\" x=\"236.354621\" xlink:href=\"#mcebaa9df7c\" y=\"126.518437\"/>\r\n      </g>\r\n     </g>\r\n     <g id=\"text_5\">\r\n      <!-- 400000 -->\r\n      <g transform=\"translate(217.267121 141.116875)scale(0.1 -0.1)\">\r\n       <defs>\r\n        <path d=\"M 37.796875 64.3125 \r\nL 12.890625 25.390625 \r\nL 37.796875 25.390625 \r\nz\r\nM 35.203125 72.90625 \r\nL 47.609375 72.90625 \r\nL 47.609375 25.390625 \r\nL 58.015625 25.390625 \r\nL 58.015625 17.1875 \r\nL 47.609375 17.1875 \r\nL 47.609375 0 \r\nL 37.796875 0 \r\nL 37.796875 17.1875 \r\nL 4.890625 17.1875 \r\nL 4.890625 26.703125 \r\nz\r\n\" id=\"DejaVuSans-52\"/>\r\n       </defs>\r\n       <use xlink:href=\"#DejaVuSans-52\"/>\r\n       <use x=\"63.623047\" xlink:href=\"#DejaVuSans-48\"/>\r\n       <use x=\"127.246094\" xlink:href=\"#DejaVuSans-48\"/>\r\n       <use x=\"190.869141\" xlink:href=\"#DejaVuSans-48\"/>\r\n       <use x=\"254.492188\" xlink:href=\"#DejaVuSans-48\"/>\r\n       <use x=\"318.115234\" xlink:href=\"#DejaVuSans-48\"/>\r\n      </g>\r\n     </g>\r\n    </g>\r\n    <g id=\"text_6\">\r\n     <!-- DKYE -->\r\n     <g transform=\"translate(122.534233 154.795)scale(0.1 -0.1)\">\r\n      <defs>\r\n       <path d=\"M 19.671875 64.796875 \r\nL 19.671875 8.109375 \r\nL 31.59375 8.109375 \r\nQ 46.6875 8.109375 53.6875 14.9375 \r\nQ 60.6875 21.78125 60.6875 36.53125 \r\nQ 60.6875 51.171875 53.6875 57.984375 \r\nQ 46.6875 64.796875 31.59375 64.796875 \r\nz\r\nM 9.8125 72.90625 \r\nL 30.078125 72.90625 \r\nQ 51.265625 72.90625 61.171875 64.09375 \r\nQ 71.09375 55.28125 71.09375 36.53125 \r\nQ 71.09375 17.671875 61.125 8.828125 \r\nQ 51.171875 0 30.078125 0 \r\nL 9.8125 0 \r\nz\r\n\" id=\"DejaVuSans-68\"/>\r\n       <path d=\"M 9.8125 72.90625 \r\nL 19.671875 72.90625 \r\nL 19.671875 42.09375 \r\nL 52.390625 72.90625 \r\nL 65.09375 72.90625 \r\nL 28.90625 38.921875 \r\nL 67.671875 0 \r\nL 54.6875 0 \r\nL 19.671875 35.109375 \r\nL 19.671875 0 \r\nL 9.8125 0 \r\nz\r\n\" id=\"DejaVuSans-75\"/>\r\n       <path d=\"M -0.203125 72.90625 \r\nL 10.40625 72.90625 \r\nL 30.609375 42.921875 \r\nL 50.6875 72.90625 \r\nL 61.28125 72.90625 \r\nL 35.5 34.71875 \r\nL 35.5 0 \r\nL 25.59375 0 \r\nL 25.59375 34.71875 \r\nz\r\n\" id=\"DejaVuSans-89\"/>\r\n       <path d=\"M 9.8125 72.90625 \r\nL 55.90625 72.90625 \r\nL 55.90625 64.59375 \r\nL 19.671875 64.59375 \r\nL 19.671875 43.015625 \r\nL 54.390625 43.015625 \r\nL 54.390625 34.71875 \r\nL 19.671875 34.71875 \r\nL 19.671875 8.296875 \r\nL 56.78125 8.296875 \r\nL 56.78125 0 \r\nL 9.8125 0 \r\nz\r\n\" id=\"DejaVuSans-69\"/>\r\n      </defs>\r\n      <use xlink:href=\"#DejaVuSans-68\"/>\r\n      <use x=\"77.001953\" xlink:href=\"#DejaVuSans-75\"/>\r\n      <use x=\"138.953125\" xlink:href=\"#DejaVuSans-89\"/>\r\n      <use x=\"200.037109\" xlink:href=\"#DejaVuSans-69\"/>\r\n     </g>\r\n    </g>\r\n   </g>\r\n   <g id=\"matplotlib.axis_2\">\r\n    <g id=\"ytick_1\">\r\n     <g id=\"line2d_6\">\r\n      <defs>\r\n       <path d=\"M 0 0 \r\nL -3.5 0 \r\n\" id=\"m192653ba4d\" style=\"stroke:#000000;stroke-width:0.8;\"/>\r\n      </defs>\r\n      <g>\r\n       <use style=\"stroke:#000000;stroke-width:0.8;\" x=\"34.240625\" xlink:href=\"#m192653ba4d\" y=\"126.518437\"/>\r\n      </g>\r\n     </g>\r\n     <g id=\"text_7\">\r\n      <!-- 0 -->\r\n      <g transform=\"translate(20.878125 130.317656)scale(0.1 -0.1)\">\r\n       <use xlink:href=\"#DejaVuSans-48\"/>\r\n      </g>\r\n     </g>\r\n    </g>\r\n    <g id=\"ytick_2\">\r\n     <g id=\"line2d_7\">\r\n      <g>\r\n       <use style=\"stroke:#000000;stroke-width:0.8;\" x=\"34.240625\" xlink:href=\"#m192653ba4d\" y=\"97.429708\"/>\r\n      </g>\r\n     </g>\r\n     <g id=\"text_8\">\r\n      <!-- 2 -->\r\n      <g transform=\"translate(20.878125 101.228927)scale(0.1 -0.1)\">\r\n       <use xlink:href=\"#DejaVuSans-50\"/>\r\n      </g>\r\n     </g>\r\n    </g>\r\n    <g id=\"ytick_3\">\r\n     <g id=\"line2d_8\">\r\n      <g>\r\n       <use style=\"stroke:#000000;stroke-width:0.8;\" x=\"34.240625\" xlink:href=\"#m192653ba4d\" y=\"68.340978\"/>\r\n      </g>\r\n     </g>\r\n     <g id=\"text_9\">\r\n      <!-- 4 -->\r\n      <g transform=\"translate(20.878125 72.140197)scale(0.1 -0.1)\">\r\n       <use xlink:href=\"#DejaVuSans-52\"/>\r\n      </g>\r\n     </g>\r\n    </g>\r\n    <g id=\"ytick_4\">\r\n     <g id=\"line2d_9\">\r\n      <g>\r\n       <use style=\"stroke:#000000;stroke-width:0.8;\" x=\"34.240625\" xlink:href=\"#m192653ba4d\" y=\"39.252248\"/>\r\n      </g>\r\n     </g>\r\n     <g id=\"text_10\">\r\n      <!-- 6 -->\r\n      <g transform=\"translate(20.878125 43.051467)scale(0.1 -0.1)\">\r\n       <defs>\r\n        <path d=\"M 33.015625 40.375 \r\nQ 26.375 40.375 22.484375 35.828125 \r\nQ 18.609375 31.296875 18.609375 23.390625 \r\nQ 18.609375 15.53125 22.484375 10.953125 \r\nQ 26.375 6.390625 33.015625 6.390625 \r\nQ 39.65625 6.390625 43.53125 10.953125 \r\nQ 47.40625 15.53125 47.40625 23.390625 \r\nQ 47.40625 31.296875 43.53125 35.828125 \r\nQ 39.65625 40.375 33.015625 40.375 \r\nz\r\nM 52.59375 71.296875 \r\nL 52.59375 62.3125 \r\nQ 48.875 64.0625 45.09375 64.984375 \r\nQ 41.3125 65.921875 37.59375 65.921875 \r\nQ 27.828125 65.921875 22.671875 59.328125 \r\nQ 17.53125 52.734375 16.796875 39.40625 \r\nQ 19.671875 43.65625 24.015625 45.921875 \r\nQ 28.375 48.1875 33.59375 48.1875 \r\nQ 44.578125 48.1875 50.953125 41.515625 \r\nQ 57.328125 34.859375 57.328125 23.390625 \r\nQ 57.328125 12.15625 50.6875 5.359375 \r\nQ 44.046875 -1.421875 33.015625 -1.421875 \r\nQ 20.359375 -1.421875 13.671875 8.265625 \r\nQ 6.984375 17.96875 6.984375 36.375 \r\nQ 6.984375 53.65625 15.1875 63.9375 \r\nQ 23.390625 74.21875 37.203125 74.21875 \r\nQ 40.921875 74.21875 44.703125 73.484375 \r\nQ 48.484375 72.75 52.59375 71.296875 \r\nz\r\n\" id=\"DejaVuSans-54\"/>\r\n       </defs>\r\n       <use xlink:href=\"#DejaVuSans-54\"/>\r\n      </g>\r\n     </g>\r\n    </g>\r\n    <g id=\"text_11\">\r\n     <!-- Density -->\r\n     <g transform=\"translate(14.798437 91.167031)rotate(-90)scale(0.1 -0.1)\">\r\n      <defs>\r\n       <path d=\"M 56.203125 29.59375 \r\nL 56.203125 25.203125 \r\nL 14.890625 25.203125 \r\nQ 15.484375 15.921875 20.484375 11.0625 \r\nQ 25.484375 6.203125 34.421875 6.203125 \r\nQ 39.59375 6.203125 44.453125 7.46875 \r\nQ 49.3125 8.734375 54.109375 11.28125 \r\nL 54.109375 2.78125 \r\nQ 49.265625 0.734375 44.1875 -0.34375 \r\nQ 39.109375 -1.421875 33.890625 -1.421875 \r\nQ 20.796875 -1.421875 13.15625 6.1875 \r\nQ 5.515625 13.8125 5.515625 26.8125 \r\nQ 5.515625 40.234375 12.765625 48.109375 \r\nQ 20.015625 56 32.328125 56 \r\nQ 43.359375 56 49.78125 48.890625 \r\nQ 56.203125 41.796875 56.203125 29.59375 \r\nz\r\nM 47.21875 32.234375 \r\nQ 47.125 39.59375 43.09375 43.984375 \r\nQ 39.0625 48.390625 32.421875 48.390625 \r\nQ 24.90625 48.390625 20.390625 44.140625 \r\nQ 15.875 39.890625 15.1875 32.171875 \r\nz\r\n\" id=\"DejaVuSans-101\"/>\r\n       <path d=\"M 54.890625 33.015625 \r\nL 54.890625 0 \r\nL 45.90625 0 \r\nL 45.90625 32.71875 \r\nQ 45.90625 40.484375 42.875 44.328125 \r\nQ 39.84375 48.1875 33.796875 48.1875 \r\nQ 26.515625 48.1875 22.3125 43.546875 \r\nQ 18.109375 38.921875 18.109375 30.90625 \r\nL 18.109375 0 \r\nL 9.078125 0 \r\nL 9.078125 54.6875 \r\nL 18.109375 54.6875 \r\nL 18.109375 46.1875 \r\nQ 21.34375 51.125 25.703125 53.5625 \r\nQ 30.078125 56 35.796875 56 \r\nQ 45.21875 56 50.046875 50.171875 \r\nQ 54.890625 44.34375 54.890625 33.015625 \r\nz\r\n\" id=\"DejaVuSans-110\"/>\r\n       <path d=\"M 44.28125 53.078125 \r\nL 44.28125 44.578125 \r\nQ 40.484375 46.53125 36.375 47.5 \r\nQ 32.28125 48.484375 27.875 48.484375 \r\nQ 21.1875 48.484375 17.84375 46.4375 \r\nQ 14.5 44.390625 14.5 40.28125 \r\nQ 14.5 37.15625 16.890625 35.375 \r\nQ 19.28125 33.59375 26.515625 31.984375 \r\nL 29.59375 31.296875 \r\nQ 39.15625 29.25 43.1875 25.515625 \r\nQ 47.21875 21.78125 47.21875 15.09375 \r\nQ 47.21875 7.46875 41.1875 3.015625 \r\nQ 35.15625 -1.421875 24.609375 -1.421875 \r\nQ 20.21875 -1.421875 15.453125 -0.5625 \r\nQ 10.6875 0.296875 5.421875 2 \r\nL 5.421875 11.28125 \r\nQ 10.40625 8.6875 15.234375 7.390625 \r\nQ 20.0625 6.109375 24.8125 6.109375 \r\nQ 31.15625 6.109375 34.5625 8.28125 \r\nQ 37.984375 10.453125 37.984375 14.40625 \r\nQ 37.984375 18.0625 35.515625 20.015625 \r\nQ 33.0625 21.96875 24.703125 23.78125 \r\nL 21.578125 24.515625 \r\nQ 13.234375 26.265625 9.515625 29.90625 \r\nQ 5.8125 33.546875 5.8125 39.890625 \r\nQ 5.8125 47.609375 11.28125 51.796875 \r\nQ 16.75 56 26.8125 56 \r\nQ 31.78125 56 36.171875 55.265625 \r\nQ 40.578125 54.546875 44.28125 53.078125 \r\nz\r\n\" id=\"DejaVuSans-115\"/>\r\n       <path d=\"M 9.421875 54.6875 \r\nL 18.40625 54.6875 \r\nL 18.40625 0 \r\nL 9.421875 0 \r\nz\r\nM 9.421875 75.984375 \r\nL 18.40625 75.984375 \r\nL 18.40625 64.59375 \r\nL 9.421875 64.59375 \r\nz\r\n\" id=\"DejaVuSans-105\"/>\r\n       <path d=\"M 18.3125 70.21875 \r\nL 18.3125 54.6875 \r\nL 36.8125 54.6875 \r\nL 36.8125 47.703125 \r\nL 18.3125 47.703125 \r\nL 18.3125 18.015625 \r\nQ 18.3125 11.328125 20.140625 9.421875 \r\nQ 21.96875 7.515625 27.59375 7.515625 \r\nL 36.8125 7.515625 \r\nL 36.8125 0 \r\nL 27.59375 0 \r\nQ 17.1875 0 13.234375 3.875 \r\nQ 9.28125 7.765625 9.28125 18.015625 \r\nL 9.28125 47.703125 \r\nL 2.6875 47.703125 \r\nL 2.6875 54.6875 \r\nL 9.28125 54.6875 \r\nL 9.28125 70.21875 \r\nz\r\n\" id=\"DejaVuSans-116\"/>\r\n       <path d=\"M 32.171875 -5.078125 \r\nQ 28.375 -14.84375 24.75 -17.8125 \r\nQ 21.140625 -20.796875 15.09375 -20.796875 \r\nL 7.90625 -20.796875 \r\nL 7.90625 -13.28125 \r\nL 13.1875 -13.28125 \r\nQ 16.890625 -13.28125 18.9375 -11.515625 \r\nQ 21 -9.765625 23.484375 -3.21875 \r\nL 25.09375 0.875 \r\nL 2.984375 54.6875 \r\nL 12.5 54.6875 \r\nL 29.59375 11.921875 \r\nL 46.6875 54.6875 \r\nL 56.203125 54.6875 \r\nz\r\n\" id=\"DejaVuSans-121\"/>\r\n      </defs>\r\n      <use xlink:href=\"#DejaVuSans-68\"/>\r\n      <use x=\"77.001953\" xlink:href=\"#DejaVuSans-101\"/>\r\n      <use x=\"138.525391\" xlink:href=\"#DejaVuSans-110\"/>\r\n      <use x=\"201.904297\" xlink:href=\"#DejaVuSans-115\"/>\r\n      <use x=\"254.003906\" xlink:href=\"#DejaVuSans-105\"/>\r\n      <use x=\"281.787109\" xlink:href=\"#DejaVuSans-116\"/>\r\n      <use x=\"320.996094\" xlink:href=\"#DejaVuSans-121\"/>\r\n     </g>\r\n    </g>\r\n    <g id=\"text_12\">\r\n     <!-- 1e−6 -->\r\n     <g transform=\"translate(34.240625 14.798437)scale(0.1 -0.1)\">\r\n      <defs>\r\n       <path d=\"M 10.59375 35.5 \r\nL 73.1875 35.5 \r\nL 73.1875 27.203125 \r\nL 10.59375 27.203125 \r\nz\r\n\" id=\"DejaVuSans-8722\"/>\r\n      </defs>\r\n      <use xlink:href=\"#DejaVuSans-49\"/>\r\n      <use x=\"63.623047\" xlink:href=\"#DejaVuSans-101\"/>\r\n      <use x=\"125.146484\" xlink:href=\"#DejaVuSans-8722\"/>\r\n      <use x=\"208.935547\" xlink:href=\"#DejaVuSans-54\"/>\r\n     </g>\r\n    </g>\r\n   </g>\r\n   <g id=\"line2d_10\">\r\n    <path clip-path=\"url(#pceeb832d41)\" d=\"M 43.463765 126.189264 \r\nL 45.317663 125.826367 \r\nL 47.171561 125.155159 \r\nL 48.098509 124.651112 \r\nL 49.025458 124.001813 \r\nL 49.952407 123.18113 \r\nL 50.879356 122.163601 \r\nL 51.806305 120.926439 \r\nL 52.733253 119.451894 \r\nL 53.660202 117.7298 \r\nL 55.5141 113.555003 \r\nL 57.367997 108.557603 \r\nL 62.002741 95.376916 \r\nL 62.92969 93.223261 \r\nL 63.856639 91.395824 \r\nL 64.783588 89.941125 \r\nL 65.710537 88.885908 \r\nL 66.637485 88.235147 \r\nL 67.564434 87.97184 \r\nL 68.491383 88.058624 \r\nL 69.418332 88.441 \r\nL 70.345281 89.051824 \r\nL 72.199178 90.658755 \r\nL 74.053076 92.290443 \r\nL 74.980024 92.959922 \r\nL 75.906973 93.472252 \r\nL 76.833922 93.799925 \r\nL 77.760871 93.928968 \r\nL 78.68782 93.857619 \r\nL 79.614768 93.594314 \r\nL 80.541717 93.155273 \r\nL 82.395615 91.838537 \r\nL 84.249512 90.099287 \r\nL 87.030359 87.065936 \r\nL 90.738154 82.682624 \r\nL 93.519 79.140064 \r\nL 96.299847 75.223286 \r\nL 99.080693 70.893233 \r\nL 104.642386 62.016404 \r\nL 106.496283 59.483222 \r\nL 108.350181 57.354588 \r\nL 110.204079 55.652464 \r\nL 112.057976 54.314408 \r\nL 114.838823 52.713982 \r\nL 119.473567 50.388695 \r\nL 121.327464 49.751596 \r\nL 122.254413 49.601875 \r\nL 123.181362 49.609974 \r\nL 124.108311 49.806969 \r\nL 125.035259 50.218054 \r\nL 125.962208 50.860086 \r\nL 126.889157 51.739872 \r\nL 127.816106 52.853402 \r\nL 128.743055 54.186066 \r\nL 130.596952 57.405157 \r\nL 133.377798 63.087399 \r\nL 137.085594 70.792592 \r\nL 139.86644 75.943372 \r\nL 142.647286 80.456445 \r\nL 145.428133 84.44372 \r\nL 148.208979 87.971351 \r\nL 150.989826 91.040845 \r\nL 153.770672 93.678211 \r\nL 156.551518 95.968068 \r\nL 159.332365 97.977328 \r\nL 162.113211 99.653131 \r\nL 163.967109 100.496679 \r\nL 165.821006 101.044102 \r\nL 167.674904 101.247632 \r\nL 169.528801 101.100243 \r\nL 171.382699 100.6495 \r\nL 174.163545 99.644153 \r\nL 176.944392 98.711844 \r\nL 178.798289 98.402782 \r\nL 180.652187 98.490215 \r\nL 181.579136 98.70412 \r\nL 183.433033 99.478227 \r\nL 185.286931 100.675596 \r\nL 187.140828 102.208185 \r\nL 189.921675 104.88758 \r\nL 196.410316 111.357837 \r\nL 201.972009 116.512445 \r\nL 205.679804 119.779472 \r\nL 208.460651 121.962366 \r\nL 210.314548 123.195016 \r\nL 212.168446 124.208079 \r\nL 214.022344 124.992439 \r\nL 215.876241 125.56307 \r\nL 217.730139 125.952561 \r\nL 220.510985 126.286644 \r\nL 224.21878 126.460979 \r\nL 227.926575 126.507219 \r\nL 227.926575 126.507219 \r\n\" style=\"fill:none;stroke:#1f77b4;stroke-linecap:square;stroke-width:1.5;\"/>\r\n   </g>\r\n   <g id=\"patch_25\">\r\n    <path d=\"M 34.240625 126.518437 \r\nL 34.240625 17.798437 \r\n\" style=\"fill:none;stroke:#000000;stroke-linecap:square;stroke-linejoin:miter;stroke-width:0.8;\"/>\r\n   </g>\r\n   <g id=\"patch_26\">\r\n    <path d=\"M 237.149716 126.518437 \r\nL 237.149716 17.798437 \r\n\" style=\"fill:none;stroke:#000000;stroke-linecap:square;stroke-linejoin:miter;stroke-width:0.8;\"/>\r\n   </g>\r\n   <g id=\"patch_27\">\r\n    <path d=\"M 34.240625 126.518437 \r\nL 237.149716 126.518437 \r\n\" style=\"fill:none;stroke:#000000;stroke-linecap:square;stroke-linejoin:miter;stroke-width:0.8;\"/>\r\n   </g>\r\n   <g id=\"patch_28\">\r\n    <path d=\"M 34.240625 17.798437 \r\nL 237.149716 17.798437 \r\n\" style=\"fill:none;stroke:#000000;stroke-linecap:square;stroke-linejoin:miter;stroke-width:0.8;\"/>\r\n   </g>\r\n  </g>\r\n  <g id=\"axes_2\">\r\n   <g id=\"patch_29\">\r\n    <path d=\"M 277.731534 126.518437 \r\nL 480.640625 126.518437 \r\nL 480.640625 17.798437 \r\nL 277.731534 17.798437 \r\nz\r\n\" style=\"fill:#ffffff;\"/>\r\n   </g>\r\n   <g id=\"patch_30\">\r\n    <path clip-path=\"url(#pdf6fd93d98)\" d=\"M 307.866277 126.518437 \r\nL 314.998257 126.518437 \r\nL 314.998257 126.09321 \r\nL 307.866277 126.09321 \r\nz\r\n\" style=\"fill:#1f77b4;opacity:0.4;\"/>\r\n   </g>\r\n   <g id=\"patch_31\">\r\n    <path clip-path=\"url(#pdf6fd93d98)\" d=\"M 314.998257 126.518437 \r\nL 322.130238 126.518437 \r\nL 322.130238 125.242755 \r\nL 314.998257 125.242755 \r\nz\r\n\" style=\"fill:#1f77b4;opacity:0.4;\"/>\r\n   </g>\r\n   <g id=\"patch_32\">\r\n    <path clip-path=\"url(#pdf6fd93d98)\" d=\"M 322.130238 126.518437 \r\nL 329.262218 126.518437 \r\nL 329.262218 116.312981 \r\nL 322.130238 116.312981 \r\nz\r\n\" style=\"fill:#1f77b4;opacity:0.4;\"/>\r\n   </g>\r\n   <g id=\"patch_33\">\r\n    <path clip-path=\"url(#pdf6fd93d98)\" d=\"M 329.262218 126.518437 \r\nL 336.394198 126.518437 \r\nL 336.394198 112.060708 \r\nL 329.262218 112.060708 \r\nz\r\n\" style=\"fill:#1f77b4;opacity:0.4;\"/>\r\n   </g>\r\n   <g id=\"patch_34\">\r\n    <path clip-path=\"url(#pdf6fd93d98)\" d=\"M 336.394198 126.518437 \r\nL 343.526178 126.518437 \r\nL 343.526178 116.100368 \r\nL 336.394198 116.100368 \r\nz\r\n\" style=\"fill:#1f77b4;opacity:0.4;\"/>\r\n   </g>\r\n   <g id=\"patch_35\">\r\n    <path clip-path=\"url(#pdf6fd93d98)\" d=\"M 343.526178 126.518437 \r\nL 350.658159 126.518437 \r\nL 350.658159 98.028206 \r\nL 343.526178 98.028206 \r\nz\r\n\" style=\"fill:#1f77b4;opacity:0.4;\"/>\r\n   </g>\r\n   <g id=\"patch_36\">\r\n    <path clip-path=\"url(#pdf6fd93d98)\" d=\"M 350.658159 126.518437 \r\nL 357.790139 126.518437 \r\nL 357.790139 44.236947 \r\nL 350.658159 44.236947 \r\nz\r\n\" style=\"fill:#1f77b4;opacity:0.4;\"/>\r\n   </g>\r\n   <g id=\"patch_37\">\r\n    <path clip-path=\"url(#pdf6fd93d98)\" d=\"M 357.790139 126.518437 \r\nL 364.922119 126.518437 \r\nL 364.922119 114.824686 \r\nL 357.790139 114.824686 \r\nz\r\n\" style=\"fill:#1f77b4;opacity:0.4;\"/>\r\n   </g>\r\n   <g id=\"patch_38\">\r\n    <path clip-path=\"url(#pdf6fd93d98)\" d=\"M 364.922119 126.518437 \r\nL 372.054099 126.518437 \r\nL 372.054099 22.97558 \r\nL 364.922119 22.97558 \r\nz\r\n\" style=\"fill:#1f77b4;opacity:0.4;\"/>\r\n   </g>\r\n   <g id=\"patch_39\">\r\n    <path clip-path=\"url(#pdf6fd93d98)\" d=\"M 372.054099 126.518437 \r\nL 379.18608 126.518437 \r\nL 379.18608 110.359799 \r\nL 372.054099 110.359799 \r\nz\r\n\" style=\"fill:#1f77b4;opacity:0.4;\"/>\r\n   </g>\r\n   <g id=\"patch_40\">\r\n    <path clip-path=\"url(#pdf6fd93d98)\" d=\"M 379.18608 126.518437 \r\nL 386.31806 126.518437 \r\nL 386.31806 115.462527 \r\nL 379.18608 115.462527 \r\nz\r\n\" style=\"fill:#1f77b4;opacity:0.4;\"/>\r\n   </g>\r\n   <g id=\"patch_41\">\r\n    <path clip-path=\"url(#pdf6fd93d98)\" d=\"M 386.31806 126.518437 \r\nL 393.45004 126.518437 \r\nL 393.45004 70.813656 \r\nL 386.31806 70.813656 \r\nz\r\n\" style=\"fill:#1f77b4;opacity:0.4;\"/>\r\n   </g>\r\n   <g id=\"patch_42\">\r\n    <path clip-path=\"url(#pdf6fd93d98)\" d=\"M 393.45004 126.518437 \r\nL 400.58202 126.518437 \r\nL 400.58202 113.33639 \r\nL 393.45004 113.33639 \r\nz\r\n\" style=\"fill:#1f77b4;opacity:0.4;\"/>\r\n   </g>\r\n   <g id=\"patch_43\">\r\n    <path clip-path=\"url(#pdf6fd93d98)\" d=\"M 400.58202 126.518437 \r\nL 407.714001 126.518437 \r\nL 407.714001 113.974231 \r\nL 400.58202 113.974231 \r\nz\r\n\" style=\"fill:#1f77b4;opacity:0.4;\"/>\r\n   </g>\r\n   <g id=\"patch_44\">\r\n    <path clip-path=\"url(#pdf6fd93d98)\" d=\"M 407.714001 126.518437 \r\nL 414.845981 126.518437 \r\nL 414.845981 42.961265 \r\nL 407.714001 42.961265 \r\nz\r\n\" style=\"fill:#1f77b4;opacity:0.4;\"/>\r\n   </g>\r\n   <g id=\"patch_45\">\r\n    <path clip-path=\"url(#pdf6fd93d98)\" d=\"M 414.845981 126.518437 \r\nL 421.977961 126.518437 \r\nL 421.977961 120.990482 \r\nL 414.845981 120.990482 \r\nz\r\n\" style=\"fill:#1f77b4;opacity:0.4;\"/>\r\n   </g>\r\n   <g id=\"patch_46\">\r\n    <path clip-path=\"url(#pdf6fd93d98)\" d=\"M 421.977961 126.518437 \r\nL 429.109941 126.518437 \r\nL 429.109941 119.502186 \r\nL 421.977961 119.502186 \r\nz\r\n\" style=\"fill:#1f77b4;opacity:0.4;\"/>\r\n   </g>\r\n   <g id=\"patch_47\">\r\n    <path clip-path=\"url(#pdf6fd93d98)\" d=\"M 429.109941 126.518437 \r\nL 436.241921 126.518437 \r\nL 436.241921 55.930699 \r\nL 429.109941 55.930699 \r\nz\r\n\" style=\"fill:#1f77b4;opacity:0.4;\"/>\r\n   </g>\r\n   <g id=\"patch_48\">\r\n    <path clip-path=\"url(#pdf6fd93d98)\" d=\"M 436.241921 126.518437 \r\nL 443.373902 126.518437 \r\nL 443.373902 124.179687 \r\nL 436.241921 124.179687 \r\nz\r\n\" style=\"fill:#1f77b4;opacity:0.4;\"/>\r\n   </g>\r\n   <g id=\"patch_49\">\r\n    <path clip-path=\"url(#pdf6fd93d98)\" d=\"M 443.373902 126.518437 \r\nL 450.505882 126.518437 \r\nL 450.505882 80.806499 \r\nL 443.373902 80.806499 \r\nz\r\n\" style=\"fill:#1f77b4;opacity:0.4;\"/>\r\n   </g>\r\n   <g id=\"matplotlib.axis_3\">\r\n    <g id=\"xtick_6\">\r\n     <g id=\"line2d_11\">\r\n      <g>\r\n       <use style=\"stroke:#000000;stroke-width:0.8;\" x=\"301.378517\" xlink:href=\"#mcebaa9df7c\" y=\"126.518437\"/>\r\n      </g>\r\n     </g>\r\n     <g id=\"text_13\">\r\n      <!-- 0 -->\r\n      <g transform=\"translate(298.197267 141.116875)scale(0.1 -0.1)\">\r\n       <use xlink:href=\"#DejaVuSans-48\"/>\r\n      </g>\r\n     </g>\r\n    </g>\r\n    <g id=\"xtick_7\">\r\n     <g id=\"line2d_12\">\r\n      <g>\r\n       <use style=\"stroke:#000000;stroke-width:0.8;\" x=\"343.957503\" xlink:href=\"#mcebaa9df7c\" y=\"126.518437\"/>\r\n      </g>\r\n     </g>\r\n     <g id=\"text_14\">\r\n      <!-- 100000 -->\r\n      <g transform=\"translate(324.870003 141.116875)scale(0.1 -0.1)\">\r\n       <use xlink:href=\"#DejaVuSans-49\"/>\r\n       <use x=\"63.623047\" xlink:href=\"#DejaVuSans-48\"/>\r\n       <use x=\"127.246094\" xlink:href=\"#DejaVuSans-48\"/>\r\n       <use x=\"190.869141\" xlink:href=\"#DejaVuSans-48\"/>\r\n       <use x=\"254.492188\" xlink:href=\"#DejaVuSans-48\"/>\r\n       <use x=\"318.115234\" xlink:href=\"#DejaVuSans-48\"/>\r\n      </g>\r\n     </g>\r\n    </g>\r\n    <g id=\"xtick_8\">\r\n     <g id=\"line2d_13\">\r\n      <g>\r\n       <use style=\"stroke:#000000;stroke-width:0.8;\" x=\"386.53649\" xlink:href=\"#mcebaa9df7c\" y=\"126.518437\"/>\r\n      </g>\r\n     </g>\r\n     <g id=\"text_15\">\r\n      <!-- 200000 -->\r\n      <g transform=\"translate(367.44899 141.116875)scale(0.1 -0.1)\">\r\n       <use xlink:href=\"#DejaVuSans-50\"/>\r\n       <use x=\"63.623047\" xlink:href=\"#DejaVuSans-48\"/>\r\n       <use x=\"127.246094\" xlink:href=\"#DejaVuSans-48\"/>\r\n       <use x=\"190.869141\" xlink:href=\"#DejaVuSans-48\"/>\r\n       <use x=\"254.492188\" xlink:href=\"#DejaVuSans-48\"/>\r\n       <use x=\"318.115234\" xlink:href=\"#DejaVuSans-48\"/>\r\n      </g>\r\n     </g>\r\n    </g>\r\n    <g id=\"xtick_9\">\r\n     <g id=\"line2d_14\">\r\n      <g>\r\n       <use style=\"stroke:#000000;stroke-width:0.8;\" x=\"429.115476\" xlink:href=\"#mcebaa9df7c\" y=\"126.518437\"/>\r\n      </g>\r\n     </g>\r\n     <g id=\"text_16\">\r\n      <!-- 300000 -->\r\n      <g transform=\"translate(410.027976 141.116875)scale(0.1 -0.1)\">\r\n       <use xlink:href=\"#DejaVuSans-51\"/>\r\n       <use x=\"63.623047\" xlink:href=\"#DejaVuSans-48\"/>\r\n       <use x=\"127.246094\" xlink:href=\"#DejaVuSans-48\"/>\r\n       <use x=\"190.869141\" xlink:href=\"#DejaVuSans-48\"/>\r\n       <use x=\"254.492188\" xlink:href=\"#DejaVuSans-48\"/>\r\n       <use x=\"318.115234\" xlink:href=\"#DejaVuSans-48\"/>\r\n      </g>\r\n     </g>\r\n    </g>\r\n    <g id=\"xtick_10\">\r\n     <g id=\"line2d_15\">\r\n      <g>\r\n       <use style=\"stroke:#000000;stroke-width:0.8;\" x=\"471.694463\" xlink:href=\"#mcebaa9df7c\" y=\"126.518437\"/>\r\n      </g>\r\n     </g>\r\n     <g id=\"text_17\">\r\n      <!-- 400000 -->\r\n      <g transform=\"translate(452.606963 141.116875)scale(0.1 -0.1)\">\r\n       <use xlink:href=\"#DejaVuSans-52\"/>\r\n       <use x=\"63.623047\" xlink:href=\"#DejaVuSans-48\"/>\r\n       <use x=\"127.246094\" xlink:href=\"#DejaVuSans-48\"/>\r\n       <use x=\"190.869141\" xlink:href=\"#DejaVuSans-48\"/>\r\n       <use x=\"254.492188\" xlink:href=\"#DejaVuSans-48\"/>\r\n       <use x=\"318.115234\" xlink:href=\"#DejaVuSans-48\"/>\r\n      </g>\r\n     </g>\r\n    </g>\r\n    <g id=\"text_18\">\r\n     <!-- DKFFE -->\r\n     <g transform=\"translate(363.146236 154.795)scale(0.1 -0.1)\">\r\n      <defs>\r\n       <path d=\"M 9.8125 72.90625 \r\nL 51.703125 72.90625 \r\nL 51.703125 64.59375 \r\nL 19.671875 64.59375 \r\nL 19.671875 43.109375 \r\nL 48.578125 43.109375 \r\nL 48.578125 34.8125 \r\nL 19.671875 34.8125 \r\nL 19.671875 0 \r\nL 9.8125 0 \r\nz\r\n\" id=\"DejaVuSans-70\"/>\r\n      </defs>\r\n      <use xlink:href=\"#DejaVuSans-68\"/>\r\n      <use x=\"77.001953\" xlink:href=\"#DejaVuSans-75\"/>\r\n      <use x=\"142.578125\" xlink:href=\"#DejaVuSans-70\"/>\r\n      <use x=\"200.097656\" xlink:href=\"#DejaVuSans-70\"/>\r\n      <use x=\"257.617188\" xlink:href=\"#DejaVuSans-69\"/>\r\n     </g>\r\n    </g>\r\n   </g>\r\n   <g id=\"matplotlib.axis_4\">\r\n    <g id=\"ytick_5\">\r\n     <g id=\"line2d_16\">\r\n      <g>\r\n       <use style=\"stroke:#000000;stroke-width:0.8;\" x=\"277.731534\" xlink:href=\"#m192653ba4d\" y=\"126.518437\"/>\r\n      </g>\r\n     </g>\r\n     <g id=\"text_19\">\r\n      <!-- 0.00 -->\r\n      <g transform=\"translate(248.465909 130.317656)scale(0.1 -0.1)\">\r\n       <defs>\r\n        <path d=\"M 10.6875 12.40625 \r\nL 21 12.40625 \r\nL 21 0 \r\nL 10.6875 0 \r\nz\r\n\" id=\"DejaVuSans-46\"/>\r\n       </defs>\r\n       <use xlink:href=\"#DejaVuSans-48\"/>\r\n       <use x=\"63.623047\" xlink:href=\"#DejaVuSans-46\"/>\r\n       <use x=\"95.410156\" xlink:href=\"#DejaVuSans-48\"/>\r\n       <use x=\"159.033203\" xlink:href=\"#DejaVuSans-48\"/>\r\n      </g>\r\n     </g>\r\n    </g>\r\n    <g id=\"ytick_6\">\r\n     <g id=\"line2d_17\">\r\n      <g>\r\n       <use style=\"stroke:#000000;stroke-width:0.8;\" x=\"277.731534\" xlink:href=\"#m192653ba4d\" y=\"101.972322\"/>\r\n      </g>\r\n     </g>\r\n     <g id=\"text_20\">\r\n      <!-- 0.25 -->\r\n      <g transform=\"translate(248.465909 105.771541)scale(0.1 -0.1)\">\r\n       <defs>\r\n        <path d=\"M 10.796875 72.90625 \r\nL 49.515625 72.90625 \r\nL 49.515625 64.59375 \r\nL 19.828125 64.59375 \r\nL 19.828125 46.734375 \r\nQ 21.96875 47.46875 24.109375 47.828125 \r\nQ 26.265625 48.1875 28.421875 48.1875 \r\nQ 40.625 48.1875 47.75 41.5 \r\nQ 54.890625 34.8125 54.890625 23.390625 \r\nQ 54.890625 11.625 47.5625 5.09375 \r\nQ 40.234375 -1.421875 26.90625 -1.421875 \r\nQ 22.3125 -1.421875 17.546875 -0.640625 \r\nQ 12.796875 0.140625 7.71875 1.703125 \r\nL 7.71875 11.625 \r\nQ 12.109375 9.234375 16.796875 8.0625 \r\nQ 21.484375 6.890625 26.703125 6.890625 \r\nQ 35.15625 6.890625 40.078125 11.328125 \r\nQ 45.015625 15.765625 45.015625 23.390625 \r\nQ 45.015625 31 40.078125 35.4375 \r\nQ 35.15625 39.890625 26.703125 39.890625 \r\nQ 22.75 39.890625 18.8125 39.015625 \r\nQ 14.890625 38.140625 10.796875 36.28125 \r\nz\r\n\" id=\"DejaVuSans-53\"/>\r\n       </defs>\r\n       <use xlink:href=\"#DejaVuSans-48\"/>\r\n       <use x=\"63.623047\" xlink:href=\"#DejaVuSans-46\"/>\r\n       <use x=\"95.410156\" xlink:href=\"#DejaVuSans-50\"/>\r\n       <use x=\"159.033203\" xlink:href=\"#DejaVuSans-53\"/>\r\n      </g>\r\n     </g>\r\n    </g>\r\n    <g id=\"ytick_7\">\r\n     <g id=\"line2d_18\">\r\n      <g>\r\n       <use style=\"stroke:#000000;stroke-width:0.8;\" x=\"277.731534\" xlink:href=\"#m192653ba4d\" y=\"77.426207\"/>\r\n      </g>\r\n     </g>\r\n     <g id=\"text_21\">\r\n      <!-- 0.50 -->\r\n      <g transform=\"translate(248.465909 81.225426)scale(0.1 -0.1)\">\r\n       <use xlink:href=\"#DejaVuSans-48\"/>\r\n       <use x=\"63.623047\" xlink:href=\"#DejaVuSans-46\"/>\r\n       <use x=\"95.410156\" xlink:href=\"#DejaVuSans-53\"/>\r\n       <use x=\"159.033203\" xlink:href=\"#DejaVuSans-48\"/>\r\n      </g>\r\n     </g>\r\n    </g>\r\n    <g id=\"ytick_8\">\r\n     <g id=\"line2d_19\">\r\n      <g>\r\n       <use style=\"stroke:#000000;stroke-width:0.8;\" x=\"277.731534\" xlink:href=\"#m192653ba4d\" y=\"52.880092\"/>\r\n      </g>\r\n     </g>\r\n     <g id=\"text_22\">\r\n      <!-- 0.75 -->\r\n      <g transform=\"translate(248.465909 56.67931)scale(0.1 -0.1)\">\r\n       <defs>\r\n        <path d=\"M 8.203125 72.90625 \r\nL 55.078125 72.90625 \r\nL 55.078125 68.703125 \r\nL 28.609375 0 \r\nL 18.3125 0 \r\nL 43.21875 64.59375 \r\nL 8.203125 64.59375 \r\nz\r\n\" id=\"DejaVuSans-55\"/>\r\n       </defs>\r\n       <use xlink:href=\"#DejaVuSans-48\"/>\r\n       <use x=\"63.623047\" xlink:href=\"#DejaVuSans-46\"/>\r\n       <use x=\"95.410156\" xlink:href=\"#DejaVuSans-55\"/>\r\n       <use x=\"159.033203\" xlink:href=\"#DejaVuSans-53\"/>\r\n      </g>\r\n     </g>\r\n    </g>\r\n    <g id=\"ytick_9\">\r\n     <g id=\"line2d_20\">\r\n      <g>\r\n       <use style=\"stroke:#000000;stroke-width:0.8;\" x=\"277.731534\" xlink:href=\"#m192653ba4d\" y=\"28.333976\"/>\r\n      </g>\r\n     </g>\r\n     <g id=\"text_23\">\r\n      <!-- 1.00 -->\r\n      <g transform=\"translate(248.465909 32.133195)scale(0.1 -0.1)\">\r\n       <use xlink:href=\"#DejaVuSans-49\"/>\r\n       <use x=\"63.623047\" xlink:href=\"#DejaVuSans-46\"/>\r\n       <use x=\"95.410156\" xlink:href=\"#DejaVuSans-48\"/>\r\n       <use x=\"159.033203\" xlink:href=\"#DejaVuSans-48\"/>\r\n      </g>\r\n     </g>\r\n    </g>\r\n    <g id=\"text_24\">\r\n     <!-- Density -->\r\n     <g transform=\"translate(242.386222 91.167031)rotate(-90)scale(0.1 -0.1)\">\r\n      <use xlink:href=\"#DejaVuSans-68\"/>\r\n      <use x=\"77.001953\" xlink:href=\"#DejaVuSans-101\"/>\r\n      <use x=\"138.525391\" xlink:href=\"#DejaVuSans-110\"/>\r\n      <use x=\"201.904297\" xlink:href=\"#DejaVuSans-115\"/>\r\n      <use x=\"254.003906\" xlink:href=\"#DejaVuSans-105\"/>\r\n      <use x=\"281.787109\" xlink:href=\"#DejaVuSans-116\"/>\r\n      <use x=\"320.996094\" xlink:href=\"#DejaVuSans-121\"/>\r\n     </g>\r\n    </g>\r\n    <g id=\"text_25\">\r\n     <!-- 1e−5 -->\r\n     <g transform=\"translate(277.731534 14.798437)scale(0.1 -0.1)\">\r\n      <use xlink:href=\"#DejaVuSans-49\"/>\r\n      <use x=\"63.623047\" xlink:href=\"#DejaVuSans-101\"/>\r\n      <use x=\"125.146484\" xlink:href=\"#DejaVuSans-8722\"/>\r\n      <use x=\"208.935547\" xlink:href=\"#DejaVuSans-53\"/>\r\n     </g>\r\n    </g>\r\n   </g>\r\n   <g id=\"line2d_21\">\r\n    <path clip-path=\"url(#pdf6fd93d98)\" d=\"M 286.954675 126.517324 \r\nL 300.858906 126.411182 \r\nL 305.49365 126.206067 \r\nL 309.201446 125.811928 \r\nL 311.982292 125.260094 \r\nL 314.763138 124.395741 \r\nL 317.543985 123.180731 \r\nL 320.324831 121.650687 \r\nL 324.032626 119.298152 \r\nL 334.229063 112.456703 \r\nL 336.082961 110.959097 \r\nL 337.936858 109.154399 \r\nL 339.790756 106.891103 \r\nL 341.644653 104.018888 \r\nL 343.498551 100.426725 \r\nL 345.352449 96.090915 \r\nL 347.206346 91.117004 \r\nL 352.768039 75.27269 \r\nL 354.621937 70.854613 \r\nL 356.475834 67.311605 \r\nL 357.402783 65.916365 \r\nL 358.329732 64.79477 \r\nL 359.25668 63.966159 \r\nL 360.183629 63.453238 \r\nL 361.110578 63.281777 \r\nL 362.037527 63.47866 \r\nL 362.964476 64.068419 \r\nL 363.891424 65.068693 \r\nL 364.818373 66.485314 \r\nL 365.745322 68.307824 \r\nL 366.672271 70.506234 \r\nL 368.526168 75.807141 \r\nL 373.160912 90.159046 \r\nL 374.087861 92.440213 \r\nL 375.01481 94.348945 \r\nL 375.941759 95.850467 \r\nL 376.868708 96.935018 \r\nL 377.795656 97.617436 \r\nL 378.722605 97.935076 \r\nL 379.649554 97.944309 \r\nL 380.576503 97.715899 \r\nL 382.4304 96.868298 \r\nL 384.284298 96.032672 \r\nL 385.211247 95.788182 \r\nL 386.138195 95.719296 \r\nL 387.065144 95.846371 \r\nL 387.992093 96.168162 \r\nL 388.919042 96.662127 \r\nL 390.772939 97.982685 \r\nL 392.626837 99.307865 \r\nL 393.553786 99.785414 \r\nL 394.480735 100.044681 \r\nL 395.407683 100.027736 \r\nL 396.334632 99.693559 \r\nL 397.261581 99.022189 \r\nL 398.18853 98.017586 \r\nL 399.115479 96.70894 \r\nL 400.969376 93.417911 \r\nL 403.750223 88.181473 \r\nL 404.677171 86.788679 \r\nL 405.60412 85.742914 \r\nL 406.531069 85.121997 \r\nL 407.458018 84.977367 \r\nL 408.384967 85.329268 \r\nL 409.311915 86.164403 \r\nL 410.238864 87.436309 \r\nL 411.165813 89.068494 \r\nL 413.019711 92.992985 \r\nL 414.873608 96.980239 \r\nL 415.800557 98.694678 \r\nL 416.727506 100.087884 \r\nL 417.654454 101.087651 \r\nL 418.581403 101.65103 \r\nL 419.508352 101.766868 \r\nL 420.435301 101.456158 \r\nL 421.36225 100.770218 \r\nL 422.289198 99.786841 \r\nL 425.996994 95.008723 \r\nL 426.923942 94.168896 \r\nL 427.850891 93.664396 \r\nL 428.77784 93.554966 \r\nL 429.704789 93.871059 \r\nL 430.631738 94.611995 \r\nL 431.558686 95.746629 \r\nL 432.485635 97.216437 \r\nL 434.339533 100.823304 \r\nL 437.120379 106.391265 \r\nL 438.047328 107.907641 \r\nL 438.974277 109.135304 \r\nL 439.901226 110.034987 \r\nL 440.828174 110.591971 \r\nL 441.755123 110.815999 \r\nL 442.682072 110.739555 \r\nL 443.609021 110.414701 \r\nL 445.462918 109.299099 \r\nL 447.316816 108.094158 \r\nL 448.243765 107.652391 \r\nL 449.170713 107.403502 \r\nL 450.097662 107.393074 \r\nL 451.024611 107.648434 \r\nL 451.95156 108.177686 \r\nL 452.878509 108.970298 \r\nL 453.805457 109.999144 \r\nL 455.659355 112.594382 \r\nL 460.294099 119.790843 \r\nL 462.147997 122.065926 \r\nL 464.001894 123.771016 \r\nL 465.855792 124.938092 \r\nL 467.709689 125.671135 \r\nL 469.563587 126.095038 \r\nL 471.417485 126.321258 \r\nL 471.417485 126.321258 \r\n\" style=\"fill:none;stroke:#1f77b4;stroke-linecap:square;stroke-width:1.5;\"/>\r\n   </g>\r\n   <g id=\"patch_50\">\r\n    <path d=\"M 277.731534 126.518437 \r\nL 277.731534 17.798437 \r\n\" style=\"fill:none;stroke:#000000;stroke-linecap:square;stroke-linejoin:miter;stroke-width:0.8;\"/>\r\n   </g>\r\n   <g id=\"patch_51\">\r\n    <path d=\"M 480.640625 126.518437 \r\nL 480.640625 17.798437 \r\n\" style=\"fill:none;stroke:#000000;stroke-linecap:square;stroke-linejoin:miter;stroke-width:0.8;\"/>\r\n   </g>\r\n   <g id=\"patch_52\">\r\n    <path d=\"M 277.731534 126.518437 \r\nL 480.640625 126.518437 \r\n\" style=\"fill:none;stroke:#000000;stroke-linecap:square;stroke-linejoin:miter;stroke-width:0.8;\"/>\r\n   </g>\r\n   <g id=\"patch_53\">\r\n    <path d=\"M 277.731534 17.798437 \r\nL 480.640625 17.798437 \r\n\" style=\"fill:none;stroke:#000000;stroke-linecap:square;stroke-linejoin:miter;stroke-width:0.8;\"/>\r\n   </g>\r\n  </g>\r\n </g>\r\n <defs>\r\n  <clipPath id=\"pceeb832d41\">\r\n   <rect height=\"108.72\" width=\"202.909091\" x=\"34.240625\" y=\"17.798437\"/>\r\n  </clipPath>\r\n  <clipPath id=\"pdf6fd93d98\">\r\n   <rect height=\"108.72\" width=\"202.909091\" x=\"277.731534\" y=\"17.798437\"/>\r\n  </clipPath>\r\n </defs>\r\n</svg>\r\n",
      "image/png": "[encoded data removed]"
     },
     "metadata": {
      "needs_background": "light"
     }
    }
   ],
   "source": [
    "def get_daikuanYE(df,col):\n",
    "    df[col + '_genFeat1'] = (df[col] > 100000).astype(int)\n",
    "    df[col + '_genFeat2'] = (df[col] > 120000).astype(int)\n",
    "    df[col + '_genFeat3'] = (df[col] > 140000).astype(int)\n",
    "    df[col + '_genFeat4'] = (df[col] > 180000).astype(int)\n",
    "    df[col + '_genFeat5'] = (df[col] > 220000).astype(int)\n",
    "    df[col + '_genFeat6'] = (df[col] > 260000).astype(int)\n",
    "    df[col + '_genFeat7'] = (df[col] > 300000).astype(int)\n",
    "    return df, [col + f'_genFeat{i}' for i in range(1, 8)]\n",
    "\n",
    "df, genFeats2 = get_daikuanYE(df, col = 'DKYE')\n",
    "df, genFeats3 = get_daikuanYE(df, col = 'DKFFE')\n",
    "\n",
    "\n",
    "plt.figure(figsize = (8, 2))\n",
    "plt.subplot(1,2,1)\n",
    "sns.distplot(df['DKYE'][df['label'] == 1])\n",
    "plt.subplot(1,2,2)\n",
    "sns.distplot(df['DKFFE'][df['label'] == 1])"
   ]
  },
  {
   "cell_type": "code",
   "execution_count": 11,
   "metadata": {},
   "outputs": [
    {
     "output_type": "stream",
     "name": "stderr",
     "text": [
      "100%|██████████| 6/6 [00:00<00:00, 25.49it/s]\n",
      "100%|██████████| 15/15 [00:00<00:00, 27.90it/s]\n",
      "  0%|          | 0/6 [00:00<?, ?it/s]\n"
     ]
    },
    {
     "output_type": "error",
     "ename": "NameError",
     "evalue": "name 'genFeats2' is not defined",
     "traceback": [
      "\u001b[1;31m---------------------------------------------------------------------------\u001b[0m",
      "\u001b[1;31mNameError\u001b[0m                                 Traceback (most recent call last)",
      "\u001b[1;32m<ipython-input-11-98d3aaee8e5f>\u001b[0m in \u001b[0;36m<module>\u001b[1;34m\u001b[0m\n\u001b[0;32m     20\u001b[0m         \u001b[1;32mfor\u001b[0m \u001b[0mstat\u001b[0m \u001b[1;32min\u001b[0m \u001b[1;33m[\u001b[0m\u001b[1;34m'sum'\u001b[0m\u001b[1;33m,\u001b[0m \u001b[1;34m'mean'\u001b[0m\u001b[1;33m,\u001b[0m \u001b[1;34m'std'\u001b[0m\u001b[1;33m,\u001b[0m \u001b[1;34m'max'\u001b[0m\u001b[1;33m,\u001b[0m \u001b[1;34m'min'\u001b[0m\u001b[1;33m,\u001b[0m \u001b[1;34m'std'\u001b[0m\u001b[1;33m]\u001b[0m\u001b[1;33m:\u001b[0m\u001b[1;33m\u001b[0m\u001b[1;33m\u001b[0m\u001b[0m\n\u001b[0;32m     21\u001b[0m             \u001b[0mdf\u001b[0m\u001b[1;33m[\u001b[0m\u001b[1;34m'{}_{}_{}'\u001b[0m\u001b[1;33m.\u001b[0m\u001b[0mformat\u001b[0m\u001b[1;33m(\u001b[0m\u001b[0mf1\u001b[0m\u001b[1;33m,\u001b[0m \u001b[0mf2\u001b[0m\u001b[1;33m,\u001b[0m \u001b[0mstat\u001b[0m\u001b[1;33m)\u001b[0m\u001b[1;33m]\u001b[0m \u001b[1;33m=\u001b[0m \u001b[0mg\u001b[0m\u001b[1;33m[\u001b[0m\u001b[0mf2\u001b[0m\u001b[1;33m]\u001b[0m\u001b[1;33m.\u001b[0m\u001b[0mtransform\u001b[0m\u001b[1;33m(\u001b[0m\u001b[0mstat\u001b[0m\u001b[1;33m)\u001b[0m\u001b[1;33m\u001b[0m\u001b[1;33m\u001b[0m\u001b[0m\n\u001b[1;32m---> 22\u001b[1;33m     \u001b[1;32mfor\u001b[0m \u001b[0mf3\u001b[0m \u001b[1;32min\u001b[0m \u001b[0mgenFeats2\u001b[0m \u001b[1;33m+\u001b[0m \u001b[0mgenFeats3\u001b[0m\u001b[1;33m:\u001b[0m\u001b[1;33m\u001b[0m\u001b[1;33m\u001b[0m\u001b[0m\n\u001b[0m\u001b[0;32m     23\u001b[0m         \u001b[1;32mfor\u001b[0m \u001b[0mstat\u001b[0m \u001b[1;32min\u001b[0m \u001b[1;33m[\u001b[0m\u001b[1;34m'sum'\u001b[0m\u001b[1;33m,\u001b[0m \u001b[1;34m'mean'\u001b[0m\u001b[1;33m]\u001b[0m\u001b[1;33m:\u001b[0m\u001b[1;33m\u001b[0m\u001b[1;33m\u001b[0m\u001b[0m\n\u001b[0;32m     24\u001b[0m             \u001b[0mdf\u001b[0m\u001b[1;33m[\u001b[0m\u001b[1;34m'{}_{}_{}'\u001b[0m\u001b[1;33m.\u001b[0m\u001b[0mformat\u001b[0m\u001b[1;33m(\u001b[0m\u001b[0mf1\u001b[0m\u001b[1;33m,\u001b[0m \u001b[0mf2\u001b[0m\u001b[1;33m,\u001b[0m \u001b[0mstat\u001b[0m\u001b[1;33m)\u001b[0m\u001b[1;33m]\u001b[0m \u001b[1;33m=\u001b[0m \u001b[0mg\u001b[0m\u001b[1;33m[\u001b[0m\u001b[0mf2\u001b[0m\u001b[1;33m]\u001b[0m\u001b[1;33m.\u001b[0m\u001b[0mtransform\u001b[0m\u001b[1;33m(\u001b[0m\u001b[0mstat\u001b[0m\u001b[1;33m)\u001b[0m\u001b[1;33m\u001b[0m\u001b[1;33m\u001b[0m\u001b[0m\n",
      "\u001b[1;31mNameError\u001b[0m: name 'genFeats2' is not defined"
     ]
    }
   ],
   "source": [
    "for f in tqdm(cate_cols):\n",
    "    df[f] = df[f].map(dict(zip(df[f].unique(), range(df[f].nunique()))))\n",
    "    df[f + '_count'] = df[f].map(df[f].value_counts())\n",
    "    df = pd.concat([df,pd.get_dummies(df[f],prefix=f\"{f}\")],axis=1)\n",
    "    \n",
    "    \n",
    "cate_cols_combine = [[cate_cols[i], cate_cols[j]] for i in range(len(cate_cols)) \\\n",
    "                     for j in range(i + 1, len(cate_cols))]\n",
    "\n",
    "\n",
    "for f1, f2 in tqdm(cate_cols_combine):\n",
    "    df['{}_{}_count'.format(f1, f2)] = df.groupby([f1, f2])['id'].transform('count')\n",
    "    df['{}_in_{}_prop'.format(f1, f2)] = df['{}_{}_count'.format(f1, f2)] / df[f2 + '_count']\n",
    "    df['{}_in_{}_prop'.format(f2, f1)] = df['{}_{}_count'.format(f1, f2)] / df[f1 + '_count']\n",
    "\n",
    "    \n",
    "for f1 in tqdm(cate_cols):\n",
    "    g = df.groupby(f1)\n",
    "    for f2 in num_cols + gen_feats:\n",
    "        for stat in ['sum', 'mean', 'std', 'max', 'min', 'std']:\n",
    "            df['{}_{}_{}'.format(f1, f2, stat)] = g[f2].transform(stat)\n",
    "    for f3 in genFeats2 + genFeats3:\n",
    "        for stat in ['sum', 'mean']:\n",
    "            df['{}_{}_{}'.format(f1, f2, stat)] = g[f2].transform(stat)\n",
    "\n",
    "num_cols_gen_feats = num_cols + gen_feats\n",
    "for f1 in tqdm(num_cols_gen_feats):\n",
    "    g = df.groupby(f1)\n",
    "    for f2 in num_cols_gen_feats:\n",
    "        if f1 != f2:\n",
    "            for stat in ['sum', 'mean', 'std', 'max', 'min', 'std']:\n",
    "                df['{}_{}_{}'.format(f1, f2, stat)] = g[f2].transform(stat)\n",
    "\n",
    "for i in tqdm(range(len(num_cols_gen_feats))):\n",
    "    for j in range(i + 1, len(num_cols_gen_feats)):\n",
    "        df[f'numsOf_{num_cols_gen_feats[i]}_{num_cols_gen_feats[j]}_add'] = df[num_cols_gen_feats[i]] + df[num_cols_gen_feats[j]]\n",
    "        df[f'numsOf_{num_cols_gen_feats[i]}_{num_cols_gen_feats[j]}_diff'] = df[num_cols_gen_feats[i]] - df[num_cols_gen_feats[j]]\n",
    "        df[f'numsOf_{num_cols_gen_feats[i]}_{num_cols_gen_feats[j]}_multi'] = df[num_cols_gen_feats[i]] * df[num_cols_gen_feats[j]]\n",
    "        df[f'numsOf_{num_cols_gen_feats[i]}_{num_cols_gen_feats[j]}_div'] = df[num_cols_gen_feats[i]] / (df[num_cols_gen_feats[j]] + 0.0000000001)\n",
    "    \n",
    "            "
   ]
  },
  {
   "cell_type": "markdown",
   "metadata": {},
   "source": [
    "训练集、测试集"
   ]
  },
  {
   "cell_type": "code",
   "execution_count": 11,
   "metadata": {},
   "outputs": [
    {
     "output_type": "display_data",
     "data": {
      "text/plain": "(40000, 4409)"
     },
     "metadata": {}
    },
    {
     "output_type": "display_data",
     "data": {
      "text/plain": "(15000, 4409)"
     },
     "metadata": {}
    }
   ],
   "source": [
    "train_df = df[df['label'].isna() == False].reset_index(drop=True)\n",
    "test_df = df[df['label'].isna() == True].reset_index(drop=True)\n",
    "display(train_df.shape, test_df.shape)\n"
   ]
  },
  {
   "cell_type": "code",
   "execution_count": 12,
   "metadata": {},
   "outputs": [],
   "source": [
    "drop_feats = [f for f in train_df.columns if train_df[f].nunique() == 1 or train_df[f].nunique() == 0]\n",
    "#len(drop_feats), drop_feats"
   ]
  },
  {
   "cell_type": "code",
   "execution_count": 13,
   "metadata": {},
   "outputs": [],
   "source": [
    "cols = [col for col in train_df.columns if col not in ['id', 'label'] + drop_feats]"
   ]
  },
  {
   "cell_type": "code",
   "execution_count": 14,
   "metadata": {},
   "outputs": [],
   "source": [
    "from sklearn.model_selection import StratifiedKFold\n",
    "from lightgbm.sklearn import LGBMClassifier\n",
    "from sklearn.metrics import f1_score, roc_auc_score\n",
    "from sklearn.ensemble import RandomForestClassifier,VotingClassifier\n",
    "from xgboost import XGBClassifier\n",
    "import time"
   ]
  },
  {
   "cell_type": "code",
   "execution_count": 15,
   "metadata": {},
   "outputs": [],
   "source": [
    "def tpr_weight_funtion(y_true,y_predict):\n",
    "    d = pd.DataFrame()\n",
    "    d['prob'] = list(y_predict)\n",
    "    d['y'] = list(y_true)\n",
    "    d = d.sort_values(['prob'], ascending=[0])\n",
    "    y = d.y\n",
    "    PosAll = pd.Series(y).value_counts()[1]\n",
    "    NegAll = pd.Series(y).value_counts()[0]\n",
    "    pCumsum = d['y'].cumsum()\n",
    "    nCumsum = np.arange(len(y)) - pCumsum + 1\n",
    "    pCumsumPer = pCumsum / PosAll\n",
    "    nCumsumPer = nCumsum / NegAll\n",
    "    TR1 = pCumsumPer[abs(nCumsumPer-0.001).idxmin()]\n",
    "    TR2 = pCumsumPer[abs(nCumsumPer-0.005).idxmin()]\n",
    "    TR3 = pCumsumPer[abs(nCumsumPer-0.01).idxmin()]\n",
    "    \n",
    "    return 0.4 * TR1 + 0.3 * TR2 + 0.3 * TR3"
   ]
  },
  {
   "cell_type": "code",
   "execution_count": 23,
   "metadata": {},
   "outputs": [
    {
     "output_type": "stream",
     "name": "stdout",
     "text": [
      "--------------------- 0 fold ---------------------\n",
      "Training until validation scores don't improve for 200 rounds\n",
      "[200]\tvalid_0's auc: 0.948396\n",
      "[400]\tvalid_0's auc: 0.947463\n",
      "Early stopping, best iteration is:\n",
      "[255]\tvalid_0's auc: 0.948678\n",
      "TPR Score 0.48058\n",
      "--------------------- 1 fold ---------------------\n",
      "Training until validation scores don't improve for 200 rounds\n",
      "[200]\tvalid_0's auc: 0.945387\n",
      "[400]\tvalid_0's auc: 0.944998\n",
      "Early stopping, best iteration is:\n",
      "[263]\tvalid_0's auc: 0.946093\n",
      "TPR Score 0.46279\n",
      "--------------------- 2 fold ---------------------\n",
      "Training until validation scores don't improve for 200 rounds\n",
      "[200]\tvalid_0's auc: 0.941117\n",
      "Early stopping, best iteration is:\n",
      "[162]\tvalid_0's auc: 0.941532\n",
      "TPR Score 0.49274\n",
      "--------------------- 3 fold ---------------------\n",
      "Training until validation scores don't improve for 200 rounds\n",
      "[200]\tvalid_0's auc: 0.936678\n",
      "[400]\tvalid_0's auc: 0.938407\n",
      "[600]\tvalid_0's auc: 0.938781\n",
      "[800]\tvalid_0's auc: 0.939114\n",
      "Early stopping, best iteration is:\n",
      "[662]\tvalid_0's auc: 0.939507\n",
      "TPR Score 0.50308\n",
      "--------------------- 4 fold ---------------------\n",
      "Training until validation scores don't improve for 200 rounds\n",
      "[200]\tvalid_0's auc: 0.935154\n",
      "[400]\tvalid_0's auc: 0.93608\n",
      "Early stopping, best iteration is:\n",
      "[366]\tvalid_0's auc: 0.937015\n",
      "TPR Score 0.47174\n",
      "\n",
      "cv_auc:  0.9374126835401736\n",
      "--------------------- 0 fold ---------------------\n",
      "Training until validation scores don't improve for 200 rounds\n",
      "[200]\tvalid_0's auc: 0.948396\n",
      "[400]\tvalid_0's auc: 0.947463\n",
      "Early stopping, best iteration is:\n",
      "[255]\tvalid_0's auc: 0.948678\n",
      "TPR Score 0.48058\n",
      "--------------------- 1 fold ---------------------\n",
      "Training until validation scores don't improve for 200 rounds\n",
      "[200]\tvalid_0's auc: 0.945387\n",
      "[400]\tvalid_0's auc: 0.944998\n",
      "Early stopping, best iteration is:\n",
      "[263]\tvalid_0's auc: 0.946093\n",
      "TPR Score 0.46279\n",
      "--------------------- 2 fold ---------------------\n",
      "Training until validation scores don't improve for 200 rounds\n",
      "[200]\tvalid_0's auc: 0.941117\n",
      "Early stopping, best iteration is:\n",
      "[162]\tvalid_0's auc: 0.941532\n",
      "TPR Score 0.49274\n",
      "--------------------- 3 fold ---------------------\n",
      "Training until validation scores don't improve for 200 rounds\n",
      "[200]\tvalid_0's auc: 0.936678\n",
      "[400]\tvalid_0's auc: 0.938407\n",
      "[600]\tvalid_0's auc: 0.938781\n",
      "[800]\tvalid_0's auc: 0.939114\n",
      "Early stopping, best iteration is:\n",
      "[662]\tvalid_0's auc: 0.939507\n",
      "TPR Score 0.50308\n",
      "--------------------- 4 fold ---------------------\n",
      "Training until validation scores don't improve for 200 rounds\n",
      "[200]\tvalid_0's auc: 0.935154\n",
      "[400]\tvalid_0's auc: 0.93608\n",
      "Early stopping, best iteration is:\n",
      "[366]\tvalid_0's auc: 0.937015\n",
      "TPR Score 0.47174\n",
      "\n",
      "cv_auc:  0.9374126835401736\n",
      "--------------------- 0 fold ---------------------\n",
      "Training until validation scores don't improve for 200 rounds\n",
      "[200]\tvalid_0's auc: 0.948396\n",
      "[400]\tvalid_0's auc: 0.947463\n",
      "Early stopping, best iteration is:\n",
      "[255]\tvalid_0's auc: 0.948678\n",
      "TPR Score 0.48058\n",
      "--------------------- 1 fold ---------------------\n",
      "Training until validation scores don't improve for 200 rounds\n",
      "[200]\tvalid_0's auc: 0.945387\n",
      "[400]\tvalid_0's auc: 0.944998\n",
      "Early stopping, best iteration is:\n",
      "[263]\tvalid_0's auc: 0.946093\n",
      "TPR Score 0.46279\n",
      "--------------------- 2 fold ---------------------\n",
      "Training until validation scores don't improve for 200 rounds\n",
      "[200]\tvalid_0's auc: 0.941117\n",
      "Early stopping, best iteration is:\n",
      "[162]\tvalid_0's auc: 0.941532\n",
      "TPR Score 0.49274\n",
      "--------------------- 3 fold ---------------------\n",
      "Training until validation scores don't improve for 200 rounds\n",
      "[200]\tvalid_0's auc: 0.936678\n",
      "[400]\tvalid_0's auc: 0.938407\n",
      "[600]\tvalid_0's auc: 0.938781\n",
      "[800]\tvalid_0's auc: 0.939114\n",
      "Early stopping, best iteration is:\n",
      "[662]\tvalid_0's auc: 0.939507\n",
      "TPR Score 0.50308\n",
      "--------------------- 4 fold ---------------------\n",
      "Training until validation scores don't improve for 200 rounds\n",
      "[200]\tvalid_0's auc: 0.935154\n",
      "[400]\tvalid_0's auc: 0.93608\n",
      "Early stopping, best iteration is:\n",
      "[366]\tvalid_0's auc: 0.937015\n",
      "TPR Score 0.47174\n",
      "\n",
      "cv_auc:  0.9374126835401736\n",
      "[0.9374126835401736, 0.9374126835401736, 0.9374126835401736] 0.9374126835401736\n"
     ]
    }
   ],
   "source": [
    "oof = np.zeros(train_df.shape[0])\n",
    "# feat_imp_df = pd.DataFrame({'feat': cols, 'imp': 0})\n",
    "test_df['prob'] = 0\n",
    "clf = LGBMClassifier(\n",
    "    learning_rate=0.05,\n",
    "    n_estimators=10230,\n",
    "    num_leaves=31,\n",
    "    subsample=0.8,\n",
    "    colsample_bytree=0.8,\n",
    "    random_state=723,\n",
    "    metric=None,\n",
    "    scale_pos_weight=2\n",
    ")\n",
    "\n",
    "val_aucs = []\n",
    "seeds = [1023, 2048, 2098]\n",
    "for seed in seeds:\n",
    "    skf = StratifiedKFold(n_splits=5, shuffle=True, random_state=723)\n",
    "    for i, (trn_idx, val_idx) in enumerate(skf.split(train_df, train_df['label'])):\n",
    "        print('--------------------- {} fold ---------------------'.format(i))\n",
    "        t = time.time()\n",
    "        trn_x, trn_y = train_df[cols].iloc[trn_idx].reset_index(drop=True), train_df['label'].values[trn_idx]\n",
    "        val_x, val_y = train_df[cols].iloc[val_idx].reset_index(drop=True), train_df['label'].values[val_idx]\n",
    "        clf.fit(\n",
    "            trn_x, trn_y,\n",
    "            eval_set=[(val_x, val_y)],\n",
    "             categorical_feature=cate_cols,\n",
    "            eval_metric='auc',\n",
    "            early_stopping_rounds=200,\n",
    "            verbose=200\n",
    "        )\n",
    "    #     feat_imp_df['imp'] += clf.feature_importances_ / skf.n_splits\n",
    "        oof[val_idx] = clf.predict_proba(val_x)[:, 1]\n",
    "        test_df['prob'] += clf.predict_proba(test_df[cols])[:, 1] / skf.n_splits / len(seeds)       # 使用全部每一个随机种子的每一折预测进行平均\n",
    "        print('TPR Score %.5f' % tpr_weight_funtion(val_y, oof[val_idx]))\n",
    "\n",
    "    cv_auc = roc_auc_score(train_df['label'], oof)\n",
    "    val_aucs.append(cv_auc)\n",
    "    print('\\ncv_auc: ', cv_auc)\n",
    "print(val_aucs, np.mean(val_aucs))"
   ]
  },
  {
   "cell_type": "code",
   "execution_count": 24,
   "metadata": {},
   "outputs": [
    {
     "output_type": "stream",
     "name": "stdout",
     "text": [
      "[0.9374126835401736, 0.9374126835401736, 0.9374126835401736] 0.9374126835401736\n"
     ]
    },
    {
     "output_type": "execute_result",
     "data": {
      "text/plain": [
       "(0.48589, 0.93741)"
      ]
     },
     "metadata": {},
     "execution_count": 24
    }
   ],
   "source": [
    "print(val_aucs, np.mean(val_aucs))\n",
    "\n",
    "tpr = round(tpr_weight_funtion(train_df['label'], oof), 6)\n",
    "tpr, round(np.mean(val_aucs), 5)"
   ]
  },
  {
   "cell_type": "code",
   "execution_count": 25,
   "metadata": {},
   "outputs": [
    {
     "output_type": "execute_result",
     "data": {
      "text/plain": [
       "       id     label\n",
       "0  test_0  0.008623\n",
       "1  test_1  0.017350\n",
       "2  test_2  0.124205\n",
       "3  test_3  0.005051\n",
       "4  test_4  0.252326"
      ],
      "text/html": "<div>\n<style scoped>\n    .dataframe tbody tr th:only-of-type {\n        vertical-align: middle;\n    }\n\n    .dataframe tbody tr th {\n        vertical-align: top;\n    }\n\n    .dataframe thead th {\n        text-align: right;\n    }\n</style>\n<table border=\"1\" class=\"dataframe\">\n  <thead>\n    <tr style=\"text-align: right;\">\n      <th></th>\n      <th>id</th>\n      <th>label</th>\n    </tr>\n  </thead>\n  <tbody>\n    <tr>\n      <th>0</th>\n      <td>test_0</td>\n      <td>0.008623</td>\n    </tr>\n    <tr>\n      <th>1</th>\n      <td>test_1</td>\n      <td>0.017350</td>\n    </tr>\n    <tr>\n      <th>2</th>\n      <td>test_2</td>\n      <td>0.124205</td>\n    </tr>\n    <tr>\n      <th>3</th>\n      <td>test_3</td>\n      <td>0.005051</td>\n    </tr>\n    <tr>\n      <th>4</th>\n      <td>test_4</td>\n      <td>0.252326</td>\n    </tr>\n  </tbody>\n</table>\n</div>"
     },
     "metadata": {},
     "execution_count": 25
    }
   ],
   "source": [
    "submit.head()"
   ]
  },
  {
   "cell_type": "code",
   "execution_count": 26,
   "metadata": {},
   "outputs": [
    {
     "output_type": "execute_result",
     "data": {
      "text/plain": [
       "       id     label\n",
       "0  test_0  0.002375\n",
       "1  test_1  0.004317\n",
       "2  test_2  0.029240\n",
       "3  test_3  0.001278\n",
       "4  test_4  0.040398"
      ],
      "text/html": "<div>\n<style scoped>\n    .dataframe tbody tr th:only-of-type {\n        vertical-align: middle;\n    }\n\n    .dataframe tbody tr th {\n        vertical-align: top;\n    }\n\n    .dataframe thead th {\n        text-align: right;\n    }\n</style>\n<table border=\"1\" class=\"dataframe\">\n  <thead>\n    <tr style=\"text-align: right;\">\n      <th></th>\n      <th>id</th>\n      <th>label</th>\n    </tr>\n  </thead>\n  <tbody>\n    <tr>\n      <th>0</th>\n      <td>test_0</td>\n      <td>0.002375</td>\n    </tr>\n    <tr>\n      <th>1</th>\n      <td>test_1</td>\n      <td>0.004317</td>\n    </tr>\n    <tr>\n      <th>2</th>\n      <td>test_2</td>\n      <td>0.029240</td>\n    </tr>\n    <tr>\n      <th>3</th>\n      <td>test_3</td>\n      <td>0.001278</td>\n    </tr>\n    <tr>\n      <th>4</th>\n      <td>test_4</td>\n      <td>0.040398</td>\n    </tr>\n  </tbody>\n</table>\n</div>"
     },
     "metadata": {},
     "execution_count": 26
    }
   ],
   "source": [
    "submit['id'] = test_df['id']\n",
    "submit['label'] = test_df['prob']\n",
    "\n",
    "submit.to_csv('../sub/submission{}_{}.csv'.format(tpr, round(np.mean(val_aucs), 6)), index = False)\n",
    "submit.head()"
   ]
  },
  {
   "source": [
    "线上结果0.508302"
   ],
   "cell_type": "markdown",
   "metadata": {}
  },
  {
   "source": [
    "validation set应该取平衡的数据"
   ],
   "cell_type": "markdown",
   "metadata": {}
  },
  {
   "cell_type": "code",
   "execution_count": 1,
   "metadata": {},
   "outputs": [
    {
     "output_type": "error",
     "ename": "NameError",
     "evalue": "name 'train_df' is not defined",
     "traceback": [
      "\u001b[1;31m---------------------------------------------------------------------------\u001b[0m",
      "\u001b[1;31mNameError\u001b[0m                                 Traceback (most recent call last)",
      "\u001b[1;32m<ipython-input-1-7f97da2497d6>\u001b[0m in \u001b[0;36m<module>\u001b[1;34m\u001b[0m\n\u001b[1;32m----> 1\u001b[1;33m \u001b[0mtrain_df\u001b[0m\u001b[1;33m.\u001b[0m\u001b[0mhead\u001b[0m\u001b[1;33m(\u001b[0m\u001b[1;36m10\u001b[0m\u001b[1;33m)\u001b[0m\u001b[1;33m\u001b[0m\u001b[1;33m\u001b[0m\u001b[0m\n\u001b[0m",
      "\u001b[1;31mNameError\u001b[0m: name 'train_df' is not defined"
     ]
    }
   ],
   "source": [
    "train_df.head(10)"
   ]
  },
  {
   "cell_type": "code",
   "execution_count": null,
   "metadata": {},
   "outputs": [],
   "source": []
  }
 ],
 "metadata": {
  "kernelspec": {
   "display_name": "Python 3",
   "language": "python",
   "name": "python3"
  },
  "language_info": {
   "codemirror_mode": {
    "name": "ipython",
    "version": 3
   },
   "file_extension": ".py",
   "mimetype": "text/x-python",
   "name": "python",
   "nbconvert_exporter": "python",
   "pygments_lexer": "ipython3",
   "version": "3.6.8-final"
  }
 },
 "nbformat": 4,
 "nbformat_minor": 4
}