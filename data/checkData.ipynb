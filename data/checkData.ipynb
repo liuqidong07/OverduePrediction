{
 "metadata": {
  "language_info": {
   "codemirror_mode": {
    "name": "ipython",
    "version": 3
   },
   "file_extension": ".py",
   "mimetype": "text/x-python",
   "name": "python",
   "nbconvert_exporter": "python",
   "pygments_lexer": "ipython3",
   "version": "3.7.9-final"
  },
  "orig_nbformat": 2,
  "kernelspec": {
   "name": "python3",
   "display_name": "Python 3.7.9 64-bit ('competition': conda)",
   "metadata": {
    "interpreter": {
     "hash": "e23b9fd490f0da22a907a453249c28c5cc4ec139e8bec43c1f95caa512fe986a"
    }
   }
  }
 },
 "nbformat": 4,
 "nbformat_minor": 2,
 "cells": [
  {
   "source": [
    "## 数据预处理\n",
    "- 对时间戳进行转化,算出用户年龄\n",
    "- 对稀疏特征做labelencoding"
   ],
   "cell_type": "markdown",
   "metadata": {}
  },
  {
   "cell_type": "code",
   "execution_count": 1,
   "metadata": {},
   "outputs": [],
   "source": [
    "import pandas as pd\n",
    "pd.set_option('max_columns', 100)\n",
    "pd.set_option('max_rows', 100)\n",
    "import numpy as np"
   ]
  },
  {
   "cell_type": "code",
   "execution_count": 2,
   "metadata": {},
   "outputs": [],
   "source": [
    "train = pd.read_csv(r'./train.csv')\n",
    "test = pd.read_csv(r'./test.csv')\n",
    "submit = pd.read_csv(r'./submit.csv')"
   ]
  },
  {
   "cell_type": "code",
   "execution_count": 3,
   "metadata": {},
   "outputs": [
    {
     "output_type": "stream",
     "name": "stdout",
     "text": [
      "(40000, 21)\n(15000, 20)\n"
     ]
    },
    {
     "output_type": "execute_result",
     "data": {
      "text/plain": [
       "id            40000\n",
       "XINGBIE           3\n",
       "CSNY            393\n",
       "HYZK              4\n",
       "ZHIYE             7\n",
       "ZHICHEN           4\n",
       "ZHIWU             2\n",
       "XUELI             2\n",
       "DWJJLX           28\n",
       "DWSSHY           21\n",
       "GRJCJS        12447\n",
       "GRZHZT            5\n",
       "GRZHYE        34927\n",
       "GRZHSNJZYE    37759\n",
       "GRZHDNGJYE    31580\n",
       "GRYJCE        16045\n",
       "DWYJCE        16045\n",
       "DKFFE           545\n",
       "DKYE          21359\n",
       "DKLL              8\n",
       "label             2\n",
       "dtype: int64"
      ]
     },
     "metadata": {},
     "execution_count": 3
    }
   ],
   "source": [
    "print(train.shape)\n",
    "print(test.shape)\n",
    "train.nunique()"
   ]
  },
  {
   "cell_type": "code",
   "execution_count": 4,
   "metadata": {},
   "outputs": [
    {
     "output_type": "execute_result",
     "data": {
      "text/plain": [
       "(55000, 21)"
      ]
     },
     "metadata": {},
     "execution_count": 4
    }
   ],
   "source": [
    "# 先把训练集和测试集拼接起来,一起处理\n",
    "data = pd.concat([train, test])\n",
    "data.shape"
   ]
  },
  {
   "cell_type": "code",
   "execution_count": 5,
   "metadata": {},
   "outputs": [],
   "source": [
    "import time\n",
    "def timeConvert(x):\n",
    "    year = time.strftime(\"%Y\", time.localtime(x))\n",
    "    age = 2020 -int(year)\n",
    "    return age\n",
    "data['age'] = data['CSNY'].apply(timeConvert)\n",
    "data.drop('CSNY', axis=1, inplace=True)"
   ]
  },
  {
   "cell_type": "code",
   "execution_count": 6,
   "metadata": {},
   "outputs": [
    {
     "output_type": "execute_result",
     "data": {
      "text/plain": [
       "['GRJCJS',\n",
       " 'GRZHYE',\n",
       " 'GRZHSNJZYE',\n",
       " 'GRZHDNGJYE',\n",
       " 'GRYJCE',\n",
       " 'DWYJCE',\n",
       " 'DKFFE',\n",
       " 'DKYE',\n",
       " 'DKLL',\n",
       " 'age']"
      ]
     },
     "metadata": {},
     "execution_count": 6
    }
   ],
   "source": [
    "sparse_feat = ['XINGBIE', 'HYZK', 'ZHIYE', 'ZHICHEN', 'ZHIWU', 'XUELI', 'DWJJLX', 'DWSSHY', 'GRZHZT']\n",
    "dense_feat = list(data.columns)\n",
    "for item in sparse_feat:\n",
    "    dense_feat.remove(item)\n",
    "dense_feat.remove('id')\n",
    "dense_feat.remove('label')\n",
    "dense_feat"
   ]
  },
  {
   "cell_type": "code",
   "execution_count": 7,
   "metadata": {},
   "outputs": [
    {
     "output_type": "execute_result",
     "data": {
      "text/plain": [
       "   XINGBIE_0  XINGBIE_1  XINGBIE_2  HYZK_0  HYZK_1  HYZK_2  HYZK_3  ZHIYE_0  \\\n",
       "0          0          1          0       0       0       0       1        0   \n",
       "1          0          0          1       0       0       0       1        0   \n",
       "2          0          1          0       0       0       0       1        0   \n",
       "3          0          1          0       0       0       0       1        0   \n",
       "4          0          0          1       0       0       0       1        0   \n",
       "5          0          1          0       0       0       0       1        0   \n",
       "6          0          1          0       0       0       0       1        0   \n",
       "7          0          1          0       0       0       0       1        0   \n",
       "8          0          0          1       0       0       0       1        0   \n",
       "9          0          0          1       0       0       0       1        0   \n",
       "\n",
       "   ZHIYE_1  ZHIYE_2  ZHIYE_3  ZHIYE_4  ZHIYE_5  ZHIYE_6  ZHICHEN_0  ZHICHEN_1  \\\n",
       "0        0        0        0        0        0        1          0          0   \n",
       "1        0        0        0        0        0        1          0          0   \n",
       "2        0        0        0        0        0        1          0          0   \n",
       "3        0        0        0        0        0        1          0          0   \n",
       "4        0        0        0        0        0        1          0          0   \n",
       "5        0        0        0        0        0        1          0          0   \n",
       "6        0        0        0        0        0        1          0          0   \n",
       "7        0        0        0        0        0        1          0          0   \n",
       "8        0        0        0        0        0        1          0          0   \n",
       "9        0        0        0        0        0        1          0          0   \n",
       "\n",
       "   ZHICHEN_2  ZHICHEN_3  ZHIWU_0  ZHIWU_1  XUELI_0  XUELI_1  DWJJLX_0  \\\n",
       "0          0          1        1        0        0        1         0   \n",
       "1          0          1        1        0        0        1         0   \n",
       "2          0          1        1        0        0        1         0   \n",
       "3          0          1        1        0        0        1         0   \n",
       "4          0          1        1        0        0        1         0   \n",
       "5          0          1        1        0        0        1         0   \n",
       "6          0          1        1        0        0        1         0   \n",
       "7          0          1        1        0        0        1         0   \n",
       "8          0          1        1        0        0        1         0   \n",
       "9          0          1        1        0        0        1         0   \n",
       "\n",
       "   DWJJLX_1  DWJJLX_10  DWJJLX_11  DWJJLX_12  DWJJLX_13  DWJJLX_14  DWJJLX_15  \\\n",
       "0         0          0          0          0          0          0          0   \n",
       "1         1          0          0          0          0          0          0   \n",
       "2         0          0          0          0          0          0          0   \n",
       "3         0          0          0          0          0          0          0   \n",
       "4         0          0          0          0          0          0          0   \n",
       "5         0          0          0          0          0          0          0   \n",
       "6         0          0          1          0          0          0          0   \n",
       "7         0          0          0          0          0          0          0   \n",
       "8         0          0          0          0          0          0          0   \n",
       "9         0          0          0          0          0          0          0   \n",
       "\n",
       "   DWJJLX_16  DWJJLX_17  DWJJLX_18  DWJJLX_19  DWJJLX_2  DWJJLX_20  DWJJLX_21  \\\n",
       "0          0          0          0          0         0          0          0   \n",
       "1          0          0          0          0         0          0          0   \n",
       "2          0          0          0          0         0          0          0   \n",
       "3          0          0          0          0         0          0          0   \n",
       "4          0          0          0          0         0          0          0   \n",
       "5          0          0          0          0         0          0          0   \n",
       "6          0          0          0          0         0          0          0   \n",
       "7          0          0          0          0         0          0          0   \n",
       "8          0          0          0          0         0          0          0   \n",
       "9          0          0          0          0         0          0          0   \n",
       "\n",
       "   DWJJLX_22  DWJJLX_23  DWJJLX_24  DWJJLX_25  DWJJLX_26  DWJJLX_27  DWJJLX_3  \\\n",
       "0          0          0          0          0          0          0         0   \n",
       "1          0          0          0          0          0          0         0   \n",
       "2          0          0          0          0          0          0         0   \n",
       "3          0          0          0          0          0          0         0   \n",
       "4          0          0          0          0          0          1         0   \n",
       "5          0          0          0          0          0          0         0   \n",
       "6          0          0          0          0          0          0         0   \n",
       "7          0          0          0          0          0          0         0   \n",
       "8          0          0          0          0          0          0         0   \n",
       "9          0          0          0          0          0          0         0   \n",
       "\n",
       "   DWJJLX_4  DWJJLX_5  DWJJLX_6  DWJJLX_7  DWJJLX_8  DWJJLX_9  DWSSHY_0  \\\n",
       "0         0         0         0         0         0         1         0   \n",
       "1         0         0         0         0         0         0         1   \n",
       "2         0         0         0         0         0         1         0   \n",
       "3         0         0         0         0         0         1         0   \n",
       "4         0         0         0         0         0         0         0   \n",
       "5         0         0         0         0         0         1         0   \n",
       "6         0         0         0         0         0         0         0   \n",
       "7         0         0         0         0         0         1         0   \n",
       "8         0         0         0         0         0         1         0   \n",
       "9         0         0         0         0         0         1         0   \n",
       "\n",
       "   DWSSHY_1  DWSSHY_10  DWSSHY_11  DWSSHY_12  DWSSHY_13  DWSSHY_14  DWSSHY_15  \\\n",
       "0         0          0          0          1          0          0          0   \n",
       "1         0          0          0          0          0          0          0   \n",
       "2         0          0          0          0          0          0          0   \n",
       "3         0          0          0          0          0          0          0   \n",
       "4         0          0          0          0          0          1          0   \n",
       "5         0          0          0          0          0          1          0   \n",
       "6         0          0          0          0          0          0          0   \n",
       "7         0          0          0          0          0          0          0   \n",
       "8         0          0          0          0          0          0          0   \n",
       "9         0          0          0          0          0          1          0   \n",
       "\n",
       "   DWSSHY_16  DWSSHY_17  DWSSHY_18  DWSSHY_19  DWSSHY_2  DWSSHY_20  DWSSHY_3  \\\n",
       "0          0          0          0          0         0          0         0   \n",
       "1          0          0          0          0         0          0         0   \n",
       "2          0          0          0          0         0          0         0   \n",
       "3          0          0          0          0         0          0         0   \n",
       "4          0          0          0          0         0          0         0   \n",
       "5          0          0          0          0         0          0         0   \n",
       "6          0          0          0          0         1          0         0   \n",
       "7          0          0          0          0         0          0         0   \n",
       "8          0          0          0          0         0          0         0   \n",
       "9          0          0          0          0         0          0         0   \n",
       "\n",
       "   DWSSHY_4  DWSSHY_5  DWSSHY_6  DWSSHY_7  DWSSHY_8  DWSSHY_9  GRZHZT_0  \\\n",
       "0         0         0         0         0         0         0         1   \n",
       "1         0         0         0         0         0         0         1   \n",
       "2         0         0         0         0         0         1         1   \n",
       "3         0         0         0         1         0         0         1   \n",
       "4         0         0         0         0         0         0         1   \n",
       "5         0         0         0         0         0         0         1   \n",
       "6         0         0         0         0         0         0         1   \n",
       "7         0         0         0         1         0         0         1   \n",
       "8         0         0         0         0         0         1         1   \n",
       "9         0         0         0         0         0         0         1   \n",
       "\n",
       "   GRZHZT_1  GRZHZT_2  GRZHZT_3  GRZHZT_4  \n",
       "0         0         0         0         0  \n",
       "1         0         0         0         0  \n",
       "2         0         0         0         0  \n",
       "3         0         0         0         0  \n",
       "4         0         0         0         0  \n",
       "5         0         0         0         0  \n",
       "6         0         0         0         0  \n",
       "7         0         0         0         0  \n",
       "8         0         0         0         0  \n",
       "9         0         0         0         0  "
      ],
      "text/html": "<div>\n<style scoped>\n    .dataframe tbody tr th:only-of-type {\n        vertical-align: middle;\n    }\n\n    .dataframe tbody tr th {\n        vertical-align: top;\n    }\n\n    .dataframe thead th {\n        text-align: right;\n    }\n</style>\n<table border=\"1\" class=\"dataframe\">\n  <thead>\n    <tr style=\"text-align: right;\">\n      <th></th>\n      <th>XINGBIE_0</th>\n      <th>XINGBIE_1</th>\n      <th>XINGBIE_2</th>\n      <th>HYZK_0</th>\n      <th>HYZK_1</th>\n      <th>HYZK_2</th>\n      <th>HYZK_3</th>\n      <th>ZHIYE_0</th>\n      <th>ZHIYE_1</th>\n      <th>ZHIYE_2</th>\n      <th>ZHIYE_3</th>\n      <th>ZHIYE_4</th>\n      <th>ZHIYE_5</th>\n      <th>ZHIYE_6</th>\n      <th>ZHICHEN_0</th>\n      <th>ZHICHEN_1</th>\n      <th>ZHICHEN_2</th>\n      <th>ZHICHEN_3</th>\n      <th>ZHIWU_0</th>\n      <th>ZHIWU_1</th>\n      <th>XUELI_0</th>\n      <th>XUELI_1</th>\n      <th>DWJJLX_0</th>\n      <th>DWJJLX_1</th>\n      <th>DWJJLX_10</th>\n      <th>DWJJLX_11</th>\n      <th>DWJJLX_12</th>\n      <th>DWJJLX_13</th>\n      <th>DWJJLX_14</th>\n      <th>DWJJLX_15</th>\n      <th>DWJJLX_16</th>\n      <th>DWJJLX_17</th>\n      <th>DWJJLX_18</th>\n      <th>DWJJLX_19</th>\n      <th>DWJJLX_2</th>\n      <th>DWJJLX_20</th>\n      <th>DWJJLX_21</th>\n      <th>DWJJLX_22</th>\n      <th>DWJJLX_23</th>\n      <th>DWJJLX_24</th>\n      <th>DWJJLX_25</th>\n      <th>DWJJLX_26</th>\n      <th>DWJJLX_27</th>\n      <th>DWJJLX_3</th>\n      <th>DWJJLX_4</th>\n      <th>DWJJLX_5</th>\n      <th>DWJJLX_6</th>\n      <th>DWJJLX_7</th>\n      <th>DWJJLX_8</th>\n      <th>DWJJLX_9</th>\n      <th>DWSSHY_0</th>\n      <th>DWSSHY_1</th>\n      <th>DWSSHY_10</th>\n      <th>DWSSHY_11</th>\n      <th>DWSSHY_12</th>\n      <th>DWSSHY_13</th>\n      <th>DWSSHY_14</th>\n      <th>DWSSHY_15</th>\n      <th>DWSSHY_16</th>\n      <th>DWSSHY_17</th>\n      <th>DWSSHY_18</th>\n      <th>DWSSHY_19</th>\n      <th>DWSSHY_2</th>\n      <th>DWSSHY_20</th>\n      <th>DWSSHY_3</th>\n      <th>DWSSHY_4</th>\n      <th>DWSSHY_5</th>\n      <th>DWSSHY_6</th>\n      <th>DWSSHY_7</th>\n      <th>DWSSHY_8</th>\n      <th>DWSSHY_9</th>\n      <th>GRZHZT_0</th>\n      <th>GRZHZT_1</th>\n      <th>GRZHZT_2</th>\n      <th>GRZHZT_3</th>\n      <th>GRZHZT_4</th>\n    </tr>\n  </thead>\n  <tbody>\n    <tr>\n      <th>0</th>\n      <td>0</td>\n      <td>1</td>\n      <td>0</td>\n      <td>0</td>\n      <td>0</td>\n      <td>0</td>\n      <td>1</td>\n      <td>0</td>\n      <td>0</td>\n      <td>0</td>\n      <td>0</td>\n      <td>0</td>\n      <td>0</td>\n      <td>1</td>\n      <td>0</td>\n      <td>0</td>\n      <td>0</td>\n      <td>1</td>\n      <td>1</td>\n      <td>0</td>\n      <td>0</td>\n      <td>1</td>\n      <td>0</td>\n      <td>0</td>\n      <td>0</td>\n      <td>0</td>\n      <td>0</td>\n      <td>0</td>\n      <td>0</td>\n      <td>0</td>\n      <td>0</td>\n      <td>0</td>\n      <td>0</td>\n      <td>0</td>\n      <td>0</td>\n      <td>0</td>\n      <td>0</td>\n      <td>0</td>\n      <td>0</td>\n      <td>0</td>\n      <td>0</td>\n      <td>0</td>\n      <td>0</td>\n      <td>0</td>\n      <td>0</td>\n      <td>0</td>\n      <td>0</td>\n      <td>0</td>\n      <td>0</td>\n      <td>1</td>\n      <td>0</td>\n      <td>0</td>\n      <td>0</td>\n      <td>0</td>\n      <td>1</td>\n      <td>0</td>\n      <td>0</td>\n      <td>0</td>\n      <td>0</td>\n      <td>0</td>\n      <td>0</td>\n      <td>0</td>\n      <td>0</td>\n      <td>0</td>\n      <td>0</td>\n      <td>0</td>\n      <td>0</td>\n      <td>0</td>\n      <td>0</td>\n      <td>0</td>\n      <td>0</td>\n      <td>1</td>\n      <td>0</td>\n      <td>0</td>\n      <td>0</td>\n      <td>0</td>\n    </tr>\n    <tr>\n      <th>1</th>\n      <td>0</td>\n      <td>0</td>\n      <td>1</td>\n      <td>0</td>\n      <td>0</td>\n      <td>0</td>\n      <td>1</td>\n      <td>0</td>\n      <td>0</td>\n      <td>0</td>\n      <td>0</td>\n      <td>0</td>\n      <td>0</td>\n      <td>1</td>\n      <td>0</td>\n      <td>0</td>\n      <td>0</td>\n      <td>1</td>\n      <td>1</td>\n      <td>0</td>\n      <td>0</td>\n      <td>1</td>\n      <td>0</td>\n      <td>1</td>\n      <td>0</td>\n      <td>0</td>\n      <td>0</td>\n      <td>0</td>\n      <td>0</td>\n      <td>0</td>\n      <td>0</td>\n      <td>0</td>\n      <td>0</td>\n      <td>0</td>\n      <td>0</td>\n      <td>0</td>\n      <td>0</td>\n      <td>0</td>\n      <td>0</td>\n      <td>0</td>\n      <td>0</td>\n      <td>0</td>\n      <td>0</td>\n      <td>0</td>\n      <td>0</td>\n      <td>0</td>\n      <td>0</td>\n      <td>0</td>\n      <td>0</td>\n      <td>0</td>\n      <td>1</td>\n      <td>0</td>\n      <td>0</td>\n      <td>0</td>\n      <td>0</td>\n      <td>0</td>\n      <td>0</td>\n      <td>0</td>\n      <td>0</td>\n      <td>0</td>\n      <td>0</td>\n      <td>0</td>\n      <td>0</td>\n      <td>0</td>\n      <td>0</td>\n      <td>0</td>\n      <td>0</td>\n      <td>0</td>\n      <td>0</td>\n      <td>0</td>\n      <td>0</td>\n      <td>1</td>\n      <td>0</td>\n      <td>0</td>\n      <td>0</td>\n      <td>0</td>\n    </tr>\n    <tr>\n      <th>2</th>\n      <td>0</td>\n      <td>1</td>\n      <td>0</td>\n      <td>0</td>\n      <td>0</td>\n      <td>0</td>\n      <td>1</td>\n      <td>0</td>\n      <td>0</td>\n      <td>0</td>\n      <td>0</td>\n      <td>0</td>\n      <td>0</td>\n      <td>1</td>\n      <td>0</td>\n      <td>0</td>\n      <td>0</td>\n      <td>1</td>\n      <td>1</td>\n      <td>0</td>\n      <td>0</td>\n      <td>1</td>\n      <td>0</td>\n      <td>0</td>\n      <td>0</td>\n      <td>0</td>\n      <td>0</td>\n      <td>0</td>\n      <td>0</td>\n      <td>0</td>\n      <td>0</td>\n      <td>0</td>\n      <td>0</td>\n      <td>0</td>\n      <td>0</td>\n      <td>0</td>\n      <td>0</td>\n      <td>0</td>\n      <td>0</td>\n      <td>0</td>\n      <td>0</td>\n      <td>0</td>\n      <td>0</td>\n      <td>0</td>\n      <td>0</td>\n      <td>0</td>\n      <td>0</td>\n      <td>0</td>\n      <td>0</td>\n      <td>1</td>\n      <td>0</td>\n      <td>0</td>\n      <td>0</td>\n      <td>0</td>\n      <td>0</td>\n      <td>0</td>\n      <td>0</td>\n      <td>0</td>\n      <td>0</td>\n      <td>0</td>\n      <td>0</td>\n      <td>0</td>\n      <td>0</td>\n      <td>0</td>\n      <td>0</td>\n      <td>0</td>\n      <td>0</td>\n      <td>0</td>\n      <td>0</td>\n      <td>0</td>\n      <td>1</td>\n      <td>1</td>\n      <td>0</td>\n      <td>0</td>\n      <td>0</td>\n      <td>0</td>\n    </tr>\n    <tr>\n      <th>3</th>\n      <td>0</td>\n      <td>1</td>\n      <td>0</td>\n      <td>0</td>\n      <td>0</td>\n      <td>0</td>\n      <td>1</td>\n      <td>0</td>\n      <td>0</td>\n      <td>0</td>\n      <td>0</td>\n      <td>0</td>\n      <td>0</td>\n      <td>1</td>\n      <td>0</td>\n      <td>0</td>\n      <td>0</td>\n      <td>1</td>\n      <td>1</td>\n      <td>0</td>\n      <td>0</td>\n      <td>1</td>\n      <td>0</td>\n      <td>0</td>\n      <td>0</td>\n      <td>0</td>\n      <td>0</td>\n      <td>0</td>\n      <td>0</td>\n      <td>0</td>\n      <td>0</td>\n      <td>0</td>\n      <td>0</td>\n      <td>0</td>\n      <td>0</td>\n      <td>0</td>\n      <td>0</td>\n      <td>0</td>\n      <td>0</td>\n      <td>0</td>\n      <td>0</td>\n      <td>0</td>\n      <td>0</td>\n      <td>0</td>\n      <td>0</td>\n      <td>0</td>\n      <td>0</td>\n      <td>0</td>\n      <td>0</td>\n      <td>1</td>\n      <td>0</td>\n      <td>0</td>\n      <td>0</td>\n      <td>0</td>\n      <td>0</td>\n      <td>0</td>\n      <td>0</td>\n      <td>0</td>\n      <td>0</td>\n      <td>0</td>\n      <td>0</td>\n      <td>0</td>\n      <td>0</td>\n      <td>0</td>\n      <td>0</td>\n      <td>0</td>\n      <td>0</td>\n      <td>0</td>\n      <td>1</td>\n      <td>0</td>\n      <td>0</td>\n      <td>1</td>\n      <td>0</td>\n      <td>0</td>\n      <td>0</td>\n      <td>0</td>\n    </tr>\n    <tr>\n      <th>4</th>\n      <td>0</td>\n      <td>0</td>\n      <td>1</td>\n      <td>0</td>\n      <td>0</td>\n      <td>0</td>\n      <td>1</td>\n      <td>0</td>\n      <td>0</td>\n      <td>0</td>\n      <td>0</td>\n      <td>0</td>\n      <td>0</td>\n      <td>1</td>\n      <td>0</td>\n      <td>0</td>\n      <td>0</td>\n      <td>1</td>\n      <td>1</td>\n      <td>0</td>\n      <td>0</td>\n      <td>1</td>\n      <td>0</td>\n      <td>0</td>\n      <td>0</td>\n      <td>0</td>\n      <td>0</td>\n      <td>0</td>\n      <td>0</td>\n      <td>0</td>\n      <td>0</td>\n      <td>0</td>\n      <td>0</td>\n      <td>0</td>\n      <td>0</td>\n      <td>0</td>\n      <td>0</td>\n      <td>0</td>\n      <td>0</td>\n      <td>0</td>\n      <td>0</td>\n      <td>0</td>\n      <td>1</td>\n      <td>0</td>\n      <td>0</td>\n      <td>0</td>\n      <td>0</td>\n      <td>0</td>\n      <td>0</td>\n      <td>0</td>\n      <td>0</td>\n      <td>0</td>\n      <td>0</td>\n      <td>0</td>\n      <td>0</td>\n      <td>0</td>\n      <td>1</td>\n      <td>0</td>\n      <td>0</td>\n      <td>0</td>\n      <td>0</td>\n      <td>0</td>\n      <td>0</td>\n      <td>0</td>\n      <td>0</td>\n      <td>0</td>\n      <td>0</td>\n      <td>0</td>\n      <td>0</td>\n      <td>0</td>\n      <td>0</td>\n      <td>1</td>\n      <td>0</td>\n      <td>0</td>\n      <td>0</td>\n      <td>0</td>\n    </tr>\n    <tr>\n      <th>5</th>\n      <td>0</td>\n      <td>1</td>\n      <td>0</td>\n      <td>0</td>\n      <td>0</td>\n      <td>0</td>\n      <td>1</td>\n      <td>0</td>\n      <td>0</td>\n      <td>0</td>\n      <td>0</td>\n      <td>0</td>\n      <td>0</td>\n      <td>1</td>\n      <td>0</td>\n      <td>0</td>\n      <td>0</td>\n      <td>1</td>\n      <td>1</td>\n      <td>0</td>\n      <td>0</td>\n      <td>1</td>\n      <td>0</td>\n      <td>0</td>\n      <td>0</td>\n      <td>0</td>\n      <td>0</td>\n      <td>0</td>\n      <td>0</td>\n      <td>0</td>\n      <td>0</td>\n      <td>0</td>\n      <td>0</td>\n      <td>0</td>\n      <td>0</td>\n      <td>0</td>\n      <td>0</td>\n      <td>0</td>\n      <td>0</td>\n      <td>0</td>\n      <td>0</td>\n      <td>0</td>\n      <td>0</td>\n      <td>0</td>\n      <td>0</td>\n      <td>0</td>\n      <td>0</td>\n      <td>0</td>\n      <td>0</td>\n      <td>1</td>\n      <td>0</td>\n      <td>0</td>\n      <td>0</td>\n      <td>0</td>\n      <td>0</td>\n      <td>0</td>\n      <td>1</td>\n      <td>0</td>\n      <td>0</td>\n      <td>0</td>\n      <td>0</td>\n      <td>0</td>\n      <td>0</td>\n      <td>0</td>\n      <td>0</td>\n      <td>0</td>\n      <td>0</td>\n      <td>0</td>\n      <td>0</td>\n      <td>0</td>\n      <td>0</td>\n      <td>1</td>\n      <td>0</td>\n      <td>0</td>\n      <td>0</td>\n      <td>0</td>\n    </tr>\n    <tr>\n      <th>6</th>\n      <td>0</td>\n      <td>1</td>\n      <td>0</td>\n      <td>0</td>\n      <td>0</td>\n      <td>0</td>\n      <td>1</td>\n      <td>0</td>\n      <td>0</td>\n      <td>0</td>\n      <td>0</td>\n      <td>0</td>\n      <td>0</td>\n      <td>1</td>\n      <td>0</td>\n      <td>0</td>\n      <td>0</td>\n      <td>1</td>\n      <td>1</td>\n      <td>0</td>\n      <td>0</td>\n      <td>1</td>\n      <td>0</td>\n      <td>0</td>\n      <td>0</td>\n      <td>1</td>\n      <td>0</td>\n      <td>0</td>\n      <td>0</td>\n      <td>0</td>\n      <td>0</td>\n      <td>0</td>\n      <td>0</td>\n      <td>0</td>\n      <td>0</td>\n      <td>0</td>\n      <td>0</td>\n      <td>0</td>\n      <td>0</td>\n      <td>0</td>\n      <td>0</td>\n      <td>0</td>\n      <td>0</td>\n      <td>0</td>\n      <td>0</td>\n      <td>0</td>\n      <td>0</td>\n      <td>0</td>\n      <td>0</td>\n      <td>0</td>\n      <td>0</td>\n      <td>0</td>\n      <td>0</td>\n      <td>0</td>\n      <td>0</td>\n      <td>0</td>\n      <td>0</td>\n      <td>0</td>\n      <td>0</td>\n      <td>0</td>\n      <td>0</td>\n      <td>0</td>\n      <td>1</td>\n      <td>0</td>\n      <td>0</td>\n      <td>0</td>\n      <td>0</td>\n      <td>0</td>\n      <td>0</td>\n      <td>0</td>\n      <td>0</td>\n      <td>1</td>\n      <td>0</td>\n      <td>0</td>\n      <td>0</td>\n      <td>0</td>\n    </tr>\n    <tr>\n      <th>7</th>\n      <td>0</td>\n      <td>1</td>\n      <td>0</td>\n      <td>0</td>\n      <td>0</td>\n      <td>0</td>\n      <td>1</td>\n      <td>0</td>\n      <td>0</td>\n      <td>0</td>\n      <td>0</td>\n      <td>0</td>\n      <td>0</td>\n      <td>1</td>\n      <td>0</td>\n      <td>0</td>\n      <td>0</td>\n      <td>1</td>\n      <td>1</td>\n      <td>0</td>\n      <td>0</td>\n      <td>1</td>\n      <td>0</td>\n      <td>0</td>\n      <td>0</td>\n      <td>0</td>\n      <td>0</td>\n      <td>0</td>\n      <td>0</td>\n      <td>0</td>\n      <td>0</td>\n      <td>0</td>\n      <td>0</td>\n      <td>0</td>\n      <td>0</td>\n      <td>0</td>\n      <td>0</td>\n      <td>0</td>\n      <td>0</td>\n      <td>0</td>\n      <td>0</td>\n      <td>0</td>\n      <td>0</td>\n      <td>0</td>\n      <td>0</td>\n      <td>0</td>\n      <td>0</td>\n      <td>0</td>\n      <td>0</td>\n      <td>1</td>\n      <td>0</td>\n      <td>0</td>\n      <td>0</td>\n      <td>0</td>\n      <td>0</td>\n      <td>0</td>\n      <td>0</td>\n      <td>0</td>\n      <td>0</td>\n      <td>0</td>\n      <td>0</td>\n      <td>0</td>\n      <td>0</td>\n      <td>0</td>\n      <td>0</td>\n      <td>0</td>\n      <td>0</td>\n      <td>0</td>\n      <td>1</td>\n      <td>0</td>\n      <td>0</td>\n      <td>1</td>\n      <td>0</td>\n      <td>0</td>\n      <td>0</td>\n      <td>0</td>\n    </tr>\n    <tr>\n      <th>8</th>\n      <td>0</td>\n      <td>0</td>\n      <td>1</td>\n      <td>0</td>\n      <td>0</td>\n      <td>0</td>\n      <td>1</td>\n      <td>0</td>\n      <td>0</td>\n      <td>0</td>\n      <td>0</td>\n      <td>0</td>\n      <td>0</td>\n      <td>1</td>\n      <td>0</td>\n      <td>0</td>\n      <td>0</td>\n      <td>1</td>\n      <td>1</td>\n      <td>0</td>\n      <td>0</td>\n      <td>1</td>\n      <td>0</td>\n      <td>0</td>\n      <td>0</td>\n      <td>0</td>\n      <td>0</td>\n      <td>0</td>\n      <td>0</td>\n      <td>0</td>\n      <td>0</td>\n      <td>0</td>\n      <td>0</td>\n      <td>0</td>\n      <td>0</td>\n      <td>0</td>\n      <td>0</td>\n      <td>0</td>\n      <td>0</td>\n      <td>0</td>\n      <td>0</td>\n      <td>0</td>\n      <td>0</td>\n      <td>0</td>\n      <td>0</td>\n      <td>0</td>\n      <td>0</td>\n      <td>0</td>\n      <td>0</td>\n      <td>1</td>\n      <td>0</td>\n      <td>0</td>\n      <td>0</td>\n      <td>0</td>\n      <td>0</td>\n      <td>0</td>\n      <td>0</td>\n      <td>0</td>\n      <td>0</td>\n      <td>0</td>\n      <td>0</td>\n      <td>0</td>\n      <td>0</td>\n      <td>0</td>\n      <td>0</td>\n      <td>0</td>\n      <td>0</td>\n      <td>0</td>\n      <td>0</td>\n      <td>0</td>\n      <td>1</td>\n      <td>1</td>\n      <td>0</td>\n      <td>0</td>\n      <td>0</td>\n      <td>0</td>\n    </tr>\n    <tr>\n      <th>9</th>\n      <td>0</td>\n      <td>0</td>\n      <td>1</td>\n      <td>0</td>\n      <td>0</td>\n      <td>0</td>\n      <td>1</td>\n      <td>0</td>\n      <td>0</td>\n      <td>0</td>\n      <td>0</td>\n      <td>0</td>\n      <td>0</td>\n      <td>1</td>\n      <td>0</td>\n      <td>0</td>\n      <td>0</td>\n      <td>1</td>\n      <td>1</td>\n      <td>0</td>\n      <td>0</td>\n      <td>1</td>\n      <td>0</td>\n      <td>0</td>\n      <td>0</td>\n      <td>0</td>\n      <td>0</td>\n      <td>0</td>\n      <td>0</td>\n      <td>0</td>\n      <td>0</td>\n      <td>0</td>\n      <td>0</td>\n      <td>0</td>\n      <td>0</td>\n      <td>0</td>\n      <td>0</td>\n      <td>0</td>\n      <td>0</td>\n      <td>0</td>\n      <td>0</td>\n      <td>0</td>\n      <td>0</td>\n      <td>0</td>\n      <td>0</td>\n      <td>0</td>\n      <td>0</td>\n      <td>0</td>\n      <td>0</td>\n      <td>1</td>\n      <td>0</td>\n      <td>0</td>\n      <td>0</td>\n      <td>0</td>\n      <td>0</td>\n      <td>0</td>\n      <td>1</td>\n      <td>0</td>\n      <td>0</td>\n      <td>0</td>\n      <td>0</td>\n      <td>0</td>\n      <td>0</td>\n      <td>0</td>\n      <td>0</td>\n      <td>0</td>\n      <td>0</td>\n      <td>0</td>\n      <td>0</td>\n      <td>0</td>\n      <td>0</td>\n      <td>1</td>\n      <td>0</td>\n      <td>0</td>\n      <td>0</td>\n      <td>0</td>\n    </tr>\n  </tbody>\n</table>\n</div>"
     },
     "metadata": {},
     "execution_count": 7
    }
   ],
   "source": [
    "from sklearn.preprocessing import LabelEncoder\n",
    "encoder = LabelEncoder()\n",
    "data[sparse_feat] = data[sparse_feat].apply(encoder.fit_transform)\n",
    "temp = pd.get_dummies(data[sparse_feat].astype(str))\n",
    "#data = pd.concat([data, temp], axis=1)\n",
    "temp.head(10)"
   ]
  },
  {
   "cell_type": "code",
   "execution_count": 8,
   "metadata": {},
   "outputs": [],
   "source": [
    "# 做归一化\n",
    "#data[dense_feat] = (data[dense_feat] - data[dense_feat].min()) / (data[dense_feat].max() - data[dense_feat].min())"
   ]
  },
  {
   "cell_type": "code",
   "execution_count": 9,
   "metadata": {},
   "outputs": [
    {
     "output_type": "execute_result",
     "data": {
      "text/plain": [
       "        id  XINGBIE  HYZK  ZHIYE  ZHICHEN  ZHIWU  XUELI  DWJJLX  DWSSHY  \\\n",
       "0  train_0        1     3      6        3      0      1       9      12   \n",
       "1  train_1        2     3      6        3      0      1       1       0   \n",
       "2  train_2        1     3      6        3      0      1       9       9   \n",
       "3  train_3        1     3      6        3      0      1       9       7   \n",
       "4  train_4        2     3      6        3      0      1      27      14   \n",
       "5  train_5        1     3      6        3      0      1       9      14   \n",
       "6  train_6        1     3      6        3      0      1      11       2   \n",
       "7  train_7        1     3      6        3      0      1       9       7   \n",
       "8  train_8        2     3      6        3      0      1       9       9   \n",
       "9  train_9        2     3      6        3      0      1       9      14   \n",
       "\n",
       "    GRJCJS  GRZHZT      GRZHYE  GRZHSNJZYE  GRZHDNGJYE   GRYJCE   DWYJCE  \\\n",
       "0   1737.0       0    3223.515     801.310     837.000   312.00   312.00   \n",
       "1   4894.0       0   18055.195   53213.220    1065.200   795.84   795.84   \n",
       "2  10297.0       0   27426.600   13963.140    7230.020  1444.20  1444.20   \n",
       "3  10071.5       0  111871.130   99701.265    2271.295  1417.14  1417.14   \n",
       "4   2007.0       0     237.000   11028.875      35.780   325.50   325.50   \n",
       "5   1192.0       0    9648.315    7388.550     771.800   303.85   303.85   \n",
       "6   7297.0       0   22846.975   12179.565    5885.000   801.80   801.80   \n",
       "7   1399.0       0    1808.135    6405.055    1050.400   318.34   318.34   \n",
       "8   6408.0       0   79304.635   52365.820    6161.160   977.52   977.52   \n",
       "9   3573.5       0    2009.000   61126.175     536.750   637.38   637.38   \n",
       "\n",
       "    DKFFE        DKYE   DKLL  label  age  \n",
       "0  175237  154112.935  2.708    0.0   18  \n",
       "1  300237  298252.945  2.979    0.0   34  \n",
       "2  150237  147339.130  2.708    0.0   27  \n",
       "3  350237  300653.780  2.708    0.0   37  \n",
       "4  150237  145185.010  2.708    0.0   33  \n",
       "5  150237  149743.210  2.708    0.0   35  \n",
       "6  150237  146723.725  2.708    0.0   33  \n",
       "7  125237   64938.955  2.708    0.0   16  \n",
       "8  300237  270579.955  2.979    0.0   31  \n",
       "9  230237  142296.640  2.708    0.0   36  "
      ],
      "text/html": "<div>\n<style scoped>\n    .dataframe tbody tr th:only-of-type {\n        vertical-align: middle;\n    }\n\n    .dataframe tbody tr th {\n        vertical-align: top;\n    }\n\n    .dataframe thead th {\n        text-align: right;\n    }\n</style>\n<table border=\"1\" class=\"dataframe\">\n  <thead>\n    <tr style=\"text-align: right;\">\n      <th></th>\n      <th>id</th>\n      <th>XINGBIE</th>\n      <th>HYZK</th>\n      <th>ZHIYE</th>\n      <th>ZHICHEN</th>\n      <th>ZHIWU</th>\n      <th>XUELI</th>\n      <th>DWJJLX</th>\n      <th>DWSSHY</th>\n      <th>GRJCJS</th>\n      <th>GRZHZT</th>\n      <th>GRZHYE</th>\n      <th>GRZHSNJZYE</th>\n      <th>GRZHDNGJYE</th>\n      <th>GRYJCE</th>\n      <th>DWYJCE</th>\n      <th>DKFFE</th>\n      <th>DKYE</th>\n      <th>DKLL</th>\n      <th>label</th>\n      <th>age</th>\n    </tr>\n  </thead>\n  <tbody>\n    <tr>\n      <th>0</th>\n      <td>train_0</td>\n      <td>1</td>\n      <td>3</td>\n      <td>6</td>\n      <td>3</td>\n      <td>0</td>\n      <td>1</td>\n      <td>9</td>\n      <td>12</td>\n      <td>1737.0</td>\n      <td>0</td>\n      <td>3223.515</td>\n      <td>801.310</td>\n      <td>837.000</td>\n      <td>312.00</td>\n      <td>312.00</td>\n      <td>175237</td>\n      <td>154112.935</td>\n      <td>2.708</td>\n      <td>0.0</td>\n      <td>18</td>\n    </tr>\n    <tr>\n      <th>1</th>\n      <td>train_1</td>\n      <td>2</td>\n      <td>3</td>\n      <td>6</td>\n      <td>3</td>\n      <td>0</td>\n      <td>1</td>\n      <td>1</td>\n      <td>0</td>\n      <td>4894.0</td>\n      <td>0</td>\n      <td>18055.195</td>\n      <td>53213.220</td>\n      <td>1065.200</td>\n      <td>795.84</td>\n      <td>795.84</td>\n      <td>300237</td>\n      <td>298252.945</td>\n      <td>2.979</td>\n      <td>0.0</td>\n      <td>34</td>\n    </tr>\n    <tr>\n      <th>2</th>\n      <td>train_2</td>\n      <td>1</td>\n      <td>3</td>\n      <td>6</td>\n      <td>3</td>\n      <td>0</td>\n      <td>1</td>\n      <td>9</td>\n      <td>9</td>\n      <td>10297.0</td>\n      <td>0</td>\n      <td>27426.600</td>\n      <td>13963.140</td>\n      <td>7230.020</td>\n      <td>1444.20</td>\n      <td>1444.20</td>\n      <td>150237</td>\n      <td>147339.130</td>\n      <td>2.708</td>\n      <td>0.0</td>\n      <td>27</td>\n    </tr>\n    <tr>\n      <th>3</th>\n      <td>train_3</td>\n      <td>1</td>\n      <td>3</td>\n      <td>6</td>\n      <td>3</td>\n      <td>0</td>\n      <td>1</td>\n      <td>9</td>\n      <td>7</td>\n      <td>10071.5</td>\n      <td>0</td>\n      <td>111871.130</td>\n      <td>99701.265</td>\n      <td>2271.295</td>\n      <td>1417.14</td>\n      <td>1417.14</td>\n      <td>350237</td>\n      <td>300653.780</td>\n      <td>2.708</td>\n      <td>0.0</td>\n      <td>37</td>\n    </tr>\n    <tr>\n      <th>4</th>\n      <td>train_4</td>\n      <td>2</td>\n      <td>3</td>\n      <td>6</td>\n      <td>3</td>\n      <td>0</td>\n      <td>1</td>\n      <td>27</td>\n      <td>14</td>\n      <td>2007.0</td>\n      <td>0</td>\n      <td>237.000</td>\n      <td>11028.875</td>\n      <td>35.780</td>\n      <td>325.50</td>\n      <td>325.50</td>\n      <td>150237</td>\n      <td>145185.010</td>\n      <td>2.708</td>\n      <td>0.0</td>\n      <td>33</td>\n    </tr>\n    <tr>\n      <th>5</th>\n      <td>train_5</td>\n      <td>1</td>\n      <td>3</td>\n      <td>6</td>\n      <td>3</td>\n      <td>0</td>\n      <td>1</td>\n      <td>9</td>\n      <td>14</td>\n      <td>1192.0</td>\n      <td>0</td>\n      <td>9648.315</td>\n      <td>7388.550</td>\n      <td>771.800</td>\n      <td>303.85</td>\n      <td>303.85</td>\n      <td>150237</td>\n      <td>149743.210</td>\n      <td>2.708</td>\n      <td>0.0</td>\n      <td>35</td>\n    </tr>\n    <tr>\n      <th>6</th>\n      <td>train_6</td>\n      <td>1</td>\n      <td>3</td>\n      <td>6</td>\n      <td>3</td>\n      <td>0</td>\n      <td>1</td>\n      <td>11</td>\n      <td>2</td>\n      <td>7297.0</td>\n      <td>0</td>\n      <td>22846.975</td>\n      <td>12179.565</td>\n      <td>5885.000</td>\n      <td>801.80</td>\n      <td>801.80</td>\n      <td>150237</td>\n      <td>146723.725</td>\n      <td>2.708</td>\n      <td>0.0</td>\n      <td>33</td>\n    </tr>\n    <tr>\n      <th>7</th>\n      <td>train_7</td>\n      <td>1</td>\n      <td>3</td>\n      <td>6</td>\n      <td>3</td>\n      <td>0</td>\n      <td>1</td>\n      <td>9</td>\n      <td>7</td>\n      <td>1399.0</td>\n      <td>0</td>\n      <td>1808.135</td>\n      <td>6405.055</td>\n      <td>1050.400</td>\n      <td>318.34</td>\n      <td>318.34</td>\n      <td>125237</td>\n      <td>64938.955</td>\n      <td>2.708</td>\n      <td>0.0</td>\n      <td>16</td>\n    </tr>\n    <tr>\n      <th>8</th>\n      <td>train_8</td>\n      <td>2</td>\n      <td>3</td>\n      <td>6</td>\n      <td>3</td>\n      <td>0</td>\n      <td>1</td>\n      <td>9</td>\n      <td>9</td>\n      <td>6408.0</td>\n      <td>0</td>\n      <td>79304.635</td>\n      <td>52365.820</td>\n      <td>6161.160</td>\n      <td>977.52</td>\n      <td>977.52</td>\n      <td>300237</td>\n      <td>270579.955</td>\n      <td>2.979</td>\n      <td>0.0</td>\n      <td>31</td>\n    </tr>\n    <tr>\n      <th>9</th>\n      <td>train_9</td>\n      <td>2</td>\n      <td>3</td>\n      <td>6</td>\n      <td>3</td>\n      <td>0</td>\n      <td>1</td>\n      <td>9</td>\n      <td>14</td>\n      <td>3573.5</td>\n      <td>0</td>\n      <td>2009.000</td>\n      <td>61126.175</td>\n      <td>536.750</td>\n      <td>637.38</td>\n      <td>637.38</td>\n      <td>230237</td>\n      <td>142296.640</td>\n      <td>2.708</td>\n      <td>0.0</td>\n      <td>36</td>\n    </tr>\n  </tbody>\n</table>\n</div>"
     },
     "metadata": {},
     "execution_count": 9
    }
   ],
   "source": [
    "data.head(10)"
   ]
  },
  {
   "cell_type": "code",
   "execution_count": 10,
   "metadata": {},
   "outputs": [],
   "source": [
    "# 调整列的排序\n",
    "new_index = ['id'] + sparse_feat + dense_feat + ['label']\n",
    "#data = data.reindex(columns=new_index)\n",
    "data = data[new_index]"
   ]
  },
  {
   "cell_type": "code",
   "execution_count": 11,
   "metadata": {},
   "outputs": [
    {
     "output_type": "execute_result",
     "data": {
      "text/plain": [
       "        id  XINGBIE  HYZK  ZHIYE  ZHICHEN  ZHIWU  XUELI  DWJJLX  DWSSHY  \\\n",
       "0  train_0        1     3      6        3      0      1       9      12   \n",
       "1  train_1        2     3      6        3      0      1       1       0   \n",
       "2  train_2        1     3      6        3      0      1       9       9   \n",
       "3  train_3        1     3      6        3      0      1       9       7   \n",
       "4  train_4        2     3      6        3      0      1      27      14   \n",
       "5  train_5        1     3      6        3      0      1       9      14   \n",
       "6  train_6        1     3      6        3      0      1      11       2   \n",
       "7  train_7        1     3      6        3      0      1       9       7   \n",
       "8  train_8        2     3      6        3      0      1       9       9   \n",
       "9  train_9        2     3      6        3      0      1       9      14   \n",
       "\n",
       "   GRZHZT   GRJCJS      GRZHYE  GRZHSNJZYE  GRZHDNGJYE   GRYJCE   DWYJCE  \\\n",
       "0       0   1737.0    3223.515     801.310     837.000   312.00   312.00   \n",
       "1       0   4894.0   18055.195   53213.220    1065.200   795.84   795.84   \n",
       "2       0  10297.0   27426.600   13963.140    7230.020  1444.20  1444.20   \n",
       "3       0  10071.5  111871.130   99701.265    2271.295  1417.14  1417.14   \n",
       "4       0   2007.0     237.000   11028.875      35.780   325.50   325.50   \n",
       "5       0   1192.0    9648.315    7388.550     771.800   303.85   303.85   \n",
       "6       0   7297.0   22846.975   12179.565    5885.000   801.80   801.80   \n",
       "7       0   1399.0    1808.135    6405.055    1050.400   318.34   318.34   \n",
       "8       0   6408.0   79304.635   52365.820    6161.160   977.52   977.52   \n",
       "9       0   3573.5    2009.000   61126.175     536.750   637.38   637.38   \n",
       "\n",
       "    DKFFE        DKYE   DKLL  age  label  \n",
       "0  175237  154112.935  2.708   18    0.0  \n",
       "1  300237  298252.945  2.979   34    0.0  \n",
       "2  150237  147339.130  2.708   27    0.0  \n",
       "3  350237  300653.780  2.708   37    0.0  \n",
       "4  150237  145185.010  2.708   33    0.0  \n",
       "5  150237  149743.210  2.708   35    0.0  \n",
       "6  150237  146723.725  2.708   33    0.0  \n",
       "7  125237   64938.955  2.708   16    0.0  \n",
       "8  300237  270579.955  2.979   31    0.0  \n",
       "9  230237  142296.640  2.708   36    0.0  "
      ],
      "text/html": "<div>\n<style scoped>\n    .dataframe tbody tr th:only-of-type {\n        vertical-align: middle;\n    }\n\n    .dataframe tbody tr th {\n        vertical-align: top;\n    }\n\n    .dataframe thead th {\n        text-align: right;\n    }\n</style>\n<table border=\"1\" class=\"dataframe\">\n  <thead>\n    <tr style=\"text-align: right;\">\n      <th></th>\n      <th>id</th>\n      <th>XINGBIE</th>\n      <th>HYZK</th>\n      <th>ZHIYE</th>\n      <th>ZHICHEN</th>\n      <th>ZHIWU</th>\n      <th>XUELI</th>\n      <th>DWJJLX</th>\n      <th>DWSSHY</th>\n      <th>GRZHZT</th>\n      <th>GRJCJS</th>\n      <th>GRZHYE</th>\n      <th>GRZHSNJZYE</th>\n      <th>GRZHDNGJYE</th>\n      <th>GRYJCE</th>\n      <th>DWYJCE</th>\n      <th>DKFFE</th>\n      <th>DKYE</th>\n      <th>DKLL</th>\n      <th>age</th>\n      <th>label</th>\n    </tr>\n  </thead>\n  <tbody>\n    <tr>\n      <th>0</th>\n      <td>train_0</td>\n      <td>1</td>\n      <td>3</td>\n      <td>6</td>\n      <td>3</td>\n      <td>0</td>\n      <td>1</td>\n      <td>9</td>\n      <td>12</td>\n      <td>0</td>\n      <td>1737.0</td>\n      <td>3223.515</td>\n      <td>801.310</td>\n      <td>837.000</td>\n      <td>312.00</td>\n      <td>312.00</td>\n      <td>175237</td>\n      <td>154112.935</td>\n      <td>2.708</td>\n      <td>18</td>\n      <td>0.0</td>\n    </tr>\n    <tr>\n      <th>1</th>\n      <td>train_1</td>\n      <td>2</td>\n      <td>3</td>\n      <td>6</td>\n      <td>3</td>\n      <td>0</td>\n      <td>1</td>\n      <td>1</td>\n      <td>0</td>\n      <td>0</td>\n      <td>4894.0</td>\n      <td>18055.195</td>\n      <td>53213.220</td>\n      <td>1065.200</td>\n      <td>795.84</td>\n      <td>795.84</td>\n      <td>300237</td>\n      <td>298252.945</td>\n      <td>2.979</td>\n      <td>34</td>\n      <td>0.0</td>\n    </tr>\n    <tr>\n      <th>2</th>\n      <td>train_2</td>\n      <td>1</td>\n      <td>3</td>\n      <td>6</td>\n      <td>3</td>\n      <td>0</td>\n      <td>1</td>\n      <td>9</td>\n      <td>9</td>\n      <td>0</td>\n      <td>10297.0</td>\n      <td>27426.600</td>\n      <td>13963.140</td>\n      <td>7230.020</td>\n      <td>1444.20</td>\n      <td>1444.20</td>\n      <td>150237</td>\n      <td>147339.130</td>\n      <td>2.708</td>\n      <td>27</td>\n      <td>0.0</td>\n    </tr>\n    <tr>\n      <th>3</th>\n      <td>train_3</td>\n      <td>1</td>\n      <td>3</td>\n      <td>6</td>\n      <td>3</td>\n      <td>0</td>\n      <td>1</td>\n      <td>9</td>\n      <td>7</td>\n      <td>0</td>\n      <td>10071.5</td>\n      <td>111871.130</td>\n      <td>99701.265</td>\n      <td>2271.295</td>\n      <td>1417.14</td>\n      <td>1417.14</td>\n      <td>350237</td>\n      <td>300653.780</td>\n      <td>2.708</td>\n      <td>37</td>\n      <td>0.0</td>\n    </tr>\n    <tr>\n      <th>4</th>\n      <td>train_4</td>\n      <td>2</td>\n      <td>3</td>\n      <td>6</td>\n      <td>3</td>\n      <td>0</td>\n      <td>1</td>\n      <td>27</td>\n      <td>14</td>\n      <td>0</td>\n      <td>2007.0</td>\n      <td>237.000</td>\n      <td>11028.875</td>\n      <td>35.780</td>\n      <td>325.50</td>\n      <td>325.50</td>\n      <td>150237</td>\n      <td>145185.010</td>\n      <td>2.708</td>\n      <td>33</td>\n      <td>0.0</td>\n    </tr>\n    <tr>\n      <th>5</th>\n      <td>train_5</td>\n      <td>1</td>\n      <td>3</td>\n      <td>6</td>\n      <td>3</td>\n      <td>0</td>\n      <td>1</td>\n      <td>9</td>\n      <td>14</td>\n      <td>0</td>\n      <td>1192.0</td>\n      <td>9648.315</td>\n      <td>7388.550</td>\n      <td>771.800</td>\n      <td>303.85</td>\n      <td>303.85</td>\n      <td>150237</td>\n      <td>149743.210</td>\n      <td>2.708</td>\n      <td>35</td>\n      <td>0.0</td>\n    </tr>\n    <tr>\n      <th>6</th>\n      <td>train_6</td>\n      <td>1</td>\n      <td>3</td>\n      <td>6</td>\n      <td>3</td>\n      <td>0</td>\n      <td>1</td>\n      <td>11</td>\n      <td>2</td>\n      <td>0</td>\n      <td>7297.0</td>\n      <td>22846.975</td>\n      <td>12179.565</td>\n      <td>5885.000</td>\n      <td>801.80</td>\n      <td>801.80</td>\n      <td>150237</td>\n      <td>146723.725</td>\n      <td>2.708</td>\n      <td>33</td>\n      <td>0.0</td>\n    </tr>\n    <tr>\n      <th>7</th>\n      <td>train_7</td>\n      <td>1</td>\n      <td>3</td>\n      <td>6</td>\n      <td>3</td>\n      <td>0</td>\n      <td>1</td>\n      <td>9</td>\n      <td>7</td>\n      <td>0</td>\n      <td>1399.0</td>\n      <td>1808.135</td>\n      <td>6405.055</td>\n      <td>1050.400</td>\n      <td>318.34</td>\n      <td>318.34</td>\n      <td>125237</td>\n      <td>64938.955</td>\n      <td>2.708</td>\n      <td>16</td>\n      <td>0.0</td>\n    </tr>\n    <tr>\n      <th>8</th>\n      <td>train_8</td>\n      <td>2</td>\n      <td>3</td>\n      <td>6</td>\n      <td>3</td>\n      <td>0</td>\n      <td>1</td>\n      <td>9</td>\n      <td>9</td>\n      <td>0</td>\n      <td>6408.0</td>\n      <td>79304.635</td>\n      <td>52365.820</td>\n      <td>6161.160</td>\n      <td>977.52</td>\n      <td>977.52</td>\n      <td>300237</td>\n      <td>270579.955</td>\n      <td>2.979</td>\n      <td>31</td>\n      <td>0.0</td>\n    </tr>\n    <tr>\n      <th>9</th>\n      <td>train_9</td>\n      <td>2</td>\n      <td>3</td>\n      <td>6</td>\n      <td>3</td>\n      <td>0</td>\n      <td>1</td>\n      <td>9</td>\n      <td>14</td>\n      <td>0</td>\n      <td>3573.5</td>\n      <td>2009.000</td>\n      <td>61126.175</td>\n      <td>536.750</td>\n      <td>637.38</td>\n      <td>637.38</td>\n      <td>230237</td>\n      <td>142296.640</td>\n      <td>2.708</td>\n      <td>36</td>\n      <td>0.0</td>\n    </tr>\n  </tbody>\n</table>\n</div>"
     },
     "metadata": {},
     "execution_count": 11
    }
   ],
   "source": [
    "data.head(10)"
   ]
  },
  {
   "cell_type": "code",
   "execution_count": 12,
   "metadata": {},
   "outputs": [
    {
     "output_type": "execute_result",
     "data": {
      "text/plain": [
       "(55000, 21)"
      ]
     },
     "metadata": {},
     "execution_count": 12
    }
   ],
   "source": [
    "data.shape"
   ]
  },
  {
   "cell_type": "code",
   "execution_count": 13,
   "metadata": {},
   "outputs": [
    {
     "output_type": "stream",
     "name": "stdout",
     "text": [
      "(15000, 20)\n"
     ]
    }
   ],
   "source": [
    "# 把处理好的数据表进行拆分, 得到训练集和测试集\n",
    "transform_train = data.iloc[:40000, :]\n",
    "transform_test = data.iloc[40000:, :-1]     #不需要label列\n",
    "print(transform_test.shape)"
   ]
  },
  {
   "cell_type": "code",
   "execution_count": 14,
   "metadata": {},
   "outputs": [
    {
     "output_type": "execute_result",
     "data": {
      "text/plain": [
       "       id  XINGBIE  HYZK  ZHIYE  ZHICHEN  ZHIWU  XUELI  DWJJLX  DWSSHY  \\\n",
       "0  test_0        1     3      6        3      0      1      10      10   \n",
       "1  test_1        1     3      6        3      0      1       9      11   \n",
       "2  test_2        1     3      6        3      1      1       1      15   \n",
       "3  test_3        2     3      6        3      0      1       9      10   \n",
       "4  test_4        1     3      6        3      0      1       9       2   \n",
       "5  test_5        1     3      6        3      0      1       9       0   \n",
       "6  test_6        1     3      6        3      0      1       1      14   \n",
       "7  test_7        1     3      6        3      0      1       9       7   \n",
       "8  test_8        1     3      6        3      0      1       9      14   \n",
       "9  test_9        1     3      6        3      0      1       9       2   \n",
       "\n",
       "   GRZHZT    GRJCJS     GRZHYE  GRZHSNJZYE  GRZHDNGJYE   GRYJCE   DWYJCE  \\\n",
       "0       0  2387.000  17146.350   13376.485    1097.000  344.500  344.500   \n",
       "1       0  1237.000   3783.385    2145.585     637.000  287.000  287.000   \n",
       "2       0  5612.904  51787.152   35176.592    1115.693  882.108  882.108   \n",
       "3       0  2977.000    785.000     714.885   -2515.105  511.000  511.000   \n",
       "4       0  4701.500  40722.050   27110.840    8163.960  772.740  772.740   \n",
       "5       0  4028.000  13224.155    6335.680    2359.960  502.370  502.370   \n",
       "6       0  3155.500   1143.520    8821.390     307.955  587.220  587.220   \n",
       "7       0  1192.000    332.500     390.590     235.765  284.750  284.750   \n",
       "8       0  1192.000    435.800     301.120     370.700  303.850  303.850   \n",
       "9       0  3577.000   9898.285   13188.370    2909.000  571.000  571.000   \n",
       "\n",
       "    DKFFE        DKYE   DKLL  age  \n",
       "0  110237     237.000  2.708   34  \n",
       "1  200237  178567.065  2.708   31  \n",
       "2  150237  146580.203  2.834   49  \n",
       "3  246737  242095.465  2.979   33  \n",
       "4  100237   72320.445  2.708   48  \n",
       "5  150237  129884.255  2.708   37  \n",
       "6  300237  274800.120  2.708   27  \n",
       "7  212237  201738.730  2.708   29  \n",
       "8  150237   67955.775  2.708   42  \n",
       "9  170237  144448.630  2.708   29  "
      ],
      "text/html": "<div>\n<style scoped>\n    .dataframe tbody tr th:only-of-type {\n        vertical-align: middle;\n    }\n\n    .dataframe tbody tr th {\n        vertical-align: top;\n    }\n\n    .dataframe thead th {\n        text-align: right;\n    }\n</style>\n<table border=\"1\" class=\"dataframe\">\n  <thead>\n    <tr style=\"text-align: right;\">\n      <th></th>\n      <th>id</th>\n      <th>XINGBIE</th>\n      <th>HYZK</th>\n      <th>ZHIYE</th>\n      <th>ZHICHEN</th>\n      <th>ZHIWU</th>\n      <th>XUELI</th>\n      <th>DWJJLX</th>\n      <th>DWSSHY</th>\n      <th>GRZHZT</th>\n      <th>GRJCJS</th>\n      <th>GRZHYE</th>\n      <th>GRZHSNJZYE</th>\n      <th>GRZHDNGJYE</th>\n      <th>GRYJCE</th>\n      <th>DWYJCE</th>\n      <th>DKFFE</th>\n      <th>DKYE</th>\n      <th>DKLL</th>\n      <th>age</th>\n    </tr>\n  </thead>\n  <tbody>\n    <tr>\n      <th>0</th>\n      <td>test_0</td>\n      <td>1</td>\n      <td>3</td>\n      <td>6</td>\n      <td>3</td>\n      <td>0</td>\n      <td>1</td>\n      <td>10</td>\n      <td>10</td>\n      <td>0</td>\n      <td>2387.000</td>\n      <td>17146.350</td>\n      <td>13376.485</td>\n      <td>1097.000</td>\n      <td>344.500</td>\n      <td>344.500</td>\n      <td>110237</td>\n      <td>237.000</td>\n      <td>2.708</td>\n      <td>34</td>\n    </tr>\n    <tr>\n      <th>1</th>\n      <td>test_1</td>\n      <td>1</td>\n      <td>3</td>\n      <td>6</td>\n      <td>3</td>\n      <td>0</td>\n      <td>1</td>\n      <td>9</td>\n      <td>11</td>\n      <td>0</td>\n      <td>1237.000</td>\n      <td>3783.385</td>\n      <td>2145.585</td>\n      <td>637.000</td>\n      <td>287.000</td>\n      <td>287.000</td>\n      <td>200237</td>\n      <td>178567.065</td>\n      <td>2.708</td>\n      <td>31</td>\n    </tr>\n    <tr>\n      <th>2</th>\n      <td>test_2</td>\n      <td>1</td>\n      <td>3</td>\n      <td>6</td>\n      <td>3</td>\n      <td>1</td>\n      <td>1</td>\n      <td>1</td>\n      <td>15</td>\n      <td>0</td>\n      <td>5612.904</td>\n      <td>51787.152</td>\n      <td>35176.592</td>\n      <td>1115.693</td>\n      <td>882.108</td>\n      <td>882.108</td>\n      <td>150237</td>\n      <td>146580.203</td>\n      <td>2.834</td>\n      <td>49</td>\n    </tr>\n    <tr>\n      <th>3</th>\n      <td>test_3</td>\n      <td>2</td>\n      <td>3</td>\n      <td>6</td>\n      <td>3</td>\n      <td>0</td>\n      <td>1</td>\n      <td>9</td>\n      <td>10</td>\n      <td>0</td>\n      <td>2977.000</td>\n      <td>785.000</td>\n      <td>714.885</td>\n      <td>-2515.105</td>\n      <td>511.000</td>\n      <td>511.000</td>\n      <td>246737</td>\n      <td>242095.465</td>\n      <td>2.979</td>\n      <td>33</td>\n    </tr>\n    <tr>\n      <th>4</th>\n      <td>test_4</td>\n      <td>1</td>\n      <td>3</td>\n      <td>6</td>\n      <td>3</td>\n      <td>0</td>\n      <td>1</td>\n      <td>9</td>\n      <td>2</td>\n      <td>0</td>\n      <td>4701.500</td>\n      <td>40722.050</td>\n      <td>27110.840</td>\n      <td>8163.960</td>\n      <td>772.740</td>\n      <td>772.740</td>\n      <td>100237</td>\n      <td>72320.445</td>\n      <td>2.708</td>\n      <td>48</td>\n    </tr>\n    <tr>\n      <th>5</th>\n      <td>test_5</td>\n      <td>1</td>\n      <td>3</td>\n      <td>6</td>\n      <td>3</td>\n      <td>0</td>\n      <td>1</td>\n      <td>9</td>\n      <td>0</td>\n      <td>0</td>\n      <td>4028.000</td>\n      <td>13224.155</td>\n      <td>6335.680</td>\n      <td>2359.960</td>\n      <td>502.370</td>\n      <td>502.370</td>\n      <td>150237</td>\n      <td>129884.255</td>\n      <td>2.708</td>\n      <td>37</td>\n    </tr>\n    <tr>\n      <th>6</th>\n      <td>test_6</td>\n      <td>1</td>\n      <td>3</td>\n      <td>6</td>\n      <td>3</td>\n      <td>0</td>\n      <td>1</td>\n      <td>1</td>\n      <td>14</td>\n      <td>0</td>\n      <td>3155.500</td>\n      <td>1143.520</td>\n      <td>8821.390</td>\n      <td>307.955</td>\n      <td>587.220</td>\n      <td>587.220</td>\n      <td>300237</td>\n      <td>274800.120</td>\n      <td>2.708</td>\n      <td>27</td>\n    </tr>\n    <tr>\n      <th>7</th>\n      <td>test_7</td>\n      <td>1</td>\n      <td>3</td>\n      <td>6</td>\n      <td>3</td>\n      <td>0</td>\n      <td>1</td>\n      <td>9</td>\n      <td>7</td>\n      <td>0</td>\n      <td>1192.000</td>\n      <td>332.500</td>\n      <td>390.590</td>\n      <td>235.765</td>\n      <td>284.750</td>\n      <td>284.750</td>\n      <td>212237</td>\n      <td>201738.730</td>\n      <td>2.708</td>\n      <td>29</td>\n    </tr>\n    <tr>\n      <th>8</th>\n      <td>test_8</td>\n      <td>1</td>\n      <td>3</td>\n      <td>6</td>\n      <td>3</td>\n      <td>0</td>\n      <td>1</td>\n      <td>9</td>\n      <td>14</td>\n      <td>0</td>\n      <td>1192.000</td>\n      <td>435.800</td>\n      <td>301.120</td>\n      <td>370.700</td>\n      <td>303.850</td>\n      <td>303.850</td>\n      <td>150237</td>\n      <td>67955.775</td>\n      <td>2.708</td>\n      <td>42</td>\n    </tr>\n    <tr>\n      <th>9</th>\n      <td>test_9</td>\n      <td>1</td>\n      <td>3</td>\n      <td>6</td>\n      <td>3</td>\n      <td>0</td>\n      <td>1</td>\n      <td>9</td>\n      <td>2</td>\n      <td>0</td>\n      <td>3577.000</td>\n      <td>9898.285</td>\n      <td>13188.370</td>\n      <td>2909.000</td>\n      <td>571.000</td>\n      <td>571.000</td>\n      <td>170237</td>\n      <td>144448.630</td>\n      <td>2.708</td>\n      <td>29</td>\n    </tr>\n  </tbody>\n</table>\n</div>"
     },
     "metadata": {},
     "execution_count": 14
    }
   ],
   "source": [
    "transform_test.head(10)"
   ]
  },
  {
   "cell_type": "code",
   "execution_count": 15,
   "metadata": {},
   "outputs": [],
   "source": [
    "# 存储处理好的数据\n",
    "import pickle\n",
    "with open(r'./train_T.pkl', 'wb') as f:\n",
    "    pickle.dump(transform_train, f)\n",
    "with open(r'./test_T.pkl', 'wb') as f:\n",
    "    pickle.dump(transform_test, f)"
   ]
  },
  {
   "cell_type": "code",
   "execution_count": 16,
   "metadata": {},
   "outputs": [
    {
     "output_type": "execute_result",
     "data": {
      "text/plain": [
       "{'sparse': [3, 4, 7, 4, 2, 2, 28, 21, 5], 'dense': 10}"
      ]
     },
     "metadata": {},
     "execution_count": 16
    }
   ],
   "source": [
    "# 存储数据集的信息, 构建input_dict字典\n",
    "import json\n",
    "input_dict = {'sparse': None, 'dense': None}\n",
    "input_dict['dense'] = len(dense_feat)\n",
    "input_dict['sparse'] = list(data[sparse_feat].nunique())\n",
    "with open(r'./info.json', 'w') as f:\n",
    "    json.dump(input_dict, f)\n",
    "input_dict"
   ]
  },
  {
   "source": [
    "## 非平衡数据处理\n",
    "发现问题: 样本分布极为不平衡. label为1也即逾期的样本占总样本的大约6%.\n",
    "\n",
    "解决方案: 打算先进行欠采样尝试, 如果效果不好再使用过采样"
   ],
   "cell_type": "markdown",
   "metadata": {}
  },
  {
   "cell_type": "code",
   "execution_count": 17,
   "metadata": {},
   "outputs": [],
   "source": [
    "# 进行欠采样对数据进行平衡\n",
    "over_index = np.where(transform_train['label']==1)[0]\n",
    "sample_index = np.random.choice(np.where(transform_train['label']==0)[0], int(len(over_index) * 1.2))\n",
    "sample_index = set(sample_index)\n",
    "sample_index = np.array(list(sample_index))\n",
    "all_index = np.concatenate((over_index, sample_index), axis=0)\n",
    "all_index = np.sort(all_index)\n",
    "all_index\n",
    "train_data = transform_train#.iloc[all_index, :]"
   ]
  },
  {
   "source": [
    "## 使用LGBM等模型进行尝试"
   ],
   "cell_type": "markdown",
   "metadata": {}
  },
  {
   "cell_type": "code",
   "execution_count": 18,
   "metadata": {},
   "outputs": [
    {
     "output_type": "execute_result",
     "data": {
      "text/plain": [
       "21"
      ]
     },
     "metadata": {},
     "execution_count": 18
    }
   ],
   "source": [
    "train_data.shape[1]"
   ]
  },
  {
   "cell_type": "code",
   "execution_count": 19,
   "metadata": {},
   "outputs": [
    {
     "output_type": "stream",
     "name": "stdout",
     "text": [
      "[0. 0. 0. ... 0. 0. 0.]\n",
      "0.9595\n"
     ]
    }
   ],
   "source": [
    "# 尝试使用LGBM\n",
    "import lightgbm as lgb\n",
    "from sklearn.model_selection import train_test_split\n",
    "from sklearn.metrics import accuracy_score\n",
    "feat_num = train_data.shape[1]\n",
    "X_train, X_test, y_train, y_test = train_test_split(train_data.iloc[:, 1:feat_num - 1].values, train_data.iloc[:, feat_num - 1].values, test_size=0.2)\n",
    "print(y_train)\n",
    "param = {'n_estimators': 10, 'learning_rate': 0.05, 'num_leaves': 31, 'boosting_type': 'gbdt', 'num_iterations':100}\n",
    "model = lgb.sklearn.LGBMClassifier(**param)\n",
    "model.fit(X_train, y_train.astype(int))\n",
    "y_predict = model.predict(X_test)\n",
    "print(accuracy_score(y_test, y_predict))"
   ]
  },
  {
   "cell_type": "code",
   "execution_count": 20,
   "metadata": {},
   "outputs": [],
   "source": [
    "def evaluation(y_true, y_predict):\n",
    "    '''\n",
    "    进行线下评测.\n",
    "    评测方法: 分别先计算出三个情况下的tpr(tpr:fpr=0.001/0.005/0.01). 然后计算\n",
    "        总得分为: score=0.4*TPR1 + 0.3*TPR2 + 0.3*TPR3\n",
    "    输入: 一维的预测数据和真实数据\n",
    "    输出: 线下评测得分\n",
    "    '''\n",
    "    d = pd.DataFrame()\n",
    "    d['prob'] = list(y_predict)\n",
    "    d['y'] = list(y_true)\n",
    "    d = d.sort_values(['prob'], ascending=[0])\n",
    "    y = d.y\n",
    "    PosAll = pd.Series(y).value_counts()[1]\n",
    "    NegAll = pd.Series(y).value_counts()[0]\n",
    "    pCumsum = d['y'].cumsum()\n",
    "    nCumsum = np.arange(len(y)) - pCumsum + 1\n",
    "    pCumsumPer = pCumsum / PosAll\n",
    "    nCumsumPer = nCumsum / NegAll\n",
    "    TR1 = pCumsumPer[abs(nCumsumPer-0.001).idxmin()]\n",
    "    TR2 = pCumsumPer[abs(nCumsumPer-0.005).idxmin()]\n",
    "    TR3 = pCumsumPer[abs(nCumsumPer-0.01).idxmin()]\n",
    "    return 0.4 * TR1 + 0.3 * TR2 + 0.3 * TR3"
   ]
  },
  {
   "cell_type": "code",
   "execution_count": 21,
   "metadata": {},
   "outputs": [
    {
     "output_type": "stream",
     "name": "stdout",
     "text": [
      "0.4364485981308411\n"
     ]
    }
   ],
   "source": [
    "y_predict = model.predict_proba(X_test)[:, 1]\n",
    "score = evaluation(y_test, y_predict)\n",
    "print(score)"
   ]
  },
  {
   "cell_type": "code",
   "execution_count": 22,
   "metadata": {},
   "outputs": [
    {
     "output_type": "execute_result",
     "data": {
      "text/plain": [
       "(15000,)"
      ]
     },
     "metadata": {},
     "execution_count": 22
    }
   ],
   "source": [
    "res = model.predict_proba(transform_test.iloc[:, 1:87].values)[:, 1]\n",
    "res.shape"
   ]
  },
  {
   "cell_type": "code",
   "execution_count": 23,
   "metadata": {},
   "outputs": [
    {
     "output_type": "error",
     "ename": "FileNotFoundError",
     "evalue": "[Errno 2] No such file or directory: '../submission/202101082218.csv'",
     "traceback": [
      "\u001b[0;31m---------------------------------------------------------------------------\u001b[0m",
      "\u001b[0;31mFileNotFoundError\u001b[0m                         Traceback (most recent call last)",
      "\u001b[0;32m<ipython-input-23-6689ff07ad74>\u001b[0m in \u001b[0;36m<module>\u001b[0;34m\u001b[0m\n\u001b[1;32m      5\u001b[0m     \u001b[0mtime_path\u001b[0m \u001b[0;34m=\u001b[0m \u001b[0mtime\u001b[0m\u001b[0;34m.\u001b[0m\u001b[0mstrftime\u001b[0m\u001b[0;34m(\u001b[0m\u001b[0;34m\"%Y%m%d%H%M\"\u001b[0m\u001b[0;34m,\u001b[0m \u001b[0mtime\u001b[0m\u001b[0;34m.\u001b[0m\u001b[0mlocaltime\u001b[0m\u001b[0;34m(\u001b[0m\u001b[0;34m)\u001b[0m\u001b[0;34m)\u001b[0m \u001b[0;34m+\u001b[0m \u001b[0;34m'.csv'\u001b[0m\u001b[0;34m\u001b[0m\u001b[0;34m\u001b[0m\u001b[0m\n\u001b[1;32m      6\u001b[0m     \u001b[0msubimt_csv\u001b[0m\u001b[0;34m.\u001b[0m\u001b[0mto_csv\u001b[0m\u001b[0;34m(\u001b[0m\u001b[0;34m'../submission/'\u001b[0m \u001b[0;34m+\u001b[0m \u001b[0mtime_path\u001b[0m\u001b[0;34m,\u001b[0m \u001b[0mindex\u001b[0m\u001b[0;34m=\u001b[0m\u001b[0;32mFalse\u001b[0m\u001b[0;34m)\u001b[0m\u001b[0;34m\u001b[0m\u001b[0;34m\u001b[0m\u001b[0m\n\u001b[0;32m----> 7\u001b[0;31m \u001b[0msubmit\u001b[0m\u001b[0;34m(\u001b[0m\u001b[0mres\u001b[0m\u001b[0;34m)\u001b[0m\u001b[0;34m\u001b[0m\u001b[0;34m\u001b[0m\u001b[0m\n\u001b[0m",
      "\u001b[0;32m<ipython-input-23-6689ff07ad74>\u001b[0m in \u001b[0;36msubmit\u001b[0;34m(res)\u001b[0m\n\u001b[1;32m      4\u001b[0m     \u001b[0msubimt_csv\u001b[0m\u001b[0;34m[\u001b[0m\u001b[0;34m'label'\u001b[0m\u001b[0;34m]\u001b[0m \u001b[0;34m=\u001b[0m \u001b[0mres\u001b[0m\u001b[0;34m\u001b[0m\u001b[0;34m\u001b[0m\u001b[0m\n\u001b[1;32m      5\u001b[0m     \u001b[0mtime_path\u001b[0m \u001b[0;34m=\u001b[0m \u001b[0mtime\u001b[0m\u001b[0;34m.\u001b[0m\u001b[0mstrftime\u001b[0m\u001b[0;34m(\u001b[0m\u001b[0;34m\"%Y%m%d%H%M\"\u001b[0m\u001b[0;34m,\u001b[0m \u001b[0mtime\u001b[0m\u001b[0;34m.\u001b[0m\u001b[0mlocaltime\u001b[0m\u001b[0;34m(\u001b[0m\u001b[0;34m)\u001b[0m\u001b[0;34m)\u001b[0m \u001b[0;34m+\u001b[0m \u001b[0;34m'.csv'\u001b[0m\u001b[0;34m\u001b[0m\u001b[0;34m\u001b[0m\u001b[0m\n\u001b[0;32m----> 6\u001b[0;31m     \u001b[0msubimt_csv\u001b[0m\u001b[0;34m.\u001b[0m\u001b[0mto_csv\u001b[0m\u001b[0;34m(\u001b[0m\u001b[0;34m'../submission/'\u001b[0m \u001b[0;34m+\u001b[0m \u001b[0mtime_path\u001b[0m\u001b[0;34m,\u001b[0m \u001b[0mindex\u001b[0m\u001b[0;34m=\u001b[0m\u001b[0;32mFalse\u001b[0m\u001b[0;34m)\u001b[0m\u001b[0;34m\u001b[0m\u001b[0;34m\u001b[0m\u001b[0m\n\u001b[0m\u001b[1;32m      7\u001b[0m \u001b[0msubmit\u001b[0m\u001b[0;34m(\u001b[0m\u001b[0mres\u001b[0m\u001b[0;34m)\u001b[0m\u001b[0;34m\u001b[0m\u001b[0;34m\u001b[0m\u001b[0m\n",
      "\u001b[0;32m/opt/conda/envs/competition/lib/python3.7/site-packages/pandas/core/generic.py\u001b[0m in \u001b[0;36mto_csv\u001b[0;34m(self, path_or_buf, sep, na_rep, float_format, columns, header, index, index_label, mode, encoding, compression, quoting, quotechar, line_terminator, chunksize, date_format, doublequote, escapechar, decimal, errors, storage_options)\u001b[0m\n\u001b[1;32m   3398\u001b[0m             \u001b[0mdoublequote\u001b[0m\u001b[0;34m=\u001b[0m\u001b[0mdoublequote\u001b[0m\u001b[0;34m,\u001b[0m\u001b[0;34m\u001b[0m\u001b[0;34m\u001b[0m\u001b[0m\n\u001b[1;32m   3399\u001b[0m             \u001b[0mescapechar\u001b[0m\u001b[0;34m=\u001b[0m\u001b[0mescapechar\u001b[0m\u001b[0;34m,\u001b[0m\u001b[0;34m\u001b[0m\u001b[0;34m\u001b[0m\u001b[0m\n\u001b[0;32m-> 3400\u001b[0;31m             \u001b[0mstorage_options\u001b[0m\u001b[0;34m=\u001b[0m\u001b[0mstorage_options\u001b[0m\u001b[0;34m,\u001b[0m\u001b[0;34m\u001b[0m\u001b[0;34m\u001b[0m\u001b[0m\n\u001b[0m\u001b[1;32m   3401\u001b[0m         )\n\u001b[1;32m   3402\u001b[0m \u001b[0;34m\u001b[0m\u001b[0m\n",
      "\u001b[0;32m/opt/conda/envs/competition/lib/python3.7/site-packages/pandas/io/formats/format.py\u001b[0m in \u001b[0;36mto_csv\u001b[0;34m(self, path_or_buf, encoding, sep, columns, index_label, mode, compression, quoting, quotechar, line_terminator, chunksize, date_format, doublequote, escapechar, errors, storage_options)\u001b[0m\n\u001b[1;32m   1081\u001b[0m             \u001b[0mformatter\u001b[0m\u001b[0;34m=\u001b[0m\u001b[0mself\u001b[0m\u001b[0;34m.\u001b[0m\u001b[0mfmt\u001b[0m\u001b[0;34m,\u001b[0m\u001b[0;34m\u001b[0m\u001b[0;34m\u001b[0m\u001b[0m\n\u001b[1;32m   1082\u001b[0m         )\n\u001b[0;32m-> 1083\u001b[0;31m         \u001b[0mcsv_formatter\u001b[0m\u001b[0;34m.\u001b[0m\u001b[0msave\u001b[0m\u001b[0;34m(\u001b[0m\u001b[0;34m)\u001b[0m\u001b[0;34m\u001b[0m\u001b[0;34m\u001b[0m\u001b[0m\n\u001b[0m\u001b[1;32m   1084\u001b[0m \u001b[0;34m\u001b[0m\u001b[0m\n\u001b[1;32m   1085\u001b[0m         \u001b[0;32mif\u001b[0m \u001b[0mcreated_buffer\u001b[0m\u001b[0;34m:\u001b[0m\u001b[0;34m\u001b[0m\u001b[0;34m\u001b[0m\u001b[0m\n",
      "\u001b[0;32m/opt/conda/envs/competition/lib/python3.7/site-packages/pandas/io/formats/csvs.py\u001b[0m in \u001b[0;36msave\u001b[0;34m(self)\u001b[0m\n\u001b[1;32m    232\u001b[0m             \u001b[0merrors\u001b[0m\u001b[0;34m=\u001b[0m\u001b[0mself\u001b[0m\u001b[0;34m.\u001b[0m\u001b[0merrors\u001b[0m\u001b[0;34m,\u001b[0m\u001b[0;34m\u001b[0m\u001b[0;34m\u001b[0m\u001b[0m\n\u001b[1;32m    233\u001b[0m             \u001b[0mcompression\u001b[0m\u001b[0;34m=\u001b[0m\u001b[0mself\u001b[0m\u001b[0;34m.\u001b[0m\u001b[0mcompression\u001b[0m\u001b[0;34m,\u001b[0m\u001b[0;34m\u001b[0m\u001b[0;34m\u001b[0m\u001b[0m\n\u001b[0;32m--> 234\u001b[0;31m             \u001b[0mstorage_options\u001b[0m\u001b[0;34m=\u001b[0m\u001b[0mself\u001b[0m\u001b[0;34m.\u001b[0m\u001b[0mstorage_options\u001b[0m\u001b[0;34m,\u001b[0m\u001b[0;34m\u001b[0m\u001b[0;34m\u001b[0m\u001b[0m\n\u001b[0m\u001b[1;32m    235\u001b[0m         ) as handles:\n\u001b[1;32m    236\u001b[0m \u001b[0;34m\u001b[0m\u001b[0m\n",
      "\u001b[0;32m/opt/conda/envs/competition/lib/python3.7/site-packages/pandas/io/common.py\u001b[0m in \u001b[0;36mget_handle\u001b[0;34m(path_or_buf, mode, encoding, compression, memory_map, is_text, errors, storage_options)\u001b[0m\n\u001b[1;32m    642\u001b[0m                 \u001b[0mencoding\u001b[0m\u001b[0;34m=\u001b[0m\u001b[0mioargs\u001b[0m\u001b[0;34m.\u001b[0m\u001b[0mencoding\u001b[0m\u001b[0;34m,\u001b[0m\u001b[0;34m\u001b[0m\u001b[0;34m\u001b[0m\u001b[0m\n\u001b[1;32m    643\u001b[0m                 \u001b[0merrors\u001b[0m\u001b[0;34m=\u001b[0m\u001b[0merrors\u001b[0m\u001b[0;34m,\u001b[0m\u001b[0;34m\u001b[0m\u001b[0;34m\u001b[0m\u001b[0m\n\u001b[0;32m--> 644\u001b[0;31m                 \u001b[0mnewline\u001b[0m\u001b[0;34m=\u001b[0m\u001b[0;34m\"\"\u001b[0m\u001b[0;34m,\u001b[0m\u001b[0;34m\u001b[0m\u001b[0;34m\u001b[0m\u001b[0m\n\u001b[0m\u001b[1;32m    645\u001b[0m             )\n\u001b[1;32m    646\u001b[0m         \u001b[0;32melse\u001b[0m\u001b[0;34m:\u001b[0m\u001b[0;34m\u001b[0m\u001b[0;34m\u001b[0m\u001b[0m\n",
      "\u001b[0;31mFileNotFoundError\u001b[0m: [Errno 2] No such file or directory: '../submission/202101082218.csv'"
     ]
    }
   ],
   "source": [
    "import time\n",
    "def submit(res):\n",
    "    subimt_csv = pd.read_csv(r'./submit.csv')\n",
    "    subimt_csv['label'] = res\n",
    "    time_path = time.strftime(\"%Y%m%d%H%M\", time.localtime()) + '.csv'\n",
    "    subimt_csv.to_csv('../submission/' + time_path, index=False)\n",
    "submit(res)"
   ]
  },
  {
   "cell_type": "code",
   "execution_count": 24,
   "metadata": {},
   "outputs": [
    {
     "output_type": "execute_result",
     "data": {
      "text/plain": [
       "            XINGBIE          HYZK         ZHIYE       ZHICHEN         ZHIWU  \\\n",
       "count  40000.000000  40000.000000  40000.000000  40000.000000  40000.000000   \n",
       "mean       1.361900      2.999275      5.995025      2.996175      0.000150   \n",
       "std        0.480868      0.043296      0.138927      0.089781      0.012247   \n",
       "min        0.000000      0.000000      0.000000      0.000000      0.000000   \n",
       "25%        1.000000      3.000000      6.000000      3.000000      0.000000   \n",
       "50%        1.000000      3.000000      6.000000      3.000000      0.000000   \n",
       "75%        2.000000      3.000000      6.000000      3.000000      0.000000   \n",
       "max        2.000000      3.000000      6.000000      3.000000      1.000000   \n",
       "\n",
       "              XUELI       DWJJLX        DWSSHY        GRZHZT        GRJCJS  \\\n",
       "count  40000.000000  40000.00000  40000.000000  40000.000000  40000.000000   \n",
       "mean       0.999850     10.18755      9.612775      0.005725   4507.734465   \n",
       "std        0.012247      8.29608      5.541372      0.100461   2844.622778   \n",
       "min        0.000000      0.00000      0.000000      0.000000    787.000000   \n",
       "25%        1.000000      1.00000      6.000000      0.000000   2362.000000   \n",
       "50%        1.000000      9.00000     10.000000      0.000000   3887.500000   \n",
       "75%        1.000000     11.00000     14.000000      0.000000   5831.031250   \n",
       "max        1.000000     27.00000     20.000000      4.000000  13692.000000   \n",
       "\n",
       "              GRZHYE     GRZHSNJZYE     GRZHDNGJYE        GRYJCE  \\\n",
       "count   40000.000000   40000.000000   40000.000000  40000.000000   \n",
       "mean    15020.190993   15316.570596    -117.379254    686.961022   \n",
       "std     20189.939168   20061.193795    7968.738147    344.924156   \n",
       "min       237.000000     237.000000 -240318.745000    246.550000   \n",
       "25%      1892.468750    2994.080000    -577.803750    411.000000   \n",
       "50%      8545.727500    9010.740000     771.800000    616.800000   \n",
       "75%     19591.691250   19571.826250    2452.977500    849.060000   \n",
       "max    366651.575000  313348.420000   53065.095000   1745.940000   \n",
       "\n",
       "             DWYJCE          DKFFE           DKYE          DKLL          age  \\\n",
       "count  40000.000000   40000.000000   40000.000000  40000.000000  40000.00000   \n",
       "mean     686.961022  190324.265725  156308.760839      2.768083     35.20900   \n",
       "std      344.924156   75334.858625   77409.960122      0.146709     30.88984   \n",
       "min      246.550000   15237.000000     237.000000      2.292000  -5982.00000   \n",
       "25%      411.000000  150237.000000  110252.845000      2.708000     30.00000   \n",
       "50%      616.800000  150237.000000  146210.880000      2.708000     34.00000   \n",
       "75%      849.060000  250237.000000  200844.113750      2.708000     40.00000   \n",
       "max     1745.940000  350237.000000  329776.790000      3.575000     49.00000   \n",
       "\n",
       "          XINGBIE_0     XINGBIE_1     XINGBIE_2        HYZK_0        HYZK_1  \\\n",
       "count  40000.000000  40000.000000  40000.000000  40000.000000  40000.000000   \n",
       "mean       0.000150      0.637800      0.362050      0.000150      0.000125   \n",
       "std        0.012247      0.480642      0.480599      0.012247      0.011180   \n",
       "min        0.000000      0.000000      0.000000      0.000000      0.000000   \n",
       "25%        0.000000      0.000000      0.000000      0.000000      0.000000   \n",
       "50%        0.000000      1.000000      0.000000      0.000000      0.000000   \n",
       "75%        0.000000      1.000000      1.000000      0.000000      0.000000   \n",
       "max        1.000000      1.000000      1.000000      1.000000      1.000000   \n",
       "\n",
       "             HYZK_2        HYZK_3       ZHIYE_0       ZHIYE_1       ZHIYE_2  \\\n",
       "count  40000.000000  40000.000000  40000.000000  40000.000000  40000.000000   \n",
       "mean       0.000025      0.999700      0.000150      0.000050      0.000425   \n",
       "std        0.005000      0.017318      0.012247      0.007071      0.020611   \n",
       "min        0.000000      0.000000      0.000000      0.000000      0.000000   \n",
       "25%        0.000000      1.000000      0.000000      0.000000      0.000000   \n",
       "50%        0.000000      1.000000      0.000000      0.000000      0.000000   \n",
       "75%        0.000000      1.000000      0.000000      0.000000      0.000000   \n",
       "max        1.000000      1.000000      1.000000      1.000000      1.000000   \n",
       "\n",
       "            ZHIYE_3       ZHIYE_4       ZHIYE_5       ZHIYE_6     ZHICHEN_0  \\\n",
       "count  40000.000000  40000.000000  40000.000000  40000.000000  40000.000000   \n",
       "mean       0.000600      0.000075      0.000175      0.998525      0.000150   \n",
       "std        0.024488      0.008660      0.013228      0.038378      0.012247   \n",
       "min        0.000000      0.000000      0.000000      0.000000      0.000000   \n",
       "25%        0.000000      0.000000      0.000000      1.000000      0.000000   \n",
       "50%        0.000000      0.000000      0.000000      1.000000      0.000000   \n",
       "75%        0.000000      0.000000      0.000000      1.000000      0.000000   \n",
       "max        1.000000      1.000000      1.000000      1.000000      1.000000   \n",
       "\n",
       "          ZHICHEN_1     ZHICHEN_2     ZHICHEN_3       ZHIWU_0       ZHIWU_1  \\\n",
       "count  40000.000000  40000.000000  40000.000000  40000.000000  40000.000000   \n",
       "mean       0.001675      0.000025      0.998150      0.999850      0.000150   \n",
       "std        0.040893      0.005000      0.042972      0.012247      0.012247   \n",
       "min        0.000000      0.000000      0.000000      0.000000      0.000000   \n",
       "25%        0.000000      0.000000      1.000000      1.000000      0.000000   \n",
       "50%        0.000000      0.000000      1.000000      1.000000      0.000000   \n",
       "75%        0.000000      0.000000      1.000000      1.000000      0.000000   \n",
       "max        1.000000      1.000000      1.000000      1.000000      1.000000   \n",
       "\n",
       "            XUELI_0       XUELI_1      DWJJLX_0      DWJJLX_1     DWJJLX_10  \\\n",
       "count  40000.000000  40000.000000  40000.000000  40000.000000  40000.000000   \n",
       "mean       0.000150      0.999850      0.000675      0.252375      0.011075   \n",
       "std        0.012247      0.012247      0.025972      0.434381      0.104655   \n",
       "min        0.000000      0.000000      0.000000      0.000000      0.000000   \n",
       "25%        0.000000      1.000000      0.000000      0.000000      0.000000   \n",
       "50%        0.000000      1.000000      0.000000      0.000000      0.000000   \n",
       "75%        0.000000      1.000000      0.000000      1.000000      0.000000   \n",
       "max        1.000000      1.000000      1.000000      1.000000      1.000000   \n",
       "\n",
       "          DWJJLX_11     DWJJLX_12     DWJJLX_13     DWJJLX_14     DWJJLX_15  \\\n",
       "count  40000.000000  40000.000000  40000.000000  40000.000000  40000.000000   \n",
       "mean       0.076275      0.049400      0.001250      0.001250      0.004625   \n",
       "std        0.265441      0.216704      0.035334      0.035334      0.067851   \n",
       "min        0.000000      0.000000      0.000000      0.000000      0.000000   \n",
       "25%        0.000000      0.000000      0.000000      0.000000      0.000000   \n",
       "50%        0.000000      0.000000      0.000000      0.000000      0.000000   \n",
       "75%        0.000000      0.000000      0.000000      0.000000      0.000000   \n",
       "max        1.000000      1.000000      1.000000      1.000000      1.000000   \n",
       "\n",
       "          DWJJLX_16     DWJJLX_17   DWJJLX_18     DWJJLX_19      DWJJLX_2  \\\n",
       "count  40000.000000  40000.000000  40000.0000  40000.000000  40000.000000   \n",
       "mean       0.000125      0.000325      0.0001      0.024625      0.009500   \n",
       "std        0.011180      0.018025      0.0100      0.154981      0.097005   \n",
       "min        0.000000      0.000000      0.0000      0.000000      0.000000   \n",
       "25%        0.000000      0.000000      0.0000      0.000000      0.000000   \n",
       "50%        0.000000      0.000000      0.0000      0.000000      0.000000   \n",
       "75%        0.000000      0.000000      0.0000      0.000000      0.000000   \n",
       "max        1.000000      1.000000      1.0000      1.000000      1.000000   \n",
       "\n",
       "         DWJJLX_20     DWJJLX_21     DWJJLX_22     DWJJLX_23     DWJJLX_24  \\\n",
       "count  40000.00000  40000.000000  40000.000000  40000.000000  40000.000000   \n",
       "mean       0.01060      0.000750      0.000575      0.017250      0.000225   \n",
       "std        0.10241      0.027376      0.023973      0.130203      0.014998   \n",
       "min        0.00000      0.000000      0.000000      0.000000      0.000000   \n",
       "25%        0.00000      0.000000      0.000000      0.000000      0.000000   \n",
       "50%        0.00000      0.000000      0.000000      0.000000      0.000000   \n",
       "75%        0.00000      0.000000      0.000000      0.000000      0.000000   \n",
       "max        1.00000      1.000000      1.000000      1.000000      1.000000   \n",
       "\n",
       "          DWJJLX_25     DWJJLX_26     DWJJLX_27      DWJJLX_3      DWJJLX_4  \\\n",
       "count  40000.000000  40000.000000  40000.000000  40000.000000  40000.000000   \n",
       "mean       0.000300      0.000050      0.136350      0.021775      0.000650   \n",
       "std        0.017318      0.007071      0.343164      0.145950      0.025487   \n",
       "min        0.000000      0.000000      0.000000      0.000000      0.000000   \n",
       "25%        0.000000      0.000000      0.000000      0.000000      0.000000   \n",
       "50%        0.000000      0.000000      0.000000      0.000000      0.000000   \n",
       "75%        0.000000      0.000000      0.000000      0.000000      0.000000   \n",
       "max        1.000000      1.000000      1.000000      1.000000      1.000000   \n",
       "\n",
       "           DWJJLX_5      DWJJLX_6      DWJJLX_7      DWJJLX_8      DWJJLX_9  \\\n",
       "count  40000.000000  40000.000000  40000.000000  40000.000000  40000.000000   \n",
       "mean       0.005350      0.000600      0.001475      0.000175      0.372275   \n",
       "std        0.072949      0.024488      0.038378      0.013228      0.483417   \n",
       "min        0.000000      0.000000      0.000000      0.000000      0.000000   \n",
       "25%        0.000000      0.000000      0.000000      0.000000      0.000000   \n",
       "50%        0.000000      0.000000      0.000000      0.000000      0.000000   \n",
       "75%        0.000000      0.000000      0.000000      0.000000      1.000000   \n",
       "max        1.000000      1.000000      1.000000      1.000000      1.000000   \n",
       "\n",
       "           DWSSHY_0      DWSSHY_1     DWSSHY_10     DWSSHY_11     DWSSHY_12  \\\n",
       "count  40000.000000  40000.000000  40000.000000  40000.000000  40000.000000   \n",
       "mean       0.067425      0.002025      0.040750      0.055975      0.038750   \n",
       "std        0.250760      0.044955      0.197713      0.229876      0.193001   \n",
       "min        0.000000      0.000000      0.000000      0.000000      0.000000   \n",
       "25%        0.000000      0.000000      0.000000      0.000000      0.000000   \n",
       "50%        0.000000      0.000000      0.000000      0.000000      0.000000   \n",
       "75%        0.000000      0.000000      0.000000      0.000000      0.000000   \n",
       "max        1.000000      1.000000      1.000000      1.000000      1.000000   \n",
       "\n",
       "          DWSSHY_13     DWSSHY_14     DWSSHY_15     DWSSHY_16     DWSSHY_17  \\\n",
       "count  40000.000000  40000.000000  40000.000000  40000.000000  40000.000000   \n",
       "mean       0.013575      0.118025      0.064325      0.052525      0.016150   \n",
       "std        0.115720      0.322642      0.245334      0.223086      0.126054   \n",
       "min        0.000000      0.000000      0.000000      0.000000      0.000000   \n",
       "25%        0.000000      0.000000      0.000000      0.000000      0.000000   \n",
       "50%        0.000000      0.000000      0.000000      0.000000      0.000000   \n",
       "75%        0.000000      0.000000      0.000000      0.000000      0.000000   \n",
       "max        1.000000      1.000000      1.000000      1.000000      1.000000   \n",
       "\n",
       "          DWSSHY_18     DWSSHY_19      DWSSHY_2     DWSSHY_20      DWSSHY_3  \\\n",
       "count  40000.000000  40000.000000  40000.000000  40000.000000  40000.000000   \n",
       "mean       0.098350      0.000025      0.084175      0.002300      0.029550   \n",
       "std        0.297791      0.005000      0.277654      0.047904      0.169344   \n",
       "min        0.000000      0.000000      0.000000      0.000000      0.000000   \n",
       "25%        0.000000      0.000000      0.000000      0.000000      0.000000   \n",
       "50%        0.000000      0.000000      0.000000      0.000000      0.000000   \n",
       "75%        0.000000      0.000000      0.000000      0.000000      0.000000   \n",
       "max        1.000000      1.000000      1.000000      1.000000      1.000000   \n",
       "\n",
       "           DWSSHY_4      DWSSHY_5      DWSSHY_6      DWSSHY_7      DWSSHY_8  \\\n",
       "count  40000.000000  40000.000000  40000.000000  40000.000000  40000.000000   \n",
       "mean       0.039425      0.019900      0.071150      0.095975      0.022450   \n",
       "std        0.194606      0.139658      0.257078      0.294561      0.148144   \n",
       "min        0.000000      0.000000      0.000000      0.000000      0.000000   \n",
       "25%        0.000000      0.000000      0.000000      0.000000      0.000000   \n",
       "50%        0.000000      0.000000      0.000000      0.000000      0.000000   \n",
       "75%        0.000000      0.000000      0.000000      0.000000      0.000000   \n",
       "max        1.000000      1.000000      1.000000      1.000000      1.000000   \n",
       "\n",
       "           DWSSHY_9      GRZHZT_0      GRZHZT_1    GRZHZT_2     GRZHZT_3  \\\n",
       "count  40000.000000  40000.000000  40000.000000  40000.0000  40000.00000   \n",
       "mean       0.067175      0.995550      0.003875      0.0001      0.00025   \n",
       "std        0.250328      0.066561      0.062130      0.0100      0.01581   \n",
       "min        0.000000      0.000000      0.000000      0.0000      0.00000   \n",
       "25%        0.000000      1.000000      0.000000      0.0000      0.00000   \n",
       "50%        0.000000      1.000000      0.000000      0.0000      0.00000   \n",
       "75%        0.000000      1.000000      0.000000      0.0000      0.00000   \n",
       "max        1.000000      1.000000      1.000000      1.0000      1.00000   \n",
       "\n",
       "           GRZHZT_4         label  \n",
       "count  40000.000000  40000.000000  \n",
       "mean       0.000225      0.068925  \n",
       "std        0.014998      0.253330  \n",
       "min        0.000000      0.000000  \n",
       "25%        0.000000      0.000000  \n",
       "50%        0.000000      0.000000  \n",
       "75%        0.000000      0.000000  \n",
       "max        1.000000      1.000000  "
      ],
      "text/html": "<div>\n<style scoped>\n    .dataframe tbody tr th:only-of-type {\n        vertical-align: middle;\n    }\n\n    .dataframe tbody tr th {\n        vertical-align: top;\n    }\n\n    .dataframe thead th {\n        text-align: right;\n    }\n</style>\n<table border=\"1\" class=\"dataframe\">\n  <thead>\n    <tr style=\"text-align: right;\">\n      <th></th>\n      <th>XINGBIE</th>\n      <th>HYZK</th>\n      <th>ZHIYE</th>\n      <th>ZHICHEN</th>\n      <th>ZHIWU</th>\n      <th>XUELI</th>\n      <th>DWJJLX</th>\n      <th>DWSSHY</th>\n      <th>GRZHZT</th>\n      <th>GRJCJS</th>\n      <th>GRZHYE</th>\n      <th>GRZHSNJZYE</th>\n      <th>GRZHDNGJYE</th>\n      <th>GRYJCE</th>\n      <th>DWYJCE</th>\n      <th>DKFFE</th>\n      <th>DKYE</th>\n      <th>DKLL</th>\n      <th>age</th>\n      <th>XINGBIE_0</th>\n      <th>XINGBIE_1</th>\n      <th>XINGBIE_2</th>\n      <th>HYZK_0</th>\n      <th>HYZK_1</th>\n      <th>HYZK_2</th>\n      <th>HYZK_3</th>\n      <th>ZHIYE_0</th>\n      <th>ZHIYE_1</th>\n      <th>ZHIYE_2</th>\n      <th>ZHIYE_3</th>\n      <th>ZHIYE_4</th>\n      <th>ZHIYE_5</th>\n      <th>ZHIYE_6</th>\n      <th>ZHICHEN_0</th>\n      <th>ZHICHEN_1</th>\n      <th>ZHICHEN_2</th>\n      <th>ZHICHEN_3</th>\n      <th>ZHIWU_0</th>\n      <th>ZHIWU_1</th>\n      <th>XUELI_0</th>\n      <th>XUELI_1</th>\n      <th>DWJJLX_0</th>\n      <th>DWJJLX_1</th>\n      <th>DWJJLX_10</th>\n      <th>DWJJLX_11</th>\n      <th>DWJJLX_12</th>\n      <th>DWJJLX_13</th>\n      <th>DWJJLX_14</th>\n      <th>DWJJLX_15</th>\n      <th>DWJJLX_16</th>\n      <th>DWJJLX_17</th>\n      <th>DWJJLX_18</th>\n      <th>DWJJLX_19</th>\n      <th>DWJJLX_2</th>\n      <th>DWJJLX_20</th>\n      <th>DWJJLX_21</th>\n      <th>DWJJLX_22</th>\n      <th>DWJJLX_23</th>\n      <th>DWJJLX_24</th>\n      <th>DWJJLX_25</th>\n      <th>DWJJLX_26</th>\n      <th>DWJJLX_27</th>\n      <th>DWJJLX_3</th>\n      <th>DWJJLX_4</th>\n      <th>DWJJLX_5</th>\n      <th>DWJJLX_6</th>\n      <th>DWJJLX_7</th>\n      <th>DWJJLX_8</th>\n      <th>DWJJLX_9</th>\n      <th>DWSSHY_0</th>\n      <th>DWSSHY_1</th>\n      <th>DWSSHY_10</th>\n      <th>DWSSHY_11</th>\n      <th>DWSSHY_12</th>\n      <th>DWSSHY_13</th>\n      <th>DWSSHY_14</th>\n      <th>DWSSHY_15</th>\n      <th>DWSSHY_16</th>\n      <th>DWSSHY_17</th>\n      <th>DWSSHY_18</th>\n      <th>DWSSHY_19</th>\n      <th>DWSSHY_2</th>\n      <th>DWSSHY_20</th>\n      <th>DWSSHY_3</th>\n      <th>DWSSHY_4</th>\n      <th>DWSSHY_5</th>\n      <th>DWSSHY_6</th>\n      <th>DWSSHY_7</th>\n      <th>DWSSHY_8</th>\n      <th>DWSSHY_9</th>\n      <th>GRZHZT_0</th>\n      <th>GRZHZT_1</th>\n      <th>GRZHZT_2</th>\n      <th>GRZHZT_3</th>\n      <th>GRZHZT_4</th>\n      <th>label</th>\n    </tr>\n  </thead>\n  <tbody>\n    <tr>\n      <th>count</th>\n      <td>40000.000000</td>\n      <td>40000.000000</td>\n      <td>40000.000000</td>\n      <td>40000.000000</td>\n      <td>40000.000000</td>\n      <td>40000.000000</td>\n      <td>40000.00000</td>\n      <td>40000.000000</td>\n      <td>40000.000000</td>\n      <td>40000.000000</td>\n      <td>40000.000000</td>\n      <td>40000.000000</td>\n      <td>40000.000000</td>\n      <td>40000.000000</td>\n      <td>40000.000000</td>\n      <td>40000.000000</td>\n      <td>40000.000000</td>\n      <td>40000.000000</td>\n      <td>40000.00000</td>\n      <td>40000.000000</td>\n      <td>40000.000000</td>\n      <td>40000.000000</td>\n      <td>40000.000000</td>\n      <td>40000.000000</td>\n      <td>40000.000000</td>\n      <td>40000.000000</td>\n      <td>40000.000000</td>\n      <td>40000.000000</td>\n      <td>40000.000000</td>\n      <td>40000.000000</td>\n      <td>40000.000000</td>\n      <td>40000.000000</td>\n      <td>40000.000000</td>\n      <td>40000.000000</td>\n      <td>40000.000000</td>\n      <td>40000.000000</td>\n      <td>40000.000000</td>\n      <td>40000.000000</td>\n      <td>40000.000000</td>\n      <td>40000.000000</td>\n      <td>40000.000000</td>\n      <td>40000.000000</td>\n      <td>40000.000000</td>\n      <td>40000.000000</td>\n      <td>40000.000000</td>\n      <td>40000.000000</td>\n      <td>40000.000000</td>\n      <td>40000.000000</td>\n      <td>40000.000000</td>\n      <td>40000.000000</td>\n      <td>40000.000000</td>\n      <td>40000.0000</td>\n      <td>40000.000000</td>\n      <td>40000.000000</td>\n      <td>40000.00000</td>\n      <td>40000.000000</td>\n      <td>40000.000000</td>\n      <td>40000.000000</td>\n      <td>40000.000000</td>\n      <td>40000.000000</td>\n      <td>40000.000000</td>\n      <td>40000.000000</td>\n      <td>40000.000000</td>\n      <td>40000.000000</td>\n      <td>40000.000000</td>\n      <td>40000.000000</td>\n      <td>40000.000000</td>\n      <td>40000.000000</td>\n      <td>40000.000000</td>\n      <td>40000.000000</td>\n      <td>40000.000000</td>\n      <td>40000.000000</td>\n      <td>40000.000000</td>\n      <td>40000.000000</td>\n      <td>40000.000000</td>\n      <td>40000.000000</td>\n      <td>40000.000000</td>\n      <td>40000.000000</td>\n      <td>40000.000000</td>\n      <td>40000.000000</td>\n      <td>40000.000000</td>\n      <td>40000.000000</td>\n      <td>40000.000000</td>\n      <td>40000.000000</td>\n      <td>40000.000000</td>\n      <td>40000.000000</td>\n      <td>40000.000000</td>\n      <td>40000.000000</td>\n      <td>40000.000000</td>\n      <td>40000.000000</td>\n      <td>40000.000000</td>\n      <td>40000.000000</td>\n      <td>40000.0000</td>\n      <td>40000.00000</td>\n      <td>40000.000000</td>\n      <td>40000.000000</td>\n    </tr>\n    <tr>\n      <th>mean</th>\n      <td>1.361900</td>\n      <td>2.999275</td>\n      <td>5.995025</td>\n      <td>2.996175</td>\n      <td>0.000150</td>\n      <td>0.999850</td>\n      <td>10.18755</td>\n      <td>9.612775</td>\n      <td>0.005725</td>\n      <td>4507.734465</td>\n      <td>15020.190993</td>\n      <td>15316.570596</td>\n      <td>-117.379254</td>\n      <td>686.961022</td>\n      <td>686.961022</td>\n      <td>190324.265725</td>\n      <td>156308.760839</td>\n      <td>2.768083</td>\n      <td>35.20900</td>\n      <td>0.000150</td>\n      <td>0.637800</td>\n      <td>0.362050</td>\n      <td>0.000150</td>\n      <td>0.000125</td>\n      <td>0.000025</td>\n      <td>0.999700</td>\n      <td>0.000150</td>\n      <td>0.000050</td>\n      <td>0.000425</td>\n      <td>0.000600</td>\n      <td>0.000075</td>\n      <td>0.000175</td>\n      <td>0.998525</td>\n      <td>0.000150</td>\n      <td>0.001675</td>\n      <td>0.000025</td>\n      <td>0.998150</td>\n      <td>0.999850</td>\n      <td>0.000150</td>\n      <td>0.000150</td>\n      <td>0.999850</td>\n      <td>0.000675</td>\n      <td>0.252375</td>\n      <td>0.011075</td>\n      <td>0.076275</td>\n      <td>0.049400</td>\n      <td>0.001250</td>\n      <td>0.001250</td>\n      <td>0.004625</td>\n      <td>0.000125</td>\n      <td>0.000325</td>\n      <td>0.0001</td>\n      <td>0.024625</td>\n      <td>0.009500</td>\n      <td>0.01060</td>\n      <td>0.000750</td>\n      <td>0.000575</td>\n      <td>0.017250</td>\n      <td>0.000225</td>\n      <td>0.000300</td>\n      <td>0.000050</td>\n      <td>0.136350</td>\n      <td>0.021775</td>\n      <td>0.000650</td>\n      <td>0.005350</td>\n      <td>0.000600</td>\n      <td>0.001475</td>\n      <td>0.000175</td>\n      <td>0.372275</td>\n      <td>0.067425</td>\n      <td>0.002025</td>\n      <td>0.040750</td>\n      <td>0.055975</td>\n      <td>0.038750</td>\n      <td>0.013575</td>\n      <td>0.118025</td>\n      <td>0.064325</td>\n      <td>0.052525</td>\n      <td>0.016150</td>\n      <td>0.098350</td>\n      <td>0.000025</td>\n      <td>0.084175</td>\n      <td>0.002300</td>\n      <td>0.029550</td>\n      <td>0.039425</td>\n      <td>0.019900</td>\n      <td>0.071150</td>\n      <td>0.095975</td>\n      <td>0.022450</td>\n      <td>0.067175</td>\n      <td>0.995550</td>\n      <td>0.003875</td>\n      <td>0.0001</td>\n      <td>0.00025</td>\n      <td>0.000225</td>\n      <td>0.068925</td>\n    </tr>\n    <tr>\n      <th>std</th>\n      <td>0.480868</td>\n      <td>0.043296</td>\n      <td>0.138927</td>\n      <td>0.089781</td>\n      <td>0.012247</td>\n      <td>0.012247</td>\n      <td>8.29608</td>\n      <td>5.541372</td>\n      <td>0.100461</td>\n      <td>2844.622778</td>\n      <td>20189.939168</td>\n      <td>20061.193795</td>\n      <td>7968.738147</td>\n      <td>344.924156</td>\n      <td>344.924156</td>\n      <td>75334.858625</td>\n      <td>77409.960122</td>\n      <td>0.146709</td>\n      <td>30.88984</td>\n      <td>0.012247</td>\n      <td>0.480642</td>\n      <td>0.480599</td>\n      <td>0.012247</td>\n      <td>0.011180</td>\n      <td>0.005000</td>\n      <td>0.017318</td>\n      <td>0.012247</td>\n      <td>0.007071</td>\n      <td>0.020611</td>\n      <td>0.024488</td>\n      <td>0.008660</td>\n      <td>0.013228</td>\n      <td>0.038378</td>\n      <td>0.012247</td>\n      <td>0.040893</td>\n      <td>0.005000</td>\n      <td>0.042972</td>\n      <td>0.012247</td>\n      <td>0.012247</td>\n      <td>0.012247</td>\n      <td>0.012247</td>\n      <td>0.025972</td>\n      <td>0.434381</td>\n      <td>0.104655</td>\n      <td>0.265441</td>\n      <td>0.216704</td>\n      <td>0.035334</td>\n      <td>0.035334</td>\n      <td>0.067851</td>\n      <td>0.011180</td>\n      <td>0.018025</td>\n      <td>0.0100</td>\n      <td>0.154981</td>\n      <td>0.097005</td>\n      <td>0.10241</td>\n      <td>0.027376</td>\n      <td>0.023973</td>\n      <td>0.130203</td>\n      <td>0.014998</td>\n      <td>0.017318</td>\n      <td>0.007071</td>\n      <td>0.343164</td>\n      <td>0.145950</td>\n      <td>0.025487</td>\n      <td>0.072949</td>\n      <td>0.024488</td>\n      <td>0.038378</td>\n      <td>0.013228</td>\n      <td>0.483417</td>\n      <td>0.250760</td>\n      <td>0.044955</td>\n      <td>0.197713</td>\n      <td>0.229876</td>\n      <td>0.193001</td>\n      <td>0.115720</td>\n      <td>0.322642</td>\n      <td>0.245334</td>\n      <td>0.223086</td>\n      <td>0.126054</td>\n      <td>0.297791</td>\n      <td>0.005000</td>\n      <td>0.277654</td>\n      <td>0.047904</td>\n      <td>0.169344</td>\n      <td>0.194606</td>\n      <td>0.139658</td>\n      <td>0.257078</td>\n      <td>0.294561</td>\n      <td>0.148144</td>\n      <td>0.250328</td>\n      <td>0.066561</td>\n      <td>0.062130</td>\n      <td>0.0100</td>\n      <td>0.01581</td>\n      <td>0.014998</td>\n      <td>0.253330</td>\n    </tr>\n    <tr>\n      <th>min</th>\n      <td>0.000000</td>\n      <td>0.000000</td>\n      <td>0.000000</td>\n      <td>0.000000</td>\n      <td>0.000000</td>\n      <td>0.000000</td>\n      <td>0.00000</td>\n      <td>0.000000</td>\n      <td>0.000000</td>\n      <td>787.000000</td>\n      <td>237.000000</td>\n      <td>237.000000</td>\n      <td>-240318.745000</td>\n      <td>246.550000</td>\n      <td>246.550000</td>\n      <td>15237.000000</td>\n      <td>237.000000</td>\n      <td>2.292000</td>\n      <td>-5982.00000</td>\n      <td>0.000000</td>\n      <td>0.000000</td>\n      <td>0.000000</td>\n      <td>0.000000</td>\n      <td>0.000000</td>\n      <td>0.000000</td>\n      <td>0.000000</td>\n      <td>0.000000</td>\n      <td>0.000000</td>\n      <td>0.000000</td>\n      <td>0.000000</td>\n      <td>0.000000</td>\n      <td>0.000000</td>\n      <td>0.000000</td>\n      <td>0.000000</td>\n      <td>0.000000</td>\n      <td>0.000000</td>\n      <td>0.000000</td>\n      <td>0.000000</td>\n      <td>0.000000</td>\n      <td>0.000000</td>\n      <td>0.000000</td>\n      <td>0.000000</td>\n      <td>0.000000</td>\n      <td>0.000000</td>\n      <td>0.000000</td>\n      <td>0.000000</td>\n      <td>0.000000</td>\n      <td>0.000000</td>\n      <td>0.000000</td>\n      <td>0.000000</td>\n      <td>0.000000</td>\n      <td>0.0000</td>\n      <td>0.000000</td>\n      <td>0.000000</td>\n      <td>0.00000</td>\n      <td>0.000000</td>\n      <td>0.000000</td>\n      <td>0.000000</td>\n      <td>0.000000</td>\n      <td>0.000000</td>\n      <td>0.000000</td>\n      <td>0.000000</td>\n      <td>0.000000</td>\n      <td>0.000000</td>\n      <td>0.000000</td>\n      <td>0.000000</td>\n      <td>0.000000</td>\n      <td>0.000000</td>\n      <td>0.000000</td>\n      <td>0.000000</td>\n      <td>0.000000</td>\n      <td>0.000000</td>\n      <td>0.000000</td>\n      <td>0.000000</td>\n      <td>0.000000</td>\n      <td>0.000000</td>\n      <td>0.000000</td>\n      <td>0.000000</td>\n      <td>0.000000</td>\n      <td>0.000000</td>\n      <td>0.000000</td>\n      <td>0.000000</td>\n      <td>0.000000</td>\n      <td>0.000000</td>\n      <td>0.000000</td>\n      <td>0.000000</td>\n      <td>0.000000</td>\n      <td>0.000000</td>\n      <td>0.000000</td>\n      <td>0.000000</td>\n      <td>0.000000</td>\n      <td>0.000000</td>\n      <td>0.0000</td>\n      <td>0.00000</td>\n      <td>0.000000</td>\n      <td>0.000000</td>\n    </tr>\n    <tr>\n      <th>25%</th>\n      <td>1.000000</td>\n      <td>3.000000</td>\n      <td>6.000000</td>\n      <td>3.000000</td>\n      <td>0.000000</td>\n      <td>1.000000</td>\n      <td>1.00000</td>\n      <td>6.000000</td>\n      <td>0.000000</td>\n      <td>2362.000000</td>\n      <td>1892.468750</td>\n      <td>2994.080000</td>\n      <td>-577.803750</td>\n      <td>411.000000</td>\n      <td>411.000000</td>\n      <td>150237.000000</td>\n      <td>110252.845000</td>\n      <td>2.708000</td>\n      <td>30.00000</td>\n      <td>0.000000</td>\n      <td>0.000000</td>\n      <td>0.000000</td>\n      <td>0.000000</td>\n      <td>0.000000</td>\n      <td>0.000000</td>\n      <td>1.000000</td>\n      <td>0.000000</td>\n      <td>0.000000</td>\n      <td>0.000000</td>\n      <td>0.000000</td>\n      <td>0.000000</td>\n      <td>0.000000</td>\n      <td>1.000000</td>\n      <td>0.000000</td>\n      <td>0.000000</td>\n      <td>0.000000</td>\n      <td>1.000000</td>\n      <td>1.000000</td>\n      <td>0.000000</td>\n      <td>0.000000</td>\n      <td>1.000000</td>\n      <td>0.000000</td>\n      <td>0.000000</td>\n      <td>0.000000</td>\n      <td>0.000000</td>\n      <td>0.000000</td>\n      <td>0.000000</td>\n      <td>0.000000</td>\n      <td>0.000000</td>\n      <td>0.000000</td>\n      <td>0.000000</td>\n      <td>0.0000</td>\n      <td>0.000000</td>\n      <td>0.000000</td>\n      <td>0.00000</td>\n      <td>0.000000</td>\n      <td>0.000000</td>\n      <td>0.000000</td>\n      <td>0.000000</td>\n      <td>0.000000</td>\n      <td>0.000000</td>\n      <td>0.000000</td>\n      <td>0.000000</td>\n      <td>0.000000</td>\n      <td>0.000000</td>\n      <td>0.000000</td>\n      <td>0.000000</td>\n      <td>0.000000</td>\n      <td>0.000000</td>\n      <td>0.000000</td>\n      <td>0.000000</td>\n      <td>0.000000</td>\n      <td>0.000000</td>\n      <td>0.000000</td>\n      <td>0.000000</td>\n      <td>0.000000</td>\n      <td>0.000000</td>\n      <td>0.000000</td>\n      <td>0.000000</td>\n      <td>0.000000</td>\n      <td>0.000000</td>\n      <td>0.000000</td>\n      <td>0.000000</td>\n      <td>0.000000</td>\n      <td>0.000000</td>\n      <td>0.000000</td>\n      <td>0.000000</td>\n      <td>0.000000</td>\n      <td>0.000000</td>\n      <td>0.000000</td>\n      <td>1.000000</td>\n      <td>0.000000</td>\n      <td>0.0000</td>\n      <td>0.00000</td>\n      <td>0.000000</td>\n      <td>0.000000</td>\n    </tr>\n    <tr>\n      <th>50%</th>\n      <td>1.000000</td>\n      <td>3.000000</td>\n      <td>6.000000</td>\n      <td>3.000000</td>\n      <td>0.000000</td>\n      <td>1.000000</td>\n      <td>9.00000</td>\n      <td>10.000000</td>\n      <td>0.000000</td>\n      <td>3887.500000</td>\n      <td>8545.727500</td>\n      <td>9010.740000</td>\n      <td>771.800000</td>\n      <td>616.800000</td>\n      <td>616.800000</td>\n      <td>150237.000000</td>\n      <td>146210.880000</td>\n      <td>2.708000</td>\n      <td>34.00000</td>\n      <td>0.000000</td>\n      <td>1.000000</td>\n      <td>0.000000</td>\n      <td>0.000000</td>\n      <td>0.000000</td>\n      <td>0.000000</td>\n      <td>1.000000</td>\n      <td>0.000000</td>\n      <td>0.000000</td>\n      <td>0.000000</td>\n      <td>0.000000</td>\n      <td>0.000000</td>\n      <td>0.000000</td>\n      <td>1.000000</td>\n      <td>0.000000</td>\n      <td>0.000000</td>\n      <td>0.000000</td>\n      <td>1.000000</td>\n      <td>1.000000</td>\n      <td>0.000000</td>\n      <td>0.000000</td>\n      <td>1.000000</td>\n      <td>0.000000</td>\n      <td>0.000000</td>\n      <td>0.000000</td>\n      <td>0.000000</td>\n      <td>0.000000</td>\n      <td>0.000000</td>\n      <td>0.000000</td>\n      <td>0.000000</td>\n      <td>0.000000</td>\n      <td>0.000000</td>\n      <td>0.0000</td>\n      <td>0.000000</td>\n      <td>0.000000</td>\n      <td>0.00000</td>\n      <td>0.000000</td>\n      <td>0.000000</td>\n      <td>0.000000</td>\n      <td>0.000000</td>\n      <td>0.000000</td>\n      <td>0.000000</td>\n      <td>0.000000</td>\n      <td>0.000000</td>\n      <td>0.000000</td>\n      <td>0.000000</td>\n      <td>0.000000</td>\n      <td>0.000000</td>\n      <td>0.000000</td>\n      <td>0.000000</td>\n      <td>0.000000</td>\n      <td>0.000000</td>\n      <td>0.000000</td>\n      <td>0.000000</td>\n      <td>0.000000</td>\n      <td>0.000000</td>\n      <td>0.000000</td>\n      <td>0.000000</td>\n      <td>0.000000</td>\n      <td>0.000000</td>\n      <td>0.000000</td>\n      <td>0.000000</td>\n      <td>0.000000</td>\n      <td>0.000000</td>\n      <td>0.000000</td>\n      <td>0.000000</td>\n      <td>0.000000</td>\n      <td>0.000000</td>\n      <td>0.000000</td>\n      <td>0.000000</td>\n      <td>0.000000</td>\n      <td>1.000000</td>\n      <td>0.000000</td>\n      <td>0.0000</td>\n      <td>0.00000</td>\n      <td>0.000000</td>\n      <td>0.000000</td>\n    </tr>\n    <tr>\n      <th>75%</th>\n      <td>2.000000</td>\n      <td>3.000000</td>\n      <td>6.000000</td>\n      <td>3.000000</td>\n      <td>0.000000</td>\n      <td>1.000000</td>\n      <td>11.00000</td>\n      <td>14.000000</td>\n      <td>0.000000</td>\n      <td>5831.031250</td>\n      <td>19591.691250</td>\n      <td>19571.826250</td>\n      <td>2452.977500</td>\n      <td>849.060000</td>\n      <td>849.060000</td>\n      <td>250237.000000</td>\n      <td>200844.113750</td>\n      <td>2.708000</td>\n      <td>40.00000</td>\n      <td>0.000000</td>\n      <td>1.000000</td>\n      <td>1.000000</td>\n      <td>0.000000</td>\n      <td>0.000000</td>\n      <td>0.000000</td>\n      <td>1.000000</td>\n      <td>0.000000</td>\n      <td>0.000000</td>\n      <td>0.000000</td>\n      <td>0.000000</td>\n      <td>0.000000</td>\n      <td>0.000000</td>\n      <td>1.000000</td>\n      <td>0.000000</td>\n      <td>0.000000</td>\n      <td>0.000000</td>\n      <td>1.000000</td>\n      <td>1.000000</td>\n      <td>0.000000</td>\n      <td>0.000000</td>\n      <td>1.000000</td>\n      <td>0.000000</td>\n      <td>1.000000</td>\n      <td>0.000000</td>\n      <td>0.000000</td>\n      <td>0.000000</td>\n      <td>0.000000</td>\n      <td>0.000000</td>\n      <td>0.000000</td>\n      <td>0.000000</td>\n      <td>0.000000</td>\n      <td>0.0000</td>\n      <td>0.000000</td>\n      <td>0.000000</td>\n      <td>0.00000</td>\n      <td>0.000000</td>\n      <td>0.000000</td>\n      <td>0.000000</td>\n      <td>0.000000</td>\n      <td>0.000000</td>\n      <td>0.000000</td>\n      <td>0.000000</td>\n      <td>0.000000</td>\n      <td>0.000000</td>\n      <td>0.000000</td>\n      <td>0.000000</td>\n      <td>0.000000</td>\n      <td>0.000000</td>\n      <td>1.000000</td>\n      <td>0.000000</td>\n      <td>0.000000</td>\n      <td>0.000000</td>\n      <td>0.000000</td>\n      <td>0.000000</td>\n      <td>0.000000</td>\n      <td>0.000000</td>\n      <td>0.000000</td>\n      <td>0.000000</td>\n      <td>0.000000</td>\n      <td>0.000000</td>\n      <td>0.000000</td>\n      <td>0.000000</td>\n      <td>0.000000</td>\n      <td>0.000000</td>\n      <td>0.000000</td>\n      <td>0.000000</td>\n      <td>0.000000</td>\n      <td>0.000000</td>\n      <td>0.000000</td>\n      <td>0.000000</td>\n      <td>1.000000</td>\n      <td>0.000000</td>\n      <td>0.0000</td>\n      <td>0.00000</td>\n      <td>0.000000</td>\n      <td>0.000000</td>\n    </tr>\n    <tr>\n      <th>max</th>\n      <td>2.000000</td>\n      <td>3.000000</td>\n      <td>6.000000</td>\n      <td>3.000000</td>\n      <td>1.000000</td>\n      <td>1.000000</td>\n      <td>27.00000</td>\n      <td>20.000000</td>\n      <td>4.000000</td>\n      <td>13692.000000</td>\n      <td>366651.575000</td>\n      <td>313348.420000</td>\n      <td>53065.095000</td>\n      <td>1745.940000</td>\n      <td>1745.940000</td>\n      <td>350237.000000</td>\n      <td>329776.790000</td>\n      <td>3.575000</td>\n      <td>49.00000</td>\n      <td>1.000000</td>\n      <td>1.000000</td>\n      <td>1.000000</td>\n      <td>1.000000</td>\n      <td>1.000000</td>\n      <td>1.000000</td>\n      <td>1.000000</td>\n      <td>1.000000</td>\n      <td>1.000000</td>\n      <td>1.000000</td>\n      <td>1.000000</td>\n      <td>1.000000</td>\n      <td>1.000000</td>\n      <td>1.000000</td>\n      <td>1.000000</td>\n      <td>1.000000</td>\n      <td>1.000000</td>\n      <td>1.000000</td>\n      <td>1.000000</td>\n      <td>1.000000</td>\n      <td>1.000000</td>\n      <td>1.000000</td>\n      <td>1.000000</td>\n      <td>1.000000</td>\n      <td>1.000000</td>\n      <td>1.000000</td>\n      <td>1.000000</td>\n      <td>1.000000</td>\n      <td>1.000000</td>\n      <td>1.000000</td>\n      <td>1.000000</td>\n      <td>1.000000</td>\n      <td>1.0000</td>\n      <td>1.000000</td>\n      <td>1.000000</td>\n      <td>1.00000</td>\n      <td>1.000000</td>\n      <td>1.000000</td>\n      <td>1.000000</td>\n      <td>1.000000</td>\n      <td>1.000000</td>\n      <td>1.000000</td>\n      <td>1.000000</td>\n      <td>1.000000</td>\n      <td>1.000000</td>\n      <td>1.000000</td>\n      <td>1.000000</td>\n      <td>1.000000</td>\n      <td>1.000000</td>\n      <td>1.000000</td>\n      <td>1.000000</td>\n      <td>1.000000</td>\n      <td>1.000000</td>\n      <td>1.000000</td>\n      <td>1.000000</td>\n      <td>1.000000</td>\n      <td>1.000000</td>\n      <td>1.000000</td>\n      <td>1.000000</td>\n      <td>1.000000</td>\n      <td>1.000000</td>\n      <td>1.000000</td>\n      <td>1.000000</td>\n      <td>1.000000</td>\n      <td>1.000000</td>\n      <td>1.000000</td>\n      <td>1.000000</td>\n      <td>1.000000</td>\n      <td>1.000000</td>\n      <td>1.000000</td>\n      <td>1.000000</td>\n      <td>1.000000</td>\n      <td>1.000000</td>\n      <td>1.0000</td>\n      <td>1.00000</td>\n      <td>1.000000</td>\n      <td>1.000000</td>\n    </tr>\n  </tbody>\n</table>\n</div>"
     },
     "metadata": {},
     "execution_count": 24
    }
   ],
   "source": [
    "transform_train.describe()"
   ]
  },
  {
   "source": [
    "学习如何把训练集和测试集的每个特征分布画在一张图中进行对比"
   ],
   "cell_type": "markdown",
   "metadata": {}
  },
  {
   "cell_type": "code",
   "execution_count": null,
   "metadata": {},
   "outputs": [],
   "source": []
  }
 ]
}