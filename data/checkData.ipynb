{
 "metadata": {
  "language_info": {
   "codemirror_mode": {
    "name": "ipython",
    "version": 3
   },
   "file_extension": ".py",
   "mimetype": "text/x-python",
   "name": "python",
   "nbconvert_exporter": "python",
   "pygments_lexer": "ipython3",
   "version": "3.5.2-final"
  },
  "orig_nbformat": 2,
  "kernelspec": {
   "name": "python35264bite2289bd0b53a436282e83a233bd6fe0c",
   "display_name": "Python 3.5.2 64-bit"
  }
 },
 "nbformat": 4,
 "nbformat_minor": 2,
 "cells": [
  {
   "cell_type": "code",
   "execution_count": 7,
   "metadata": {},
   "outputs": [],
   "source": [
    "import pandas as pd\n",
    "pd.set_option('max_columns', 100)\n",
    "pd.set_option('max_rows', 100)\n",
    "import numpy as np"
   ]
  },
  {
   "cell_type": "code",
   "execution_count": 60,
   "metadata": {},
   "outputs": [],
   "source": [
    "train = pd.read_csv(r'./train.csv')\n",
    "test = pd.read_csv(r'./test.csv')\n",
    "submit = pd.read_csv(r'./submit.csv')"
   ]
  },
  {
   "cell_type": "code",
   "execution_count": 61,
   "metadata": {},
   "outputs": [
    {
     "output_type": "stream",
     "name": "stdout",
     "text": [
      "(40000, 21)\n(15000, 20)\n"
     ]
    },
    {
     "output_type": "execute_result",
     "data": {
      "text/plain": [
       "id            40000\n",
       "XINGBIE           3\n",
       "CSNY            393\n",
       "HYZK              4\n",
       "ZHIYE             7\n",
       "ZHICHEN           4\n",
       "ZHIWU             2\n",
       "XUELI             2\n",
       "DWJJLX           28\n",
       "DWSSHY           21\n",
       "GRJCJS        12447\n",
       "GRZHZT            5\n",
       "GRZHYE        34927\n",
       "GRZHSNJZYE    37759\n",
       "GRZHDNGJYE    31580\n",
       "GRYJCE        16045\n",
       "DWYJCE        16045\n",
       "DKFFE           545\n",
       "DKYE          21359\n",
       "DKLL              8\n",
       "label             2\n",
       "dtype: int64"
      ]
     },
     "metadata": {},
     "execution_count": 61
    }
   ],
   "source": [
    "print(train.shape)\n",
    "print(test.shape)\n",
    "train.nunique()"
   ]
  },
  {
   "cell_type": "code",
   "execution_count": 62,
   "metadata": {},
   "outputs": [
    {
     "output_type": "execute_result",
     "data": {
      "text/plain": [
       "(55000, 21)"
      ]
     },
     "metadata": {},
     "execution_count": 62
    }
   ],
   "source": [
    "# 先把训练集和测试集拼接起来,一起处理\n",
    "data = pd.concat([train, test])\n",
    "data.shape"
   ]
  },
  {
   "cell_type": "code",
   "execution_count": 63,
   "metadata": {},
   "outputs": [],
   "source": [
    "import time\n",
    "def timeConvert(x):\n",
    "    year = time.strftime(\"%Y\", time.localtime(x))\n",
    "    age = 2020 -int(year)\n",
    "    return age\n",
    "data['age'] = data['CSNY'].apply(timeConvert)\n",
    "data.drop('CSNY', axis=1, inplace=True)"
   ]
  },
  {
   "cell_type": "code",
   "execution_count": 64,
   "metadata": {},
   "outputs": [
    {
     "output_type": "execute_result",
     "data": {
      "text/plain": [
       "DKFFE           int64\n",
       "DKLL          float64\n",
       "DKYE          float64\n",
       "DWJJLX          int64\n",
       "DWSSHY          int64\n",
       "DWYJCE        float64\n",
       "GRJCJS        float64\n",
       "GRYJCE        float64\n",
       "GRZHDNGJYE    float64\n",
       "GRZHSNJZYE    float64\n",
       "GRZHYE        float64\n",
       "GRZHZT          int64\n",
       "HYZK            int64\n",
       "XINGBIE         int64\n",
       "XUELI           int64\n",
       "ZHICHEN         int64\n",
       "ZHIWU           int64\n",
       "ZHIYE           int64\n",
       "id             object\n",
       "label         float64\n",
       "age             int64\n",
       "dtype: object"
      ]
     },
     "metadata": {},
     "execution_count": 64
    }
   ],
   "source": [
    "data.dtypes"
   ]
  },
  {
   "cell_type": "code",
   "execution_count": 65,
   "metadata": {},
   "outputs": [
    {
     "output_type": "execute_result",
     "data": {
      "text/plain": [
       "['DKFFE',\n",
       " 'DKLL',\n",
       " 'DKYE',\n",
       " 'DWYJCE',\n",
       " 'GRJCJS',\n",
       " 'GRYJCE',\n",
       " 'GRZHDNGJYE',\n",
       " 'GRZHSNJZYE',\n",
       " 'GRZHYE',\n",
       " 'age']"
      ]
     },
     "metadata": {},
     "execution_count": 65
    }
   ],
   "source": [
    "sparse_feat = ['XINGBIE', 'HYZK', 'ZHIYE', 'ZHICHEN', 'ZHIWU', 'XUELI', 'DWJJLX', 'DWSSHY', 'GRZHZT']\n",
    "dense_feat = list(data.columns)\n",
    "for item in sparse_feat:\n",
    "    dense_feat.remove(item)\n",
    "dense_feat.remove('id')\n",
    "dense_feat.remove('label')\n",
    "dense_feat"
   ]
  },
  {
   "cell_type": "code",
   "execution_count": 66,
   "metadata": {},
   "outputs": [],
   "source": [
    "from sklearn.preprocessing import LabelEncoder\n",
    "for feat in dense_feat:\n",
    "    encoder = LabelEncoder()\n",
    "    data[sparse_feat] = data[sparse_feat].apply(encoder.fit_transform)"
   ]
  },
  {
   "cell_type": "code",
   "execution_count": 67,
   "metadata": {},
   "outputs": [],
   "source": [
    "# 做归一化\n",
    "data[dense_feat] = (data[dense_feat] - data[dense_feat].min()) / (data[dense_feat].max() - data[dense_feat].min())"
   ]
  },
  {
   "cell_type": "code",
   "execution_count": 68,
   "metadata": {},
   "outputs": [
    {
     "output_type": "execute_result",
     "data": {
      "text/plain": [
       "      DKFFE      DKLL      DKYE  DWJJLX  DWSSHY    DWYJCE    GRJCJS    GRYJCE  \\\n",
       "0  0.477612  0.324240  0.466942       9      12  0.043651  0.073615  0.043651   \n",
       "1  0.850746  0.535464  0.904340       1       0  0.366342  0.318249  0.366342   \n",
       "2  0.402985  0.324240  0.446387       9       9  0.798758  0.736924  0.798758   \n",
       "3  1.000000  0.324240  0.911625       9       7  0.780711  0.719450  0.780711   \n",
       "4  0.402985  0.324240  0.439850      27      14  0.052655  0.094537  0.052655   \n",
       "5  0.402985  0.324240  0.453682       9      14  0.038216  0.031383  0.038216   \n",
       "6  0.402985  0.324240  0.444519      11       2  0.370317  0.504456  0.370317   \n",
       "7  0.328358  0.324240  0.196340       9       7  0.047879  0.047423  0.047879   \n",
       "8  0.850746  0.535464  0.820365       9       9  0.487512  0.435568  0.487512   \n",
       "9  0.641791  0.324240  0.431085       9      14  0.260659  0.215924  0.260659   \n",
       "\n",
       "   GRZHDNGJYE  GRZHSNJZYE    GRZHYE  GRZHZT  HYZK  XINGBIE  XUELI  ZHICHEN  \\\n",
       "0    0.821980    0.001735  0.008151       0     3        1      1        3   \n",
       "1    0.822758    0.162919  0.048629       0     3        2      1        3   \n",
       "2    0.843771    0.042212  0.074204       0     3        1      1        3   \n",
       "3    0.826869    0.305884  0.304666       0     3        1      1        3   \n",
       "4    0.819249    0.033188  0.000000       0     3        2      1        3   \n",
       "5    0.821758    0.021993  0.025685       0     3        1      1        3   \n",
       "6    0.839186    0.036727  0.061706       0     3        1      1        3   \n",
       "7    0.822708    0.018969  0.004288       0     3        1      1        3   \n",
       "8    0.840128    0.160313  0.215787       0     3        2      1        3   \n",
       "9    0.820957    0.187253  0.004836       0     3        2      1        3   \n",
       "\n",
       "   ZHIWU  ZHIYE       id  label       age  \n",
       "0      0      6  train_0    0.0  0.994860  \n",
       "1      0      6  train_1    0.0  0.997513  \n",
       "2      0      6  train_2    0.0  0.996352  \n",
       "3      0      6  train_3    0.0  0.998010  \n",
       "4      0      6  train_4    0.0  0.997347  \n",
       "5      0      6  train_5    0.0  0.997679  \n",
       "6      0      6  train_6    0.0  0.997347  \n",
       "7      0      6  train_7    0.0  0.994528  \n",
       "8      0      6  train_8    0.0  0.997015  \n",
       "9      0      6  train_9    0.0  0.997844  "
      ],
      "text/html": "<div>\n<style scoped>\n    .dataframe tbody tr th:only-of-type {\n        vertical-align: middle;\n    }\n\n    .dataframe tbody tr th {\n        vertical-align: top;\n    }\n\n    .dataframe thead th {\n        text-align: right;\n    }\n</style>\n<table border=\"1\" class=\"dataframe\">\n  <thead>\n    <tr style=\"text-align: right;\">\n      <th></th>\n      <th>DKFFE</th>\n      <th>DKLL</th>\n      <th>DKYE</th>\n      <th>DWJJLX</th>\n      <th>DWSSHY</th>\n      <th>DWYJCE</th>\n      <th>GRJCJS</th>\n      <th>GRYJCE</th>\n      <th>GRZHDNGJYE</th>\n      <th>GRZHSNJZYE</th>\n      <th>GRZHYE</th>\n      <th>GRZHZT</th>\n      <th>HYZK</th>\n      <th>XINGBIE</th>\n      <th>XUELI</th>\n      <th>ZHICHEN</th>\n      <th>ZHIWU</th>\n      <th>ZHIYE</th>\n      <th>id</th>\n      <th>label</th>\n      <th>age</th>\n    </tr>\n  </thead>\n  <tbody>\n    <tr>\n      <th>0</th>\n      <td>0.477612</td>\n      <td>0.324240</td>\n      <td>0.466942</td>\n      <td>9</td>\n      <td>12</td>\n      <td>0.043651</td>\n      <td>0.073615</td>\n      <td>0.043651</td>\n      <td>0.821980</td>\n      <td>0.001735</td>\n      <td>0.008151</td>\n      <td>0</td>\n      <td>3</td>\n      <td>1</td>\n      <td>1</td>\n      <td>3</td>\n      <td>0</td>\n      <td>6</td>\n      <td>train_0</td>\n      <td>0.0</td>\n      <td>0.994860</td>\n    </tr>\n    <tr>\n      <th>1</th>\n      <td>0.850746</td>\n      <td>0.535464</td>\n      <td>0.904340</td>\n      <td>1</td>\n      <td>0</td>\n      <td>0.366342</td>\n      <td>0.318249</td>\n      <td>0.366342</td>\n      <td>0.822758</td>\n      <td>0.162919</td>\n      <td>0.048629</td>\n      <td>0</td>\n      <td>3</td>\n      <td>2</td>\n      <td>1</td>\n      <td>3</td>\n      <td>0</td>\n      <td>6</td>\n      <td>train_1</td>\n      <td>0.0</td>\n      <td>0.997513</td>\n    </tr>\n    <tr>\n      <th>2</th>\n      <td>0.402985</td>\n      <td>0.324240</td>\n      <td>0.446387</td>\n      <td>9</td>\n      <td>9</td>\n      <td>0.798758</td>\n      <td>0.736924</td>\n      <td>0.798758</td>\n      <td>0.843771</td>\n      <td>0.042212</td>\n      <td>0.074204</td>\n      <td>0</td>\n      <td>3</td>\n      <td>1</td>\n      <td>1</td>\n      <td>3</td>\n      <td>0</td>\n      <td>6</td>\n      <td>train_2</td>\n      <td>0.0</td>\n      <td>0.996352</td>\n    </tr>\n    <tr>\n      <th>3</th>\n      <td>1.000000</td>\n      <td>0.324240</td>\n      <td>0.911625</td>\n      <td>9</td>\n      <td>7</td>\n      <td>0.780711</td>\n      <td>0.719450</td>\n      <td>0.780711</td>\n      <td>0.826869</td>\n      <td>0.305884</td>\n      <td>0.304666</td>\n      <td>0</td>\n      <td>3</td>\n      <td>1</td>\n      <td>1</td>\n      <td>3</td>\n      <td>0</td>\n      <td>6</td>\n      <td>train_3</td>\n      <td>0.0</td>\n      <td>0.998010</td>\n    </tr>\n    <tr>\n      <th>4</th>\n      <td>0.402985</td>\n      <td>0.324240</td>\n      <td>0.439850</td>\n      <td>27</td>\n      <td>14</td>\n      <td>0.052655</td>\n      <td>0.094537</td>\n      <td>0.052655</td>\n      <td>0.819249</td>\n      <td>0.033188</td>\n      <td>0.000000</td>\n      <td>0</td>\n      <td>3</td>\n      <td>2</td>\n      <td>1</td>\n      <td>3</td>\n      <td>0</td>\n      <td>6</td>\n      <td>train_4</td>\n      <td>0.0</td>\n      <td>0.997347</td>\n    </tr>\n    <tr>\n      <th>5</th>\n      <td>0.402985</td>\n      <td>0.324240</td>\n      <td>0.453682</td>\n      <td>9</td>\n      <td>14</td>\n      <td>0.038216</td>\n      <td>0.031383</td>\n      <td>0.038216</td>\n      <td>0.821758</td>\n      <td>0.021993</td>\n      <td>0.025685</td>\n      <td>0</td>\n      <td>3</td>\n      <td>1</td>\n      <td>1</td>\n      <td>3</td>\n      <td>0</td>\n      <td>6</td>\n      <td>train_5</td>\n      <td>0.0</td>\n      <td>0.997679</td>\n    </tr>\n    <tr>\n      <th>6</th>\n      <td>0.402985</td>\n      <td>0.324240</td>\n      <td>0.444519</td>\n      <td>11</td>\n      <td>2</td>\n      <td>0.370317</td>\n      <td>0.504456</td>\n      <td>0.370317</td>\n      <td>0.839186</td>\n      <td>0.036727</td>\n      <td>0.061706</td>\n      <td>0</td>\n      <td>3</td>\n      <td>1</td>\n      <td>1</td>\n      <td>3</td>\n      <td>0</td>\n      <td>6</td>\n      <td>train_6</td>\n      <td>0.0</td>\n      <td>0.997347</td>\n    </tr>\n    <tr>\n      <th>7</th>\n      <td>0.328358</td>\n      <td>0.324240</td>\n      <td>0.196340</td>\n      <td>9</td>\n      <td>7</td>\n      <td>0.047879</td>\n      <td>0.047423</td>\n      <td>0.047879</td>\n      <td>0.822708</td>\n      <td>0.018969</td>\n      <td>0.004288</td>\n      <td>0</td>\n      <td>3</td>\n      <td>1</td>\n      <td>1</td>\n      <td>3</td>\n      <td>0</td>\n      <td>6</td>\n      <td>train_7</td>\n      <td>0.0</td>\n      <td>0.994528</td>\n    </tr>\n    <tr>\n      <th>8</th>\n      <td>0.850746</td>\n      <td>0.535464</td>\n      <td>0.820365</td>\n      <td>9</td>\n      <td>9</td>\n      <td>0.487512</td>\n      <td>0.435568</td>\n      <td>0.487512</td>\n      <td>0.840128</td>\n      <td>0.160313</td>\n      <td>0.215787</td>\n      <td>0</td>\n      <td>3</td>\n      <td>2</td>\n      <td>1</td>\n      <td>3</td>\n      <td>0</td>\n      <td>6</td>\n      <td>train_8</td>\n      <td>0.0</td>\n      <td>0.997015</td>\n    </tr>\n    <tr>\n      <th>9</th>\n      <td>0.641791</td>\n      <td>0.324240</td>\n      <td>0.431085</td>\n      <td>9</td>\n      <td>14</td>\n      <td>0.260659</td>\n      <td>0.215924</td>\n      <td>0.260659</td>\n      <td>0.820957</td>\n      <td>0.187253</td>\n      <td>0.004836</td>\n      <td>0</td>\n      <td>3</td>\n      <td>2</td>\n      <td>1</td>\n      <td>3</td>\n      <td>0</td>\n      <td>6</td>\n      <td>train_9</td>\n      <td>0.0</td>\n      <td>0.997844</td>\n    </tr>\n  </tbody>\n</table>\n</div>"
     },
     "metadata": {},
     "execution_count": 68
    }
   ],
   "source": [
    "data.head(10)"
   ]
  },
  {
   "cell_type": "code",
   "execution_count": 69,
   "metadata": {},
   "outputs": [
    {
     "output_type": "execute_result",
     "data": {
      "text/plain": [
       "Index(['DKFFE', 'DKLL', 'DKYE', 'DWJJLX', 'DWSSHY', 'DWYJCE', 'GRJCJS',\n",
       "       'GRYJCE', 'GRZHDNGJYE', 'GRZHSNJZYE', 'GRZHYE', 'GRZHZT', 'HYZK',\n",
       "       'XINGBIE', 'XUELI', 'ZHICHEN', 'ZHIWU', 'ZHIYE', 'id', 'label', 'age'],\n",
       "      dtype='object')"
      ]
     },
     "metadata": {},
     "execution_count": 69
    }
   ],
   "source": [
    "data.columns"
   ]
  },
  {
   "cell_type": "code",
   "execution_count": 70,
   "metadata": {},
   "outputs": [],
   "source": [
    "# 调整列的排序\n",
    "new_index = ['id'] + sparse_feat + dense_feat + ['label']\n",
    "data = data.reindex(columns=new_index)"
   ]
  },
  {
   "cell_type": "code",
   "execution_count": 71,
   "metadata": {},
   "outputs": [
    {
     "output_type": "execute_result",
     "data": {
      "text/plain": [
       "        id  XINGBIE  HYZK  ZHIYE  ZHICHEN  ZHIWU  XUELI  DWJJLX  DWSSHY  \\\n",
       "0  train_0        1     3      6        3      0      1       9      12   \n",
       "1  train_1        2     3      6        3      0      1       1       0   \n",
       "2  train_2        1     3      6        3      0      1       9       9   \n",
       "3  train_3        1     3      6        3      0      1       9       7   \n",
       "4  train_4        2     3      6        3      0      1      27      14   \n",
       "5  train_5        1     3      6        3      0      1       9      14   \n",
       "6  train_6        1     3      6        3      0      1      11       2   \n",
       "7  train_7        1     3      6        3      0      1       9       7   \n",
       "8  train_8        2     3      6        3      0      1       9       9   \n",
       "9  train_9        2     3      6        3      0      1       9      14   \n",
       "\n",
       "   GRZHZT     DKFFE      DKLL      DKYE    DWYJCE    GRJCJS    GRYJCE  \\\n",
       "0       0  0.477612  0.324240  0.466942  0.043651  0.073615  0.043651   \n",
       "1       0  0.850746  0.535464  0.904340  0.366342  0.318249  0.366342   \n",
       "2       0  0.402985  0.324240  0.446387  0.798758  0.736924  0.798758   \n",
       "3       0  1.000000  0.324240  0.911625  0.780711  0.719450  0.780711   \n",
       "4       0  0.402985  0.324240  0.439850  0.052655  0.094537  0.052655   \n",
       "5       0  0.402985  0.324240  0.453682  0.038216  0.031383  0.038216   \n",
       "6       0  0.402985  0.324240  0.444519  0.370317  0.504456  0.370317   \n",
       "7       0  0.328358  0.324240  0.196340  0.047879  0.047423  0.047879   \n",
       "8       0  0.850746  0.535464  0.820365  0.487512  0.435568  0.487512   \n",
       "9       0  0.641791  0.324240  0.431085  0.260659  0.215924  0.260659   \n",
       "\n",
       "   GRZHDNGJYE  GRZHSNJZYE    GRZHYE       age  label  \n",
       "0    0.821980    0.001735  0.008151  0.994860    0.0  \n",
       "1    0.822758    0.162919  0.048629  0.997513    0.0  \n",
       "2    0.843771    0.042212  0.074204  0.996352    0.0  \n",
       "3    0.826869    0.305884  0.304666  0.998010    0.0  \n",
       "4    0.819249    0.033188  0.000000  0.997347    0.0  \n",
       "5    0.821758    0.021993  0.025685  0.997679    0.0  \n",
       "6    0.839186    0.036727  0.061706  0.997347    0.0  \n",
       "7    0.822708    0.018969  0.004288  0.994528    0.0  \n",
       "8    0.840128    0.160313  0.215787  0.997015    0.0  \n",
       "9    0.820957    0.187253  0.004836  0.997844    0.0  "
      ],
      "text/html": "<div>\n<style scoped>\n    .dataframe tbody tr th:only-of-type {\n        vertical-align: middle;\n    }\n\n    .dataframe tbody tr th {\n        vertical-align: top;\n    }\n\n    .dataframe thead th {\n        text-align: right;\n    }\n</style>\n<table border=\"1\" class=\"dataframe\">\n  <thead>\n    <tr style=\"text-align: right;\">\n      <th></th>\n      <th>id</th>\n      <th>XINGBIE</th>\n      <th>HYZK</th>\n      <th>ZHIYE</th>\n      <th>ZHICHEN</th>\n      <th>ZHIWU</th>\n      <th>XUELI</th>\n      <th>DWJJLX</th>\n      <th>DWSSHY</th>\n      <th>GRZHZT</th>\n      <th>DKFFE</th>\n      <th>DKLL</th>\n      <th>DKYE</th>\n      <th>DWYJCE</th>\n      <th>GRJCJS</th>\n      <th>GRYJCE</th>\n      <th>GRZHDNGJYE</th>\n      <th>GRZHSNJZYE</th>\n      <th>GRZHYE</th>\n      <th>age</th>\n      <th>label</th>\n    </tr>\n  </thead>\n  <tbody>\n    <tr>\n      <th>0</th>\n      <td>train_0</td>\n      <td>1</td>\n      <td>3</td>\n      <td>6</td>\n      <td>3</td>\n      <td>0</td>\n      <td>1</td>\n      <td>9</td>\n      <td>12</td>\n      <td>0</td>\n      <td>0.477612</td>\n      <td>0.324240</td>\n      <td>0.466942</td>\n      <td>0.043651</td>\n      <td>0.073615</td>\n      <td>0.043651</td>\n      <td>0.821980</td>\n      <td>0.001735</td>\n      <td>0.008151</td>\n      <td>0.994860</td>\n      <td>0.0</td>\n    </tr>\n    <tr>\n      <th>1</th>\n      <td>train_1</td>\n      <td>2</td>\n      <td>3</td>\n      <td>6</td>\n      <td>3</td>\n      <td>0</td>\n      <td>1</td>\n      <td>1</td>\n      <td>0</td>\n      <td>0</td>\n      <td>0.850746</td>\n      <td>0.535464</td>\n      <td>0.904340</td>\n      <td>0.366342</td>\n      <td>0.318249</td>\n      <td>0.366342</td>\n      <td>0.822758</td>\n      <td>0.162919</td>\n      <td>0.048629</td>\n      <td>0.997513</td>\n      <td>0.0</td>\n    </tr>\n    <tr>\n      <th>2</th>\n      <td>train_2</td>\n      <td>1</td>\n      <td>3</td>\n      <td>6</td>\n      <td>3</td>\n      <td>0</td>\n      <td>1</td>\n      <td>9</td>\n      <td>9</td>\n      <td>0</td>\n      <td>0.402985</td>\n      <td>0.324240</td>\n      <td>0.446387</td>\n      <td>0.798758</td>\n      <td>0.736924</td>\n      <td>0.798758</td>\n      <td>0.843771</td>\n      <td>0.042212</td>\n      <td>0.074204</td>\n      <td>0.996352</td>\n      <td>0.0</td>\n    </tr>\n    <tr>\n      <th>3</th>\n      <td>train_3</td>\n      <td>1</td>\n      <td>3</td>\n      <td>6</td>\n      <td>3</td>\n      <td>0</td>\n      <td>1</td>\n      <td>9</td>\n      <td>7</td>\n      <td>0</td>\n      <td>1.000000</td>\n      <td>0.324240</td>\n      <td>0.911625</td>\n      <td>0.780711</td>\n      <td>0.719450</td>\n      <td>0.780711</td>\n      <td>0.826869</td>\n      <td>0.305884</td>\n      <td>0.304666</td>\n      <td>0.998010</td>\n      <td>0.0</td>\n    </tr>\n    <tr>\n      <th>4</th>\n      <td>train_4</td>\n      <td>2</td>\n      <td>3</td>\n      <td>6</td>\n      <td>3</td>\n      <td>0</td>\n      <td>1</td>\n      <td>27</td>\n      <td>14</td>\n      <td>0</td>\n      <td>0.402985</td>\n      <td>0.324240</td>\n      <td>0.439850</td>\n      <td>0.052655</td>\n      <td>0.094537</td>\n      <td>0.052655</td>\n      <td>0.819249</td>\n      <td>0.033188</td>\n      <td>0.000000</td>\n      <td>0.997347</td>\n      <td>0.0</td>\n    </tr>\n    <tr>\n      <th>5</th>\n      <td>train_5</td>\n      <td>1</td>\n      <td>3</td>\n      <td>6</td>\n      <td>3</td>\n      <td>0</td>\n      <td>1</td>\n      <td>9</td>\n      <td>14</td>\n      <td>0</td>\n      <td>0.402985</td>\n      <td>0.324240</td>\n      <td>0.453682</td>\n      <td>0.038216</td>\n      <td>0.031383</td>\n      <td>0.038216</td>\n      <td>0.821758</td>\n      <td>0.021993</td>\n      <td>0.025685</td>\n      <td>0.997679</td>\n      <td>0.0</td>\n    </tr>\n    <tr>\n      <th>6</th>\n      <td>train_6</td>\n      <td>1</td>\n      <td>3</td>\n      <td>6</td>\n      <td>3</td>\n      <td>0</td>\n      <td>1</td>\n      <td>11</td>\n      <td>2</td>\n      <td>0</td>\n      <td>0.402985</td>\n      <td>0.324240</td>\n      <td>0.444519</td>\n      <td>0.370317</td>\n      <td>0.504456</td>\n      <td>0.370317</td>\n      <td>0.839186</td>\n      <td>0.036727</td>\n      <td>0.061706</td>\n      <td>0.997347</td>\n      <td>0.0</td>\n    </tr>\n    <tr>\n      <th>7</th>\n      <td>train_7</td>\n      <td>1</td>\n      <td>3</td>\n      <td>6</td>\n      <td>3</td>\n      <td>0</td>\n      <td>1</td>\n      <td>9</td>\n      <td>7</td>\n      <td>0</td>\n      <td>0.328358</td>\n      <td>0.324240</td>\n      <td>0.196340</td>\n      <td>0.047879</td>\n      <td>0.047423</td>\n      <td>0.047879</td>\n      <td>0.822708</td>\n      <td>0.018969</td>\n      <td>0.004288</td>\n      <td>0.994528</td>\n      <td>0.0</td>\n    </tr>\n    <tr>\n      <th>8</th>\n      <td>train_8</td>\n      <td>2</td>\n      <td>3</td>\n      <td>6</td>\n      <td>3</td>\n      <td>0</td>\n      <td>1</td>\n      <td>9</td>\n      <td>9</td>\n      <td>0</td>\n      <td>0.850746</td>\n      <td>0.535464</td>\n      <td>0.820365</td>\n      <td>0.487512</td>\n      <td>0.435568</td>\n      <td>0.487512</td>\n      <td>0.840128</td>\n      <td>0.160313</td>\n      <td>0.215787</td>\n      <td>0.997015</td>\n      <td>0.0</td>\n    </tr>\n    <tr>\n      <th>9</th>\n      <td>train_9</td>\n      <td>2</td>\n      <td>3</td>\n      <td>6</td>\n      <td>3</td>\n      <td>0</td>\n      <td>1</td>\n      <td>9</td>\n      <td>14</td>\n      <td>0</td>\n      <td>0.641791</td>\n      <td>0.324240</td>\n      <td>0.431085</td>\n      <td>0.260659</td>\n      <td>0.215924</td>\n      <td>0.260659</td>\n      <td>0.820957</td>\n      <td>0.187253</td>\n      <td>0.004836</td>\n      <td>0.997844</td>\n      <td>0.0</td>\n    </tr>\n  </tbody>\n</table>\n</div>"
     },
     "metadata": {},
     "execution_count": 71
    }
   ],
   "source": [
    "data.head(10)"
   ]
  },
  {
   "cell_type": "code",
   "execution_count": 72,
   "metadata": {},
   "outputs": [
    {
     "output_type": "execute_result",
     "data": {
      "text/plain": [
       "(55000, 21)"
      ]
     },
     "metadata": {},
     "execution_count": 72
    }
   ],
   "source": [
    "data.shape"
   ]
  },
  {
   "cell_type": "code",
   "execution_count": 77,
   "metadata": {},
   "outputs": [
    {
     "output_type": "stream",
     "name": "stdout",
     "text": [
      "(15000, 20)\n"
     ]
    }
   ],
   "source": [
    "# 把处理好的数据表进行拆分, 得到训练集和测试集\n",
    "transform_train = data.iloc[:40000, :]\n",
    "transform_test = data.iloc[40000:, :-1]     #不需要label列\n",
    "print(transform_test.shape)"
   ]
  },
  {
   "cell_type": "code",
   "execution_count": 78,
   "metadata": {},
   "outputs": [
    {
     "output_type": "execute_result",
     "data": {
      "text/plain": [
       "       id  XINGBIE  HYZK  ZHIYE  ZHICHEN  ZHIWU  XUELI  DWJJLX  DWSSHY  \\\n",
       "0  test_0        1     3      6        3      0      1      10      10   \n",
       "1  test_1        1     3      6        3      0      1       9      11   \n",
       "2  test_2        1     3      6        3      1      1       1      15   \n",
       "3  test_3        2     3      6        3      0      1       9      10   \n",
       "4  test_4        1     3      6        3      0      1       9       2   \n",
       "5  test_5        1     3      6        3      0      1       9       0   \n",
       "6  test_6        1     3      6        3      0      1       1      14   \n",
       "7  test_7        1     3      6        3      0      1       9       7   \n",
       "8  test_8        1     3      6        3      0      1       9      14   \n",
       "9  test_9        1     3      6        3      0      1       9       2   \n",
       "\n",
       "   GRZHZT     DKFFE      DKLL      DKYE    DWYJCE    GRJCJS    GRYJCE  \\\n",
       "0       0  0.283582  0.324240  0.000000  0.065327  0.123983  0.065327   \n",
       "1       0  0.552239  0.324240  0.541149  0.026978  0.034870  0.026978   \n",
       "2       0  0.402985  0.422447  0.444084  0.423878  0.373956  0.423878   \n",
       "3       0  0.691045  0.535464  0.733928  0.176372  0.169702  0.176372   \n",
       "4       0  0.253731  0.324240  0.218740  0.350936  0.303332  0.350936   \n",
       "5       0  0.402985  0.324240  0.393419  0.170616  0.251143  0.170616   \n",
       "6       0  0.850746  0.324240  0.833171  0.227206  0.183534  0.227206   \n",
       "7       0  0.588060  0.324240  0.611464  0.025477  0.031383  0.025477   \n",
       "8       0  0.402985  0.324240  0.205495  0.038216  0.031383  0.038216   \n",
       "9       0  0.462687  0.324240  0.437615  0.216388  0.216195  0.216388   \n",
       "\n",
       "   GRZHDNGJYE  GRZHSNJZYE    GRZHYE       age  \n",
       "0    0.822867    0.040408  0.046148  0.997513  \n",
       "1    0.821299    0.005870  0.009679  0.997015  \n",
       "2    0.822930    0.107450  0.140688  1.000000  \n",
       "3    0.810555    0.001470  0.001496  0.997347  \n",
       "4    0.846954    0.082646  0.110490  0.999834  \n",
       "5    0.827171    0.018755  0.035444  0.998010  \n",
       "6    0.820177    0.026400  0.002474  0.996352  \n",
       "7    0.819931    0.000472  0.000261  0.996684  \n",
       "8    0.820391    0.000197  0.000543  0.998839  \n",
       "9    0.829043    0.039830  0.026367  0.996684  "
      ],
      "text/html": "<div>\n<style scoped>\n    .dataframe tbody tr th:only-of-type {\n        vertical-align: middle;\n    }\n\n    .dataframe tbody tr th {\n        vertical-align: top;\n    }\n\n    .dataframe thead th {\n        text-align: right;\n    }\n</style>\n<table border=\"1\" class=\"dataframe\">\n  <thead>\n    <tr style=\"text-align: right;\">\n      <th></th>\n      <th>id</th>\n      <th>XINGBIE</th>\n      <th>HYZK</th>\n      <th>ZHIYE</th>\n      <th>ZHICHEN</th>\n      <th>ZHIWU</th>\n      <th>XUELI</th>\n      <th>DWJJLX</th>\n      <th>DWSSHY</th>\n      <th>GRZHZT</th>\n      <th>DKFFE</th>\n      <th>DKLL</th>\n      <th>DKYE</th>\n      <th>DWYJCE</th>\n      <th>GRJCJS</th>\n      <th>GRYJCE</th>\n      <th>GRZHDNGJYE</th>\n      <th>GRZHSNJZYE</th>\n      <th>GRZHYE</th>\n      <th>age</th>\n    </tr>\n  </thead>\n  <tbody>\n    <tr>\n      <th>0</th>\n      <td>test_0</td>\n      <td>1</td>\n      <td>3</td>\n      <td>6</td>\n      <td>3</td>\n      <td>0</td>\n      <td>1</td>\n      <td>10</td>\n      <td>10</td>\n      <td>0</td>\n      <td>0.283582</td>\n      <td>0.324240</td>\n      <td>0.000000</td>\n      <td>0.065327</td>\n      <td>0.123983</td>\n      <td>0.065327</td>\n      <td>0.822867</td>\n      <td>0.040408</td>\n      <td>0.046148</td>\n      <td>0.997513</td>\n    </tr>\n    <tr>\n      <th>1</th>\n      <td>test_1</td>\n      <td>1</td>\n      <td>3</td>\n      <td>6</td>\n      <td>3</td>\n      <td>0</td>\n      <td>1</td>\n      <td>9</td>\n      <td>11</td>\n      <td>0</td>\n      <td>0.552239</td>\n      <td>0.324240</td>\n      <td>0.541149</td>\n      <td>0.026978</td>\n      <td>0.034870</td>\n      <td>0.026978</td>\n      <td>0.821299</td>\n      <td>0.005870</td>\n      <td>0.009679</td>\n      <td>0.997015</td>\n    </tr>\n    <tr>\n      <th>2</th>\n      <td>test_2</td>\n      <td>1</td>\n      <td>3</td>\n      <td>6</td>\n      <td>3</td>\n      <td>1</td>\n      <td>1</td>\n      <td>1</td>\n      <td>15</td>\n      <td>0</td>\n      <td>0.402985</td>\n      <td>0.422447</td>\n      <td>0.444084</td>\n      <td>0.423878</td>\n      <td>0.373956</td>\n      <td>0.423878</td>\n      <td>0.822930</td>\n      <td>0.107450</td>\n      <td>0.140688</td>\n      <td>1.000000</td>\n    </tr>\n    <tr>\n      <th>3</th>\n      <td>test_3</td>\n      <td>2</td>\n      <td>3</td>\n      <td>6</td>\n      <td>3</td>\n      <td>0</td>\n      <td>1</td>\n      <td>9</td>\n      <td>10</td>\n      <td>0</td>\n      <td>0.691045</td>\n      <td>0.535464</td>\n      <td>0.733928</td>\n      <td>0.176372</td>\n      <td>0.169702</td>\n      <td>0.176372</td>\n      <td>0.810555</td>\n      <td>0.001470</td>\n      <td>0.001496</td>\n      <td>0.997347</td>\n    </tr>\n    <tr>\n      <th>4</th>\n      <td>test_4</td>\n      <td>1</td>\n      <td>3</td>\n      <td>6</td>\n      <td>3</td>\n      <td>0</td>\n      <td>1</td>\n      <td>9</td>\n      <td>2</td>\n      <td>0</td>\n      <td>0.253731</td>\n      <td>0.324240</td>\n      <td>0.218740</td>\n      <td>0.350936</td>\n      <td>0.303332</td>\n      <td>0.350936</td>\n      <td>0.846954</td>\n      <td>0.082646</td>\n      <td>0.110490</td>\n      <td>0.999834</td>\n    </tr>\n    <tr>\n      <th>5</th>\n      <td>test_5</td>\n      <td>1</td>\n      <td>3</td>\n      <td>6</td>\n      <td>3</td>\n      <td>0</td>\n      <td>1</td>\n      <td>9</td>\n      <td>0</td>\n      <td>0</td>\n      <td>0.402985</td>\n      <td>0.324240</td>\n      <td>0.393419</td>\n      <td>0.170616</td>\n      <td>0.251143</td>\n      <td>0.170616</td>\n      <td>0.827171</td>\n      <td>0.018755</td>\n      <td>0.035444</td>\n      <td>0.998010</td>\n    </tr>\n    <tr>\n      <th>6</th>\n      <td>test_6</td>\n      <td>1</td>\n      <td>3</td>\n      <td>6</td>\n      <td>3</td>\n      <td>0</td>\n      <td>1</td>\n      <td>1</td>\n      <td>14</td>\n      <td>0</td>\n      <td>0.850746</td>\n      <td>0.324240</td>\n      <td>0.833171</td>\n      <td>0.227206</td>\n      <td>0.183534</td>\n      <td>0.227206</td>\n      <td>0.820177</td>\n      <td>0.026400</td>\n      <td>0.002474</td>\n      <td>0.996352</td>\n    </tr>\n    <tr>\n      <th>7</th>\n      <td>test_7</td>\n      <td>1</td>\n      <td>3</td>\n      <td>6</td>\n      <td>3</td>\n      <td>0</td>\n      <td>1</td>\n      <td>9</td>\n      <td>7</td>\n      <td>0</td>\n      <td>0.588060</td>\n      <td>0.324240</td>\n      <td>0.611464</td>\n      <td>0.025477</td>\n      <td>0.031383</td>\n      <td>0.025477</td>\n      <td>0.819931</td>\n      <td>0.000472</td>\n      <td>0.000261</td>\n      <td>0.996684</td>\n    </tr>\n    <tr>\n      <th>8</th>\n      <td>test_8</td>\n      <td>1</td>\n      <td>3</td>\n      <td>6</td>\n      <td>3</td>\n      <td>0</td>\n      <td>1</td>\n      <td>9</td>\n      <td>14</td>\n      <td>0</td>\n      <td>0.402985</td>\n      <td>0.324240</td>\n      <td>0.205495</td>\n      <td>0.038216</td>\n      <td>0.031383</td>\n      <td>0.038216</td>\n      <td>0.820391</td>\n      <td>0.000197</td>\n      <td>0.000543</td>\n      <td>0.998839</td>\n    </tr>\n    <tr>\n      <th>9</th>\n      <td>test_9</td>\n      <td>1</td>\n      <td>3</td>\n      <td>6</td>\n      <td>3</td>\n      <td>0</td>\n      <td>1</td>\n      <td>9</td>\n      <td>2</td>\n      <td>0</td>\n      <td>0.462687</td>\n      <td>0.324240</td>\n      <td>0.437615</td>\n      <td>0.216388</td>\n      <td>0.216195</td>\n      <td>0.216388</td>\n      <td>0.829043</td>\n      <td>0.039830</td>\n      <td>0.026367</td>\n      <td>0.996684</td>\n    </tr>\n  </tbody>\n</table>\n</div>"
     },
     "metadata": {},
     "execution_count": 78
    }
   ],
   "source": [
    "transform_test.head(10)"
   ]
  },
  {
   "cell_type": "code",
   "execution_count": 87,
   "metadata": {},
   "outputs": [],
   "source": [
    "# 存储处理好的数据\n",
    "import pickle\n",
    "with open(r'./train_T.pkl', 'wb') as f:\n",
    "    pickle.dump(transform_train, f)\n",
    "with open(r'./test_T.pkl', 'wb') as f:\n",
    "    pickle.dump(transform_test, f)"
   ]
  },
  {
   "cell_type": "code",
   "execution_count": 86,
   "metadata": {},
   "outputs": [
    {
     "output_type": "execute_result",
     "data": {
      "text/plain": [
       "{'dense': 10, 'sparse': [3, 4, 7, 4, 2, 2, 28, 21, 5]}"
      ]
     },
     "metadata": {},
     "execution_count": 86
    }
   ],
   "source": [
    "# 存储数据集的信息, 构建input_dict字典\n",
    "import json\n",
    "input_dict = {'sparse': None, 'dense': None}\n",
    "input_dict['dense'] = len(dense_feat)\n",
    "input_dict['sparse'] = list(data[sparse_feat].nunique())\n",
    "with open(r'./info.json', 'w') as f:\n",
    "    json.dump(input_dict, f)\n",
    "input_dict"
   ]
  },
  {
   "cell_type": "code",
   "execution_count": null,
   "metadata": {},
   "outputs": [],
   "source": [
    "# 尝试使用GBDT\n"
   ]
  }
 ]
}